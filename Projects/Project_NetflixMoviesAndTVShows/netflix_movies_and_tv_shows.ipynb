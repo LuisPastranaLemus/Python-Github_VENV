{
 "cells": [
  {
   "cell_type": "markdown",
   "id": "91badcba",
   "metadata": {},
   "source": [
    "### Netflix movies and TV shows"
   ]
  },
  {
   "cell_type": "markdown",
   "id": "d24623e3",
   "metadata": {},
   "source": [
    "##### Libraries and notebook customization"
   ]
  },
  {
   "cell_type": "code",
   "execution_count": null,
   "id": "860cb5cb",
   "metadata": {},
   "outputs": [],
   "source": [
    "import pandas as pd\n",
    "import numpy as np\n",
    "from matplotlib import pyplot as plt\n",
    "from tqdm import tqdm\n",
    "\n",
    "pd.set_option('display.max_rows', 25) # show maximum 25 rows\n",
    "pd.set_option('display.max_columns', 25) # show maximum 10 columns\n",
    "pd.set_option('display.max_colwidth', 50) # show maximum 15 characters in each column\n",
    "pd.set_option('display.width', 150) # Mostrar 150 caracteres como máximo"
   ]
  },
  {
   "cell_type": "markdown",
   "id": "1d6b6050",
   "metadata": {},
   "source": [
    "##### Dataset paths"
   ]
  },
  {
   "cell_type": "code",
   "execution_count": null,
   "id": "d34aa3cd",
   "metadata": {},
   "outputs": [],
   "source": [
    "data_file_path = 'DataSets/netflix_titles.csv'"
   ]
  },
  {
   "cell_type": "markdown",
   "id": "8e458977",
   "metadata": {},
   "source": [
    "##### Functions"
   ]
  },
  {
   "cell_type": "code",
   "execution_count": null,
   "id": "52c40314",
   "metadata": {},
   "outputs": [],
   "source": [
    "def detect_implicit_duplicates(df, include=None, exclude=None):\n",
    "    \n",
    "    if exclude is None:\n",
    "        exclude = []\n",
    "    \n",
    "    if include is None:\n",
    "        available_columns = [col for col in df.columns if col not in exclude]\n",
    "    else:\n",
    "        available_columns = [col for col in include if col not in exclude]\n",
    "    \n",
    "    for column in available_columns:\n",
    "        \n",
    "        if column in exclude:\n",
    "            continue  \n",
    "        \n",
    "        if df[column].dtype != 'object':\n",
    "            continue\n",
    "        \n",
    "        column_values = df[column]\n",
    "        column_values = column_values[column_values != '']\n",
    "        column_values = column_values[column_values.apply(lambda x: len(re.split(r\"[ \\-\\_']\", x)) == 1)]\n",
    "\n",
    "        # 2. Get base unique values\n",
    "        base_unique_values = column_values.unique().tolist()\n",
    "        if not base_unique_values:\n",
    "            continue\n",
    "\n",
    "        print(f\"\\nColumn: '{column}'\")\n",
    "\n",
    "        # 3. Compare base unique values against all Column's values\n",
    "        for base in tqdm(base_unique_values, desc=f\"Searching implicit values for: '{column}'\"):\n",
    "            pattern = re.compile(re.escape(base), re.IGNORECASE)\n",
    "\n",
    "            matches = [val for val in column_values if val != base and pattern.search(val)]\n",
    "\n",
    "            if matches:\n",
    "                print(f\"  '{base}' → {matches}\")"
   ]
  },
  {
   "cell_type": "markdown",
   "id": "517a5ef4",
   "metadata": {},
   "source": [
    "DataFrame features"
   ]
  },
  {
   "cell_type": "code",
   "execution_count": null,
   "id": "6af14a4b",
   "metadata": {},
   "outputs": [],
   "source": [
    "df_netflix = pd.read_csv(data_file_path, sep=',', header='infer', keep_default_na=False)\n",
    "\n",
    "df_netflix.info()\n",
    "print()\n",
    "print(\"DataFrame sample: \\n\", df_netflix.sample(5))"
   ]
  },
  {
   "cell_type": "markdown",
   "id": "e03b85c0",
   "metadata": {},
   "source": [
    "##### Explicit duplicates"
   ]
  },
  {
   "cell_type": "code",
   "execution_count": null,
   "id": "f72b2229",
   "metadata": {},
   "outputs": [],
   "source": [
    "print(\"Explicit duplicated values: \", df_netflix.duplicated().sum())\n"
   ]
  },
  {
   "cell_type": "markdown",
   "id": "b28ed206",
   "metadata": {},
   "source": [
    "##### String format normalization"
   ]
  },
  {
   "cell_type": "code",
   "execution_count": null,
   "id": "28213311",
   "metadata": {},
   "outputs": [],
   "source": [
    "for column in df_netflix.columns:\n",
    "    \n",
    "    if column == 'release_year':\n",
    "        continue\n",
    "    elif column == 'date_added':\n",
    "        df_netflix[column] = df_netflix[column].str.lower()\n",
    "        df_netflix[column] = df_netflix[column].str.strip()\n",
    "        \n",
    "    elif df_netflix[column].astype(str).str.contains(\", \").any():\n",
    "        df_netflix.loc[df_netflix[column].astype(str).str.contains(\", \", na=False), column] = (df_netflix[column].str.lower())\n",
    "        df_netflix.loc[df_netflix[column].astype(str).str.contains(\", \", na=False), column] = (df_netflix[column].str.strip())\n",
    "        \n",
    "        df_netflix.loc[~df_netflix[column].astype(str).str.contains(\", \", na=False), column] = (df_netflix[column].str.lower())\n",
    "        df_netflix.loc[~df_netflix[column].astype(str).str.contains(\", \", na=False), column] = (df_netflix[column].str.strip())\n",
    "        df_netflix.loc[~df_netflix[column].astype(str).str.contains(\", \", na=False), column] = (df_netflix[column].str.replace(\" \", \"_\"))\n",
    "        \n",
    "    else:\n",
    "        df_netflix[column] = df_netflix[column].str.lower()\n",
    "        df_netflix[column] = df_netflix[column].str.strip()\n",
    "        df_netflix[column] = df_netflix[column].str.replace(' ', '_')\n"
   ]
  },
  {
   "cell_type": "code",
   "execution_count": null,
   "id": "683fe001",
   "metadata": {},
   "outputs": [],
   "source": [
    "print(df_netflix.sample(25, random_state=333))"
   ]
  },
  {
   "cell_type": "markdown",
   "id": "9b6e43bb",
   "metadata": {},
   "source": [
    "##### Date-time format normalization"
   ]
  },
  {
   "cell_type": "code",
   "execution_count": null,
   "id": "001214b2",
   "metadata": {},
   "outputs": [],
   "source": [
    "df_netflix['date_added'] = pd.to_datetime(df_netflix['date_added'], format='%B %d, %Y', errors='coerce')\n"
   ]
  },
  {
   "cell_type": "code",
   "execution_count": null,
   "id": "4ffe0528",
   "metadata": {},
   "outputs": [],
   "source": [
    "print(df_netflix['date_added'].sample(25, random_state=333))"
   ]
  },
  {
   "cell_type": "markdown",
   "id": "b2ea7830",
   "metadata": {},
   "source": [
    "##### Cells with list values processing"
   ]
  },
  {
   "cell_type": "code",
   "execution_count": null,
   "id": "e1c75558",
   "metadata": {},
   "outputs": [],
   "source": [
    "columns_to_explode = []\n",
    "\n",
    "for column in df_netflix.columns:\n",
    "    if df_netflix[column].astype(str).str.contains(', ').any():\n",
    "        columns_to_explode.append(column)\n",
    "\n",
    "print(f\"Columns to be processed with explode: {columns_to_explode}\")\n"
   ]
  },
  {
   "cell_type": "code",
   "execution_count": null,
   "id": "469bf85e",
   "metadata": {},
   "outputs": [],
   "source": [
    "columns_to_explode = ['director', 'cast', 'country', 'listed_in']\n",
    "\n",
    "for column in columns_to_explode:\n",
    "    df_netflix[column] = df_netflix[column].astype(str).str.split(', ')\n",
    "    df_netflix = df_netflix.explode(column).reset_index(drop=True)\n",
    "\n",
    "df_netflix.info()\n",
    "print()\n",
    "print(df_netflix.sample(25))"
   ]
  },
  {
   "cell_type": "markdown",
   "id": "5a70b8e4",
   "metadata": {},
   "source": [
    "##### Missing values processing"
   ]
  },
  {
   "cell_type": "code",
   "execution_count": null,
   "id": "724ec3de",
   "metadata": {},
   "outputs": [],
   "source": [
    "missing_values = ['', ' ', 'N/A', 'None', 'null', 'NULL', 'NaN', 'nan', 'NAN']\n",
    "\n",
    "for column in df_netflix.columns:\n",
    "    \n",
    "    if df_netflix[column].isin(missing_values).any():\n",
    "        value_counts = df_netflix[column].value_counts()\n",
    "        missing_counts = value_counts[value_counts.index.isin(missing_values)]\n",
    "        other_counts = value_counts[~value_counts.index.isin(missing_values)]\n",
    "    \n",
    "        sorted_counts = pd.concat([missing_counts, other_counts])\n",
    "    \n",
    "        print(f\"Values on column '{column}': \\n{sorted_counts}\\n\")\n"
   ]
  },
  {
   "cell_type": "code",
   "execution_count": null,
   "id": "4a2a412a",
   "metadata": {},
   "outputs": [],
   "source": [
    "for column in df_netflix.columns:\n",
    "    \n",
    "    if df_netflix[column].isin(missing_values).any():\n",
    "        df_netflix[column] = df_netflix[column].replace(missing_values, pd.NA)"
   ]
  },
  {
   "cell_type": "code",
   "execution_count": null,
   "id": "44ee63be",
   "metadata": {},
   "outputs": [],
   "source": [
    "for column in df_netflix.columns:\n",
    "    \n",
    "    if df_netflix[column].isna().any():\n",
    "        value_counts = df_netflix[column].value_counts(dropna=False)\n",
    "        value_counts = value_counts.reset_index()\n",
    "        value_counts = value_counts.sort_values(by=column, na_position='first')\n",
    "    \n",
    "        print(f\"Values on column '{column}': \\n{value_counts}\\n\")"
   ]
  },
  {
   "cell_type": "markdown",
   "id": "ca27f7b5",
   "metadata": {},
   "source": [
    "from which country most of Netflix' content comes from"
   ]
  },
  {
   "cell_type": "code",
   "execution_count": null,
   "id": "0dde6ae0",
   "metadata": {},
   "outputs": [],
   "source": [
    "print(df_netflix['country'].value_counts(dropna=False))\n",
    "      "
   ]
  }
 ],
 "metadata": {
  "kernelspec": {
   "display_name": "Win11_Python-PipVenv-Github-Hmb7GD39",
   "language": "python",
   "name": "python3"
  },
  "language_info": {
   "codemirror_mode": {
    "name": "ipython",
    "version": 3
   },
   "file_extension": ".py",
   "mimetype": "text/x-python",
   "name": "python",
   "nbconvert_exporter": "python",
   "pygments_lexer": "ipython3",
   "version": "3.13.2"
  }
 },
 "nbformat": 4,
 "nbformat_minor": 5
}
