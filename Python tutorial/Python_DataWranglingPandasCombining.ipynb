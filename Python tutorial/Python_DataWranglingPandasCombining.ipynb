{
 "cells": [
  {
   "cell_type": "markdown",
   "id": "3ece72ee",
   "metadata": {},
   "source": [
    "### Python DataWrangling Pandas Combining\n",
    "\n",
    "_Combine DataFrames with .concat()_\n",
    "\n",
    "In this lesson, we'll return to the video game sales dataset. Here are the first few rows to remind you of its structure:"
   ]
  },
  {
   "cell_type": "code",
   "execution_count": 1,
   "id": "1073676f",
   "metadata": {},
   "outputs": [
    {
     "name": "stdout",
     "output_type": "stream",
     "text": [
      "                       name platform  year_of_release         genre publisher  \\\n",
      "0                Wii Sports      Wii           2006.0        Sports  Nintendo   \n",
      "1         Super Mario Bros.      NES           1985.0      Platform  Nintendo   \n",
      "2            Mario Kart Wii      Wii           2008.0        Racing  Nintendo   \n",
      "3         Wii Sports Resort      Wii           2009.0        Sports  Nintendo   \n",
      "4  Pokemon Red/Pokemon Blue       GB           1996.0  Role-Playing  Nintendo   \n",
      "\n",
      "  developer  na_sales  eu_sales  jp_sales  critic_score user_score  \n",
      "0  Nintendo     41.36     28.96      3.77          76.0          8  \n",
      "1       NaN     29.08      3.58      6.81           NaN        NaN  \n",
      "2  Nintendo     15.68     12.76      3.79          82.0        8.3  \n",
      "3  Nintendo     15.61     10.93      3.28          80.0          8  \n",
      "4       NaN     11.27      8.89     10.22           NaN        NaN  \n"
     ]
    }
   ],
   "source": [
    "import pandas as pd\n",
    "\n",
    "df = pd.read_csv('DataSets/vg_sales.csv')\n",
    "print(df.head())"
   ]
  },
  {
   "cell_type": "markdown",
   "id": "6720362e",
   "metadata": {},
   "source": [
    "We want to know some general statistics about game publishers, specifically:\n",
    "\n",
    "- their average review score;\n",
    "- their total sales.\n",
    "\n",
    "As we've already seen, we can do this using groupby(). First, let's get the average review score for each publisher:"
   ]
  },
  {
   "cell_type": "code",
   "execution_count": 2,
   "id": "11c0b242",
   "metadata": {},
   "outputs": [
    {
     "name": "stdout",
     "output_type": "stream",
     "text": [
      "publisher\n",
      "10TACLE Studios                 42.000000\n",
      "1C Company                      73.000000\n",
      "20th Century Fox Video Games          NaN\n",
      "2D Boy                          90.000000\n",
      "3DO                             57.470588\n",
      "                                  ...    \n",
      "id Software                     85.000000\n",
      "imageepoch Inc.                       NaN\n",
      "inXile Entertainment            81.000000\n",
      "mixi, Inc                             NaN\n",
      "responDESIGN                          NaN\n",
      "Name: critic_score, Length: 581, dtype: float64\n"
     ]
    }
   ],
   "source": [
    "mean_score = df.groupby('publisher')['critic_score'].mean()\n",
    "print(mean_score)"
   ]
  },
  {
   "cell_type": "markdown",
   "id": "414afc07",
   "metadata": {},
   "source": [
    "Let's also get the number of sales. The easiest way to do this is with a second groupby():"
   ]
  },
  {
   "cell_type": "code",
   "execution_count": 3,
   "id": "d487c375",
   "metadata": {},
   "outputs": [
    {
     "name": "stdout",
     "output_type": "stream",
     "text": [
      "publisher\n",
      "10TACLE Studios                 0.11\n",
      "1C Company                      0.08\n",
      "20th Century Fox Video Games    1.92\n",
      "2D Boy                          0.03\n",
      "3DO                             9.52\n",
      "                                ... \n",
      "id Software                     0.02\n",
      "imageepoch Inc.                 0.04\n",
      "inXile Entertainment            0.09\n",
      "mixi, Inc                       0.87\n",
      "responDESIGN                    0.13\n",
      "Name: total_sales, Length: 581, dtype: float64\n"
     ]
    }
   ],
   "source": [
    "df['total_sales'] = df['na_sales'] + df['eu_sales'] + df['jp_sales']\n",
    "num_sales = df.groupby('publisher')['total_sales'].sum()\n",
    "print(num_sales)"
   ]
  },
  {
   "cell_type": "markdown",
   "id": "bcc3502e",
   "metadata": {},
   "source": [
    "Notice that the index for both results is the 'publisher' column _because we grouped by 'publisher' in both cases_. __Since both results share the same index, we can easily join the results__ into a DataFrame using pandas' concat() function:"
   ]
  },
  {
   "cell_type": "code",
   "execution_count": 4,
   "id": "ab2f2cd0",
   "metadata": {},
   "outputs": [
    {
     "name": "stdout",
     "output_type": "stream",
     "text": [
      "                              critic_score  total_sales\n",
      "publisher                                              \n",
      "10TACLE Studios                  42.000000         0.11\n",
      "1C Company                       73.000000         0.08\n",
      "20th Century Fox Video Games           NaN         1.92\n",
      "2D Boy                           90.000000         0.03\n",
      "3DO                              57.470588         9.52\n",
      "...                                    ...          ...\n",
      "id Software                      85.000000         0.02\n",
      "imageepoch Inc.                        NaN         0.04\n",
      "inXile Entertainment             81.000000         0.09\n",
      "mixi, Inc                              NaN         0.87\n",
      "responDESIGN                           NaN         0.13\n",
      "\n",
      "[581 rows x 2 columns]\n"
     ]
    }
   ],
   "source": [
    "df_concat = pd.concat([mean_score, num_sales], axis='columns')\n",
    "print(df_concat)"
   ]
  },
  {
   "cell_type": "markdown",
   "id": "d7efa189",
   "metadata": {},
   "source": [
    "In general, concat() expects a list of Series and/or DataFrame objects. To get our result, we passed a list of Series variables to concat() and set axis='columns' to ensure they were combined as columns.\n",
    "\n",
    "Note that the original column names are preserved in the concatenated DataFrame.\n",
    "\n",
    "We can rename columns using the columns method. It can be called on a DataFrame and passed a list of new column names to replace the existing ones. The new names must be passed in the same order as the original column names.\n",
    "\n",
    "Let's rename 'critic_score', as it now represents an average:"
   ]
  },
  {
   "cell_type": "code",
   "execution_count": 5,
   "id": "9c50ef31",
   "metadata": {},
   "outputs": [
    {
     "name": "stdout",
     "output_type": "stream",
     "text": [
      "                              avg_critic_score  total_sales\n",
      "publisher                                                  \n",
      "10TACLE Studios                      42.000000         0.11\n",
      "1C Company                           73.000000         0.08\n",
      "20th Century Fox Video Games               NaN         1.92\n",
      "2D Boy                               90.000000         0.03\n",
      "3DO                                  57.470588         9.52\n",
      "...                                        ...          ...\n",
      "id Software                          85.000000         0.02\n",
      "imageepoch Inc.                            NaN         0.04\n",
      "inXile Entertainment                 81.000000         0.09\n",
      "mixi, Inc                                  NaN         0.87\n",
      "responDESIGN                               NaN         0.13\n",
      "\n",
      "[581 rows x 2 columns]\n"
     ]
    }
   ],
   "source": [
    "df_concat.columns = ['avg_critic_score', 'total_sales']\n",
    "print(df_concat)"
   ]
  },
  {
   "cell_type": "markdown",
   "id": "d21afeee",
   "metadata": {},
   "source": [
    "In general, it's a good idea to rename columns after grouping and processing to give a more indicative representation of how the columns were processed.\n",
    "\n",
    "You may have noticed that we could get the same result as before using agg(). However, concat() is quite versatile. We can use it to concatenate DataFrames:\n",
    "\n",
    "by rows, assuming they have the same number of columns;\n",
    "by columns if they have the same number of rows.\n",
    "To concatenate rows from separate DataFrames, we can use concat() and set axis='index' (or omit this parameter, as axis='index' is the default argument). Alternatively, we can use integers for the index= argument, where index=0 will concatenate rows and index=1 will concatenate columns.\n",
    "\n",
    "Here's an example where we filter the data in two separate DataFrames based on gender and then recombine them into a single DataFrame:"
   ]
  },
  {
   "cell_type": "code",
   "execution_count": 6,
   "id": "f9243561",
   "metadata": {},
   "outputs": [
    {
     "name": "stdout",
     "output_type": "stream",
     "text": [
      "                                                   name         genre\n",
      "4                              Pokemon Red/Pokemon Blue  Role-Playing\n",
      "12                          Pokemon Gold/Pokemon Silver  Role-Playing\n",
      "20                        Pokemon Diamond/Pokemon Pearl  Role-Playing\n",
      "25                        Pokemon Ruby/Pokemon Sapphire  Role-Playing\n",
      "27                          Pokemon Black/Pokemon White  Role-Playing\n",
      "...                                                 ...           ...\n",
      "16356                                    Strider (2014)      Platform\n",
      "16358                                Goku Makaimura Kai      Platform\n",
      "16603  The Land Before Time: Into the Mysterious Beyond      Platform\n",
      "16710                Woody Woodpecker in Crazy Castle 5      Platform\n",
      "16715                                  Spirits & Spells      Platform\n",
      "\n",
      "[2388 rows x 2 columns]\n"
     ]
    }
   ],
   "source": [
    "rpgs = df[df['genre'] == 'Role-Playing']\n",
    "platformers = df[df['genre'] == 'Platform']\n",
    "\n",
    "df_concat = pd.concat([rpgs, platformers])\n",
    "print(df_concat[['name', 'genre']])"
   ]
  },
  {
   "cell_type": "markdown",
   "id": "8ed9379d",
   "metadata": {},
   "source": [
    "And so two DataFrames are merged into one! Remember, __this works here because both smaller DataFrames have the same columns__."
   ]
  }
 ],
 "metadata": {
  "kernelspec": {
   "display_name": "Python-Github_VENV-XjlEX2HA",
   "language": "python",
   "name": "python3"
  },
  "language_info": {
   "codemirror_mode": {
    "name": "ipython",
    "version": 3
   },
   "file_extension": ".py",
   "mimetype": "text/x-python",
   "name": "python",
   "nbconvert_exporter": "python",
   "pygments_lexer": "ipython3",
   "version": "3.13.2"
  }
 },
 "nbformat": 4,
 "nbformat_minor": 5
}
