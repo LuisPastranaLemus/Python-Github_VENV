{
 "cells": [
  {
   "cell_type": "markdown",
   "id": "5230b1ab",
   "metadata": {},
   "source": [
    "### __Duplicate Management__"
   ]
  },
  {
   "cell_type": "markdown",
   "id": "513c22c5",
   "metadata": {},
   "source": [
    "##### _Finding duplicated Data_\n",
    "\n",
    "First Method"
   ]
  },
  {
   "cell_type": "code",
   "execution_count": 6,
   "id": "ea635c5d",
   "metadata": {},
   "outputs": [
    {
     "name": "stdout",
     "output_type": "stream",
     "text": [
      "Así es como se ve el dataset:\n",
      "  col_1  col_2\n",
      "0     A      1\n",
      "1     B      2\n",
      "2     A      2\n",
      "3     A      1\n",
      "4     A      1\n",
      "\n",
      "Así es como se ve una serie booleana devuelta:\n",
      "0    False\n",
      "1    False\n",
      "2    False\n",
      "3     True\n",
      "4     True\n",
      "dtype: bool\n",
      "\n",
      "Así se ve el resultado de duplicated() con sum():\n",
      "2\n",
      "\n",
      "Así es como se ve el dataset con duplicados:\n",
      "  col_1  col_2\n",
      "3     A      1\n",
      "4     A      1\n"
     ]
    }
   ],
   "source": [
    "import pandas as pd\n",
    "df = pd.DataFrame({'col_1': ['A', 'B', 'A', 'A', 'A'], 'col_2': [1, 2, 2, 1,1]})\n",
    "\n",
    "print('Así es como se ve el dataset:')\n",
    "print(df)\n",
    "print()\n",
    "print('Así es como se ve una serie booleana devuelta:')\n",
    "print(df.duplicated())\n",
    "print()\n",
    "print('Así se ve el resultado de duplicated() con sum():')\n",
    "print(df.duplicated().sum())\n",
    "print()\n",
    "print('Así es como se ve el dataset con duplicados:')\n",
    "print(df[df.duplicated()])"
   ]
  },
  {
   "cell_type": "markdown",
   "id": "4b87389e",
   "metadata": {},
   "source": [
    "Second Method\n",
    "\n",
    "value_counts(). This method identifies all unique values ​​in a column and calculates the number of occurrences of each. We can apply this method to Series to obtain the value-frequency pairs in descending order. The most frequently duplicated entries are at the top of the list."
   ]
  },
  {
   "cell_type": "code",
   "execution_count": 7,
   "id": "d4465656",
   "metadata": {},
   "outputs": [
    {
     "name": "stdout",
     "output_type": "stream",
     "text": [
      "Así es como se ve el dataset:\n",
      "  col_1  col_2\n",
      "0     A      1\n",
      "1     B      2\n",
      "2     A      2\n",
      "3     A      1\n",
      "\n",
      "Este es el resultado de la llamada al método value_counts() para col_1:\n",
      "col_1\n",
      "A    3\n",
      "B    1\n",
      "Name: count, dtype: int64\n"
     ]
    }
   ],
   "source": [
    "import pandas as pd\n",
    "df = pd.DataFrame({'col_1': ['A', 'B', 'A', 'A'], 'col_2': [1, 2, 2, 1]})\n",
    "\n",
    "print('Así es como se ve el dataset:')\n",
    "print(df)\n",
    "print()\n",
    "print('Este es el resultado de la llamada al método value_counts() para col_1:')\n",
    "print(df['col_1'].value_counts())"
   ]
  },
  {
   "cell_type": "markdown",
   "id": "419c29a9",
   "metadata": {},
   "source": [
    "If you only want to consider duplicates in one (or some) of the columns instead of completely duplicate rows, you can use the subset= parameter. Pass it the column name (or list of column names) where you want to search for duplicates."
   ]
  },
  {
   "cell_type": "code",
   "execution_count": 8,
   "id": "1c751f40",
   "metadata": {},
   "outputs": [
    {
     "name": "stdout",
     "output_type": "stream",
     "text": [
      "  col_1  col_2\n",
      "0     A      1\n",
      "1     B      2\n",
      "2     A      2\n",
      "3     A      1\n",
      "\n",
      "  col_1  col_2\n",
      "0     A      1\n",
      "1     B      2\n"
     ]
    }
   ],
   "source": [
    "import pandas as pd\n",
    "df = pd.DataFrame({'col_1': ['A', 'B', 'A', 'A'], 'col_2': [1, 2, 2, 1]})\n",
    "\n",
    "print(df)\n",
    "print()\n",
    "print(df.drop_duplicates(subset='col_1'))"
   ]
  },
  {
   "cell_type": "markdown",
   "id": "319e7537",
   "metadata": {},
   "source": [
    "__Example1__"
   ]
  },
  {
   "cell_type": "code",
   "execution_count": 9,
   "id": "8dc7f8e1",
   "metadata": {},
   "outputs": [
    {
     "name": "stdout",
     "output_type": "stream",
     "text": [
      "          id                     item  count\n",
      "0  100480924     Apple iPhone Xr 64gb     10\n",
      "1  100480924     Apple iPhone Xr 64GB     19\n",
      "2  100480959     Xiaomi Redmi 6A 16GB     44\n",
      "3  100480975          HUAWEI P30 lite     38\n",
      "4  100480988  Samsung Galaxy A30 32GB     49\n"
     ]
    }
   ],
   "source": [
    "import pandas as pd\n",
    "df_stock = pd.read_csv('DataSets/phone_stock.csv')\n",
    "print(df_stock.head(5))"
   ]
  },
  {
   "cell_type": "code",
   "execution_count": 11,
   "id": "c49a5db0",
   "metadata": {},
   "outputs": [
    {
     "name": "stdout",
     "output_type": "stream",
     "text": [
      "item\n",
      "Apple iPhone Xr 64gb       1\n",
      "Apple iPhone Xr 64GB       1\n",
      "Xiaomi Redmi 6A 16GB       1\n",
      "HUAWEI P30 lite            1\n",
      "Samsung Galaxy A30 32GB    1\n",
      "Samsung Galaxy A30 32gb    1\n",
      "Honor 8X 64GB              1\n",
      "Name: count, dtype: int64\n"
     ]
    }
   ],
   "source": [
    "print(df_stock['item'].value_counts())"
   ]
  },
  {
   "cell_type": "code",
   "execution_count": 12,
   "id": "15f9082d",
   "metadata": {},
   "outputs": [
    {
     "name": "stdout",
     "output_type": "stream",
     "text": [
      "item\n",
      "Apple iPhone Xr 64gb       2\n",
      "Samsung Galaxy A30 32gb    2\n",
      "Xiaomi Redmi 6A 16gb       1\n",
      "HUAWEI P30 lite            1\n",
      "Honor 8X 64gb              1\n",
      "Name: count, dtype: int64\n"
     ]
    }
   ],
   "source": [
    "df_stock['item'] = df_stock['item'].str.replace('GB', 'gb')\n",
    "print(df_stock['item'].value_counts())"
   ]
  },
  {
   "cell_type": "markdown",
   "id": "49d0136a",
   "metadata": {},
   "source": [
    "The _.str accessor_ in pandas is used to perform vectorized string operations on a pandas Series or DataFrame column containing string or object data. It provides a convenient way to apply string methods to each element of the Series or column without needing to loop through the data manually."
   ]
  },
  {
   "cell_type": "code",
   "execution_count": 14,
   "id": "ff8f93ff",
   "metadata": {},
   "outputs": [
    {
     "name": "stdout",
     "output_type": "stream",
     "text": [
      "          id                     item  count            item_modified\n",
      "0  100480924     Apple iPhone Xr 64gb     10     Apple iPhone Xr 64gb\n",
      "1  100480924     Apple iPhone Xr 64gb     19     Apple iPhone Xr 64gb\n",
      "2  100480959     Xiaomi Redmi 6A 16gb     44     Xiaomi Redmi 6A 16gb\n",
      "3  100480975          HUAWEI P30 lite     38          HUAWEI P30 lite\n",
      "4  100480988  Samsung Galaxy A30 32gb     49  Samsung Galaxy A30 32gb\n",
      "5  100480988  Samsung Galaxy A30 32gb     11  Samsung Galaxy A30 32gb\n",
      "6  100481020            Honor 8X 64gb     64            Honor 8X 64gb\n"
     ]
    }
   ],
   "source": [
    "df_stock['item_modified'] = df_stock['item'].str.replace('GB', 'gb')\n",
    "print(df_stock)"
   ]
  },
  {
   "cell_type": "code",
   "execution_count": 15,
   "id": "258b9c35",
   "metadata": {},
   "outputs": [
    {
     "name": "stdout",
     "output_type": "stream",
     "text": [
      "          id                     item  count            item_modified\n",
      "0  100480924     Apple iPhone Xr 64gb     10     apple iphone xr 64gb\n",
      "1  100480924     Apple iPhone Xr 64gb     19     apple iphone xr 64gb\n",
      "2  100480959     Xiaomi Redmi 6A 16gb     44     xiaomi redmi 6a 16gb\n",
      "3  100480975          HUAWEI P30 lite     38          huawei p30 lite\n",
      "4  100480988  Samsung Galaxy A30 32gb     49  samsung galaxy a30 32gb\n",
      "5  100480988  Samsung Galaxy A30 32gb     11  samsung galaxy a30 32gb\n",
      "6  100481020            Honor 8X 64gb     64            honor 8x 64gb\n"
     ]
    }
   ],
   "source": [
    "df_stock['item_modified'] = df_stock['item'].str.lower()\n",
    "print(df_stock)"
   ]
  },
  {
   "cell_type": "code",
   "execution_count": 3,
   "id": "236bad7d",
   "metadata": {},
   "outputs": [
    {
     "name": "stdout",
     "output_type": "stream",
     "text": [
      "          id                     item  count\n",
      "0  100480924     Apple iPhone Xr 64gb     10\n",
      "1  100480924     Apple iPhone Xr 64GB     19\n",
      "2  100480959     Xiaomi Redmi 6A 16GB     44\n",
      "3  100480975          HUAWEI P30 lite     38\n",
      "4  100480988  Samsung Galaxy A30 32GB     49\n",
      "5  100480988  Samsung Galaxy A30 32gb     11\n",
      "6  100481020            Honor 8X 64GB     64\n",
      "\n",
      "          id                     item  count           item_lowercase\n",
      "0  100480924     Apple iPhone Xr 64gb     10     apple iphone xr 64gb\n",
      "1  100480924     Apple iPhone Xr 64GB     19     apple iphone xr 64gb\n",
      "2  100480959     Xiaomi Redmi 6A 16GB     44     xiaomi redmi 6a 16gb\n",
      "3  100480975          HUAWEI P30 lite     38          huawei p30 lite\n",
      "4  100480988  Samsung Galaxy A30 32GB     49  samsung galaxy a30 32gb\n",
      "5  100480988  Samsung Galaxy A30 32gb     11  samsung galaxy a30 32gb\n",
      "6  100481020            Honor 8X 64GB     64            honor 8x 64gb\n",
      "\n",
      "Número total de teléfonos Apple: 29\n",
      "Número total de teléfonos Samsung: 60\n"
     ]
    }
   ],
   "source": [
    "import pandas as pd\n",
    "\n",
    "df_stock = pd.read_csv('DataSets/phone_stock.csv')\n",
    "\n",
    "print(df_stock)\n",
    "print()\n",
    "\n",
    "df_stock['item_lowercase'] = df_stock['item'].str.lower()\n",
    "\n",
    "print(df_stock)\n",
    "print()\n",
    "\n",
    "apple = df_stock.loc[df_stock['item_lowercase'] == 'apple iphone xr 64gb', 'count'].sum()\n",
    "# apple = df_stock[df_stock['item_lowercase'] == 'apple iphone xr 64gb']['count'].sum()\n",
    "\n",
    "samsung = df_stock.loc[df_stock['item_lowercase'] == 'samsung galaxy a30 32gb', 'count'].sum()\n",
    "# samsung = df_stock[df_stock['item_lowercase'] == 'samsung galaxy a30 32gb']['count'].sum()\n",
    "\n",
    "print(\"Número total de teléfonos Apple:\", apple)\n",
    "print(\"Número total de teléfonos Samsung:\", samsung)"
   ]
  },
  {
   "cell_type": "code",
   "execution_count": 19,
   "id": "d49f1024",
   "metadata": {},
   "outputs": [
    {
     "name": "stdout",
     "output_type": "stream",
     "text": [
      "          id                     item  count           item_lowercase\n",
      "0  100480924     Apple iPhone Xr 64gb     10     apple iphone xr 64gb\n",
      "1  100480959     Xiaomi Redmi 6A 16GB     44     xiaomi redmi 6a 16gb\n",
      "2  100480975          HUAWEI P30 lite     38          huawei p30 lite\n",
      "3  100480988  Samsung Galaxy A30 32GB     49  samsung galaxy a30 32gb\n",
      "4  100481020            Honor 8X 64GB     64            honor 8x 64gb\n"
     ]
    }
   ],
   "source": [
    "import pandas as pd\n",
    "\n",
    "df_stock = pd.read_csv('DataSets/phone_stock.csv')\n",
    "df_stock['item_lowercase'] = df_stock['item'].str.lower()\n",
    "\n",
    "df_stock = df_stock.drop_duplicates(subset=\"item_lowercase\").reset_index(drop=True)\n",
    "print(df_stock)"
   ]
  },
  {
   "cell_type": "code",
   "execution_count": null,
   "id": "9c184d4c",
   "metadata": {},
   "outputs": [],
   "source": [
    "import pandas as pd\n",
    "\n",
    "df_stock = pd.read_csv('/datasets/phone_stock.csv')\n",
    "df_stock['item_lowercase'] = df_stock['item'].str.lower()\n",
    "\n",
    "apple = df_stock[df_stock['item_lowercase'] == 'apple iphone xr 64gb']['count'].sum()\n",
    "samsung = df_stock[df_stock['item_lowercase'] == 'samsung galaxy a30 32gb']['count'].sum()\n",
    "\n",
    "df_stock = df_stock.drop_duplicates(subset='item_lowercase').reset_index(drop=True)\n",
    "\n",
    "df_stock.loc[0,'count'] = apple\n",
    "df_stock.loc[3,'count'] = samsung\n",
    "\n",
    "print(df_stock)"
   ]
  },
  {
   "cell_type": "markdown",
   "id": "74c46a04",
   "metadata": {},
   "source": [
    "__Example2__"
   ]
  },
  {
   "cell_type": "code",
   "execution_count": 22,
   "id": "2f9ed53c",
   "metadata": {},
   "outputs": [
    {
     "name": "stdout",
     "output_type": "stream",
     "text": [
      "     user_id                  game_title behavior_name  value\n",
      "0  151603712  The Elder Scrolls V Skyrim          play  273.0\n",
      "1  151603712                   Fallout 4      purchase    1.0\n",
      "2  151603712                   Fallout 4          play   87.0\n",
      "3  151603712                       Spore      purchase    1.0\n",
      "4  151603712                       Spore          play   14.9\n",
      "\n",
      "Número de filas duplicadas (Inicial):  707\n",
      "Número de filas duplicadas (Final):  0\n"
     ]
    }
   ],
   "source": [
    "import pandas as pd\n",
    "\n",
    "# Cargar los datos \n",
    "df = pd.read_csv('DataSets/steam-200k.csv')\n",
    "df.columns = ['user_id', 'game_title', 'behavior_name', 'value']\n",
    "\n",
    "# Mostrar DataFrame inicial\n",
    "print(df.head(5))\n",
    "print()\n",
    "\n",
    "# 1. Eliminar filas duplicadas\n",
    "print('Número de filas duplicadas (Inicial): ', df.duplicated().sum())\n",
    "df_sin_duplicados = df.drop_duplicates()\n",
    "\n",
    "df_sin_duplicados.reset_index(drop=True, inplace=True)\n",
    "print('Número de filas duplicadas (Final): ', df_sin_duplicados.duplicated().sum())"
   ]
  },
  {
   "cell_type": "code",
   "execution_count": 23,
   "id": "60a5be08",
   "metadata": {},
   "outputs": [
    {
     "name": "stdout",
     "output_type": "stream",
     "text": [
      "     user_id                  game_title behavior_name  value\n",
      "0  151603712  The Elder Scrolls V Skyrim          play  273.0\n",
      "1  151603712                   Fallout 4      purchase    1.0\n",
      "2  151603712                   Fallout 4          play   87.0\n",
      "3  151603712                       Spore      purchase    1.0\n",
      "4  151603712                       Spore          play   14.9\n",
      "Número de filas duplicadas (Inicial):  707\n",
      "Número de filas duplicadas (Final):  0\n",
      "\n",
      "\n",
      "game_title\n",
      "Dota 2                                                            9682\n",
      "Team Fortress 2                                                   4646\n",
      "Counter-Strike Global Offensive                                   2789\n",
      "Unturned                                                          2632\n",
      "Left 4 Dead 2                                                     1752\n",
      "                                                                  ... \n",
      "Depth - S.T.E.V.E. Pack                                              1\n",
      "Storm                                                                1\n",
      "Phantom Breaker Battle Grounds - Kurisu Makise + Level 99 Pack       1\n",
      "Super Laser Racer                                                    1\n",
      "Dream Chronicles The Chosen Child                                    1\n",
      "Name: count, Length: 5155, dtype: int64\n"
     ]
    }
   ],
   "source": [
    "import pandas as pd\n",
    "\n",
    "# Cargar los datos \n",
    "df = pd.read_csv('DataSets/steam-200k.csv')\n",
    "df.columns = ['user_id', 'game_title', 'behavior_name', 'value']\n",
    "\n",
    "# Mostrar DataFrame inicial\n",
    "print(df.head(5))\n",
    "\n",
    "# 1. Eliminar filas duplicadas\n",
    "print('Número de filas duplicadas (Inicial): ', df.duplicated().sum())\n",
    "df_sin_duplicados = df.drop_duplicates()\n",
    "\n",
    "df_sin_duplicados.reset_index(drop=True, inplace=True)\n",
    "print('Número de filas duplicadas (Final): ', df_sin_duplicados.duplicated().sum())\n",
    "\n",
    "# 2.Contar apariciones por título de juego\n",
    "print(\"\\n\")\n",
    "print(df_sin_duplicados.loc[:,'game_title'].value_counts())"
   ]
  },
  {
   "cell_type": "code",
   "execution_count": 24,
   "id": "b8c0f271",
   "metadata": {},
   "outputs": [
    {
     "name": "stdout",
     "output_type": "stream",
     "text": [
      "Número de filas duplicadas (Inicial):  707\n",
      "Número de filas duplicadas (Final):  0\n",
      "\n",
      "\n",
      "game_title\n",
      "Dota 2                                                            9682\n",
      "Team Fortress 2                                                   4646\n",
      "Counter-Strike Global Offensive                                   2789\n",
      "Unturned                                                          2632\n",
      "Left 4 Dead 2                                                     1752\n",
      "                                                                  ... \n",
      "Depth - S.T.E.V.E. Pack                                              1\n",
      "Storm                                                                1\n",
      "Phantom Breaker Battle Grounds - Kurisu Makise + Level 99 Pack       1\n",
      "Super Laser Racer                                                    1\n",
      "Dream Chronicles The Chosen Child                                    1\n",
      "Name: count, Length: 5155, dtype: int64\n",
      "\n",
      "\n",
      "     user_id                  game_title behavior_name  value\n",
      "0  151603712  the elder scrolls v skyrim          play  273.0\n",
      "1  151603712                   fallout 4      purchase    1.0\n",
      "2  151603712                   fallout 4          play   87.0\n",
      "3  151603712                       spore      purchase    1.0\n",
      "4  151603712                       spore          play   14.9\n",
      "5  151603712           fallout new vegas      purchase    1.0\n",
      "6  151603712           fallout new vegas          play   12.1\n",
      "7  151603712               left 4 dead 2      purchase    1.0\n",
      "8  151603712               left 4 dead 2          play    8.9\n",
      "9  151603712                    huniepop      purchase    1.0\n"
     ]
    }
   ],
   "source": [
    "import pandas as pd\n",
    "\n",
    "# Cargar los datos \n",
    "df = pd.read_csv('DataSets/steam-200k.csv')\n",
    "df.columns = ['user_id', 'game_title', 'behavior_name', 'value']\n",
    "\n",
    "# 1. Eliminar filas duplicadas\n",
    "print('Número de filas duplicadas (Inicial): ', df.duplicated().sum())\n",
    "df_sin_duplicados = df.drop_duplicates().copy()\n",
    "\n",
    "df_sin_duplicados.reset_index(drop=True, inplace=True)\n",
    "print('Número de filas duplicadas (Final): ', df_sin_duplicados.duplicated().sum())\n",
    "\n",
    "# 2.Contar apariciones por título de juego\n",
    "print(\"\\n\")\n",
    "print(df_sin_duplicados.loc[:,'game_title'].value_counts())\n",
    "\n",
    "# 3.Convertir títulos de juegos a minúsculas\n",
    "df_sin_duplicados.loc[:,'game_title'] = df_sin_duplicados['game_title'].str.lower()\n",
    "\n",
    "# Validación resultados\n",
    "print(\"\\n\")\n",
    "print(df_sin_duplicados.head(10))"
   ]
  }
 ],
 "metadata": {
  "kernelspec": {
   "display_name": "Python-Github_VENV-XjlEX2HA",
   "language": "python",
   "name": "python3"
  },
  "language_info": {
   "codemirror_mode": {
    "name": "ipython",
    "version": 3
   },
   "file_extension": ".py",
   "mimetype": "text/x-python",
   "name": "python",
   "nbconvert_exporter": "python",
   "pygments_lexer": "ipython3",
   "version": "3.13.2"
  }
 },
 "nbformat": 4,
 "nbformat_minor": 5
}
