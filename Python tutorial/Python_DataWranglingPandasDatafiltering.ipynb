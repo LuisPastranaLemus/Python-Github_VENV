{
 "cells": [
  {
   "cell_type": "markdown",
   "id": "7afcb26c",
   "metadata": {},
   "source": [
    "### __Python Data Wrangling Data Filtering__"
   ]
  },
  {
   "cell_type": "code",
   "execution_count": 3,
   "id": "1c0c480d",
   "metadata": {},
   "outputs": [
    {
     "name": "stdout",
     "output_type": "stream",
     "text": [
      "0     Pacific\n",
      "1    Atlantic\n",
      "2      Indian\n",
      "3    Southern\n",
      "4      Arctic\n",
      "dtype: object\n",
      "\n",
      "RangeIndex(start=0, stop=5, step=1)\n",
      "\n",
      "<class 'pandas.core.indexes.range.RangeIndex'>\n"
     ]
    }
   ],
   "source": [
    "import pandas as pd\n",
    "\n",
    "oceans = pd.Series(['Pacific', 'Atlantic', 'Indian', 'Southern', 'Arctic'])\n",
    "\n",
    "print(oceans)\n",
    "print()\n",
    "\n",
    "print(oceans.index)\n",
    "print()\n",
    "print(type(oceans.index))"
   ]
  },
  {
   "cell_type": "code",
   "execution_count": 5,
   "id": "5784e69b",
   "metadata": {},
   "outputs": [
    {
     "name": "stdout",
     "output_type": "stream",
     "text": [
      "Index([1, 2, 3, 4, 5], dtype='int64')\n",
      "\n",
      "<class 'pandas.core.indexes.base.Index'>\n"
     ]
    }
   ],
   "source": [
    "import pandas as pd\n",
    "\n",
    "oceans = pd.Series(['Pacific', 'Atlantic', 'Indian', 'Southern', 'Arctic'])\n",
    "\n",
    "oceans.index = [1, 2, 3, 4, 5]\n",
    "\n",
    "print(oceans.index)\n",
    "print()\n",
    "print(type(oceans.index))"
   ]
  },
  {
   "cell_type": "code",
   "execution_count": 7,
   "id": "ca2e7f2b",
   "metadata": {},
   "outputs": [
    {
     "name": "stdout",
     "output_type": "stream",
     "text": [
      "Index([1, 2, 3, 4, 5], dtype='int64')\n",
      "\n",
      "<class 'pandas.core.indexes.base.Index'>\n"
     ]
    }
   ],
   "source": [
    "import pandas as pd\n",
    "\n",
    "oceans = pd.Series(['Pacific', 'Atlantic', 'Indian', 'Southern', 'Arctic'],\n",
    "                   index=[1, 2, 3, 4, 5])\n",
    "\n",
    "print(oceans.index)\n",
    "print()\n",
    "print(type(oceans.index))"
   ]
  },
  {
   "cell_type": "code",
   "execution_count": 8,
   "id": "610c490b",
   "metadata": {},
   "outputs": [
    {
     "name": "stdout",
     "output_type": "stream",
     "text": [
      "A     Pacific\n",
      "B    Atlantic\n",
      "C      Indian\n",
      "D    Southern\n",
      "E      Arctic\n",
      "dtype: object\n",
      "\n",
      "Index(['A', 'B', 'C', 'D', 'E'], dtype='object')\n",
      "\n",
      "<class 'pandas.core.indexes.base.Index'>\n"
     ]
    }
   ],
   "source": [
    "import pandas as pd\n",
    "\n",
    "oceans = pd.Series(['Pacific', 'Atlantic', 'Indian', 'Southern', 'Arctic'],\n",
    "                   index=['A', 'B', 'C', 'D', 'E'])\n",
    "\n",
    "print(oceans)\n",
    "print()\n",
    "print(oceans.index)\n",
    "print()\n",
    "print(type(oceans.index))"
   ]
  },
  {
   "cell_type": "markdown",
   "id": "cb37dbba",
   "metadata": {},
   "source": [
    "##### __Indexing__"
   ]
  },
  {
   "cell_type": "markdown",
   "id": "39d315cf",
   "metadata": {},
   "source": [
    ".loc[]"
   ]
  },
  {
   "cell_type": "code",
   "execution_count": 9,
   "id": "ba6fa8e8",
   "metadata": {},
   "outputs": [
    {
     "name": "stdout",
     "output_type": "stream",
     "text": [
      "            state                  flower                          insect\n",
      "state 1   Alabama                Camellia               Monarch butterfly\n",
      "state 2    Alaska           Forget-me-not  Four-spotted skimmer dragonfly\n",
      "state 3   Arizona  Saguaro cactus blossom          Two-tailed swallowtail\n",
      "state 4  Arkansas           Apple blossom              European honey bee\n"
     ]
    }
   ],
   "source": [
    "import pandas as pd\n",
    "\n",
    "states  = ['Alabama', 'Alaska', 'Arizona', 'Arkansas']\n",
    "flowers = ['Camellia', 'Forget-me-not', 'Saguaro cactus blossom', 'Apple blossom']\n",
    "insects = ['Monarch butterfly', 'Four-spotted skimmer dragonfly', 'Two-tailed swallowtail', 'European honey bee']\n",
    "index   = ['state 1', 'state 2', 'state 3', 'state 4']\n",
    "\n",
    "df = pd.DataFrame({'state': states, 'flower': flowers, 'insect': insects}, index=index)\n",
    "\n",
    "print(df)"
   ]
  },
  {
   "cell_type": "code",
   "execution_count": null,
   "id": "95a558e1",
   "metadata": {},
   "outputs": [
    {
     "name": "stdout",
     "output_type": "stream",
     "text": [
      "European honey bee\n"
     ]
    }
   ],
   "source": [
    "import pandas as pd\n",
    "\n",
    "states  = ['Alabama', 'Alaska', 'Arizona', 'Arkansas']\n",
    "flowers = ['Camellia', 'Forget-me-not', 'Saguaro cactus blossom', 'Apple blossom']\n",
    "insects = ['Monarch butterfly', 'Four-spotted skimmer dragonfly', 'Two-tailed swallowtail', 'European honey bee']\n",
    "index   = ['state 1', 'state 2', 'state 3', 'state 4']\n",
    "\n",
    "df = pd.DataFrame({'state': states, 'flower': flowers, 'insect': insects}, index=index) \n",
    "\n",
    "print(df.loc['state 4', 'insect']) # df.loc[index_value, col_name]"
   ]
  },
  {
   "cell_type": "code",
   "execution_count": 11,
   "id": "9a3cfed0",
   "metadata": {},
   "outputs": [
    {
     "name": "stdout",
     "output_type": "stream",
     "text": [
      "state 1                  Camellia\n",
      "state 2             Forget-me-not\n",
      "state 3    Saguaro cactus blossom\n",
      "Name: flower, dtype: object\n"
     ]
    }
   ],
   "source": [
    "import pandas as pd\n",
    "\n",
    "states  = ['Alabama', 'Alaska', 'Arizona', 'Arkansas']\n",
    "flowers = ['Camellia', 'Forget-me-not', 'Saguaro cactus blossom', 'Apple blossom']\n",
    "insects = ['Monarch butterfly', 'Four-spotted skimmer dragonfly', 'Two-tailed swallowtail', 'European honey bee']\n",
    "index   = ['state 1', 'state 2', 'state 3', 'state 4']\n",
    "\n",
    "df = pd.DataFrame({'state': states, 'flower': flowers, 'insect': insects}, index=index)\n",
    "\n",
    "print(df.loc['state 1': 'state 3', 'flower'])"
   ]
  },
  {
   "cell_type": "code",
   "execution_count": 12,
   "id": "ad51d76d",
   "metadata": {},
   "outputs": [
    {
     "name": "stdout",
     "output_type": "stream",
     "text": [
      "                         flower                          insect\n",
      "state 1                Camellia               Monarch butterfly\n",
      "state 2           Forget-me-not  Four-spotted skimmer dragonfly\n",
      "state 3  Saguaro cactus blossom          Two-tailed swallowtail\n"
     ]
    }
   ],
   "source": [
    "import pandas as pd\n",
    "\n",
    "states  = ['Alabama', 'Alaska', 'Arizona', 'Arkansas']\n",
    "flowers = ['Camellia', 'Forget-me-not', 'Saguaro cactus blossom', 'Apple blossom']\n",
    "insects = ['Monarch butterfly', 'Four-spotted skimmer dragonfly', 'Two-tailed swallowtail', 'European honey bee']\n",
    "index   = ['state 1', 'state 2', 'state 3', 'state 4']\n",
    "\n",
    "df = pd.DataFrame({'state': states, 'flower': flowers, 'insect': insects}, index=index)\n",
    "\n",
    "print(df.loc['state 1': 'state 3', 'flower': 'insect'])"
   ]
  },
  {
   "cell_type": "code",
   "execution_count": 22,
   "id": "d2baea31",
   "metadata": {},
   "outputs": [
    {
     "name": "stdout",
     "output_type": "stream",
     "text": [
      "                         flower                  insect\n",
      "state 1                Camellia       Monarch butterfly\n",
      "state 3  Saguaro cactus blossom  Two-tailed swallowtail\n"
     ]
    }
   ],
   "source": [
    "import pandas as pd\n",
    "\n",
    "states  = ['Alabama', 'Alaska', 'Arizona', 'Arkansas']\n",
    "flowers = ['Camellia', 'Forget-me-not', 'Saguaro cactus blossom', 'Apple blossom']\n",
    "insects = ['Monarch butterfly', 'Four-spotted skimmer dragonfly', 'Two-tailed swallowtail', 'European honey bee']\n",
    "index   = ['state 1', 'state 2', 'state 3', 'state 4']\n",
    "\n",
    "df = pd.DataFrame({'state': states, 'flower': flowers, 'insect': insects}, index=index)\n",
    "\n",
    "filtered_df = df.loc[['state 1', 'state 3'], ['flower', 'insect']]\n",
    "print(filtered_df)"
   ]
  },
  {
   "cell_type": "markdown",
   "id": "9cf3e55e",
   "metadata": {},
   "source": [
    ".iloc[]"
   ]
  },
  {
   "cell_type": "code",
   "execution_count": 13,
   "id": "972b6e7b",
   "metadata": {},
   "outputs": [
    {
     "name": "stdout",
     "output_type": "stream",
     "text": [
      "            state                  flower                          insect\n",
      "state 1   Alabama                Camellia               Monarch butterfly\n",
      "state 2    Alaska           Forget-me-not  Four-spotted skimmer dragonfly\n",
      "state 3   Arizona  Saguaro cactus blossom          Two-tailed swallowtail\n",
      "state 4  Arkansas           Apple blossom              European honey bee\n",
      "\n",
      "European honey bee\n"
     ]
    }
   ],
   "source": [
    "import pandas as pd\n",
    "\n",
    "states  = ['Alabama', 'Alaska', 'Arizona', 'Arkansas']\n",
    "flowers = ['Camellia', 'Forget-me-not', 'Saguaro cactus blossom', 'Apple blossom']\n",
    "insects = ['Monarch butterfly', 'Four-spotted skimmer dragonfly', 'Two-tailed swallowtail', 'European honey bee']\n",
    "index   = ['state 1', 'state 2', 'state 3', 'state 4']\n",
    "\n",
    "df = pd.DataFrame({'state': states, 'flower': flowers, 'insect': insects}, index=index)\n",
    "\n",
    "print(df)\n",
    "print()\n",
    "print(df.iloc[3, 2]) # df.iloc[row_index, col_index]"
   ]
  },
  {
   "cell_type": "code",
   "execution_count": 14,
   "id": "0f0857e8",
   "metadata": {},
   "outputs": [
    {
     "name": "stdout",
     "output_type": "stream",
     "text": [
      "            state                  flower                          insect\n",
      "state 1   Alabama                Camellia               Monarch butterfly\n",
      "state 2    Alaska           Forget-me-not  Four-spotted skimmer dragonfly\n",
      "state 3   Arizona  Saguaro cactus blossom          Two-tailed swallowtail\n",
      "state 4  Arkansas           Apple blossom              European honey bee\n",
      "\n",
      "                         flower                  insect\n",
      "state 1                Camellia       Monarch butterfly\n",
      "state 3  Saguaro cactus blossom  Two-tailed swallowtail\n"
     ]
    }
   ],
   "source": [
    "import pandas as pd\n",
    "\n",
    "states  = ['Alabama', 'Alaska', 'Arizona', 'Arkansas']\n",
    "flowers = ['Camellia', 'Forget-me-not', 'Saguaro cactus blossom', 'Apple blossom']\n",
    "insects = ['Monarch butterfly', 'Four-spotted skimmer dragonfly', 'Two-tailed swallowtail', 'European honey bee']\n",
    "index   = ['state 1', 'state 2', 'state 3', 'state 4']\n",
    "\n",
    "df = pd.DataFrame({'state': states, 'flower': flowers, 'insect': insects}, index=index)\n",
    "\n",
    "print(df)\n",
    "print()\n",
    "print(df.iloc[[0, 2], 1:]) # df.iloc[row_index, col_index]"
   ]
  },
  {
   "cell_type": "code",
   "execution_count": 17,
   "id": "1536cda1",
   "metadata": {},
   "outputs": [
    {
     "name": "stdout",
     "output_type": "stream",
     "text": [
      "state 1         Monarch butterfly\n",
      "state 3    Two-tailed swallowtail\n",
      "Name: insect, dtype: object\n",
      "\n"
     ]
    },
    {
     "data": {
      "text/plain": [
       "state 2    Four-spotted skimmer dragonfly\n",
       "state 3            Two-tailed swallowtail\n",
       "state 4                European honey bee\n",
       "Name: insect, dtype: object"
      ]
     },
     "execution_count": 17,
     "metadata": {},
     "output_type": "execute_result"
    }
   ],
   "source": [
    "import pandas as pd\n",
    "\n",
    "states  = ['Alabama', 'Alaska', 'Arizona', 'Arkansas']\n",
    "flowers = ['Camellia', 'Forget-me-not', 'Saguaro cactus blossom', 'Apple blossom']\n",
    "insects = ['Monarch butterfly', 'Four-spotted skimmer dragonfly', 'Two-tailed swallowtail', 'European honey bee']\n",
    "index   = ['state 1', 'state 2', 'state 3', 'state 4']\n",
    "\n",
    "df = pd.DataFrame({'state': states, 'flower': flowers, 'insect': insects}, index=index)\n",
    "\n",
    "print(df.iloc[[0, 2], -1])\n",
    "print()\n",
    "\n",
    "df.loc['state 2':'state 4', 'insect']"
   ]
  },
  {
   "cell_type": "markdown",
   "id": "458169b4",
   "metadata": {},
   "source": [
    "##### _.set_index()_"
   ]
  },
  {
   "cell_type": "code",
   "execution_count": 20,
   "id": "63dc3c0d",
   "metadata": {},
   "outputs": [
    {
     "name": "stdout",
     "output_type": "stream",
     "text": [
      "            state                  flower                          insect\n",
      "state 1   Alabama                Camellia               Monarch butterfly\n",
      "state 2    Alaska           Forget-me-not  Four-spotted skimmer dragonfly\n",
      "state 3   Arizona  Saguaro cactus blossom          Two-tailed swallowtail\n",
      "state 4  Arkansas           Apple blossom              European honey bee\n",
      "\n",
      "                          flower                          insect\n",
      "state                                                           \n",
      "Alabama                 Camellia               Monarch butterfly\n",
      "Alaska             Forget-me-not  Four-spotted skimmer dragonfly\n",
      "Arizona   Saguaro cactus blossom          Two-tailed swallowtail\n",
      "Arkansas           Apple blossom              European honey bee\n",
      "\n",
      "Index(['Alabama', 'Alaska', 'Arizona', 'Arkansas'], dtype='object', name='state')\n"
     ]
    }
   ],
   "source": [
    "import pandas as pd\n",
    "\n",
    "states  = ['Alabama', 'Alaska', 'Arizona', 'Arkansas']\n",
    "flowers = ['Camellia', 'Forget-me-not', 'Saguaro cactus blossom', 'Apple blossom']\n",
    "insects = ['Monarch butterfly', 'Four-spotted skimmer dragonfly', 'Two-tailed swallowtail', 'European honey bee']\n",
    "index   = ['state 1', 'state 2', 'state 3', 'state 4']\n",
    "\n",
    "df = pd.DataFrame({'state': states, 'flower': flowers, 'insect': insects}, index=index)\n",
    "print(df)\n",
    "print()\n",
    "\n",
    "df = df.set_index('state') # reemplazar el índice\n",
    "print(df)\n",
    "print()\n",
    "print(df.index)"
   ]
  },
  {
   "cell_type": "code",
   "execution_count": null,
   "id": "bf5c6e08",
   "metadata": {},
   "outputs": [
    {
     "name": "stdout",
     "output_type": "stream",
     "text": [
      "            state                  flower                          insect\n",
      "state 1   Alabama                Camellia               Monarch butterfly\n",
      "state 2    Alaska           Forget-me-not  Four-spotted skimmer dragonfly\n",
      "state 3   Arizona  Saguaro cactus blossom          Two-tailed swallowtail\n",
      "state 4  Arkansas           Apple blossom              European honey bee\n",
      "\n",
      "                          flower                          insect\n",
      "Alabama                 Camellia               Monarch butterfly\n",
      "Alaska             Forget-me-not  Four-spotted skimmer dragonfly\n",
      "Arizona   Saguaro cactus blossom          Two-tailed swallowtail\n",
      "Arkansas           Apple blossom              European honey bee\n",
      "\n",
      "Index(['Alabama', 'Alaska', 'Arizona', 'Arkansas'], dtype='object')\n"
     ]
    }
   ],
   "source": [
    "import pandas as pd\n",
    "\n",
    "states  = ['Alabama', 'Alaska', 'Arizona', 'Arkansas']\n",
    "flowers = ['Camellia', 'Forget-me-not', 'Saguaro cactus blossom', 'Apple blossom']\n",
    "insects = ['Monarch butterfly', 'Four-spotted skimmer dragonfly', 'Two-tailed swallowtail', 'European honey bee']\n",
    "index   = ['state 1', 'state 2', 'state 3', 'state 4']\n",
    "\n",
    "df = pd.DataFrame({'state': states, 'flower': flowers, 'insect': insects}, index=index)\n",
    "print(df)\n",
    "print()\n",
    "\n",
    "df = df.set_index('state')\n",
    "\n",
    "df.index.name = None # eliminar el nombre del índice\n",
    "print(df)\n",
    "print()\n",
    "print(df.index)"
   ]
  },
  {
   "cell_type": "markdown",
   "id": "09c16eb8",
   "metadata": {},
   "source": [
    "##### __Custom filtering__"
   ]
  },
  {
   "cell_type": "markdown",
   "id": "a1b8ac73",
   "metadata": {},
   "source": [
    "##### _.query()_\n",
    "\n",
    "The query() method allows you to query the DataFrame.\n",
    "\n",
    "The query() method takes a query expression as a string parameter, which has to evaluate to either True of False.\n",
    "\n",
    "It returns the DataFrame where the result is True according to the query expression.\n",
    "\n",
    "_dataframe.query(expr, inplace)_\n",
    "\n",
    "_expr_\t\tRequired. A string that represents a query expression.\n",
    "\n",
    "_inplace_\tTrue|False\tOptional. A boolean value that specifies if the query() method should leave the original DataFrame untouched and return a copy (inplace = False). This is Default. Or: Make the changes in the original DataFrame (inplace = True)"
   ]
  },
  {
   "cell_type": "code",
   "execution_count": 23,
   "id": "4eaff039",
   "metadata": {},
   "outputs": [
    {
     "name": "stdout",
     "output_type": "stream",
     "text": [
      "    name  age\n",
      "0  Sally   50\n",
      "1   Mary   40\n"
     ]
    }
   ],
   "source": [
    "import pandas as pd\n",
    "\n",
    "data = {\n",
    "  \"name\": [\"Sally\", \"Mary\", \"John\"],\n",
    "  \"age\": [50, 40, 30]\n",
    "}\n",
    "\n",
    "df = pd.DataFrame(data)\n",
    "\n",
    "print(df.query('age > 35'))"
   ]
  },
  {
   "cell_type": "code",
   "execution_count": 25,
   "id": "295983a2",
   "metadata": {},
   "outputs": [
    {
     "name": "stdout",
     "output_type": "stream",
     "text": [
      "                       name platform  year_of_release         genre publisher  \\\n",
      "0                Wii Sports      Wii           2006.0        Sports  Nintendo   \n",
      "1         Super Mario Bros.      NES           1985.0      Platform  Nintendo   \n",
      "2            Mario Kart Wii      Wii           2008.0        Racing  Nintendo   \n",
      "3         Wii Sports Resort      Wii           2009.0        Sports  Nintendo   \n",
      "4  Pokemon Red/Pokemon Blue       GB           1996.0  Role-Playing  Nintendo   \n",
      "\n",
      "  developer  na_sales  eu_sales  jp_sales  critic_score user_score  \n",
      "0  Nintendo     41.36     28.96      3.77          76.0          8  \n",
      "1       NaN     29.08      3.58      6.81           NaN        NaN  \n",
      "2  Nintendo     15.68     12.76      3.79          82.0        8.3  \n",
      "3  Nintendo     15.61     10.93      3.28          80.0          8  \n",
      "4       NaN     11.27      8.89     10.22           NaN        NaN  \n",
      "\n",
      "<class 'pandas.core.frame.DataFrame'>\n",
      "RangeIndex: 16717 entries, 0 to 16716\n",
      "Data columns (total 11 columns):\n",
      " #   Column           Non-Null Count  Dtype  \n",
      "---  ------           --------------  -----  \n",
      " 0   name             16717 non-null  object \n",
      " 1   platform         16717 non-null  object \n",
      " 2   year_of_release  16448 non-null  float64\n",
      " 3   genre            16717 non-null  object \n",
      " 4   publisher        16663 non-null  object \n",
      " 5   developer        10096 non-null  object \n",
      " 6   na_sales         16717 non-null  float64\n",
      " 7   eu_sales         16717 non-null  float64\n",
      " 8   jp_sales         16717 non-null  float64\n",
      " 9   critic_score     8137 non-null   float64\n",
      " 10  user_score       10015 non-null  object \n",
      "dtypes: float64(5), object(6)\n",
      "memory usage: 1.4+ MB\n",
      "None\n"
     ]
    }
   ],
   "source": [
    "df = pd.read_csv('DataSets/vg_sales.csv')\n",
    "print(df.head())\n",
    "print()\n",
    "print(df.info())"
   ]
  },
  {
   "cell_type": "code",
   "execution_count": null,
   "id": "06ee7c37",
   "metadata": {},
   "outputs": [
    {
     "name": "stdout",
     "output_type": "stream",
     "text": [
      "                                                    name platform  \\\n",
      "0                                             Wii Sports      Wii   \n",
      "1                                      Super Mario Bros.      NES   \n",
      "2                                         Mario Kart Wii      Wii   \n",
      "3                                      Wii Sports Resort      Wii   \n",
      "4                               Pokemon Red/Pokemon Blue       GB   \n",
      "...                                                  ...      ...   \n",
      "16512                           Art Academy: Home Studio     WiiU   \n",
      "16577                                    Captain Rainbow      Wii   \n",
      "16610  Mario & Luigi: Paper Jam & Mario Kart 7 Double...      3DS   \n",
      "16654                                   Fast Racing Neo      WiiU   \n",
      "16655  Nintendogs and Cats Golden Retriever and New F...      3DS   \n",
      "\n",
      "       year_of_release         genre publisher         developer  na_sales  \\\n",
      "0               2006.0        Sports  Nintendo          Nintendo     41.36   \n",
      "1               1985.0      Platform  Nintendo               NaN     29.08   \n",
      "2               2008.0        Racing  Nintendo          Nintendo     15.68   \n",
      "3               2009.0        Sports  Nintendo          Nintendo     15.61   \n",
      "4               1996.0  Role-Playing  Nintendo               NaN     11.27   \n",
      "...                ...           ...       ...               ...       ...   \n",
      "16512           2015.0          Misc  Nintendo  Headstrong Games      0.00   \n",
      "16577           2008.0     Adventure  Nintendo               NaN      0.00   \n",
      "16610           2015.0          Misc  Nintendo               NaN      0.00   \n",
      "16654           2016.0        Action  Nintendo           Shin'en      0.00   \n",
      "16655           2011.0        Action  Nintendo               NaN      0.00   \n",
      "\n",
      "       eu_sales  jp_sales  critic_score user_score  \n",
      "0         28.96      3.77          76.0          8  \n",
      "1          3.58      6.81           NaN        NaN  \n",
      "2         12.76      3.79          82.0        8.3  \n",
      "3         10.93      3.28          80.0          8  \n",
      "4          8.89     10.22           NaN        NaN  \n",
      "...         ...       ...           ...        ...  \n",
      "16512      0.00      0.01          82.0        8.3  \n",
      "16577      0.00      0.01           NaN        NaN  \n",
      "16610      0.00      0.01           NaN        NaN  \n",
      "16654      0.01      0.00          81.0        8.5  \n",
      "16655      0.01      0.00           NaN        NaN  \n",
      "\n",
      "[706 rows x 11 columns]\n",
      "\n",
      "                       name publisher\n",
      "0                Wii Sports  Nintendo\n",
      "1         Super Mario Bros.  Nintendo\n",
      "2            Mario Kart Wii  Nintendo\n",
      "3         Wii Sports Resort  Nintendo\n",
      "4  Pokemon Red/Pokemon Blue  Nintendo\n"
     ]
    }
   ],
   "source": [
    "import pandas as pd\n",
    "\n",
    "df = pd.read_csv('DataSets/vg_sales.csv')\n",
    "\n",
    "print(df.query(\"publisher == 'Nintendo'\"))\n",
    "print()\n",
    "print(df.query(\"publisher == 'Nintendo'\")[['name', 'publisher']].head())"
   ]
  },
  {
   "cell_type": "code",
   "execution_count": 36,
   "id": "74172d10",
   "metadata": {},
   "outputs": [
    {
     "name": "stdout",
     "output_type": "stream",
     "text": [
      "                    name publisher developer\n",
      "0             Wii Sports  Nintendo  Nintendo\n",
      "2         Mario Kart Wii  Nintendo  Nintendo\n",
      "3      Wii Sports Resort  Nintendo  Nintendo\n",
      "6  New Super Mario Bros.  Nintendo  Nintendo\n",
      "7               Wii Play  Nintendo  Nintendo\n"
     ]
    }
   ],
   "source": [
    "import pandas as pd\n",
    "\n",
    "df = pd.read_csv('DataSets/vg_sales.csv')\n",
    "\n",
    "cols = ['name', 'publisher', 'developer']\n",
    "\n",
    "df_filtered = df.query(\"publisher == developer\")[cols]\n",
    "print(df_filtered.head())"
   ]
  },
  {
   "cell_type": "markdown",
   "id": "26414d4a",
   "metadata": {},
   "source": [
    "##### _isin()_\n",
    "\n",
    "The isin() method checks if the Dataframe contains the specified value(s).\n",
    "\n",
    "It returns a DataFrame similar to the original DataFrame, but the original values have been replaced with True if the value was one of the specified values, otherwise False.\n",
    "\n",
    "_dataframe.isin(values)_"
   ]
  },
  {
   "cell_type": "code",
   "execution_count": 30,
   "id": "54093c01",
   "metadata": {},
   "outputs": [
    {
     "name": "stdout",
     "output_type": "stream",
     "text": [
      "                                                    name platform\n",
      "4                               Pokemon Red/Pokemon Blue       GB\n",
      "5                                                 Tetris       GB\n",
      "6                                  New Super Mario Bros.       DS\n",
      "10                                            Nintendogs       DS\n",
      "11                                         Mario Kart DS       DS\n",
      "...                                                  ...      ...\n",
      "16702                           Mezase!! Tsuri Master DS       DS\n",
      "16703  Eiyuu Densetsu: Sora no Kiseki Material Collec...      PSP\n",
      "16706                                           Plushees       DS\n",
      "16710                 Woody Woodpecker in Crazy Castle 5      GBA\n",
      "16715                                   Spirits & Spells      GBA\n",
      "\n",
      "[4801 rows x 2 columns]\n"
     ]
    }
   ],
   "source": [
    "import pandas as pd\n",
    "\n",
    "df = pd.read_csv('Datasets/vg_sales.csv')\n",
    "\n",
    "handhelds = ['3DS', 'DS', 'GB', 'GBA', 'PSP']\n",
    "print(df[df['platform'].isin(handhelds)][['name', 'platform']])"
   ]
  },
  {
   "cell_type": "code",
   "execution_count": 39,
   "id": "161c0a60",
   "metadata": {},
   "outputs": [
    {
     "name": "stdout",
     "output_type": "stream",
     "text": [
      "                                                   name         genre\n",
      "1                                     Super Mario Bros.      Platform\n",
      "2                                        Mario Kart Wii        Racing\n",
      "4                              Pokemon Red/Pokemon Blue  Role-Playing\n",
      "5                                                Tetris        Puzzle\n",
      "6                                 New Super Mario Bros.      Platform\n",
      "...                                                 ...           ...\n",
      "16710                Woody Woodpecker in Crazy Castle 5      Platform\n",
      "16711  SCORE International Baja 1000: The Official Game        Racing\n",
      "16712                     Samurai Warriors: Sanada Maru        Action\n",
      "16714                           Haitaka no Psychedelica     Adventure\n",
      "16715                                  Spirits & Spells      Platform\n",
      "\n",
      "[11489 rows x 2 columns]\n"
     ]
    }
   ],
   "source": [
    "import pandas as pd\n",
    "\n",
    "df = pd.read_csv('DataSets/vg_sales.csv')\n",
    "\n",
    "cols = ['name', 'genre']\n",
    "s_genres = ['Shooter', 'Simulation', 'Sports', 'Strategy']\n",
    "\n",
    "df_filtered = df[~df['genre'].isin(s_genres)][cols]\n",
    "print(df_filtered)"
   ]
  },
  {
   "cell_type": "markdown",
   "id": "9b11bded",
   "metadata": {},
   "source": [
    "tilde (~), which inverts the result, We can use it to filter the original DataFrame, extracting only the rows in which the 'platform' column values ​​aren't in the handhelds list."
   ]
  },
  {
   "cell_type": "code",
   "execution_count": 32,
   "id": "7b0ac7e4",
   "metadata": {},
   "outputs": [
    {
     "name": "stdout",
     "output_type": "stream",
     "text": [
      "                                                   name platform\n",
      "0                                            Wii Sports      Wii\n",
      "1                                     Super Mario Bros.      NES\n",
      "2                                        Mario Kart Wii      Wii\n",
      "3                                     Wii Sports Resort      Wii\n",
      "7                                              Wii Play      Wii\n",
      "...                                                 ...      ...\n",
      "16711  SCORE International Baja 1000: The Official Game      PS2\n",
      "16712                     Samurai Warriors: Sanada Maru      PS3\n",
      "16713                                  LMA Manager 2007     X360\n",
      "16714                           Haitaka no Psychedelica      PSV\n",
      "16716                               Winning Post 8 2016      PSV\n",
      "\n",
      "[11916 rows x 2 columns]\n"
     ]
    }
   ],
   "source": [
    "import pandas as pd\n",
    "\n",
    "df = pd.read_csv('Datasets/vg_sales.csv')\n",
    "\n",
    "handhelds = ['3DS', 'DS', 'GB', 'GBA', 'PSP']\n",
    "print(df.query(\"~(platform in @handhelds)\")[['name', 'platform']])"
   ]
  },
  {
   "cell_type": "code",
   "execution_count": 40,
   "id": "962b4354",
   "metadata": {},
   "outputs": [
    {
     "name": "stdout",
     "output_type": "stream",
     "text": [
      "                                                   name         genre\n",
      "1                                     Super Mario Bros.      Platform\n",
      "2                                        Mario Kart Wii        Racing\n",
      "4                              Pokemon Red/Pokemon Blue  Role-Playing\n",
      "5                                                Tetris        Puzzle\n",
      "6                                 New Super Mario Bros.      Platform\n",
      "...                                                 ...           ...\n",
      "16710                Woody Woodpecker in Crazy Castle 5      Platform\n",
      "16711  SCORE International Baja 1000: The Official Game        Racing\n",
      "16712                     Samurai Warriors: Sanada Maru        Action\n",
      "16714                           Haitaka no Psychedelica     Adventure\n",
      "16715                                  Spirits & Spells      Platform\n",
      "\n",
      "[11489 rows x 2 columns]\n"
     ]
    }
   ],
   "source": [
    "import pandas as pd\n",
    "\n",
    "df = pd.read_csv('DataSets/vg_sales.csv')\n",
    "\n",
    "cols = ['name', 'genre']\n",
    "s_genres = ['Shooter', 'Simulation', 'Sports', 'Strategy']\n",
    "\n",
    "df_filtered = df.query(\"genre not in @s_genres\")[cols]\n",
    "print(df_filtered)"
   ]
  },
  {
   "cell_type": "code",
   "execution_count": null,
   "id": "f9ab90de",
   "metadata": {},
   "outputs": [
    {
     "name": "stdout",
     "output_type": "stream",
     "text": [
      "                                                   name platform\n",
      "0                                            Wii Sports      Wii\n",
      "1                                     Super Mario Bros.      NES\n",
      "2                                        Mario Kart Wii      Wii\n",
      "3                                     Wii Sports Resort      Wii\n",
      "7                                              Wii Play      Wii\n",
      "...                                                 ...      ...\n",
      "16711  SCORE International Baja 1000: The Official Game      PS2\n",
      "16712                     Samurai Warriors: Sanada Maru      PS3\n",
      "16713                                  LMA Manager 2007     X360\n",
      "16714                           Haitaka no Psychedelica      PSV\n",
      "16716                               Winning Post 8 2016      PSV\n",
      "\n",
      "[11916 rows x 2 columns]\n"
     ]
    }
   ],
   "source": [
    "import pandas as pd\n",
    "\n",
    "df = pd.read_csv('DataSets/vg_sales.csv')\n",
    "\n",
    "handhelds = ['3DS', 'DS', 'GB', 'GBA', 'PSP']\n",
    "print(df.query(\"platform not in @handhelds\")[['name', 'platform']]) # The variable hadhelds is defined outside the query method, \n",
    "                                                                    # so it needs to be prefixed with @ to be used inside the query string.\n",
    "                                                                    # otherwise it will be interpreted as a column name."
   ]
  },
  {
   "cell_type": "markdown",
   "id": "7765e8ff",
   "metadata": {},
   "source": [
    "##### __External Data structures for filtering__"
   ]
  },
  {
   "cell_type": "markdown",
   "id": "843fee6a",
   "metadata": {},
   "source": [
    "##### _Filtering with a List_"
   ]
  },
  {
   "cell_type": "code",
   "execution_count": 42,
   "id": "bae2e7a8",
   "metadata": {},
   "outputs": [
    {
     "name": "stdout",
     "output_type": "stream",
     "text": [
      "    a  b  c\n",
      "0   2  5  X\n",
      "1   3  4  Y\n",
      "2  10  3  Y\n",
      "3  11  2  Y\n",
      "4  12  1  Z\n",
      "\n",
      "[2, 5, 10]\n",
      "\n",
      "    a  b  c\n",
      "0   2  5  X\n",
      "2  10  3  Y\n",
      "\n",
      "0     2\n",
      "2    10\n",
      "Name: a, dtype: int64\n"
     ]
    }
   ],
   "source": [
    "import pandas as pd\n",
    "\n",
    "our_list = [2, 5, 10]\n",
    "df = pd.DataFrame(\n",
    "    {\n",
    "        'a': [2, 3, 10, 11, 12],\n",
    "        'b': [5, 4, 3, 2, 1],\n",
    "        'c': ['X', 'Y', 'Y', 'Y', 'Z'],\n",
    "    }\n",
    ")\n",
    "print(df)\n",
    "print()\n",
    "print(our_list)\n",
    "print()\n",
    "print(df.query(\"a in @our_list\"))\n",
    "print()\n",
    "print(df.query(\"a in @our_list\")[\"a\"])"
   ]
  },
  {
   "cell_type": "markdown",
   "id": "a6d428bd",
   "metadata": {},
   "source": [
    "##### _Filtering with a dictionary_"
   ]
  },
  {
   "cell_type": "code",
   "execution_count": 51,
   "id": "6c7ae721",
   "metadata": {},
   "outputs": [
    {
     "name": "stdout",
     "output_type": "stream",
     "text": [
      "    a  b  c\n",
      "0   2  5  X\n",
      "1   3  4  Y\n",
      "2  10  3  Y\n",
      "3  11  2  Y\n",
      "4  12  1  Z\n",
      "\n",
      "{0: 10, 3: 11, 12: 12}\n",
      "\n",
      "    a  b  c\n",
      "1   3  4  Y\n",
      "4  12  1  Z\n"
     ]
    }
   ],
   "source": [
    "import pandas as pd\n",
    "\n",
    "our_dict = {0: 10, 3: 11, 12: 12}\n",
    "df = pd.DataFrame(\n",
    "    {\n",
    "        'a': [2, 3, 10, 11, 12],\n",
    "        'b': [5, 4, 3, 2, 1],\n",
    "        'c': ['X', 'Y', 'Y', 'Y', 'Z'],\n",
    "    }\n",
    ")\n",
    "print(df)\n",
    "print()\n",
    "print(our_dict)\n",
    "print()\n",
    "print(df.query(\"a in @our_dict\"))"
   ]
  },
  {
   "cell_type": "code",
   "execution_count": 43,
   "id": "e603bf0e",
   "metadata": {},
   "outputs": [
    {
     "name": "stdout",
     "output_type": "stream",
     "text": [
      "    a  b  c\n",
      "0   2  5  X\n",
      "1   3  4  Y\n",
      "2  10  3  Y\n",
      "3  11  2  Y\n",
      "4  12  1  Z\n",
      "\n",
      "{0: 10, 3: 11, 12: 12}\n",
      "\n",
      "    a  b  c\n",
      "2  10  3  Y\n",
      "3  11  2  Y\n",
      "4  12  1  Z\n"
     ]
    }
   ],
   "source": [
    "import pandas as pd\n",
    "\n",
    "our_dict = {0: 10, 3: 11, 12: 12}\n",
    "df = pd.DataFrame(\n",
    "    {\n",
    "        'a': [2, 3, 10, 11, 12],\n",
    "        'b': [5, 4, 3, 2, 1],\n",
    "        'c': ['X', 'Y', 'Y', 'Y', 'Z'],\n",
    "    }\n",
    ")\n",
    "print(df)\n",
    "print()\n",
    "print(our_dict)\n",
    "print()\n",
    "print(df.query(\"a in @our_dict.values()\"))"
   ]
  },
  {
   "cell_type": "markdown",
   "id": "06aa1b75",
   "metadata": {},
   "source": [
    "##### _Filtering with Series_"
   ]
  },
  {
   "cell_type": "code",
   "execution_count": 44,
   "id": "ad848820",
   "metadata": {},
   "outputs": [
    {
     "name": "stdout",
     "output_type": "stream",
     "text": [
      "    a  b  c\n",
      "0   2  5  X\n",
      "1   3  4  Y\n",
      "2  10  3  Y\n",
      "3  11  2  Y\n",
      "4  12  1  Z\n",
      "\n",
      "0    10\n",
      "1    11\n",
      "2    12\n",
      "dtype: int64\n",
      "\n",
      "    a  b  c\n",
      "2  10  3  Y\n",
      "3  11  2  Y\n",
      "4  12  1  Z\n"
     ]
    }
   ],
   "source": [
    "import pandas as pd\n",
    "\n",
    "our_series = pd.Series([10, 11, 12])\n",
    "df = pd.DataFrame(\n",
    "    {\n",
    "        'a': [2, 3, 10, 11, 12],\n",
    "        'b': [5, 4, 3, 2, 1],\n",
    "        'c': ['X', 'Y', 'Y', 'Y', 'Z'],\n",
    "    }\n",
    ")\n",
    "print(df)\n",
    "print()\n",
    "print(our_series)\n",
    "print()\n",
    "print(df.query(\"a in @our_series\"))"
   ]
  },
  {
   "cell_type": "code",
   "execution_count": 49,
   "id": "39cb12cc",
   "metadata": {},
   "outputs": [
    {
     "name": "stdout",
     "output_type": "stream",
     "text": [
      "    a  b  c\n",
      "0   2  5  X\n",
      "1   3  4  Y\n",
      "2  10  3  Y\n",
      "3  11  2  Y\n"
     ]
    }
   ],
   "source": [
    "import pandas as pd\n",
    "\n",
    "our_series = pd.Series([10, 11, 12], index=['X', 'Y', 'T'])\n",
    "df = pd.DataFrame(\n",
    "    {\n",
    "        'a': [2, 3, 10, 11, 12],\n",
    "        'b': [5, 4, 3, 2, 1],\n",
    "        'c': ['X', 'Y', 'Y', 'Y', 'Z'],\n",
    "    }\n",
    ")\n",
    "\n",
    "print(df.query(\"c in @our_series.index\"))"
   ]
  },
  {
   "cell_type": "markdown",
   "id": "a061cc20",
   "metadata": {},
   "source": [
    "##### _Filtering with a DataFrame_\n",
    "\n",
    "We can also use an external DataFrame to filter our data in two ways:\n",
    "\n",
    "- Filter using its index values.\n",
    "\n",
    "- Filter using values ​​from specific columns."
   ]
  },
  {
   "cell_type": "code",
   "execution_count": 45,
   "id": "7336ed9d",
   "metadata": {},
   "outputs": [
    {
     "name": "stdout",
     "output_type": "stream",
     "text": [
      "           state                  flower\n",
      "state 1  Alabama                Camellia\n",
      "state 3  Arizona  Saguaro cactus blossom\n"
     ]
    }
   ],
   "source": [
    "import pandas as pd\n",
    "\n",
    "# Main DataFrame\n",
    "df_main = pd.DataFrame({\n",
    "    'state': ['Alabama', 'Alaska', 'Arizona', 'Arkansas', 'California'],\n",
    "    'flower': ['Camellia', 'Forget-me-not', 'Saguaro cactus blossom', 'Apple blossom', 'California poppy']\n",
    "}, index=['state 1', 'state 2', 'state 3', 'state 4', 'state 5'])\n",
    "\n",
    "# External DataFrame with specific index values\n",
    "df_external = pd.DataFrame({\n",
    "    'info': ['extra1', 'extra2']\n",
    "}, index=['state 1', 'state 3'])\n",
    "\n",
    "# Filter `df_main` using the index of `df_external`\n",
    "filtered_df = df_main.loc[df_external.index]\n",
    "\n",
    "print(filtered_df)"
   ]
  },
  {
   "cell_type": "code",
   "execution_count": 47,
   "id": "9d4fe6de",
   "metadata": {},
   "outputs": [
    {
     "name": "stdout",
     "output_type": "stream",
     "text": [
      "           state                  flower    index\n",
      "state 1  Alabama                Camellia  state 1\n",
      "state 3  Arizona  Saguaro cactus blossom  state 3\n"
     ]
    }
   ],
   "source": [
    "import pandas as pd\n",
    "\n",
    "# Main DataFrame\n",
    "df_main = pd.DataFrame({\n",
    "    'state': ['Alabama', 'Alaska', 'Arizona', 'Arkansas', 'California'],\n",
    "    'flower': ['Camellia', 'Forget-me-not', 'Saguaro cactus blossom', 'Apple blossom', 'California poppy']\n",
    "}, index=['state 1', 'state 2', 'state 3', 'state 4', 'state 5'])\n",
    "\n",
    "# External DataFrame with specific index values\n",
    "df_external = pd.DataFrame({\n",
    "    'info': ['extra1', 'extra2']\n",
    "}, index=['state 1', 'state 3'])\n",
    "\n",
    "# Filter `df_main` using the index of `df_external` with `.query()`\n",
    "df_main['index'] = df_main.index  # Add index as a column for querying\n",
    "filtered_df = df_main.query(\"index in @df_external.index\")\n",
    "\n",
    "print(filtered_df)"
   ]
  },
  {
   "cell_type": "code",
   "execution_count": 46,
   "id": "671c9ad2",
   "metadata": {},
   "outputs": [
    {
     "name": "stdout",
     "output_type": "stream",
     "text": [
      "     state                  flower\n",
      "0  Alabama                Camellia\n",
      "2  Arizona  Saguaro cactus blossom\n"
     ]
    }
   ],
   "source": [
    "import pandas as pd\n",
    "\n",
    "# Main DataFrame\n",
    "df_main = pd.DataFrame({\n",
    "    'state': ['Alabama', 'Alaska', 'Arizona', 'Arkansas', 'California'],\n",
    "    'flower': ['Camellia', 'Forget-me-not', 'Saguaro cactus blossom', 'Apple blossom', 'California poppy']\n",
    "})\n",
    "\n",
    "# External DataFrame with specific column values\n",
    "df_external = pd.DataFrame({\n",
    "    'state': ['Alabama', 'Arizona']\n",
    "})\n",
    "\n",
    "# Filter `df_main` using the 'state' column of `df_external`\n",
    "filtered_df = df_main[df_main['state'].isin(df_external['state'])]\n",
    "\n",
    "print(filtered_df)"
   ]
  },
  {
   "cell_type": "code",
   "execution_count": 48,
   "id": "1be05e37",
   "metadata": {},
   "outputs": [
    {
     "name": "stdout",
     "output_type": "stream",
     "text": [
      "     state                  flower\n",
      "0  Alabama                Camellia\n",
      "2  Arizona  Saguaro cactus blossom\n"
     ]
    }
   ],
   "source": [
    "import pandas as pd\n",
    "\n",
    "# Main DataFrame\n",
    "df_main = pd.DataFrame({\n",
    "    'state': ['Alabama', 'Alaska', 'Arizona', 'Arkansas', 'California'],\n",
    "    'flower': ['Camellia', 'Forget-me-not', 'Saguaro cactus blossom', 'Apple blossom', 'California poppy']\n",
    "})\n",
    "\n",
    "# External DataFrame with specific column values\n",
    "df_external = pd.DataFrame({\n",
    "    'state': ['Alabama', 'Arizona']\n",
    "})\n",
    "\n",
    "# Filter `df_main` using the 'state' column of `df_external` with `.query()`\n",
    "filtered_df = df_main.query(\"state in @df_external['state']\")\n",
    "\n",
    "print(filtered_df)"
   ]
  },
  {
   "cell_type": "code",
   "execution_count": 50,
   "id": "0742c10b",
   "metadata": {},
   "outputs": [
    {
     "name": "stdout",
     "output_type": "stream",
     "text": [
      "   a  b  c\n",
      "0  2  5  X\n",
      "1  3  4  Y\n"
     ]
    }
   ],
   "source": [
    "import pandas as pd\n",
    "\n",
    "df = pd.DataFrame(\n",
    "    {\n",
    "        'a': [2, 3, 10, 11, 12],\n",
    "        'b': [5, 4, 3, 2, 1],\n",
    "        'c': ['X', 'Y', 'Y', 'Y', 'Z'],\n",
    "    }\n",
    ")\n",
    "our_df = pd.DataFrame(\n",
    "    {\n",
    "        'a1': [2, 4, 6],\n",
    "        'b1': [3, 2, 2],\n",
    "        'c1': ['A', 'B', 'C'],\n",
    "    },\n",
    "    index=['Z', 'X', 'P']\n",
    ")\n",
    "\n",
    "print(df.query(\"a in @our_df.b1\"))"
   ]
  },
  {
   "cell_type": "markdown",
   "id": "56d4c9f6",
   "metadata": {},
   "source": [
    "##### __.where()__\n",
    "\n",
    "The where() method replaces the values of the rows where the condition evaluates to False.\n",
    "\n",
    "The where() method is the opposite of the The mask() method.\n",
    "\n",
    "_dataframe.where(cond, other, inplace, axis, level, errors, try_cast)_\n",
    "\n",
    "_other_\tString Number Series DataFrame\tOptional. A set of values to replace the rows that evaluates to False with\n",
    "\n",
    "_inplace_\tTrue False\tOptional, default False. Specifies whether to perform the operation on the original DataFrame or not, if not, which is default, this method returns a new DataFrame\n",
    "\n",
    "_axis_\tNumber None\tOptional, default None. Specifies the alignment axis\n",
    "\n",
    "_level_\tNumber None\tOptional, default None. Specifies the alignment level\n",
    "\n",
    "_errors_\t'raise' 'ignore'\tOptional, default 'raise'. Specifies what to do with exceptions\n",
    "\n",
    "_try_cast_\tTrue False\tOptional, default False. Specifies whether to try to cast the result back to the input type or not"
   ]
  },
  {
   "cell_type": "code",
   "execution_count": 15,
   "id": "39696b07",
   "metadata": {},
   "outputs": [
    {
     "name": "stdout",
     "output_type": "stream",
     "text": [
      "       A      B\n",
      "0  False  False\n",
      "1  False  False\n",
      "2   True  False\n",
      "3   True  False\n",
      "\n",
      "      A   B\n",
      "0   NaN NaN\n",
      "1   NaN NaN\n",
      "2  15.0 NaN\n",
      "3  20.0 NaN\n",
      "\n",
      "      A    B\n",
      "0   NaN  NaN\n",
      "1   NaN  NaN\n",
      "2  15.0  3.0\n",
      "3  20.0  4.0\n",
      "\n",
      "    A  B\n",
      "0   0  0\n",
      "1   0  0\n",
      "2  15  3\n",
      "3  20  4\n",
      "\n",
      "    A  B\n",
      "0   5  1\n",
      "1  10  2\n",
      "2  15  3\n",
      "3  20  4\n"
     ]
    }
   ],
   "source": [
    "import pandas as pd\n",
    "\n",
    "df = pd.DataFrame({\n",
    "    'A': [5, 10, 15, 20],\n",
    "    'B': [1, 2, 3, 4]\n",
    "})\n",
    "\n",
    "\n",
    "print(df > 10)\n",
    "print()\n",
    "print(df[df > 10]) # deletes the rows that do not meet the condition\n",
    "print()\n",
    "print(df.where(df['A'] > 10)) # keeps the rows that do not meet the condition but replaces them with NaN\n",
    "print()\n",
    "print(df.where(df['A'] > 10, other=0))\n",
    "print()\n",
    "print(df)"
   ]
  },
  {
   "cell_type": "code",
   "execution_count": 25,
   "id": "c5874669",
   "metadata": {},
   "outputs": [
    {
     "name": "stdout",
     "output_type": "stream",
     "text": [
      "                       name                       platform\n",
      "0                Wii Sports                            Wii\n",
      "1         Super Mario Bros.  Nintendo Entertainment System\n",
      "2            Mario Kart Wii                            Wii\n",
      "3         Wii Sports Resort                            Wii\n",
      "4  Pokemon Red/Pokemon Blue                             GB\n"
     ]
    }
   ],
   "source": [
    "import pandas as pd\n",
    "\n",
    "df = pd.read_csv('DataSets/vg_sales.csv')\n",
    "\n",
    "df['platform'] = df['platform'].where(df['platform'] != 'NES', 'Nintendo Entertainment System') # Replaces 'NES' with 'Nintendo Entertainment System'\n",
    "print(df.iloc[:, :2].head())"
   ]
  },
  {
   "cell_type": "code",
   "execution_count": null,
   "id": "fa9a37d9",
   "metadata": {},
   "outputs": [
    {
     "name": "stdout",
     "output_type": "stream",
     "text": [
      "                                name  na_sales  eu_sales\n",
      "0                         Wii Sports     41.36     28.96\n",
      "1                  Super Mario Bros.     29.08      3.58\n",
      "2                     Mario Kart Wii     15.68     12.76\n",
      "3                  Wii Sports Resort     15.61     10.93\n",
      "4           Pokemon Red/Pokemon Blue     11.27      8.89\n",
      "...                              ...       ...       ...\n",
      "16712  Samurai Warriors: Sanada Maru      0.00      0.00\n",
      "16713               LMA Manager 2007      0.00      0.01\n",
      "16714        Haitaka no Psychedelica      0.00      0.00\n",
      "16715               Spirits & Spells      0.01      0.00\n",
      "16716            Winning Post 8 2016      0.00      0.00\n",
      "\n",
      "[16717 rows x 3 columns]\n",
      "\n",
      "                                name  na_sales  eu_sales\n",
      "0                         Wii Sports     41.36     28.96\n",
      "1                  Super Mario Bros.     29.08      3.58\n",
      "2                     Mario Kart Wii     15.68     12.76\n",
      "3                  Wii Sports Resort     15.61     10.93\n",
      "4           Pokemon Red/Pokemon Blue     11.27      8.89\n",
      "...                              ...       ...       ...\n",
      "16712  Samurai Warriors: Sanada Maru       NaN       NaN\n",
      "16713               LMA Manager 2007      0.00      0.01\n",
      "16714        Haitaka no Psychedelica       NaN       NaN\n",
      "16715               Spirits & Spells      0.01      0.00\n",
      "16716            Winning Post 8 2016       NaN       NaN\n",
      "\n",
      "[16717 rows x 3 columns]\n",
      "\n",
      "                                name  na_sales  eu_sales\n",
      "0                         Wii Sports     41.36     28.96\n",
      "1                  Super Mario Bros.     29.08      3.58\n",
      "2                     Mario Kart Wii     15.68     12.76\n",
      "3                  Wii Sports Resort     15.61     10.93\n",
      "4           Pokemon Red/Pokemon Blue     11.27      8.89\n",
      "...                              ...       ...       ...\n",
      "16712  Samurai Warriors: Sanada Maru       NaN       NaN\n",
      "16713               LMA Manager 2007      0.00      0.01\n",
      "16714        Haitaka no Psychedelica       NaN       NaN\n",
      "16715               Spirits & Spells      0.01      0.00\n",
      "16716            Winning Post 8 2016       NaN       NaN\n",
      "\n",
      "[16717 rows x 3 columns]\n"
     ]
    }
   ],
   "source": [
    "import pandas as pd\n",
    "\n",
    "df = pd.read_csv('DataSets/vg_sales.csv')\n",
    "\n",
    "print(df[[\"name\", \"na_sales\", \"eu_sales\"]])\n",
    "print()\n",
    "\n",
    "df[['na_sales', 'eu_sales']] = df[['na_sales', 'eu_sales']].where((df['na_sales'] > 0) | (df['eu_sales'] > 0), None)\n",
    "print(df[['name', 'na_sales', 'eu_sales']])\n",
    "print()\n"
   ]
  }
 ],
 "metadata": {
  "kernelspec": {
   "display_name": "Python-Github_VENV-XjlEX2HA",
   "language": "python",
   "name": "python3"
  },
  "language_info": {
   "codemirror_mode": {
    "name": "ipython",
    "version": 3
   },
   "file_extension": ".py",
   "mimetype": "text/x-python",
   "name": "python",
   "nbconvert_exporter": "python",
   "pygments_lexer": "ipython3",
   "version": "3.13.2"
  }
 },
 "nbformat": 4,
 "nbformat_minor": 5
}
