{
 "cells": [
  {
   "cell_type": "markdown",
   "id": "b982344c",
   "metadata": {},
   "source": [
    "### __Python Datawrangling Data Ordering__"
   ]
  },
  {
   "cell_type": "markdown",
   "id": "3fc19bd6",
   "metadata": {},
   "source": [
    "##### __.sort_values()__\n",
    "\n",
    "The sort_values() method sorts the DataFrame by the specified label.\n",
    "\n",
    "_dataframe.sort_values(by, axis, ascending, inplace, kind, na_position, ignore_index, key)_\n",
    "\n",
    "_by_\tString List of strings\tRequired. Specify labels to sort by. Either index level(s) or column label(s). Or, if the axis is 1 or 'columns' this values specify column level(s) or index label(s)\n",
    "\n",
    "_axis_\t0 1 'index' 'columns'\tOptional. Default 0. Specifies the axis to sort by\n",
    "\n",
    "_ascending_\tTrue False\tOptional, default True. Specifies whether to sort ascending (0 -> 9) or descending (9 -> 0)\n",
    "\n",
    "_inplace_\tTrue False\tOptional, default False. Specifies whether to perform the operation on the original DataFrame or not, if not, which is default, this method returns a new DataFrame\n",
    "\n",
    "_kind_\t'quicksort' 'mergesort' 'heapsort'\tOptional, default 'quicksort'. Specifies the sorting algorithm\n",
    "\n",
    "_na_position_\t'first' 'last'\tOptional, default 'last'. Specifies how to handle NULL values. 'first' means put them first, 'last' means put them last.\n",
    "\n",
    "_ignore_index_\tTrue False\tOptional, default False. Specifies whether to ignore index or not. If True the original indexes are ignored, and replaced by 0, 1, 2 etc.\n",
    "\n",
    "_key_\tFunction\tOptional, specify a function to be executed before the sorting"
   ]
  },
  {
   "cell_type": "markdown",
   "id": "b6dac973",
   "metadata": {},
   "source": [
    "If you apply the _sort_values()_ method to a single column there will be no __by=__ parameter, since we only have one column."
   ]
  },
  {
   "cell_type": "code",
   "execution_count": 2,
   "id": "f291fec8",
   "metadata": {},
   "outputs": [
    {
     "name": "stdout",
     "output_type": "stream",
     "text": [
      "    num        name  Property      mass    radius  discovered\n",
      "8     8      55Cnce         8   0.02703   1.94544        2004\n",
      "9     9   BD+20594b         9   0.05130   2.22880        2016\n",
      "29   29   CoRoT-24b        29   0.01800   3.69600        2011\n",
      "27   27   CoRoT-22b        27   0.06000   4.87648        2011\n",
      "25   25   CoRoT-20b        25   4.24000   9.40800        2011\n",
      "17   17   CoRoT-13b        17   1.30800   9.91200        2010\n",
      "4     4  2M2140+16b         4  20.00000  10.30400        2010\n",
      "3     3  2M0746+20b         3  12.21000  10.86400        2010\n",
      "14   14   CoRoT-10b        14   2.75000  10.86400        2010\n",
      "1     1  2M0122-24b         1  20.00000  11.20000        2013\n",
      "\n",
      "8      1.94544\n",
      "9      2.22880\n",
      "29     3.69600\n",
      "27     4.87648\n",
      "25     9.40800\n",
      "17     9.91200\n",
      "4     10.30400\n",
      "3     10.86400\n",
      "14    10.86400\n",
      "1     11.20000\n",
      "Name: radius, dtype: float64\n"
     ]
    }
   ],
   "source": [
    "import pandas as pd\n",
    "\n",
    "df_exoplanets = pd.read_csv('DataSets/exoplanet.csv')\n",
    "\n",
    "print(df_exoplanets.sort_values(by='radius').head(10))\n",
    "print()\n",
    "\n",
    "print(df_exoplanets[\"radius\"].sort_values().head(10))"
   ]
  },
  {
   "cell_type": "code",
   "execution_count": 3,
   "id": "8fa684cf",
   "metadata": {},
   "outputs": [
    {
     "name": "stdout",
     "output_type": "stream",
     "text": [
      "    num        name  Property      mass    radius  discovered\n",
      "11   11      CTChab        11  17.00000  24.64000        2008\n",
      "12   12     CVSO30b        12   6.20000  21.39200        2012\n",
      "7     7      51Pegb         7   0.47000  21.28000        1995\n",
      "0     0   1RXS1609b         0  14.00000  19.04000        2008\n",
      "13   13    CoRoT-1b        13   1.03000  16.68800        2007\n",
      "24   24    CoRoT-2b        24   3.31000  16.40800        2007\n",
      "16   16   CoRoT-12b        16   0.91700  16.12800        2010\n",
      "2     2  2M0219-39b         2  13.90000  16.12800        2015\n",
      "15   15   CoRoT-11b        15   2.33000  16.01600        2010\n",
      "22   22   CoRoT-18b        22   3.47000  14.67200        2011\n",
      "5     5  2M2206-20b         5  30.00000  14.56000        2010\n",
      "26   26   CoRoT-21b        26   2.26000  14.56000        2011\n",
      "23   23   CoRoT-19b        23   1.11000  14.44800        2011\n",
      "20   20   CoRoT-16b        20   0.53500  13.10400        2010\n",
      "19   19   CoRoT-15b        19  63.40000  12.54400        2010\n",
      "6     6      51Erib         6   9.10000  12.43200        2015\n",
      "18   18   CoRoT-14b        18   7.60000  12.20800        2010\n",
      "28   28   CoRoT-23b        28   2.80000  12.09600        2011\n",
      "10   10  BD-103166b        10   0.46000  11.53600        2000\n",
      "21   21   CoRoT-17b        21   2.43000  11.42400        2010\n",
      "1     1  2M0122-24b         1  20.00000  11.20000        2013\n",
      "3     3  2M0746+20b         3  12.21000  10.86400        2010\n",
      "14   14   CoRoT-10b        14   2.75000  10.86400        2010\n",
      "4     4  2M2140+16b         4  20.00000  10.30400        2010\n",
      "17   17   CoRoT-13b        17   1.30800   9.91200        2010\n",
      "25   25   CoRoT-20b        25   4.24000   9.40800        2011\n",
      "27   27   CoRoT-22b        27   0.06000   4.87648        2011\n",
      "29   29   CoRoT-24b        29   0.01800   3.69600        2011\n",
      "9     9   BD+20594b         9   0.05130   2.22880        2016\n",
      "8     8      55Cnce         8   0.02703   1.94544        2004\n"
     ]
    }
   ],
   "source": [
    "print(df_exoplanets.sort_values(by=\"radius\", ascending=False))"
   ]
  },
  {
   "cell_type": "markdown",
   "id": "10ef1630",
   "metadata": {},
   "source": [
    "##### __Example 2__"
   ]
  },
  {
   "cell_type": "code",
   "execution_count": 4,
   "id": "319b2d69",
   "metadata": {},
   "outputs": [
    {
     "name": "stdout",
     "output_type": "stream",
     "text": [
      "  alphabet\n",
      "0        b\n",
      "1        a\n",
      "2        c\n",
      "\n",
      "  alphabet\n",
      "1        a\n",
      "0        b\n",
      "2        c\n"
     ]
    }
   ],
   "source": [
    "import pandas as pd\n",
    "\n",
    "df = pd.DataFrame(['b','a','c'], columns=['alphabet'])\n",
    "\n",
    "print(df)\n",
    "print()\n",
    "\n",
    "df = df.sort_values(by='alphabet')\n",
    "print(df)   "
   ]
  }
 ],
 "metadata": {
  "kernelspec": {
   "display_name": "Python-Github_VENV-XjlEX2HA",
   "language": "python",
   "name": "python3"
  },
  "language_info": {
   "codemirror_mode": {
    "name": "ipython",
    "version": 3
   },
   "file_extension": ".py",
   "mimetype": "text/x-python",
   "name": "python",
   "nbconvert_exporter": "python",
   "pygments_lexer": "ipython3",
   "version": "3.13.2"
  }
 },
 "nbformat": 4,
 "nbformat_minor": 5
}
