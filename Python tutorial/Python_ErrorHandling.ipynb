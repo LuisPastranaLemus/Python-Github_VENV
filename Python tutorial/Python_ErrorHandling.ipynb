{
 "cells": [
  {
   "cell_type": "markdown",
   "metadata": {},
   "source": [
    "### __Python Error Handling__"
   ]
  },
  {
   "cell_type": "markdown",
   "metadata": {},
   "source": [
    "try: En este bloque colocas el código que quieres ejecutar. Si todo va bien, el código dentro del bloque try se ejecuta sin problemas.\n",
    "\n",
    "except: Si ocurre un error dentro del bloque try, Python salta al bloque except, donde puedes manejar el error de una manera controlada. En el ejemplo anterior, si se intenta dividir por cero, Python lanzaría una excepción ZeroDivisionError, y el bloque except la captura para imprimir un mensaje en lugar de que el programa se detenga abruptamente.\n",
    "\n",
    "En este caso:\n",
    "\n",
    "Si el usuario ingresa algo que no se puede convertir a entero (por ejemplo, letras), se ejecuta el bloque except ValueError.\n",
    "\n",
    "Si el usuario ingresa 0, se ejecuta el bloque except ZeroDivisionError.\n",
    "\n",
    "Usar else y finally (opcional):\n",
    "\n",
    "else: Se ejecuta si no ocurrió ninguna excepción dentro del bloque try.\n",
    "\n",
    "finally: Se ejecuta siempre, sin importar si ocurrió una excepción o no."
   ]
  },
  {
   "cell_type": "code",
   "execution_count": 1,
   "metadata": {},
   "outputs": [
    {
     "name": "stdout",
     "output_type": "stream",
     "text": [
      "El resultado es: 3.3333333333333335\n",
      "Este bloque se ejecuta siempre.\n"
     ]
    }
   ],
   "source": [
    "try:\n",
    "    numero = int(input(\"Introduce un número: \"))\n",
    "    resultado = 10 / numero\n",
    "except ZeroDivisionError:\n",
    "    print(\"¡Error! No se puede dividir por cero.\")\n",
    "except ValueError:\n",
    "    print(\"¡Error! No ingresaste un número válido.\")\n",
    "else:\n",
    "    print(\"El resultado es:\", resultado)\n",
    "finally:\n",
    "    print(\"Este bloque se ejecuta siempre.\")"
   ]
  },
  {
   "cell_type": "markdown",
   "metadata": {},
   "source": [
    "Where ExceptionType must be a built-in or user-defined exception class — for example:\n",
    "\n",
    "_ZeroDivisionError_\n",
    "\n",
    "_ValueError_\n",
    "\n",
    "_TypeError_\n",
    "\n",
    "_FileNotFoundError_\n",
    "\n",
    "_KeyError_\n",
    "\n",
    "_IndexError_\n",
    "\n",
    "_Exception_ (base class for most exceptions)"
   ]
  },
  {
   "cell_type": "markdown",
   "metadata": {},
   "source": [
    "##### __How to Know Which Exception to Use?__\n",
    "\n",
    "You can find all built-in exceptions here (very useful list): https://docs.python.org/3/library/exceptions.html\n",
    "\n",
    "Or, if you're not sure what exception is being raised, you can use:"
   ]
  },
  {
   "cell_type": "code",
   "execution_count": 5,
   "metadata": {},
   "outputs": [
    {
     "name": "stdout",
     "output_type": "stream",
     "text": [
      "Error: TypeError\n",
      "\n",
      "Something else: can only concatenate str (not \"int\") to str\n",
      "\n",
      "Error name: ValueError\n",
      "Error message: invalid literal for int() with base 10: 'abc'\n"
     ]
    }
   ],
   "source": [
    "try:\n",
    "    something = \"text\" + 5\n",
    "except Exception as e:\n",
    "    print(\"Error:\", type(e).__name__)\n",
    "\n",
    "print()\n",
    "\n",
    "try:\n",
    "    \n",
    "    something = \"text\" + 5\n",
    "except Exception as e:\n",
    "    if type(e).__name__ == \"KeyError\":\n",
    "        print(\"Key not found.\")\n",
    "    else:\n",
    "        print(\"Something else:\", e)\n",
    "\n",
    "print()\n",
    "\n",
    "try:\n",
    "    x = int(\"abc\")\n",
    "except Exception as e:\n",
    "    print(\"Error name:\", type(e).__name__)\n",
    "    print(\"Error message:\", str(e))"
   ]
  },
  {
   "cell_type": "markdown",
   "metadata": {},
   "source": [
    "##### __Traceback Module for Full Stack Trace__"
   ]
  },
  {
   "cell_type": "code",
   "execution_count": 10,
   "metadata": {},
   "outputs": [
    {
     "name": "stdout",
     "output_type": "stream",
     "text": [
      "Full traceback:\n"
     ]
    },
    {
     "name": "stderr",
     "output_type": "stream",
     "text": [
      "Traceback (most recent call last):\n",
      "  File \"C:\\Users\\luisp\\AppData\\Local\\Temp\\ipykernel_1300\\836245727.py\", line 4, in <module>\n",
      "    result = 10 / 0\n",
      "             ~~~^~~\n",
      "ZeroDivisionError: division by zero\n"
     ]
    }
   ],
   "source": [
    "import traceback\n",
    "\n",
    "try:\n",
    "    result = 10 / 0\n",
    "except Exception as e:\n",
    "    print(\"Full traceback:\")\n",
    "    traceback.print_exc()"
   ]
  }
 ],
 "metadata": {
  "kernelspec": {
   "display_name": "Python-Github_VENV-XjlEX2HA",
   "language": "python",
   "name": "python3"
  },
  "language_info": {
   "codemirror_mode": {
    "name": "ipython",
    "version": 3
   },
   "file_extension": ".py",
   "mimetype": "text/x-python",
   "name": "python",
   "nbconvert_exporter": "python",
   "pygments_lexer": "ipython3",
   "version": "3.13.2"
  }
 },
 "nbformat": 4,
 "nbformat_minor": 2
}
