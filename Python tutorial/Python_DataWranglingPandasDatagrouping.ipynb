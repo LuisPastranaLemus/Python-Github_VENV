{
 "cells": [
  {
   "cell_type": "markdown",
   "id": "729d60e5",
   "metadata": {},
   "source": [
    "### __Python Datawrangling Data Grouping__\n",
    "\n",
    "Data Grouping has 3 phases:\n",
    "    \n",
    "    1. Divide, divide the data into groups according to a given criterion.\n",
    "    2. Apply, apply calculation methods to each group.\n",
    "    3. Combine, results are stored in a new data structure."
   ]
  },
  {
   "cell_type": "markdown",
   "id": "eaf59441",
   "metadata": {},
   "source": [
    "##### _.groupby()_\n",
    "\n",
    "The groupby() method allows you to group your data and execute functions on these groups.\n",
    "\n",
    "_dataframe.groupby(by, axis, level, as_index, sort, group_keys, observed, dropna)_\n",
    "\n",
    "_by_ \t     Required. A label, a list of labels, or a function used to specify how to group the DataFrame.\n",
    "\n",
    "_axis_\t0 1 'index' 'columns'\tOptional, Which axis to make the group by, default 0.\n",
    "\n",
    "_level_\tlevel None\tOptional. Specify if grouping should be done by a certain level. Default None\n",
    "\n",
    "_as_index_\tTrue False\tOptional, default True. Set to False if the result should NOT use the group labels as index\n",
    "\n",
    "_sort_\tTrue False\tOptional, default True. Set to False if the result should NOT sort the group keys (for better performance)\n",
    "\n",
    "_group_keys_\tTrue False\tOptional, default True. Set to False if the result should NOT add the group keys to index\n",
    "\n",
    "_dropna_\tTrue False\tOptional, default True. Set to False if the result should include the rows/columns where the group key is a NULL value"
   ]
  },
  {
   "cell_type": "markdown",
   "id": "2ee6001d",
   "metadata": {},
   "source": [
    "_df.groupby('column_to_group_by')['column_to_aggregate'].aggregation_function()_\n",
    "\n",
    "__Common Aggregation Functions__\n",
    "\n",
    "You can use:\n",
    "\n",
    ".sum() — total\n",
    "\n",
    ".mean() — average\n",
    "\n",
    ".count() — number of rows\n",
    "\n",
    ".max() / .min() — highest/lowest\n",
    "\n",
    ".median(), .std(), .nunique(), etc."
   ]
  },
  {
   "cell_type": "code",
   "execution_count": 1,
   "id": "2dde447d",
   "metadata": {},
   "outputs": [
    {
     "name": "stdout",
     "output_type": "stream",
     "text": [
      "  store     month  sales\n",
      "0     A   january    100\n",
      "1     A   january    200\n",
      "2     B   octuber     50\n",
      "3     B      june    300\n",
      "4     B  february    150\n",
      "5     C  december    400\n",
      "\n",
      "store\n",
      "A    300\n",
      "B    500\n",
      "C    400\n",
      "Name: sales, dtype: int64\n",
      "\n",
      "store  month   \n",
      "A      january     300\n",
      "B      february    150\n",
      "       june        300\n",
      "       octuber      50\n",
      "C      december    400\n",
      "Name: sales, dtype: int64\n",
      "\n",
      "       sum        mean  count\n",
      "store                        \n",
      "A      300  150.000000      2\n",
      "B      500  166.666667      3\n",
      "C      400  400.000000      1\n",
      "\n"
     ]
    },
    {
     "data": {
      "text/html": [
       "<div>\n",
       "<style scoped>\n",
       "    .dataframe tbody tr th:only-of-type {\n",
       "        vertical-align: middle;\n",
       "    }\n",
       "\n",
       "    .dataframe tbody tr th {\n",
       "        vertical-align: top;\n",
       "    }\n",
       "\n",
       "    .dataframe thead th {\n",
       "        text-align: right;\n",
       "    }\n",
       "</style>\n",
       "<table border=\"1\" class=\"dataframe\">\n",
       "  <thead>\n",
       "    <tr style=\"text-align: right;\">\n",
       "      <th></th>\n",
       "      <th>month</th>\n",
       "      <th>sales</th>\n",
       "    </tr>\n",
       "  </thead>\n",
       "  <tbody>\n",
       "    <tr>\n",
       "      <th>0</th>\n",
       "      <td>december</td>\n",
       "      <td>400.0</td>\n",
       "    </tr>\n",
       "    <tr>\n",
       "      <th>1</th>\n",
       "      <td>february</td>\n",
       "      <td>150.0</td>\n",
       "    </tr>\n",
       "    <tr>\n",
       "      <th>2</th>\n",
       "      <td>january</td>\n",
       "      <td>150.0</td>\n",
       "    </tr>\n",
       "    <tr>\n",
       "      <th>3</th>\n",
       "      <td>june</td>\n",
       "      <td>300.0</td>\n",
       "    </tr>\n",
       "    <tr>\n",
       "      <th>4</th>\n",
       "      <td>octuber</td>\n",
       "      <td>50.0</td>\n",
       "    </tr>\n",
       "  </tbody>\n",
       "</table>\n",
       "</div>"
      ],
      "text/plain": [
       "      month  sales\n",
       "0  december  400.0\n",
       "1  february  150.0\n",
       "2   january  150.0\n",
       "3      june  300.0\n",
       "4   octuber   50.0"
      ]
     },
     "execution_count": 1,
     "metadata": {},
     "output_type": "execute_result"
    }
   ],
   "source": [
    "import pandas as pd\n",
    "\n",
    "data = {\n",
    "    'store': ['A', 'A', 'B', 'B', 'B', 'C'],\n",
    "    'month': ['january', 'january', 'octuber', 'june', 'february', 'december'],\n",
    "    'sales': [100, 200, 50, 300, 150, 400]\n",
    "}\n",
    "\n",
    "df = pd.DataFrame(data)\n",
    "\n",
    "print(df)\n",
    "print()\n",
    "\n",
    "print(df.groupby('store')['sales'].sum())\n",
    "print()\n",
    "print(df.groupby(['store', 'month'])['sales'].sum())\n",
    "print()\n",
    "print(df.groupby('store')['sales'].agg(['sum', 'mean', 'count']))\n",
    "print()\n",
    "df.groupby(\"month\", as_index=False)[\"sales\"].mean()"
   ]
  },
  {
   "cell_type": "code",
   "execution_count": 3,
   "id": "2e476771",
   "metadata": {},
   "outputs": [
    {
     "name": "stdout",
     "output_type": "stream",
     "text": [
      "         co2   model\n",
      "car                 \n",
      "Ford   100.5  Fiesta\n",
      "Skoda   97.0  Citigo\n"
     ]
    }
   ],
   "source": [
    "data = {\n",
    "  'co2': [95, 90, 99, 104, 105, 94, 99, 104],\n",
    "  'model': ['Citigo', 'Fabia', 'Fiesta', 'Rapid', 'Focus', 'Mondeo', 'Octavia', 'B-Max'],\n",
    "  'car': ['Skoda', 'Skoda', 'Ford', 'Skoda', 'Ford', 'Ford', 'Skoda', 'Ford']\n",
    "}\n",
    "\n",
    "df = pd.DataFrame(data)\n",
    "\n",
    "result = df.groupby([\"car\"]).agg({\n",
    "    'co2': 'mean',  # Calculate mean for 'co2'\n",
    "    'model': 'first'  # Take the first value for 'model'\n",
    "})\n",
    "\n",
    "print(result)"
   ]
  },
  {
   "cell_type": "markdown",
   "id": "26e78222",
   "metadata": {},
   "source": [
    "##### __Example 1__"
   ]
  },
  {
   "cell_type": "markdown",
   "id": "d2c7da60",
   "metadata": {},
   "source": [
    "For Exoplantes, get the count of each discovered group according to their radius"
   ]
  },
  {
   "cell_type": "code",
   "execution_count": 17,
   "id": "6631f5a2",
   "metadata": {},
   "outputs": [
    {
     "name": "stdout",
     "output_type": "stream",
     "text": [
      "    num        name  Property      mass    radius  discovered\n",
      "0     0   1RXS1609b         0  14.00000  19.04000        2008\n",
      "1     1  2M0122-24b         1  20.00000  11.20000        2013\n",
      "2     2  2M0219-39b         2  13.90000  16.12800        2015\n",
      "3     3  2M0746+20b         3  12.21000  10.86400        2010\n",
      "4     4  2M2140+16b         4  20.00000  10.30400        2010\n",
      "5     5  2M2206-20b         5  30.00000  14.56000        2010\n",
      "6     6      51Erib         6   9.10000  12.43200        2015\n",
      "7     7      51Pegb         7   0.47000  21.28000        1995\n",
      "8     8      55Cnce         8   0.02703   1.94544        2004\n",
      "9     9   BD+20594b         9   0.05130   2.22880        2016\n",
      "10   10  BD-103166b        10   0.46000  11.53600        2000\n",
      "11   11      CTChab        11  17.00000  24.64000        2008\n",
      "12   12     CVSO30b        12   6.20000  21.39200        2012\n",
      "13   13    CoRoT-1b        13   1.03000  16.68800        2007\n",
      "14   14   CoRoT-10b        14   2.75000  10.86400        2010\n",
      "15   15   CoRoT-11b        15   2.33000  16.01600        2010\n",
      "16   16   CoRoT-12b        16   0.91700  16.12800        2010\n",
      "17   17   CoRoT-13b        17   1.30800   9.91200        2010\n",
      "18   18   CoRoT-14b        18   7.60000  12.20800        2010\n",
      "19   19   CoRoT-15b        19  63.40000  12.54400        2010\n",
      "20   20   CoRoT-16b        20   0.53500  13.10400        2010\n",
      "21   21   CoRoT-17b        21   2.43000  11.42400        2010\n",
      "22   22   CoRoT-18b        22   3.47000  14.67200        2011\n",
      "23   23   CoRoT-19b        23   1.11000  14.44800        2011\n",
      "24   24    CoRoT-2b        24   3.31000  16.40800        2007\n",
      "25   25   CoRoT-20b        25   4.24000   9.40800        2011\n",
      "26   26   CoRoT-21b        26   2.26000  14.56000        2011\n",
      "27   27   CoRoT-22b        27   0.06000   4.87648        2011\n",
      "28   28   CoRoT-23b        28   2.80000  12.09600        2011\n",
      "29   29   CoRoT-24b        29   0.01800   3.69600        2011\n",
      "\n",
      "<pandas.core.groupby.generic.DataFrameGroupBy object at 0x000002051541FAD0>\n",
      "\n",
      "discovered\n",
      "1995     1\n",
      "2000     1\n",
      "2004     1\n",
      "2007     2\n",
      "2008     2\n",
      "2010    11\n",
      "2011     7\n",
      "2012     1\n",
      "2013     1\n",
      "2015     2\n",
      "2016     1\n",
      "Name: radius, dtype: int64\n"
     ]
    }
   ],
   "source": [
    "import pandas as pd\n",
    "\n",
    "df_exoplanets = pd.read_csv('DataSets/exoplanet.csv')\n",
    "\n",
    "print(df_exoplanets)\n",
    "print()\n",
    "\n",
    "print(df_exoplanets.groupby(by='discovered')) # print(exoplanet.groupby('discovered'))\n",
    "print() \n",
    "\n",
    "df_exo_number = df_exoplanets.groupby(by='discovered')[\"radius\"].count() # df_exonumber = exoplanet.groupby('discovered').count())\n",
    "print(df_exo_number) "
   ]
  },
  {
   "cell_type": "markdown",
   "id": "b78ebdaf",
   "metadata": {},
   "source": [
    "For Exoplantes, get the sum of each discovered group according to their radius"
   ]
  },
  {
   "cell_type": "code",
   "execution_count": 18,
   "id": "55016d1a",
   "metadata": {},
   "outputs": [
    {
     "name": "stdout",
     "output_type": "stream",
     "text": [
      "discovered\n",
      "1995     21.28000\n",
      "2000     11.53600\n",
      "2004      1.94544\n",
      "2007     33.09600\n",
      "2008     43.68000\n",
      "2010    137.92800\n",
      "2011     73.75648\n",
      "2012     21.39200\n",
      "2013     11.20000\n",
      "2015     28.56000\n",
      "2016      2.22880\n",
      "Name: radius, dtype: float64\n"
     ]
    }
   ],
   "source": [
    "df_exo_radius_sum = df_exoplanets.groupby('discovered')['radius'].sum()\n",
    "print(df_exo_radius_sum)"
   ]
  },
  {
   "cell_type": "code",
   "execution_count": 19,
   "id": "46590473",
   "metadata": {},
   "outputs": [
    {
     "name": "stdout",
     "output_type": "stream",
     "text": [
      "discovered\n",
      "1995    21.280000\n",
      "2000    11.536000\n",
      "2004     1.945440\n",
      "2007    16.548000\n",
      "2008    21.840000\n",
      "2010    12.538909\n",
      "2011    10.536640\n",
      "2012    21.392000\n",
      "2013    11.200000\n",
      "2015    14.280000\n",
      "2016     2.228800\n",
      "Name: radius, dtype: float64\n"
     ]
    }
   ],
   "source": [
    "df_exo_radius_mean = df_exo_radius_sum / df_exo_number \n",
    "print(df_exo_radius_mean)"
   ]
  },
  {
   "cell_type": "markdown",
   "id": "4d623323",
   "metadata": {},
   "source": [
    "##### __Example 2__"
   ]
  },
  {
   "cell_type": "markdown",
   "id": "bf344ff2",
   "metadata": {},
   "source": [
    "You must group Digimon by their evolution level (Stage), and then apply different aggregation methods to this grouping to obtain the following information:\n",
    "\n",
    "- The total number of Digimon by level (Stage).\n",
    "\n",
    "- The sum of the health values ​​(LV 50 HP) by level.\n",
    "\n",
    "- The average speed values ​​(LV 50 Spd) by level."
   ]
  },
  {
   "cell_type": "code",
   "execution_count": 21,
   "id": "3d35aa37",
   "metadata": {},
   "outputs": [
    {
     "name": "stdout",
     "output_type": "stream",
     "text": [
      "Distribución de los Digimons \n",
      " Stage\n",
      "Armor           3\n",
      "Baby            5\n",
      "Champion       54\n",
      "In-Training    11\n",
      "Mega           74\n",
      "Rookie         38\n",
      "Ultimate       58\n",
      "Ultra           6\n",
      "Name: Digimon, dtype: int64 \n",
      "\n",
      "Total de Salud \n",
      " Stage\n",
      "Armor            3510\n",
      "Baby             3640\n",
      "Champion        58700\n",
      "In-Training      9290\n",
      "Mega           107700\n",
      "Rookie          34980\n",
      "Ultimate        74640\n",
      "Ultra            9050\n",
      "Name: Lv 50 HP, dtype: int64 \n",
      "\n",
      "Promedio Nivel de Velocidad \n",
      " Stage\n",
      "Armor          128.666667\n",
      "Baby            77.000000\n",
      "Champion       103.259259\n",
      "In-Training     81.181818\n",
      "Mega           152.486486\n",
      "Rookie          90.236842\n",
      "Ultimate       122.586207\n",
      "Ultra          152.833333\n",
      "Name: Lv50 Spd, dtype: float64\n"
     ]
    }
   ],
   "source": [
    "import pandas as pd\n",
    "\n",
    "# Cargar el archivo CSV\n",
    "digimon_data = pd.read_csv('DataSets/DigiDB_digimonlist.csv')\n",
    "\n",
    "\n",
    "grouped_stage_count =  digimon_data.groupby(\"Stage\")[\"Digimon\"].count()\n",
    "grouped_stage_sum =  digimon_data.groupby(\"Stage\")[\"Lv 50 HP\"].sum()\n",
    "grouped_stage_mean =  digimon_data.groupby(\"Stage\")[\"Lv50 Spd\"].mean()\n",
    "\n",
    "\n",
    "print('Distribución de los Digimons', '\\n',grouped_stage_count,'\\n')\n",
    "print('Total de Salud', '\\n',grouped_stage_sum, '\\n',)\n",
    "print('Promedio Nivel de Velocidad', '\\n',grouped_stage_mean)"
   ]
  }
 ],
 "metadata": {
  "kernelspec": {
   "display_name": "Python-Github_VENV-XjlEX2HA",
   "language": "python",
   "name": "python3"
  },
  "language_info": {
   "codemirror_mode": {
    "name": "ipython",
    "version": 3
   },
   "file_extension": ".py",
   "mimetype": "text/x-python",
   "name": "python",
   "nbconvert_exporter": "python",
   "pygments_lexer": "ipython3",
   "version": "3.13.2"
  }
 },
 "nbformat": 4,
 "nbformat_minor": 5
}
