{
 "cells": [
  {
   "cell_type": "markdown",
   "id": "f71a87ec",
   "metadata": {},
   "source": [
    "### __Python_DataWranglingPandasPivotTables__\n",
    "\n",
    "Pandas also offers pivot tables as an alternative method for grouping and analyzing data.\n",
    "\n",
    "Pivot tables are a great tool for synthesizing data sets and exploring their different dimensions. They're very popular in spreadsheet applications like Excel, but creating them programmatically with pandas is even more impressive.\n",
    "\n",
    "Let's take another look at the video game sales data below:"
   ]
  },
  {
   "cell_type": "code",
   "execution_count": 2,
   "id": "7d51d84a",
   "metadata": {},
   "outputs": [
    {
     "name": "stdout",
     "output_type": "stream",
     "text": [
      "                       name platform  year_of_release         genre publisher  \\\n",
      "0                Wii Sports      Wii           2006.0        Sports  Nintendo   \n",
      "1         Super Mario Bros.      NES           1985.0      Platform  Nintendo   \n",
      "2            Mario Kart Wii      Wii           2008.0        Racing  Nintendo   \n",
      "3         Wii Sports Resort      Wii           2009.0        Sports  Nintendo   \n",
      "4  Pokemon Red/Pokemon Blue       GB           1996.0  Role-Playing  Nintendo   \n",
      "\n",
      "  developer  na_sales  eu_sales  jp_sales  critic_score user_score  \n",
      "0  Nintendo     41.36     28.96      3.77          76.0          8  \n",
      "1       NaN     29.08      3.58      6.81           NaN        NaN  \n",
      "2  Nintendo     15.68     12.76      3.79          82.0        8.3  \n",
      "3  Nintendo     15.61     10.93      3.28          80.0          8  \n",
      "4       NaN     11.27      8.89     10.22           NaN        NaN  \n"
     ]
    }
   ],
   "source": [
    "import pandas as pd\n",
    "\n",
    "df = pd.read_csv('DataSets/vg_sales.csv')\n",
    "print(df.head())"
   ]
  },
  {
   "cell_type": "markdown",
   "id": "67d10a6e",
   "metadata": {},
   "source": [
    "Let's say we want to determine the total sales in Europe for each genre on each platform. __Pivot tables__ offer a quick and convenient way to do this. First, let's examine the code and then comment it out. To simplify things, we'll delete rows with missing values."
   ]
  },
  {
   "cell_type": "code",
   "execution_count": 2,
   "id": "5576f9f8",
   "metadata": {},
   "outputs": [
    {
     "name": "stdout",
     "output_type": "stream",
     "text": [
      "platform       3DS    DC     DS    GBA    GC     PC     PS    PS2    PS3  \\\n",
      "genre                                                                      \n",
      "Action        8.50   NaN  13.98   9.13  6.48  15.32  21.61  64.09  94.27   \n",
      "Adventure     0.50  0.24   3.11   1.36  1.04   1.60   0.35   3.38   6.34   \n",
      "Fighting      0.84  0.00   0.28   0.90  2.79   0.11   5.83  16.07  13.69   \n",
      "Misc          1.21   NaN  25.46   2.86  2.15   1.19   1.73  14.57   8.24   \n",
      "Platform      8.41  0.00  14.17  12.57  5.62   0.33   6.09  17.13   7.26   \n",
      "Puzzle        1.05   NaN  19.86   1.98  0.76   0.13   0.10   1.57   0.04   \n",
      "Racing        4.45  0.00   8.49   4.03  2.32   2.59  14.46  38.73  28.12   \n",
      "Role-Playing  3.10  0.00   6.04   3.99  2.37  24.32   8.70  16.36  16.81   \n",
      "Shooter       0.27  0.00   0.44   0.69  2.79  18.28   2.34  31.91  65.43   \n",
      "Simulation    4.40  0.00  13.17   0.58  1.74  22.35   0.79  10.44   2.82   \n",
      "Sports        0.61  0.05   2.27   2.73  4.40   6.47   7.32  51.50  30.88   \n",
      "Strategy      0.20   NaN   1.30   0.75  0.48  14.81   0.11   2.30   1.04   \n",
      "\n",
      "platform        PS4    PSP   PSV    Wii  WiiU   X360     XB   XOne  \n",
      "genre                                                               \n",
      "Action        35.66  13.99  2.87  22.39  4.81  64.48  10.34  10.11  \n",
      "Adventure      1.55   0.85  0.56   2.49  0.05   3.50   0.51   0.76  \n",
      "Fighting       2.40   2.11  0.44   4.99  0.34   8.17   2.26   0.48  \n",
      "Misc           1.15   0.84  0.31  49.56  3.39  15.31   1.36   0.99  \n",
      "Platform       2.84   3.24  1.22  21.14  6.35   3.58   2.48   0.28  \n",
      "Puzzle         0.02   0.76  0.03   2.99  0.38   0.04   0.07    NaN  \n",
      "Racing         5.49   9.59  0.44  17.79  2.15  21.16   7.24   4.11  \n",
      "Role-Playing   8.01   3.47  1.06   1.88  0.42  17.32   2.83   2.75  \n",
      "Shooter       28.83   5.14  1.49   4.51  1.57  70.02  14.67  14.03  \n",
      "Simulation     0.47   1.96   NaN   6.27  0.04   3.58   1.42   0.08  \n",
      "Sports        25.81   7.72  0.43  74.20  0.68  25.93   9.79   8.65  \n",
      "Strategy       0.21   1.35   NaN   0.30  0.32   2.04   0.47   0.06  \n",
      "\n",
      "<class 'pandas.core.frame.DataFrame'>\n"
     ]
    }
   ],
   "source": [
    "import pandas as pd\n",
    "\n",
    "df = pd.read_csv('DataSets/vg_sales.csv')\n",
    "df.dropna(inplace=True)\n",
    "\n",
    "pivot_data = df.pivot_table(index='genre',\n",
    "                            columns='platform',\n",
    "                            values='eu_sales',\n",
    "                            aggfunc='sum'\n",
    "                           )\n",
    "print(pivot_data)\n",
    "print()\n",
    "print(type(pivot_data))"
   ]
  },
  {
   "cell_type": "markdown",
   "id": "fedc364b",
   "metadata": {},
   "source": [
    "We created a pivot table using the method named pivot_table() method. The parameters we used were:\n",
    "\n",
    "- index=: the column whose values ​​become indexes in the pivot table;\n",
    "\n",
    "- columns=: the column whose values ​​become columns in the pivot table;\n",
    "\n",
    "- values=: the column whose values ​​we want to aggregate in the pivot table;\n",
    "\n",
    "- aggfunc=: the aggregation function we want to apply to the values ​​in each group of rows and columns.\n",
    "\n",
    "Each cell in the pivot table above contains the total sales in Europe for each particular genre/platform combination. We also printed the data type of the pivot table to show that it's a Pandas DataFrame, which we're already very familiar with.\n",
    "\n",
    "Using a pivot table here is convenient because it allows us to easily exclude all the columns from df that we're not interested in for our analysis. It can also be easier to read than the equivalent output from groupby(), as you can see below."
   ]
  },
  {
   "cell_type": "code",
   "execution_count": 3,
   "id": "3ae13348",
   "metadata": {},
   "outputs": [
    {
     "name": "stdout",
     "output_type": "stream",
     "text": [
      "genre     platform\n",
      "Action    3DS         0.146552\n",
      "          DS          0.103556\n",
      "          GBA         0.090396\n",
      "          GC          0.076235\n",
      "          PC          0.113481\n",
      "                        ...   \n",
      "Strategy  Wii         0.037500\n",
      "          WiiU        0.320000\n",
      "          X360        0.107368\n",
      "          XB          0.027647\n",
      "          XOne        0.030000\n",
      "Name: eu_sales, Length: 197, dtype: float64\n",
      "\n",
      "<class 'pandas.core.series.Series'>\n"
     ]
    }
   ],
   "source": [
    "groupby_data = df.groupby(['genre', 'platform'])['eu_sales'].mean()\n",
    "print(groupby_data)\n",
    "print()\n",
    "print(type(groupby_data))"
   ]
  },
  {
   "cell_type": "markdown",
   "id": "56b9c2ea",
   "metadata": {},
   "source": [
    "A very different format, right? Also note that the result of __groupby() returns a Series object__, while __pivot_table() returns a DataFrame__. Whether you choose to use groupby() or pivot_table() depends on your personal preferences, and over time, you'll develop an intuition about which tool is best for the task at hand."
   ]
  },
  {
   "cell_type": "markdown",
   "id": "9cd4b46e",
   "metadata": {},
   "source": [
    "##### __Excercise 01__\n",
    "\n",
    "We've filtered the video game dataset to only contain games released in 2000 or later. Create a pivot table from the filtered dataset containing the average value for sales in Japan for each combination of genre and release year.\n",
    "\n",
    "- The genres will serve as indexes.\n",
    "\n",
    "- The pivot table columns will be the release years.\n",
    "\n",
    "- Use the corresponding column as the values ​​to be aggregated.\n",
    "\n",
    "- Use the appropriate aggregation function.\n",
    "\n",
    "- Assign the result to a variable named df_pivot and then display it."
   ]
  },
  {
   "cell_type": "code",
   "execution_count": 6,
   "id": "03a655cd",
   "metadata": {},
   "outputs": [
    {
     "name": "stdout",
     "output_type": "stream",
     "text": [
      "Index(['name', 'platform', 'year_of_release', 'genre', 'publisher',\n",
      "       'developer', 'na_sales', 'eu_sales', 'jp_sales', 'critic_score',\n",
      "       'user_score'],\n",
      "      dtype='object')\n",
      "\n",
      "year_of_release    2000.0    2001.0    2002.0    2003.0    2004.0    2005.0  \\\n",
      "genre                                                                         \n",
      "Action           0.085000  0.089403  0.040800  0.029097  0.038560  0.032917   \n",
      "Adventure        0.069375  0.050952  0.076905  0.035833  0.032368  0.017619   \n",
      "Fighting         0.105172  0.151667  0.058148  0.067045  0.034359  0.071395   \n",
      "Misc             0.138500  0.048462  0.064444  0.067547  0.028588  0.069217   \n",
      "Platform         0.106667  0.082326  0.058701  0.025517  0.092576  0.013494   \n",
      "Puzzle           0.081667  0.046667  0.008500  0.142500  0.102000  0.188182   \n",
      "Racing           0.026744  0.056338  0.001942  0.025963  0.028028  0.057500   \n",
      "Role-Playing     0.544828  0.232927  0.248000  0.200625  0.224833  0.129859   \n",
      "Shooter          0.010000  0.014722  0.012911  0.002877  0.007386  0.013750   \n",
      "Simulation       0.084667  0.134643  0.039474  0.041714  0.021481  0.237368   \n",
      "Sports           0.078519  0.040625  0.024947  0.032000  0.041698  0.029256   \n",
      "Strategy         0.222353  0.141000  0.109091  0.042162  0.063750  0.047586   \n",
      "\n",
      "year_of_release    2006.0    2007.0    2008.0    2009.0    2010.0    2011.0  \\\n",
      "genre                                                                         \n",
      "Action           0.031413  0.029190  0.027149  0.043971  0.037965  0.045462   \n",
      "Adventure        0.036901  0.042771  0.026145  0.023929  0.023529  0.035463   \n",
      "Fighting         0.051273  0.054600  0.109643  0.056981  0.038000  0.058800   \n",
      "Misc             0.145741  0.075894  0.034151  0.028155  0.033284  0.025902   \n",
      "Platform         0.170556  0.070952  0.038065  0.166897  0.118710  0.094595   \n",
      "Puzzle           0.079070  0.046364  0.014375  0.020886  0.011395  0.017907   \n",
      "Racing           0.011600  0.011190  0.051341  0.005952  0.018246  0.048308   \n",
      "Role-Playing     0.180273  0.120680  0.156339  0.165728  0.229806  0.151895   \n",
      "Shooter          0.027391  0.018000  0.009277  0.012444  0.026173  0.028617   \n",
      "Simulation       0.041754  0.033556  0.030756  0.007724  0.020494  0.021964   \n",
      "Sports           0.062971  0.057771  0.026850  0.053607  0.023763  0.025455   \n",
      "Strategy         0.012143  0.042836  0.034600  0.028438  0.038113  0.041304   \n",
      "\n",
      "year_of_release    2012.0    2013.0    2014.0    2015.0    2016.0  2017.0  \\\n",
      "genre                                                                       \n",
      "Action           0.046453  0.074218  0.034734  0.063162  0.039719   0.010   \n",
      "Adventure        0.042456  0.037000  0.018400  0.019259  0.021071     NaN   \n",
      "Fighting         0.061724  0.064000  0.210000  0.037619  0.046875     NaN   \n",
      "Misc             0.098919  0.085476  0.057619  0.055128  0.032500     NaN   \n",
      "Platform         0.349091  0.058333  0.127000  0.100769  0.007333     NaN   \n",
      "Puzzle           0.087273  0.083333  0.058571  0.086667  0.000000     NaN   \n",
      "Racing           0.006667  0.033750  0.054444  0.015556  0.000417     NaN   \n",
      "Role-Playing     0.184615  0.280000  0.199438  0.087179  0.122407   0.025   \n",
      "Shooter          0.054583  0.029492  0.022979  0.080294  0.022553     NaN   \n",
      "Simulation       0.327222  0.122778  0.034545  0.106667  0.018333     NaN   \n",
      "Sports           0.048148  0.040566  0.029815  0.012373  0.019167     NaN   \n",
      "Strategy         0.074000  0.043158  0.070000  0.010000  0.017692     NaN   \n",
      "\n",
      "year_of_release  2020.0  \n",
      "genre                    \n",
      "Action              NaN  \n",
      "Adventure           NaN  \n",
      "Fighting            NaN  \n",
      "Misc                NaN  \n",
      "Platform            NaN  \n",
      "Puzzle              NaN  \n",
      "Racing              NaN  \n",
      "Role-Playing        NaN  \n",
      "Shooter             NaN  \n",
      "Simulation          0.0  \n",
      "Sports              NaN  \n",
      "Strategy            NaN  \n"
     ]
    }
   ],
   "source": [
    "import pandas as pd\n",
    "\n",
    "df = pd.read_csv('DataSets/vg_sales.csv')\n",
    "df = df[df['year_of_release'] >= 2000]\n",
    "\n",
    "print(df.columns)\n",
    "print()\n",
    "\n",
    "df_pivot = df.pivot_table(index='genre',\n",
    "                            columns='year_of_release',\n",
    "                            values='jp_sales',\n",
    "                            aggfunc='mean'\n",
    "                           )\n",
    "\n",
    "print(df_pivot)"
   ]
  }
 ],
 "metadata": {
  "kernelspec": {
   "display_name": "Python-Github_VENV-XjlEX2HA",
   "language": "python",
   "name": "python3"
  },
  "language_info": {
   "codemirror_mode": {
    "name": "ipython",
    "version": 3
   },
   "file_extension": ".py",
   "mimetype": "text/x-python",
   "name": "python",
   "nbconvert_exporter": "python",
   "pygments_lexer": "ipython3",
   "version": "3.13.2"
  }
 },
 "nbformat": 4,
 "nbformat_minor": 5
}
