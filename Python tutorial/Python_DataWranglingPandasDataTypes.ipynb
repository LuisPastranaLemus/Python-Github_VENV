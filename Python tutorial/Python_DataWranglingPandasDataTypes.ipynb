{
 "cells": [
  {
   "cell_type": "markdown",
   "id": "2d2335b0",
   "metadata": {},
   "source": [
    "### __Pandas Data Wrangling Data Types__"
   ]
  },
  {
   "cell_type": "code",
   "execution_count": 7,
   "id": "f19f4ee9",
   "metadata": {},
   "outputs": [
    {
     "name": "stdout",
     "output_type": "stream",
     "text": [
      "DataFrame [R,C]: \n",
      "\n",
      " [RangeIndex(start=0, stop=50000, step=1), Index(['InvoiceNo', 'StockCode', 'Description', 'Quantity', 'InvoiceDate',\n",
      "       'UnitPrice', 'CustomerID', 'Country'],\n",
      "      dtype='object')]\n",
      "\n",
      "DataFrame information: \n",
      "\n",
      "\n",
      "<class 'pandas.core.frame.DataFrame'>\n",
      "RangeIndex: 50000 entries, 0 to 49999\n",
      "Data columns (total 8 columns):\n",
      " #   Column       Non-Null Count  Dtype  \n",
      "---  ------       --------------  -----  \n",
      " 0   InvoiceNo    50000 non-null  object \n",
      " 1   StockCode    50000 non-null  object \n",
      " 2   Description  49857 non-null  object \n",
      " 3   Quantity     50000 non-null  float64\n",
      " 4   InvoiceDate  50000 non-null  object \n",
      " 5   UnitPrice    50000 non-null  object \n",
      " 6   CustomerID   31599 non-null  float64\n",
      " 7   Country      50000 non-null  object \n",
      "dtypes: float64(2), object(6)\n",
      "memory usage: 3.1+ MB\n",
      "\n"
     ]
    },
    {
     "data": {
      "text/html": [
       "<div>\n",
       "<style scoped>\n",
       "    .dataframe tbody tr th:only-of-type {\n",
       "        vertical-align: middle;\n",
       "    }\n",
       "\n",
       "    .dataframe tbody tr th {\n",
       "        vertical-align: top;\n",
       "    }\n",
       "\n",
       "    .dataframe thead th {\n",
       "        text-align: right;\n",
       "    }\n",
       "</style>\n",
       "<table border=\"1\" class=\"dataframe\">\n",
       "  <thead>\n",
       "    <tr style=\"text-align: right;\">\n",
       "      <th></th>\n",
       "      <th>InvoiceNo</th>\n",
       "      <th>StockCode</th>\n",
       "      <th>Description</th>\n",
       "      <th>Quantity</th>\n",
       "      <th>InvoiceDate</th>\n",
       "      <th>UnitPrice</th>\n",
       "      <th>CustomerID</th>\n",
       "      <th>Country</th>\n",
       "    </tr>\n",
       "  </thead>\n",
       "  <tbody>\n",
       "    <tr>\n",
       "      <th>21526</th>\n",
       "      <td>538172</td>\n",
       "      <td>84558A</td>\n",
       "      <td>3D DOG PICTURE PLAYING CARDS</td>\n",
       "      <td>12.0</td>\n",
       "      <td>2010-12-10T09:33:00Z</td>\n",
       "      <td>2.95</td>\n",
       "      <td>15805.0</td>\n",
       "      <td>United Kingdom</td>\n",
       "    </tr>\n",
       "    <tr>\n",
       "      <th>45186</th>\n",
       "      <td>540352</td>\n",
       "      <td>22178</td>\n",
       "      <td>VICTORIAN GLASS HANGING T-LIGHT</td>\n",
       "      <td>2.0</td>\n",
       "      <td>2011-01-06T14:27:00Z</td>\n",
       "      <td>2.51</td>\n",
       "      <td>NaN</td>\n",
       "      <td>United Kingdom</td>\n",
       "    </tr>\n",
       "    <tr>\n",
       "      <th>14032</th>\n",
       "      <td>537634</td>\n",
       "      <td>22891</td>\n",
       "      <td>TEA FOR ONE POLKADOT</td>\n",
       "      <td>1.0</td>\n",
       "      <td>2010-12-07T15:15:00Z</td>\n",
       "      <td>4.25</td>\n",
       "      <td>16775.0</td>\n",
       "      <td>United Kingdom</td>\n",
       "    </tr>\n",
       "    <tr>\n",
       "      <th>2506</th>\n",
       "      <td>536634</td>\n",
       "      <td>22900</td>\n",
       "      <td>SET 2 TEA TOWELS I LOVE LONDON</td>\n",
       "      <td>1.0</td>\n",
       "      <td>2010-12-02T11:21:00Z</td>\n",
       "      <td>2.95</td>\n",
       "      <td>18041.0</td>\n",
       "      <td>United Kingdom</td>\n",
       "    </tr>\n",
       "    <tr>\n",
       "      <th>6145</th>\n",
       "      <td>536991</td>\n",
       "      <td>22337</td>\n",
       "      <td>ANGEL DECORATION PAINTED ZINC</td>\n",
       "      <td>4.0</td>\n",
       "      <td>2010-12-03T15:16:00Z</td>\n",
       "      <td>0.65</td>\n",
       "      <td>NaN</td>\n",
       "      <td>United Kingdom</td>\n",
       "    </tr>\n",
       "    <tr>\n",
       "      <th>39002</th>\n",
       "      <td>539718</td>\n",
       "      <td>22692</td>\n",
       "      <td>DOORMAT WELCOME TO OUR HOME</td>\n",
       "      <td>1.0</td>\n",
       "      <td>2010-12-21T13:06:00Z</td>\n",
       "      <td>14.43</td>\n",
       "      <td>NaN</td>\n",
       "      <td>United Kingdom</td>\n",
       "    </tr>\n",
       "    <tr>\n",
       "      <th>47</th>\n",
       "      <td>536522</td>\n",
       "      <td>22151</td>\n",
       "      <td>PLACE SETTING WHITE HEART</td>\n",
       "      <td>1.0</td>\n",
       "      <td>2010-12-01T12:49:00Z</td>\n",
       "      <td>0.42</td>\n",
       "      <td>15012.0</td>\n",
       "      <td>United Kingdom</td>\n",
       "    </tr>\n",
       "    <tr>\n",
       "      <th>36772</th>\n",
       "      <td>539478</td>\n",
       "      <td>84029G</td>\n",
       "      <td>KNITTED UNION FLAG HOT WATER BOTTLE</td>\n",
       "      <td>2.0</td>\n",
       "      <td>2010-12-19T15:07:00Z</td>\n",
       "      <td>3.75</td>\n",
       "      <td>17343.0</td>\n",
       "      <td>United Kingdom</td>\n",
       "    </tr>\n",
       "    <tr>\n",
       "      <th>2058</th>\n",
       "      <td>536594</td>\n",
       "      <td>21733</td>\n",
       "      <td>RED HANGING HEART T-LIGHT HOLDER</td>\n",
       "      <td>6.0</td>\n",
       "      <td>2010-12-01T17:22:00Z</td>\n",
       "      <td>2.95</td>\n",
       "      <td>15235.0</td>\n",
       "      <td>United Kingdom</td>\n",
       "    </tr>\n",
       "    <tr>\n",
       "      <th>46091</th>\n",
       "      <td>540373</td>\n",
       "      <td>22908</td>\n",
       "      <td>PACK OF 20 NAPKINS RED APPLES</td>\n",
       "      <td>3.0</td>\n",
       "      <td>2011-01-06T17:10:00Z</td>\n",
       "      <td>0.85</td>\n",
       "      <td>13280.0</td>\n",
       "      <td>United Kingdom</td>\n",
       "    </tr>\n",
       "  </tbody>\n",
       "</table>\n",
       "</div>"
      ],
      "text/plain": [
       "      InvoiceNo StockCode                          Description  Quantity  \\\n",
       "21526    538172    84558A         3D DOG PICTURE PLAYING CARDS      12.0   \n",
       "45186    540352     22178      VICTORIAN GLASS HANGING T-LIGHT       2.0   \n",
       "14032    537634     22891                 TEA FOR ONE POLKADOT       1.0   \n",
       "2506     536634     22900      SET 2 TEA TOWELS I LOVE LONDON        1.0   \n",
       "6145     536991     22337       ANGEL DECORATION PAINTED ZINC        4.0   \n",
       "39002    539718     22692          DOORMAT WELCOME TO OUR HOME       1.0   \n",
       "47       536522     22151            PLACE SETTING WHITE HEART       1.0   \n",
       "36772    539478    84029G  KNITTED UNION FLAG HOT WATER BOTTLE       2.0   \n",
       "2058     536594     21733     RED HANGING HEART T-LIGHT HOLDER       6.0   \n",
       "46091    540373     22908        PACK OF 20 NAPKINS RED APPLES       3.0   \n",
       "\n",
       "                InvoiceDate UnitPrice  CustomerID         Country  \n",
       "21526  2010-12-10T09:33:00Z      2.95     15805.0  United Kingdom  \n",
       "45186  2011-01-06T14:27:00Z      2.51         NaN  United Kingdom  \n",
       "14032  2010-12-07T15:15:00Z      4.25     16775.0  United Kingdom  \n",
       "2506   2010-12-02T11:21:00Z      2.95     18041.0  United Kingdom  \n",
       "6145   2010-12-03T15:16:00Z      0.65         NaN  United Kingdom  \n",
       "39002  2010-12-21T13:06:00Z     14.43         NaN  United Kingdom  \n",
       "47     2010-12-01T12:49:00Z      0.42     15012.0  United Kingdom  \n",
       "36772  2010-12-19T15:07:00Z      3.75     17343.0  United Kingdom  \n",
       "2058   2010-12-01T17:22:00Z      2.95     15235.0  United Kingdom  \n",
       "46091  2011-01-06T17:10:00Z      0.85     13280.0  United Kingdom  "
      ]
     },
     "execution_count": 7,
     "metadata": {},
     "output_type": "execute_result"
    }
   ],
   "source": [
    "import pandas as pd \n",
    "\n",
    "df = pd.read_csv('DataSets/OnlineRetail.csv')\n",
    "\n",
    "print(\"DataFrame [R,C]: \\n\\n\", df.axes)\n",
    "print()\n",
    "print(\"DataFrame information: \\n\\n\")\n",
    "df.info()\n",
    "print()\n",
    "df.sample(10, random_state=333)"
   ]
  },
  {
   "cell_type": "code",
   "execution_count": 9,
   "id": "3fa9ff72",
   "metadata": {},
   "outputs": [
    {
     "name": "stdout",
     "output_type": "stream",
     "text": [
      "10002 m\n"
     ]
    }
   ],
   "source": [
    "print(df[\"StockCode\"].min(), df[\"StockCode\"].max())"
   ]
  },
  {
   "cell_type": "markdown",
   "id": "f078f75e",
   "metadata": {},
   "source": [
    "##### _.astype()_\n",
    "\n",
    "The astype() method returns a new DataFrame where the data types has been changed to the specified type.\n",
    "\n",
    "You can cast the entire DataFrame to one specific data type, or you can use a Python Dictionary to specify a data type for each column, like this:\n",
    "\n",
    "{\n",
    " \n",
    "  'Duration': 'int64',\n",
    " \n",
    "  'Pulse'   : 'float',\n",
    " \n",
    "  'Calories': 'int64'\n",
    "\n",
    "}\n",
    "\n",
    "_dataframe.astype(dtype, copy, errors)_\n",
    "\n",
    "_dtype_\tdata type, or a dictionary with data types for each column: {'Duration': 'int64', 'Pulse'   : 'float', 'Calories': 'int64'} Required. Specifies the data type\n",
    "\n",
    "_copy_ \tTrue|False\tOptional. Default True. Specifies whether to return a copy (True), or to do the changes in the original DataFrame (False).\n",
    "\n",
    "_errors_ \t'raise'|'ignore'\tOptional. Default 'raise'. Specifies whether to ignore errors or raise an exception on error."
   ]
  },
  {
   "cell_type": "code",
   "execution_count": 11,
   "id": "1aa6fd4a",
   "metadata": {},
   "outputs": [
    {
     "name": "stdout",
     "output_type": "stream",
     "text": [
      "   col1  col2\n",
      "0   1.0     3\n",
      "1   2.0     4\n",
      "\n",
      "Output of df.info():\n",
      "<class 'pandas.core.frame.DataFrame'>\n",
      "RangeIndex: 2 entries, 0 to 1\n",
      "Data columns (total 2 columns):\n",
      " #   Column  Non-Null Count  Dtype  \n",
      "---  ------  --------------  -----  \n",
      " 0   col1    2 non-null      float64\n",
      " 1   col2    2 non-null      int64  \n",
      "dtypes: float64(1), int64(1)\n",
      "memory usage: 164.0 bytes\n"
     ]
    }
   ],
   "source": [
    "import pandas as pd\n",
    "\n",
    "d = {'col1': [1.0, 2.0], 'col2': [3, 4]}\n",
    "df = pd.DataFrame(data=d)\n",
    "\n",
    "print(df)\n",
    "print()\n",
    "print('Output of df.info():')\n",
    "df.info()"
   ]
  },
  {
   "cell_type": "code",
   "execution_count": 12,
   "id": "34e50f5d",
   "metadata": {},
   "outputs": [
    {
     "name": "stdout",
     "output_type": "stream",
     "text": [
      "  col1 col2\n",
      "0  1.0    3\n",
      "1  2.0    4\n",
      "\n",
      "<class 'pandas.core.frame.DataFrame'>\n",
      "RangeIndex: 2 entries, 0 to 1\n",
      "Data columns (total 2 columns):\n",
      " #   Column  Non-Null Count  Dtype \n",
      "---  ------  --------------  ----- \n",
      " 0   col1    2 non-null      object\n",
      " 1   col2    2 non-null      object\n",
      "dtypes: object(2)\n",
      "memory usage: 164.0+ bytes\n"
     ]
    }
   ],
   "source": [
    "df_str_dtype = df.astype('str')\n",
    "print(df_str_dtype)\n",
    "print()\n",
    "df_str_dtype.info()\n"
   ]
  },
  {
   "cell_type": "code",
   "execution_count": 16,
   "id": "bce97830",
   "metadata": {},
   "outputs": [
    {
     "name": "stdout",
     "output_type": "stream",
     "text": [
      "   col1  col2\n",
      "0     1     3\n",
      "1     2     4\n",
      "\n",
      "col1    int64\n",
      "col2    int64\n",
      "dtype: object\n"
     ]
    }
   ],
   "source": [
    "df['col1'] = df['col1'].astype('int')\n",
    "print(df)\n",
    "print()\n",
    "print(df.dtypes)"
   ]
  },
  {
   "cell_type": "markdown",
   "id": "2d21c198",
   "metadata": {},
   "source": [
    "##### __Unexpected problems while converting dtypes__\n",
    "\n",
    "Let's say you load a dataset and it looks like all the float values ​​in a column should actually be integers, but there are too many to parse manually. How do you know it's safe to convert from float to int or if you'll lose some information after doing so?"
   ]
  },
  {
   "cell_type": "code",
   "execution_count": 18,
   "id": "843b487b",
   "metadata": {},
   "outputs": [
    {
     "name": "stdout",
     "output_type": "stream",
     "text": [
      "   col1  col2\n",
      "0   1.0  5.00\n",
      "1   2.0  6.01\n",
      "2   3.0  7.00\n",
      "3   4.0  8.00\n"
     ]
    }
   ],
   "source": [
    "import pandas as pd\n",
    "\n",
    "d = {'col1': [1.0, 2.0, 3.0, 4.0], 'col2': [5.0, 6.01, 7.0, 8.0]}\n",
    "df = pd.DataFrame(d)\n",
    "\n",
    "print(df)"
   ]
  },
  {
   "cell_type": "markdown",
   "id": "3522c55f",
   "metadata": {},
   "source": [
    "\n",
    "If you're not careful, you'll run df.astype('int') (which changes 6.01 to 6) without realizing that you've just changed the values ​​in your dataset."
   ]
  },
  {
   "cell_type": "markdown",
   "id": "5fd1efcb",
   "metadata": {},
   "source": [
    "##### __Numpy library__\n",
    "\n",
    "NumPy is short for \"Numerical Python\".\n",
    "\n",
    "NumPy is a powerful Python library used for scientific computing. It introduces a new data structure called an array, which is similar to a list but has many advantages, including the ability to perform vectorized operations on entire arrays very quickly. NumPy also provides mathematical functions and tools useful for working with arrays, such as sorting, indexing, and streaming."
   ]
  },
  {
   "cell_type": "markdown",
   "id": "21028cd8",
   "metadata": {},
   "source": [
    "##### _.array_equal()_\n",
    "\n",
    "\n",
    "This function accepts two arrays and returns True if both have the same elements and the same shape, and False otherwise. Let's test it with 'col1':"
   ]
  },
  {
   "cell_type": "code",
   "execution_count": 22,
   "id": "bb009352",
   "metadata": {},
   "outputs": [
    {
     "name": "stdout",
     "output_type": "stream",
     "text": [
      "True\n",
      "False\n"
     ]
    }
   ],
   "source": [
    "import numpy as np\n",
    "import pandas as pd\n",
    "\n",
    "d = {'col1': [1.0, 2.0, 3.0, 4.0], 'col2': [5.0, 6.01, 7.0, 8.0]}\n",
    "df = pd.DataFrame(data=d)\n",
    "\n",
    "# comprueba si es seguro convertir 'col1'\n",
    "print(np.array_equal(df['col1'], df['col1'].astype('int')))\n",
    "print(np.array_equal(df['col2'], df['col2'].astype('int')))"
   ]
  },
  {
   "cell_type": "markdown",
   "id": "ab1f67b9",
   "metadata": {},
   "source": [
    "Now we know that we can't convert 'col2' from float to int without losing some of the data."
   ]
  },
  {
   "cell_type": "code",
   "execution_count": 23,
   "id": "d816b461",
   "metadata": {},
   "outputs": [
    {
     "name": "stdout",
     "output_type": "stream",
     "text": [
      "col1    object\n",
      "col2     int64\n",
      "dtype: object\n"
     ]
    }
   ],
   "source": [
    "import pandas as pd\n",
    "\n",
    "d = {'col1': ['1.0', '2.0'], 'col2': ['3', '4']}\n",
    "df = pd.DataFrame(data=d)\n",
    "\n",
    "# convertir col2 a int\n",
    "df['col2'] = df['col2'].astype('int')\n",
    "print(df.dtypes)"
   ]
  },
  {
   "cell_type": "code",
   "execution_count": 24,
   "id": "065e42d9",
   "metadata": {},
   "outputs": [
    {
     "ename": "ValueError",
     "evalue": "invalid literal for int() with base 10: '1.0'",
     "output_type": "error",
     "traceback": [
      "\u001b[31m---------------------------------------------------------------------------\u001b[39m",
      "\u001b[31mValueError\u001b[39m                                Traceback (most recent call last)",
      "\u001b[36mCell\u001b[39m\u001b[36m \u001b[39m\u001b[32mIn[24]\u001b[39m\u001b[32m, line 1\u001b[39m\n\u001b[32m----> \u001b[39m\u001b[32m1\u001b[39m df[\u001b[33m'\u001b[39m\u001b[33mcol1\u001b[39m\u001b[33m'\u001b[39m] = \u001b[43mdf\u001b[49m\u001b[43m[\u001b[49m\u001b[33;43m'\u001b[39;49m\u001b[33;43mcol1\u001b[39;49m\u001b[33;43m'\u001b[39;49m\u001b[43m]\u001b[49m\u001b[43m.\u001b[49m\u001b[43mastype\u001b[49m\u001b[43m(\u001b[49m\u001b[33;43m'\u001b[39;49m\u001b[33;43mint\u001b[39;49m\u001b[33;43m'\u001b[39;49m\u001b[43m)\u001b[49m\n",
      "\u001b[36mFile \u001b[39m\u001b[32mc:\\Users\\luisp\\.virtualenvs\\Python-Github_VENV-XjlEX2HA\\Lib\\site-packages\\pandas\\core\\generic.py:6643\u001b[39m, in \u001b[36mNDFrame.astype\u001b[39m\u001b[34m(self, dtype, copy, errors)\u001b[39m\n\u001b[32m   6637\u001b[39m     results = [\n\u001b[32m   6638\u001b[39m         ser.astype(dtype, copy=copy, errors=errors) \u001b[38;5;28;01mfor\u001b[39;00m _, ser \u001b[38;5;129;01min\u001b[39;00m \u001b[38;5;28mself\u001b[39m.items()\n\u001b[32m   6639\u001b[39m     ]\n\u001b[32m   6641\u001b[39m \u001b[38;5;28;01melse\u001b[39;00m:\n\u001b[32m   6642\u001b[39m     \u001b[38;5;66;03m# else, only a single dtype is given\u001b[39;00m\n\u001b[32m-> \u001b[39m\u001b[32m6643\u001b[39m     new_data = \u001b[38;5;28;43mself\u001b[39;49m\u001b[43m.\u001b[49m\u001b[43m_mgr\u001b[49m\u001b[43m.\u001b[49m\u001b[43mastype\u001b[49m\u001b[43m(\u001b[49m\u001b[43mdtype\u001b[49m\u001b[43m=\u001b[49m\u001b[43mdtype\u001b[49m\u001b[43m,\u001b[49m\u001b[43m \u001b[49m\u001b[43mcopy\u001b[49m\u001b[43m=\u001b[49m\u001b[43mcopy\u001b[49m\u001b[43m,\u001b[49m\u001b[43m \u001b[49m\u001b[43merrors\u001b[49m\u001b[43m=\u001b[49m\u001b[43merrors\u001b[49m\u001b[43m)\u001b[49m\n\u001b[32m   6644\u001b[39m     res = \u001b[38;5;28mself\u001b[39m._constructor_from_mgr(new_data, axes=new_data.axes)\n\u001b[32m   6645\u001b[39m     \u001b[38;5;28;01mreturn\u001b[39;00m res.__finalize__(\u001b[38;5;28mself\u001b[39m, method=\u001b[33m\"\u001b[39m\u001b[33mastype\u001b[39m\u001b[33m\"\u001b[39m)\n",
      "\u001b[36mFile \u001b[39m\u001b[32mc:\\Users\\luisp\\.virtualenvs\\Python-Github_VENV-XjlEX2HA\\Lib\\site-packages\\pandas\\core\\internals\\managers.py:430\u001b[39m, in \u001b[36mBaseBlockManager.astype\u001b[39m\u001b[34m(self, dtype, copy, errors)\u001b[39m\n\u001b[32m    427\u001b[39m \u001b[38;5;28;01melif\u001b[39;00m using_copy_on_write():\n\u001b[32m    428\u001b[39m     copy = \u001b[38;5;28;01mFalse\u001b[39;00m\n\u001b[32m--> \u001b[39m\u001b[32m430\u001b[39m \u001b[38;5;28;01mreturn\u001b[39;00m \u001b[38;5;28;43mself\u001b[39;49m\u001b[43m.\u001b[49m\u001b[43mapply\u001b[49m\u001b[43m(\u001b[49m\n\u001b[32m    431\u001b[39m \u001b[43m    \u001b[49m\u001b[33;43m\"\u001b[39;49m\u001b[33;43mastype\u001b[39;49m\u001b[33;43m\"\u001b[39;49m\u001b[43m,\u001b[49m\n\u001b[32m    432\u001b[39m \u001b[43m    \u001b[49m\u001b[43mdtype\u001b[49m\u001b[43m=\u001b[49m\u001b[43mdtype\u001b[49m\u001b[43m,\u001b[49m\n\u001b[32m    433\u001b[39m \u001b[43m    \u001b[49m\u001b[43mcopy\u001b[49m\u001b[43m=\u001b[49m\u001b[43mcopy\u001b[49m\u001b[43m,\u001b[49m\n\u001b[32m    434\u001b[39m \u001b[43m    \u001b[49m\u001b[43merrors\u001b[49m\u001b[43m=\u001b[49m\u001b[43merrors\u001b[49m\u001b[43m,\u001b[49m\n\u001b[32m    435\u001b[39m \u001b[43m    \u001b[49m\u001b[43musing_cow\u001b[49m\u001b[43m=\u001b[49m\u001b[43musing_copy_on_write\u001b[49m\u001b[43m(\u001b[49m\u001b[43m)\u001b[49m\u001b[43m,\u001b[49m\n\u001b[32m    436\u001b[39m \u001b[43m\u001b[49m\u001b[43m)\u001b[49m\n",
      "\u001b[36mFile \u001b[39m\u001b[32mc:\\Users\\luisp\\.virtualenvs\\Python-Github_VENV-XjlEX2HA\\Lib\\site-packages\\pandas\\core\\internals\\managers.py:363\u001b[39m, in \u001b[36mBaseBlockManager.apply\u001b[39m\u001b[34m(self, f, align_keys, **kwargs)\u001b[39m\n\u001b[32m    361\u001b[39m         applied = b.apply(f, **kwargs)\n\u001b[32m    362\u001b[39m     \u001b[38;5;28;01melse\u001b[39;00m:\n\u001b[32m--> \u001b[39m\u001b[32m363\u001b[39m         applied = \u001b[38;5;28;43mgetattr\u001b[39;49m\u001b[43m(\u001b[49m\u001b[43mb\u001b[49m\u001b[43m,\u001b[49m\u001b[43m \u001b[49m\u001b[43mf\u001b[49m\u001b[43m)\u001b[49m\u001b[43m(\u001b[49m\u001b[43m*\u001b[49m\u001b[43m*\u001b[49m\u001b[43mkwargs\u001b[49m\u001b[43m)\u001b[49m\n\u001b[32m    364\u001b[39m     result_blocks = extend_blocks(applied, result_blocks)\n\u001b[32m    366\u001b[39m out = \u001b[38;5;28mtype\u001b[39m(\u001b[38;5;28mself\u001b[39m).from_blocks(result_blocks, \u001b[38;5;28mself\u001b[39m.axes)\n",
      "\u001b[36mFile \u001b[39m\u001b[32mc:\\Users\\luisp\\.virtualenvs\\Python-Github_VENV-XjlEX2HA\\Lib\\site-packages\\pandas\\core\\internals\\blocks.py:758\u001b[39m, in \u001b[36mBlock.astype\u001b[39m\u001b[34m(self, dtype, copy, errors, using_cow, squeeze)\u001b[39m\n\u001b[32m    755\u001b[39m         \u001b[38;5;28;01mraise\u001b[39;00m \u001b[38;5;167;01mValueError\u001b[39;00m(\u001b[33m\"\u001b[39m\u001b[33mCan not squeeze with more than one column.\u001b[39m\u001b[33m\"\u001b[39m)\n\u001b[32m    756\u001b[39m     values = values[\u001b[32m0\u001b[39m, :]  \u001b[38;5;66;03m# type: ignore[call-overload]\u001b[39;00m\n\u001b[32m--> \u001b[39m\u001b[32m758\u001b[39m new_values = \u001b[43mastype_array_safe\u001b[49m\u001b[43m(\u001b[49m\u001b[43mvalues\u001b[49m\u001b[43m,\u001b[49m\u001b[43m \u001b[49m\u001b[43mdtype\u001b[49m\u001b[43m,\u001b[49m\u001b[43m \u001b[49m\u001b[43mcopy\u001b[49m\u001b[43m=\u001b[49m\u001b[43mcopy\u001b[49m\u001b[43m,\u001b[49m\u001b[43m \u001b[49m\u001b[43merrors\u001b[49m\u001b[43m=\u001b[49m\u001b[43merrors\u001b[49m\u001b[43m)\u001b[49m\n\u001b[32m    760\u001b[39m new_values = maybe_coerce_values(new_values)\n\u001b[32m    762\u001b[39m refs = \u001b[38;5;28;01mNone\u001b[39;00m\n",
      "\u001b[36mFile \u001b[39m\u001b[32mc:\\Users\\luisp\\.virtualenvs\\Python-Github_VENV-XjlEX2HA\\Lib\\site-packages\\pandas\\core\\dtypes\\astype.py:237\u001b[39m, in \u001b[36mastype_array_safe\u001b[39m\u001b[34m(values, dtype, copy, errors)\u001b[39m\n\u001b[32m    234\u001b[39m     dtype = dtype.numpy_dtype\n\u001b[32m    236\u001b[39m \u001b[38;5;28;01mtry\u001b[39;00m:\n\u001b[32m--> \u001b[39m\u001b[32m237\u001b[39m     new_values = \u001b[43mastype_array\u001b[49m\u001b[43m(\u001b[49m\u001b[43mvalues\u001b[49m\u001b[43m,\u001b[49m\u001b[43m \u001b[49m\u001b[43mdtype\u001b[49m\u001b[43m,\u001b[49m\u001b[43m \u001b[49m\u001b[43mcopy\u001b[49m\u001b[43m=\u001b[49m\u001b[43mcopy\u001b[49m\u001b[43m)\u001b[49m\n\u001b[32m    238\u001b[39m \u001b[38;5;28;01mexcept\u001b[39;00m (\u001b[38;5;167;01mValueError\u001b[39;00m, \u001b[38;5;167;01mTypeError\u001b[39;00m):\n\u001b[32m    239\u001b[39m     \u001b[38;5;66;03m# e.g. _astype_nansafe can fail on object-dtype of strings\u001b[39;00m\n\u001b[32m    240\u001b[39m     \u001b[38;5;66;03m#  trying to convert to float\u001b[39;00m\n\u001b[32m    241\u001b[39m     \u001b[38;5;28;01mif\u001b[39;00m errors == \u001b[33m\"\u001b[39m\u001b[33mignore\u001b[39m\u001b[33m\"\u001b[39m:\n",
      "\u001b[36mFile \u001b[39m\u001b[32mc:\\Users\\luisp\\.virtualenvs\\Python-Github_VENV-XjlEX2HA\\Lib\\site-packages\\pandas\\core\\dtypes\\astype.py:182\u001b[39m, in \u001b[36mastype_array\u001b[39m\u001b[34m(values, dtype, copy)\u001b[39m\n\u001b[32m    179\u001b[39m     values = values.astype(dtype, copy=copy)\n\u001b[32m    181\u001b[39m \u001b[38;5;28;01melse\u001b[39;00m:\n\u001b[32m--> \u001b[39m\u001b[32m182\u001b[39m     values = \u001b[43m_astype_nansafe\u001b[49m\u001b[43m(\u001b[49m\u001b[43mvalues\u001b[49m\u001b[43m,\u001b[49m\u001b[43m \u001b[49m\u001b[43mdtype\u001b[49m\u001b[43m,\u001b[49m\u001b[43m \u001b[49m\u001b[43mcopy\u001b[49m\u001b[43m=\u001b[49m\u001b[43mcopy\u001b[49m\u001b[43m)\u001b[49m\n\u001b[32m    184\u001b[39m \u001b[38;5;66;03m# in pandas we don't store numpy str dtypes, so convert to object\u001b[39;00m\n\u001b[32m    185\u001b[39m \u001b[38;5;28;01mif\u001b[39;00m \u001b[38;5;28misinstance\u001b[39m(dtype, np.dtype) \u001b[38;5;129;01mand\u001b[39;00m \u001b[38;5;28missubclass\u001b[39m(values.dtype.type, \u001b[38;5;28mstr\u001b[39m):\n",
      "\u001b[36mFile \u001b[39m\u001b[32mc:\\Users\\luisp\\.virtualenvs\\Python-Github_VENV-XjlEX2HA\\Lib\\site-packages\\pandas\\core\\dtypes\\astype.py:133\u001b[39m, in \u001b[36m_astype_nansafe\u001b[39m\u001b[34m(arr, dtype, copy, skipna)\u001b[39m\n\u001b[32m    129\u001b[39m     \u001b[38;5;28;01mraise\u001b[39;00m \u001b[38;5;167;01mValueError\u001b[39;00m(msg)\n\u001b[32m    131\u001b[39m \u001b[38;5;28;01mif\u001b[39;00m copy \u001b[38;5;129;01mor\u001b[39;00m arr.dtype == \u001b[38;5;28mobject\u001b[39m \u001b[38;5;129;01mor\u001b[39;00m dtype == \u001b[38;5;28mobject\u001b[39m:\n\u001b[32m    132\u001b[39m     \u001b[38;5;66;03m# Explicit copy, or required since NumPy can't view from / to object.\u001b[39;00m\n\u001b[32m--> \u001b[39m\u001b[32m133\u001b[39m     \u001b[38;5;28;01mreturn\u001b[39;00m \u001b[43marr\u001b[49m\u001b[43m.\u001b[49m\u001b[43mastype\u001b[49m\u001b[43m(\u001b[49m\u001b[43mdtype\u001b[49m\u001b[43m,\u001b[49m\u001b[43m \u001b[49m\u001b[43mcopy\u001b[49m\u001b[43m=\u001b[49m\u001b[38;5;28;43;01mTrue\u001b[39;49;00m\u001b[43m)\u001b[49m\n\u001b[32m    135\u001b[39m \u001b[38;5;28;01mreturn\u001b[39;00m arr.astype(dtype, copy=copy)\n",
      "\u001b[31mValueError\u001b[39m: invalid literal for int() with base 10: '1.0'"
     ]
    }
   ],
   "source": [
    "df['col1'] = df['col1'].astype('int')"
   ]
  },
  {
   "cell_type": "markdown",
   "id": "faa82431",
   "metadata": {},
   "source": [
    "##### _to_numeric()_"
   ]
  },
  {
   "cell_type": "code",
   "execution_count": 26,
   "id": "824824aa",
   "metadata": {},
   "outputs": [
    {
     "name": "stdout",
     "output_type": "stream",
     "text": [
      "col1    float64\n",
      "col2      int64\n",
      "dtype: object\n",
      "\n",
      "   col1  col2\n",
      "0   1.0     3\n",
      "1   2.0     4\n"
     ]
    }
   ],
   "source": [
    "import pandas as pd\n",
    "\n",
    "d = {'col1': ['1.0', '2.0'], 'col2': ['3', '4']}\n",
    "df = pd.DataFrame(data=d)\n",
    "\n",
    "df['col2'] = df['col2'].astype('int')\n",
    "df['col1'] = pd.to_numeric(df['col1'])\n",
    "print(df.dtypes)\n",
    "print()\n",
    "print(df)"
   ]
  },
  {
   "cell_type": "markdown",
   "id": "c0ffbc0e",
   "metadata": {},
   "source": [
    "It works great if you have number-like strings like '72' or '1394'. However, by default, to_numeric() cannot convert strings with non-numeric characters or decimals to numbers. Instead, it returns an error.\n",
    "\n",
    "There's good news, though: to_numeric() has an errors= parameter! The value of this parameter determines what to_numeric() will do if it encounters an invalid value:\n",
    "\n",
    "- errors='raise': Default argument where invalid values ​​raise errors, blocking conversion to numbers for the entire column.\n",
    "\n",
    "- errors='coerce': Invalid values ​​are replaced with NaN.\n",
    "\n",
    "- errors='ignore': Invalid values ​​are simply ignored and left unchanged."
   ]
  },
  {
   "cell_type": "code",
   "execution_count": 27,
   "id": "9ecf3bf1",
   "metadata": {},
   "outputs": [
    {
     "name": "stdout",
     "output_type": "stream",
     "text": [
      "col1    float64\n",
      "col2      int64\n",
      "dtype: object\n",
      "   col1  col2\n",
      "0   1.0     3\n",
      "1   NaN     4\n"
     ]
    }
   ],
   "source": [
    "import pandas as pd\n",
    "\n",
    "d = {'col1': ['1.0', 'B.0'], 'col2': ['3', '4']}\n",
    "df = pd.DataFrame(data=d)\n",
    "\n",
    "df['col2'] = df['col2'].astype('int')\n",
    "df['col1'] = pd.to_numeric(df['col1'], errors='coerce')\n",
    "\n",
    "print(df.dtypes)\n",
    "print(df)"
   ]
  },
  {
   "cell_type": "markdown",
   "id": "51e23505",
   "metadata": {},
   "source": [
    "##### _Excersise 1_"
   ]
  },
  {
   "cell_type": "code",
   "execution_count": 32,
   "id": "02800878",
   "metadata": {},
   "outputs": [
    {
     "name": "stdout",
     "output_type": "stream",
     "text": [
      "<class 'pandas.core.frame.DataFrame'>\n",
      "RangeIndex: 50000 entries, 0 to 49999\n",
      "Data columns (total 8 columns):\n",
      " #   Column       Non-Null Count  Dtype  \n",
      "---  ------       --------------  -----  \n",
      " 0   InvoiceNo    50000 non-null  object \n",
      " 1   StockCode    50000 non-null  object \n",
      " 2   Description  49857 non-null  object \n",
      " 3   Quantity     50000 non-null  float64\n",
      " 4   InvoiceDate  50000 non-null  object \n",
      " 5   UnitPrice    50000 non-null  object \n",
      " 6   CustomerID   31599 non-null  float64\n",
      " 7   Country      50000 non-null  object \n",
      "dtypes: float64(2), object(6)\n",
      "memory usage: 3.1+ MB\n",
      "\n",
      "True\n"
     ]
    }
   ],
   "source": [
    "import pandas as pd\n",
    "import numpy as np\n",
    "\n",
    "df = pd.read_csv('DataSets/OnlineRetail.csv')\n",
    "\n",
    "df.info()\n",
    "can_convert = np.array_equal(df[\"Quantity\"], df[\"Quantity\"].astype(\"int\"))\n",
    "print()\n",
    "print(can_convert)"
   ]
  },
  {
   "cell_type": "code",
   "execution_count": 30,
   "id": "34de5fa9",
   "metadata": {},
   "outputs": [
    {
     "name": "stdout",
     "output_type": "stream",
     "text": [
      "<class 'pandas.core.frame.DataFrame'>\n",
      "RangeIndex: 50000 entries, 0 to 49999\n",
      "Data columns (total 8 columns):\n",
      " #   Column       Non-Null Count  Dtype  \n",
      "---  ------       --------------  -----  \n",
      " 0   InvoiceNo    50000 non-null  object \n",
      " 1   StockCode    50000 non-null  object \n",
      " 2   Description  49857 non-null  object \n",
      " 3   Quantity     50000 non-null  int64  \n",
      " 4   InvoiceDate  50000 non-null  object \n",
      " 5   UnitPrice    50000 non-null  object \n",
      " 6   CustomerID   31599 non-null  float64\n",
      " 7   Country      50000 non-null  object \n",
      "dtypes: float64(1), int64(1), object(6)\n",
      "memory usage: 3.1+ MB\n"
     ]
    }
   ],
   "source": [
    "df['Quantity'] = df[\"Quantity\"].astype(\"int\")\n",
    "df.info()"
   ]
  },
  {
   "cell_type": "code",
   "execution_count": 33,
   "id": "70d21ea1",
   "metadata": {},
   "outputs": [
    {
     "name": "stdout",
     "output_type": "stream",
     "text": [
      "<class 'pandas.core.frame.DataFrame'>\n",
      "RangeIndex: 50000 entries, 0 to 49999\n",
      "Data columns (total 8 columns):\n",
      " #   Column       Non-Null Count  Dtype  \n",
      "---  ------       --------------  -----  \n",
      " 0   InvoiceNo    50000 non-null  object \n",
      " 1   StockCode    50000 non-null  object \n",
      " 2   Description  49857 non-null  object \n",
      " 3   Quantity     50000 non-null  float64\n",
      " 4   InvoiceDate  50000 non-null  object \n",
      " 5   UnitPrice    49985 non-null  float64\n",
      " 6   CustomerID   31599 non-null  float64\n",
      " 7   Country      50000 non-null  object \n",
      "dtypes: float64(3), object(5)\n",
      "memory usage: 3.1+ MB\n"
     ]
    }
   ],
   "source": [
    "import pandas as pd\n",
    "\n",
    "df = pd.read_csv('DataSets/OnlineRetail.csv')\n",
    "\n",
    "df['UnitPrice'] = pd.to_numeric(df[\"UnitPrice\"], errors=\"coerce\")\n",
    "df.info()"
   ]
  },
  {
   "cell_type": "markdown",
   "id": "a3cd3811",
   "metadata": {},
   "source": [
    "##### __Dates & Hours__\n",
    "\n",
    "https://docs.python.org/3/library/datetime.html#strftime-and-strptime-behavior\n",
    "\n",
    "_%d_ day of the month (01 - 31)\n",
    "\n",
    "_%m_ month (01 - 12))\n",
    "\n",
    "_%y_ two digit year(94)\n",
    "\n",
    "_%Y_ four digit year(1994)\n",
    "\n",
    "_Z or T_ standard separator for date and time\n",
    "\n",
    "_%H_ hour in a 24hr format\n",
    "\n",
    "_%I_ hour in a 12hr format\n",
    "\n",
    "_%M_ for minutes (00 - 59)\n",
    "\n",
    "_%S_ for seconds (00 - 59)"
   ]
  },
  {
   "cell_type": "code",
   "execution_count": 39,
   "id": "6cc6978e",
   "metadata": {},
   "outputs": [
    {
     "name": "stdout",
     "output_type": "stream",
     "text": [
      "  InvoiceNo StockCode                          Description  Quantity  \\\n",
      "0    536520     21123  SET/10 IVORY POLKADOT PARTY CANDLES       1.0   \n",
      "1    536520     21124   SET/10 BLUE POLKADOT PARTY CANDLES       1.0   \n",
      "2    536520     21122   SET/10 PINK POLKADOT PARTY CANDLES       1.0   \n",
      "3    536520     84378        SET OF 3 HEART COOKIE CUTTERS       1.0   \n",
      "4    536520     21985    PACK OF 12 HEARTS DESIGN TISSUES       12.0   \n",
      "\n",
      "            InvoiceDate UnitPrice  CustomerID         Country  \n",
      "0  2010-12-01T12:43:00Z      1.25     14729.0  United Kingdom  \n",
      "1  2010-12-01T12:43:00Z      1.25     14729.0  United Kingdom  \n",
      "2  2010-12-01T12:43:00Z      1.25     14729.0  United Kingdom  \n",
      "3  2010-12-01T12:43:00Z      1.25     14729.0  United Kingdom  \n",
      "4  2010-12-01T12:43:00Z      0.29     14729.0  United Kingdom  \n",
      "\n",
      "InvoiceNo       object\n",
      "StockCode       object\n",
      "Description     object\n",
      "Quantity       float64\n",
      "InvoiceDate     object\n",
      "UnitPrice       object\n",
      "CustomerID     float64\n",
      "Country         object\n",
      "dtype: object\n"
     ]
    }
   ],
   "source": [
    "import pandas as pd \n",
    "\n",
    "df = pd.read_csv('DataSets/OnlineRetail.csv')\n",
    "print(df.head())\n",
    "print()\n",
    "print(df.dtypes)"
   ]
  },
  {
   "cell_type": "markdown",
   "id": "27774b38",
   "metadata": {},
   "source": [
    "##### _.to_datetime()_\n",
    "\n",
    "The to_datetime() method is used to convert dates from a string data type to a datetime data type. When calling the method, we must use the format= parameter, which takes a string specifying how dates are formatted. Format codes indicated by the % symbol are used to specify the format.\n",
    "\n",
    "For example, we can convert the string 2010-12-17T12:38:00Z (an ISO 8601 format) to a datetime object by passing the correct format string to the format= parameter: %Y-%m-%dT%H:%M:%SZ."
   ]
  },
  {
   "cell_type": "code",
   "execution_count": 44,
   "id": "c3f32d55",
   "metadata": {},
   "outputs": [
    {
     "name": "stdout",
     "output_type": "stream",
     "text": [
      "<class 'str'>\n",
      "<class 'pandas._libs.tslibs.timestamps.Timestamp'>\n",
      "2010-12-17 12:38:00\n"
     ]
    }
   ],
   "source": [
    "import pandas as pd\n",
    "\n",
    "string_date = '2010-12-17T12:38:00'\n",
    "datetime_date = pd.to_datetime(string_date, format='%Y-%m-%dT%H:%M:%S')\n",
    "\n",
    "print(type(string_date))\n",
    "print(type(datetime_date))\n",
    "print(datetime_date)"
   ]
  },
  {
   "cell_type": "markdown",
   "id": "fad6d23f",
   "metadata": {},
   "source": [
    "After calling to_datetime() with our string-based date and format string, we now have an object with the Timestamps data type. The pandas Timestamp type is equivalent to the Python datetime type, so we'll use the term \"datetime\" to refer to both.\n",
    "\n",
    "Notice that the format of the datetime object is different from the original string: 2010-12-17T12:38:00Z. In the datetime object, we have YYYY-MM-DD HH:MM:SS: 2010-12-17 12:38:00. Regardless of how the original string was formatted, the datetime type will have this uniform format."
   ]
  },
  {
   "cell_type": "code",
   "execution_count": 45,
   "id": "4f87e4a5",
   "metadata": {},
   "outputs": [
    {
     "name": "stdout",
     "output_type": "stream",
     "text": [
      "     Event       Date\n",
      "0  Event A 2025-04-16\n",
      "1  Event B        NaT\n",
      "2  Event C        NaT\n",
      "\n",
      "Event            object\n",
      "Date     datetime64[ns]\n",
      "dtype: object\n"
     ]
    }
   ],
   "source": [
    "import pandas as pd\n",
    "\n",
    "# Create a DataFrame with mixed date formats\n",
    "data = {\n",
    "    'Event': ['Event A', 'Event B', 'Event C'],\n",
    "    'Date': ['2025-04-16', '16/04/2025', 'April 16, 2025']\n",
    "}\n",
    "\n",
    "df = pd.DataFrame(data)\n",
    "\n",
    "# Convert the 'Date' column to datetime, handling multiple formats\n",
    "df['Date'] = pd.to_datetime(df['Date'], format=None, errors='coerce') # allows pandas to infer the format automatically.\n",
    "\n",
    "print(df)\n",
    "print()\n",
    "print(df.dtypes)"
   ]
  },
  {
   "cell_type": "code",
   "execution_count": 47,
   "id": "8ab66aa3",
   "metadata": {},
   "outputs": [
    {
     "name": "stdout",
     "output_type": "stream",
     "text": [
      "     Event           Timestamp\n",
      "0  Event A 2021-04-13 12:30:47\n",
      "1  Event B 2021-04-13 12:47:27\n",
      "2  Event C 2021-04-13 13:04:07\n",
      "\n",
      "Event                object\n",
      "Timestamp    datetime64[ns]\n",
      "dtype: object\n"
     ]
    }
   ],
   "source": [
    "import pandas as pd\n",
    "\n",
    "# Create a DataFrame with Unix timestamps\n",
    "data = {'Event': ['Event A', 'Event B', 'Event C'], 'Timestamp': [1618317047, 1618318047, 1618319047]}\n",
    "df = pd.DataFrame(data)\n",
    "\n",
    "# Convert the 'Timestamp' column to datetime\n",
    "df['Timestamp'] = pd.to_datetime(df['Timestamp'], unit='s') # parameter specifies that the timestamps are in seconds since the Unix epoch.\n",
    "                                                            # converted to a datetime64[ns] type.\n",
    "print(df)\n",
    "print()\n",
    "print(df.dtypes)"
   ]
  },
  {
   "cell_type": "code",
   "execution_count": 48,
   "id": "c17a7162",
   "metadata": {},
   "outputs": [
    {
     "name": "stdout",
     "output_type": "stream",
     "text": [
      "     Event       Date\n",
      "0  Event A 2025-04-16\n",
      "1  Event B        NaT\n",
      "2  Event C        NaT\n",
      "\n",
      "Event            object\n",
      "Date     datetime64[ns]\n",
      "dtype: object\n"
     ]
    }
   ],
   "source": [
    "import pandas as pd\n",
    "\n",
    "# Create a DataFrame with some invalid date strings\n",
    "data = {'Event': ['Event A', 'Event B', 'Event C'], 'Date': ['2025-04-16', 'invalid_date', '16/04/2025']}\n",
    "df = pd.DataFrame(data)\n",
    "\n",
    "# Convert the 'Date' column to datetime, replacing invalid dates with NaT\n",
    "df['Date'] = pd.to_datetime(df['Date'], errors='coerce')\n",
    "\n",
    "print(df)\n",
    "print()\n",
    "print(df.dtypes)"
   ]
  },
  {
   "cell_type": "code",
   "execution_count": 49,
   "id": "1d59bbee",
   "metadata": {},
   "outputs": [
    {
     "name": "stdout",
     "output_type": "stream",
     "text": [
      "         Date      Time            Datetime\n",
      "0  2025-04-16  12:30:00 2025-04-16 12:30:00\n",
      "1  2025-04-17  14:45:00 2025-04-17 14:45:00\n",
      "2  2025-04-18  16:00:00 2025-04-18 16:00:00\n",
      "\n",
      "Date                object\n",
      "Time                object\n",
      "Datetime    datetime64[ns]\n",
      "dtype: object\n"
     ]
    }
   ],
   "source": [
    "import pandas as pd\n",
    "\n",
    "# Create a DataFrame with separate date and time columns\n",
    "data = {\n",
    "    'Date': ['2025-04-16', '2025-04-17', '2025-04-18'],\n",
    "    'Time': ['12:30:00', '14:45:00', '16:00:00']\n",
    "}\n",
    "df = pd.DataFrame(data)\n",
    "\n",
    "# Combine 'Date' and 'Time' columns into a single datetime column\n",
    "df['Datetime'] = pd.to_datetime(df['Date'] + ' ' + df['Time'])\n",
    "\n",
    "print(df)\n",
    "print()\n",
    "print(df.dtypes)"
   ]
  },
  {
   "cell_type": "code",
   "execution_count": 53,
   "id": "e7293432",
   "metadata": {},
   "outputs": [
    {
     "name": "stdout",
     "output_type": "stream",
     "text": [
      "     Event       Date\n",
      "0  Event A 2025-04-16\n",
      "1  Event B 2025-04-17\n",
      "2  Event C 2025-04-18\n",
      "\n",
      "Event            object\n",
      "Date     datetime64[ns]\n",
      "dtype: object\n"
     ]
    }
   ],
   "source": [
    "import pandas as pd\n",
    "\n",
    "# Create a DataFrame with custom date formats\n",
    "data = {'Event': ['Event A', 'Event B', 'Event C'], 'Date': ['16-Apr-2025', '17-Apr-2025', '18-Apr-2025']}\n",
    "df = pd.DataFrame(data)\n",
    "\n",
    "# Convert the 'Date' column to datetime using a custom format\n",
    "df['Date'] = pd.to_datetime(df['Date'], format='%d-%b-%Y') # %b for abbreviated mont\n",
    "\n",
    "print(df)\n",
    "print()\n",
    "print(df.dtypes)"
   ]
  },
  {
   "cell_type": "code",
   "execution_count": 56,
   "id": "9e530e5c",
   "metadata": {},
   "outputs": [
    {
     "name": "stdout",
     "output_type": "stream",
     "text": [
      "Original DataFrame:\n",
      "     Event          CustomDateTime\n",
      "0  Event A  16-April-2025 12:30 PM\n",
      "1  Event B  17-April-2025 02:45 PM\n",
      "2  Event C  18-April-2025 04:00 PM\n",
      "\n",
      "DataFrame after converting 'CustomDateTime' to datetime:\n",
      "     Event      CustomDateTime\n",
      "0  Event A 2025-04-16 12:30:00\n",
      "1  Event B 2025-04-17 14:45:00\n",
      "2  Event C 2025-04-18 16:00:00\n",
      "\n",
      "Data types of the DataFrame:\n",
      "Event                     object\n",
      "CustomDateTime    datetime64[ns]\n",
      "dtype: object\n"
     ]
    }
   ],
   "source": [
    "# Import Required Libraries\n",
    "import pandas as pd\n",
    "\n",
    "# Create a DataFrame with custom date-time strings\n",
    "data = {\n",
    "    'Event': ['Event A', 'Event B', 'Event C'],\n",
    "    'CustomDateTime': ['16-April-2025 12:30 PM', '17-April-2025 02:45 PM', '18-April-2025 04:00 PM']\n",
    "}\n",
    "df = pd.DataFrame(data)\n",
    "\n",
    "print(\"Original DataFrame:\")\n",
    "print(df)\n",
    "\n",
    "# Convert the 'CustomDateTime' column to a determined date-time format\n",
    "df['CustomDateTime'] = pd.to_datetime(df['CustomDateTime'], format='%d-%B-%Y %I:%M %p') # %p is used to represent AM or PM in 12-Hr format\n",
    "\n",
    "print(\"\\nDataFrame after converting 'CustomDateTime' to datetime:\")\n",
    "print(df)\n",
    "print()\n",
    "print(\"Data types of the DataFrame:\")\n",
    "print(df.dtypes)"
   ]
  },
  {
   "cell_type": "markdown",
   "id": "f539fd4b",
   "metadata": {},
   "source": [
    "Since pandas relies on data types native to Python (as well as some from various libraries), data types can get a bit complicated at times.\n",
    "\n",
    "Remember that in pandas, datetime objects are represented by the TimeStamp data type. To get, for example, the year attribute of the first Timestamp value in the 'InvoiceDate' column, use the following code:"
   ]
  },
  {
   "cell_type": "code",
   "execution_count": 61,
   "id": "decee82e",
   "metadata": {},
   "outputs": [
    {
     "name": "stdout",
     "output_type": "stream",
     "text": [
      "2010\n"
     ]
    }
   ],
   "source": [
    "import pandas as pd\n",
    "\n",
    "df = pd.read_csv('DataSets/OnlineRetail.csv')\n",
    "\n",
    "# convierte 'InvoiceDate' a datetime\n",
    "df['InvoiceDate'] = pd.to_datetime(df['InvoiceDate'], format='%Y-%m-%dT%H:%M:%SZ')\n",
    "\n",
    "print(df['InvoiceDate'][0].year) # devuelve el año del primer InvoiceDate"
   ]
  },
  {
   "cell_type": "markdown",
   "id": "3f1bc333",
   "metadata": {},
   "source": [
    "While we can access all attributes of individual Timestamp values ​​this way, we can't do so for Series Timestamp values. See what happens when we try to get the day attribute for the entire 'InvoiceDate' column:"
   ]
  },
  {
   "cell_type": "code",
   "execution_count": 68,
   "id": "1f68c047",
   "metadata": {},
   "outputs": [
    {
     "name": "stdout",
     "output_type": "stream",
     "text": [
      "  InvoiceNo StockCode                          Description  Quantity  \\\n",
      "0    536520     21123  SET/10 IVORY POLKADOT PARTY CANDLES       1.0   \n",
      "1    536520     21124   SET/10 BLUE POLKADOT PARTY CANDLES       1.0   \n",
      "2    536520     21122   SET/10 PINK POLKADOT PARTY CANDLES       1.0   \n",
      "3    536520     84378        SET OF 3 HEART COOKIE CUTTERS       1.0   \n",
      "4    536520     21985    PACK OF 12 HEARTS DESIGN TISSUES       12.0   \n",
      "\n",
      "            InvoiceDate UnitPrice  CustomerID         Country  \n",
      "0  2010-12-01T12:43:00Z      1.25     14729.0  United Kingdom  \n",
      "1  2010-12-01T12:43:00Z      1.25     14729.0  United Kingdom  \n",
      "2  2010-12-01T12:43:00Z      1.25     14729.0  United Kingdom  \n",
      "3  2010-12-01T12:43:00Z      1.25     14729.0  United Kingdom  \n",
      "4  2010-12-01T12:43:00Z      0.29     14729.0  United Kingdom  \n",
      "\n",
      "1\n"
     ]
    },
    {
     "ename": "AttributeError",
     "evalue": "'Series' object has no attribute 'day'",
     "output_type": "error",
     "traceback": [
      "\u001b[31m---------------------------------------------------------------------------\u001b[39m",
      "\u001b[31mAttributeError\u001b[39m                            Traceback (most recent call last)",
      "\u001b[32m~\\AppData\\Local\\Temp\\ipykernel_31424\\4059504841.py\u001b[39m in \u001b[36m?\u001b[39m\u001b[34m()\u001b[39m\n\u001b[32m      4\u001b[39m print(df.head())\n\u001b[32m      5\u001b[39m df[\u001b[33m'InvoiceDate'\u001b[39m] = pd.to_datetime(df[\u001b[33m'InvoiceDate'\u001b[39m], format=\u001b[33m'%Y-%m-%dT%H:%M:%SZ'\u001b[39m)\n\u001b[32m      6\u001b[39m print()\n\u001b[32m      7\u001b[39m print(df[\u001b[33m'InvoiceDate'\u001b[39m][\u001b[32m0\u001b[39m].day)\n\u001b[32m----> \u001b[39m\u001b[32m8\u001b[39m df[\u001b[33m'day'\u001b[39m] = df[\u001b[33m'InvoiceDate'\u001b[39m].day\n",
      "\u001b[32mc:\\Users\\luisp\\.virtualenvs\\Python-Github_VENV-XjlEX2HA\\Lib\\site-packages\\pandas\\core\\generic.py\u001b[39m in \u001b[36m?\u001b[39m\u001b[34m(self, name)\u001b[39m\n\u001b[32m   6295\u001b[39m             \u001b[38;5;28;01mand\u001b[39;00m name \u001b[38;5;28;01mnot\u001b[39;00m \u001b[38;5;28;01min\u001b[39;00m self._accessors\n\u001b[32m   6296\u001b[39m             \u001b[38;5;28;01mand\u001b[39;00m self._info_axis._can_hold_identifiers_and_holds_name(name)\n\u001b[32m   6297\u001b[39m         ):\n\u001b[32m   6298\u001b[39m             \u001b[38;5;28;01mreturn\u001b[39;00m self[name]\n\u001b[32m-> \u001b[39m\u001b[32m6299\u001b[39m         \u001b[38;5;28;01mreturn\u001b[39;00m object.__getattribute__(self, name)\n",
      "\u001b[31mAttributeError\u001b[39m: 'Series' object has no attribute 'day'"
     ]
    }
   ],
   "source": [
    "import pandas as pd\n",
    "\n",
    "df = pd.read_csv('DataSets/OnlineRetail.csv')\n",
    "print(df.head())\n",
    "df['InvoiceDate'] = pd.to_datetime(df['InvoiceDate'], format='%Y-%m-%dT%H:%M:%SZ')\n",
    "print()\n",
    "print(df['InvoiceDate'][0].day)\n",
    "df['day'] = df['InvoiceDate'].day"
   ]
  },
  {
   "cell_type": "markdown",
   "id": "cbdfe238",
   "metadata": {},
   "source": [
    "We get an error because df['InvoiceDate'] is a Series object, which doesn't have a day attribute, even though individual Timestamp values ​​within a Series do.\n",
    "\n",
    "To get attributes for all datetime data columns, use the .dt accessor object instead.\n",
    "\n",
    "For example, we can create a 'df_days' DataFrame that contains the day attribute for each value in the 'InvoiceDate' column:"
   ]
  },
  {
   "cell_type": "code",
   "execution_count": 70,
   "id": "1eb7cd94",
   "metadata": {},
   "outputs": [
    {
     "name": "stdout",
     "output_type": "stream",
     "text": [
      "33553    17\n",
      "9427      6\n",
      "199       1\n",
      "12447     6\n",
      "39489    21\n",
      "Name: InvoiceDate, dtype: int32\n"
     ]
    }
   ],
   "source": [
    "import pandas as pd \n",
    "\n",
    "df = pd.read_csv('DataSets/OnlineRetail.csv')\n",
    "df['InvoiceDate'] = pd.to_datetime(df['InvoiceDate'], format='%Y-%m-%dT%H:%M:%SZ')\n",
    "\n",
    "df_days = df['InvoiceDate'].dt.day\n",
    "print(df_days.sample(5, random_state=42))"
   ]
  },
  {
   "cell_type": "markdown",
   "id": "ba2cc1ac",
   "metadata": {},
   "source": [
    "No mistake this time! Remember, _i_f you want to access the attributes of an entire datetime column_, you must use the __.dt__ accessor for the datetime column, not the column itself."
   ]
  },
  {
   "cell_type": "markdown",
   "id": "69f72797",
   "metadata": {},
   "source": [
    "##### __TimeZones__\n",
    "\n",
    "This Wikipedia article (https://en.wikipedia.org/wiki/List_of_tz_database_time_zones#List) contains a list of the names of each standard time zone that you can use with .dt.tz_convert().\n",
    "\n",
    "There are some common scenarios related to time zones that you'll encounter when working with datetime data.\n",
    "\n",
    "Your data may come from different geographic areas, with each location recording this data using its local time. Or you may be working with datetime values ​​recorded in one time zone, but need to present the results of your analysis to an audience in another.\n",
    "\n",
    "In either case, you need to know how to convert between different time zones without getting confused. This is where .dt.tz_localize() and .dt.tz_convert() come in handy. The former allows you to assign a time zone to a datetime column so that your data is \"time zone aware.\" The latter allows you to convert a \"time zone aware\" column to a different time zone.\n",
    "\n",
    "Let's see how it works in practice. Let's assign the UTC time zone to the 'InvoiceDate' column."
   ]
  },
  {
   "cell_type": "code",
   "execution_count": null,
   "id": "0d0cdace",
   "metadata": {},
   "outputs": [
    {
     "name": "stdout",
     "output_type": "stream",
     "text": [
      "33553   2010-12-17 12:38:00+00:00\n",
      "9427    2010-12-06 09:58:00+00:00\n",
      "199     2010-12-01 13:21:00+00:00\n",
      "12447   2010-12-06 16:57:00+00:00\n",
      "39489   2010-12-21 15:19:00+00:00\n",
      "Name: InvoiceDate, dtype: datetime64[ns, UTC]\n"
     ]
    }
   ],
   "source": [
    "import pandas as pd \n",
    "\n",
    "df = pd.read_csv('DataSets/OnlineRetail.csv')\n",
    "\n",
    "df['InvoiceDate'] = pd.to_datetime(df['InvoiceDate'], format='%Y-%m-%dT%H:%M:%SZ')\n",
    "\n",
    "df['InvoiceDate'] = df['InvoiceDate'].dt.tz_localize('UTC')\n",
    "\n",
    "print(df['InvoiceDate'].sample(5, random_state=42))"
   ]
  },
  {
   "cell_type": "markdown",
   "id": "4f1432a3",
   "metadata": {},
   "source": [
    "Did you notice that the column's dtype now contains information about the UTC time zone?\n",
    "\n",
    "What if we needed to display data to someone in New York who prefers to see datetime values ​​in their local time?\n",
    "\n",
    "In this case, we'll pass 'America/New_York' to the .dt.tz_convert() method:"
   ]
  },
  {
   "cell_type": "code",
   "execution_count": 74,
   "id": "d5330fc6",
   "metadata": {},
   "outputs": [
    {
     "name": "stdout",
     "output_type": "stream",
     "text": [
      "33553   2010-12-17 07:38:00-05:00\n",
      "9427    2010-12-06 04:58:00-05:00\n",
      "199     2010-12-01 08:21:00-05:00\n",
      "12447   2010-12-06 11:57:00-05:00\n",
      "39489   2010-12-21 10:19:00-05:00\n",
      "Name: InvoiceDate_NYC, dtype: datetime64[ns, America/New_York]\n"
     ]
    }
   ],
   "source": [
    "import pandas as pd \n",
    "\n",
    "df = pd.read_csv('DataSets/OnlineRetail.csv')\n",
    "\n",
    "df['InvoiceDate'] = pd.to_datetime(df['InvoiceDate'], format='%Y-%m-%dT%H:%M:%SZ')\n",
    "\n",
    "df['InvoiceDate'] = df['InvoiceDate'].dt.tz_localize('UTC')\n",
    "\n",
    "df['InvoiceDate_NYC'] = df['InvoiceDate'].dt.tz_convert('America/New_York')\n",
    "\n",
    "print(df['InvoiceDate_NYC'].sample(5, random_state=42))"
   ]
  }
 ],
 "metadata": {
  "kernelspec": {
   "display_name": "Python-Github_VENV-XjlEX2HA",
   "language": "python",
   "name": "python3"
  },
  "language_info": {
   "codemirror_mode": {
    "name": "ipython",
    "version": 3
   },
   "file_extension": ".py",
   "mimetype": "text/x-python",
   "name": "python",
   "nbconvert_exporter": "python",
   "pygments_lexer": "ipython3",
   "version": "3.13.2"
  }
 },
 "nbformat": 4,
 "nbformat_minor": 5
}
