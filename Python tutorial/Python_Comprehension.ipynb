{
 "cells": [
  {
   "cell_type": "markdown",
   "id": "12a2736d",
   "metadata": {},
   "source": [
    "### __Python Comprehension__\n",
    "\n",
    "In Python, a comprehension is a compact syntax for creating a new iterable (list, set, dict) from an existing iterable (list, range, dict, etc.) in a single line.\n",
    "\n",
    "Python has three main types:\n",
    "\n",
    "- List Comprehension\n",
    "\n",
    "- Set Comprehension\n",
    "\n",
    "- Dictionary Comprehension\n",
    "\n",
    "And a related one: 4. \n",
    "\n",
    "- Generator Expression"
   ]
  },
  {
   "cell_type": "markdown",
   "id": "e1663dde",
   "metadata": {},
   "source": [
    "##### __List Comprehension__\n",
    "\n",
    "_[expression for item in iterable if condition]_\n"
   ]
  },
  {
   "cell_type": "code",
   "execution_count": 2,
   "id": "6b43f271",
   "metadata": {},
   "outputs": [
    {
     "name": "stdout",
     "output_type": "stream",
     "text": [
      "[0, 4, 16, 36, 64, 100]\n"
     ]
    }
   ],
   "source": [
    "squares = [x**2 for x in range(11) if x % 2 == 0]\n",
    "print(squares)\n",
    "\n",
    "# the same for:\n",
    "\n",
    "# squares = []\n",
    "# for x in range(11):\n",
    "#     if x % 2 == 0:\n",
    "#         squares.append(x**2)\n",
    "    "
   ]
  },
  {
   "cell_type": "markdown",
   "id": "54cf949d",
   "metadata": {},
   "source": [
    "Exercise 1:\n",
    "Create a list of numbers from 1 to 10."
   ]
  },
  {
   "cell_type": "code",
   "execution_count": 9,
   "id": "039ec3d0",
   "metadata": {},
   "outputs": [
    {
     "name": "stdout",
     "output_type": "stream",
     "text": [
      "[1, 2, 3, 4, 5, 6, 7, 8, 9, 10]\n"
     ]
    }
   ],
   "source": [
    "numbers_list = [x for x in range(1, 11, 1)]\n",
    "print(numbers_list)"
   ]
  },
  {
   "cell_type": "markdown",
   "id": "4f09bac0",
   "metadata": {},
   "source": [
    "Exercise 2:\n",
    "Create a list of the squares of numbers from 1 to 10."
   ]
  },
  {
   "cell_type": "code",
   "execution_count": 12,
   "id": "52fe0b71",
   "metadata": {},
   "outputs": [
    {
     "name": "stdout",
     "output_type": "stream",
     "text": [
      "[1, 4, 9, 16, 25, 36, 49, 64, 81, 100]\n"
     ]
    }
   ],
   "source": [
    "square_list = [x**2 for x in range(1, 11, 1)]\n",
    "print(square_list)"
   ]
  },
  {
   "cell_type": "markdown",
   "id": "d24ff1be",
   "metadata": {},
   "source": [
    "Exercise 3:\n",
    "Create a list of even numbers from 0 to 20."
   ]
  },
  {
   "cell_type": "code",
   "execution_count": 14,
   "id": "5a7b159f",
   "metadata": {},
   "outputs": [
    {
     "name": "stdout",
     "output_type": "stream",
     "text": [
      "[0, 2, 4, 6, 8, 10, 12, 14, 16, 18, 20]\n"
     ]
    }
   ],
   "source": [
    "even_list = [x for x in range(21) if(x % 2) == 0]\n",
    "print(even_list)"
   ]
  },
  {
   "cell_type": "markdown",
   "id": "3cb7c8c8",
   "metadata": {},
   "source": [
    "Exercise 4:\n",
    "From a list nums = [4, 13, 9, 6, 17, 2], return a new list with only the values greater than 10."
   ]
  },
  {
   "cell_type": "code",
   "execution_count": 16,
   "id": "b4f99b9a",
   "metadata": {},
   "outputs": [
    {
     "name": "stdout",
     "output_type": "stream",
     "text": [
      "[13, 17]\n"
     ]
    }
   ],
   "source": [
    "list_nums = [4, 13, 9, 6, 17, 2]\n",
    "greater_ten_list = [item for item in list_nums if item > 10]\n",
    "\n",
    "print(greater_ten_list)"
   ]
  },
  {
   "cell_type": "markdown",
   "id": "7af4c290",
   "metadata": {},
   "source": [
    "Exercise 5:\n",
    "Create a list of \"even\" or \"odd\" for each number from 1 to 10, based on whether it's even or odd."
   ]
  },
  {
   "cell_type": "code",
   "execution_count": 18,
   "id": "325a943f",
   "metadata": {},
   "outputs": [
    {
     "name": "stdout",
     "output_type": "stream",
     "text": [
      "['odd', 'even', 'odd', 'even', 'odd', 'even', 'odd', 'even', 'odd', 'even']\n"
     ]
    }
   ],
   "source": [
    "num_list = ['even' if (num % 2) == 0 else 'odd' for num in range(1, 11)]\n",
    "print(num_list)"
   ]
  },
  {
   "cell_type": "markdown",
   "id": "149e41e9",
   "metadata": {},
   "source": [
    "##### __Set Comprehension__"
   ]
  },
  {
   "cell_type": "code",
   "execution_count": 4,
   "id": "1f3b67a5",
   "metadata": {},
   "outputs": [
    {
     "name": "stdout",
     "output_type": "stream",
     "text": [
      "{5, 6}\n"
     ]
    }
   ],
   "source": [
    "unique_lengths = {len(word) for word in [\"apple\", \"banana\", \"cherry\", \"apple\"]} # Remember A set in Python automatically removes duplicate values\n",
    "print(unique_lengths)  "
   ]
  },
  {
   "cell_type": "markdown",
   "id": "6563a9ba",
   "metadata": {},
   "source": [
    "Exercise 8:\n",
    "From this list: nums = [1, 1, 2, 2, 3, 4, 4, 5], Use a set comprehension to extract the unique squares."
   ]
  },
  {
   "cell_type": "code",
   "execution_count": 24,
   "id": "0d6c374b",
   "metadata": {},
   "outputs": [
    {
     "name": "stdout",
     "output_type": "stream",
     "text": [
      "{1, 4, 9, 16, 25}\n"
     ]
    }
   ],
   "source": [
    "nums = [1, 1, 2, 2, 3, 4, 4, 5]\n",
    "\n",
    "unique_squares = {nms**2 for nms in nums}\n",
    "\n",
    "print(unique_squares)"
   ]
  },
  {
   "cell_type": "markdown",
   "id": "c5583d0d",
   "metadata": {},
   "source": [
    "##### __Dictionary Comprehension__\n",
    "\n",
    "{key_expr: value_expr for item in iterable if condition}"
   ]
  },
  {
   "cell_type": "code",
   "execution_count": 5,
   "id": "7c3f2b96",
   "metadata": {},
   "outputs": [
    {
     "name": "stdout",
     "output_type": "stream",
     "text": [
      "{0: 0, 1: 1, 2: 4, 3: 9, 4: 16, 5: 25}\n"
     ]
    }
   ],
   "source": [
    "squares_dict = {x: x**2 for x in range(6)}\n",
    "print(squares_dict) \n"
   ]
  },
  {
   "cell_type": "markdown",
   "id": "e9040fdd",
   "metadata": {},
   "source": [
    "Exercise 6:\n",
    "Create a dictionary where the keys are numbers 1 through 5 and the values are their cubes."
   ]
  },
  {
   "cell_type": "code",
   "execution_count": 21,
   "id": "e5392a39",
   "metadata": {},
   "outputs": [
    {
     "name": "stdout",
     "output_type": "stream",
     "text": [
      "{1: 1, 2: 8, 3: 27, 4: 64, 5: 125}\n"
     ]
    }
   ],
   "source": [
    "cube_dictionary = {nm:nm**3 for nm in range(1, 6, 1)}\n",
    "print(cube_dictionary)"
   ]
  },
  {
   "cell_type": "markdown",
   "id": "a6abcba8",
   "metadata": {},
   "source": [
    "Exercise 7:\n",
    "Given a list of strings, create a dictionary where keys are the strings and values are their lengths."
   ]
  },
  {
   "cell_type": "code",
   "execution_count": 23,
   "id": "0923d704",
   "metadata": {},
   "outputs": [
    {
     "name": "stdout",
     "output_type": "stream",
     "text": [
      "{'python': 6, 'comprehension': 13, 'exercise': 8, 'Luis': 4}\n"
     ]
    }
   ],
   "source": [
    "words = ['python', 'comprehension', 'exercise', 'Luis']\n",
    "\n",
    "valen_dictionary = {itm:len(itm) for itm in words}\n",
    "\n",
    "print(valen_dictionary)"
   ]
  },
  {
   "cell_type": "markdown",
   "id": "30e6b437",
   "metadata": {},
   "source": [
    "##### __Nested Comprehensions__"
   ]
  },
  {
   "cell_type": "markdown",
   "id": "36827268",
   "metadata": {},
   "source": [
    "Exercise 9:\n",
    "Flatten the following list of lists into a single list."
   ]
  },
  {
   "cell_type": "code",
   "execution_count": null,
   "id": "8f8d376c",
   "metadata": {},
   "outputs": [
    {
     "name": "stdout",
     "output_type": "stream",
     "text": [
      "[1, 2, 3, 4, 5, 6]\n"
     ]
    }
   ],
   "source": [
    "matrix = [[1, 2], [3, 4], [5, 6]]\n",
    "\n",
    "single_list = [n for row in matrix for n in row] # first 'for' is outer loop, last 'for' is inner loop\n",
    "\n",
    "print(single_list)"
   ]
  },
  {
   "cell_type": "markdown",
   "id": "b013e1ea",
   "metadata": {},
   "source": [
    " Exercise 2 – Create a multiplication table (1–5)\n",
    "Create a list of lists (a 2D matrix) where the value at position [i][j] is i * j\n",
    "Rows and columns from 1 to 5."
   ]
  },
  {
   "cell_type": "code",
   "execution_count": 38,
   "id": "6d2727ee",
   "metadata": {},
   "outputs": [
    {
     "name": "stdout",
     "output_type": "stream",
     "text": [
      "[[1, 2, 3, 4, 5], [2, 4, 6, 8, 10], [3, 6, 9, 12, 15], [4, 8, 12, 16, 20], [5, 10, 15, 20, 25]]\n"
     ]
    }
   ],
   "source": [
    "base_table = [1, 2, 3, 4, 5]\n",
    "\n",
    "mult_table = [[n*r for n in base_table] for r in base_table]\n",
    "\n",
    "print(mult_table)"
   ]
  },
  {
   "cell_type": "markdown",
   "id": "6cb09cad",
   "metadata": {},
   "source": [
    " Exercise 3 – Extract diagonals from a matrix\n",
    "Given this matrix:"
   ]
  },
  {
   "cell_type": "code",
   "execution_count": 42,
   "id": "c04fc381",
   "metadata": {},
   "outputs": [
    {
     "name": "stdout",
     "output_type": "stream",
     "text": [
      "[1, 5, 9]\n"
     ]
    }
   ],
   "source": [
    "matrix = [[1, 2, 3],\n",
    "          [4, 5, 6],\n",
    "          [7, 8, 9]]\n",
    "\n",
    "diag_list = [matrix[i][i] for i in range(len(matrix))]\n",
    "\n",
    "print(diag_list)"
   ]
  },
  {
   "cell_type": "markdown",
   "id": "acc1b12a",
   "metadata": {},
   "source": [
    "Exercise 4 – Transpose a matrix"
   ]
  },
  {
   "cell_type": "code",
   "execution_count": null,
   "id": "294de60c",
   "metadata": {},
   "outputs": [
    {
     "name": "stdout",
     "output_type": "stream",
     "text": [
      "[[1, 4], [2, 5], [3, 6]]\n"
     ]
    }
   ],
   "source": [
    "matrix = [[1, 2, 3],\n",
    "          [4, 5, 6]]\n",
    "\n",
    "t_matrix = [[row[i] for row in matrix] for i in range(len(matrix[0]))] # In a nested comprehension, first 'for' is inner loop, last 'for' is outer loop\n",
    "print(t_matrix)"
   ]
  },
  {
   "cell_type": "markdown",
   "id": "9d347f5c",
   "metadata": {},
   "source": [
    "Exercise 5 – Filtered flattening, Flatten the matrix into a single list, but only include even numbers."
   ]
  },
  {
   "cell_type": "code",
   "execution_count": 52,
   "id": "319eaab6",
   "metadata": {},
   "outputs": [
    {
     "name": "stdout",
     "output_type": "stream",
     "text": [
      "[2, 4, 6, 8]\n"
     ]
    }
   ],
   "source": [
    "matrix = [[1, 2, 3],\n",
    "          [4, 5, 6],\n",
    "          [7, 8, 9]]\n",
    "\n",
    "flat_matrix = [val for row in matrix for val in row if val%2 == 0 ]\n",
    "\n",
    "print(flat_matrix)"
   ]
  },
  {
   "cell_type": "markdown",
   "id": "6482a9bd",
   "metadata": {},
   "source": [
    "##### __Generator Expression__\n",
    "\n",
    "A generator is a special kind of iterator that produces values one at a time, on demand. Instead of creating and storing a whole list in memory, it yields one item, waits, and resumes right where it left off the next time it's called.\n",
    "\n",
    "(expression for item in iterable if condition)\n",
    "\n",
    "Why Use Generators?\n",
    "\n",
    "✅ Memory efficient\tDoesn’t store all results in memory\n",
    "\n",
    "🔁 Infinite sequences\tCan generate infinite streams (e.g., sensor data)\n",
    "\n",
    "📈 Lazy evaluation\tOnly computes when needed\n",
    "\n",
    "⚙️ Can be pipelined\tCombine with other iterators for data processing"
   ]
  },
  {
   "cell_type": "code",
   "execution_count": 2,
   "id": "c60eb5e8",
   "metadata": {},
   "outputs": [
    {
     "name": "stdout",
     "output_type": "stream",
     "text": [
      "0\n",
      "1\n",
      "4\n",
      "9\n"
     ]
    }
   ],
   "source": [
    "gen = (x**2 for x in range(10))\n",
    "print(next(gen))  \n",
    "print(next(gen))\n",
    "print(next(gen))\n",
    "print(next(gen))"
   ]
  },
  {
   "cell_type": "code",
   "execution_count": 5,
   "id": "1c8ca58c",
   "metadata": {},
   "outputs": [
    {
     "name": "stdout",
     "output_type": "stream",
     "text": [
      "<generator object <genexpr> at 0x000002A5B95DAE90>\n"
     ]
    }
   ],
   "source": [
    "my_gen = (x * 2 for x in range(5))\n",
    "print(my_gen)"
   ]
  },
  {
   "cell_type": "code",
   "execution_count": 6,
   "id": "90745e0d",
   "metadata": {},
   "outputs": [
    {
     "name": "stdout",
     "output_type": "stream",
     "text": [
      "0\n",
      "2\n"
     ]
    }
   ],
   "source": [
    "print(next(my_gen)) \n",
    "print(next(my_gen))"
   ]
  }
 ],
 "metadata": {
  "kernelspec": {
   "display_name": "Python-Github_VENV-XjlEX2HA",
   "language": "python",
   "name": "python3"
  },
  "language_info": {
   "codemirror_mode": {
    "name": "ipython",
    "version": 3
   },
   "file_extension": ".py",
   "mimetype": "text/x-python",
   "name": "python",
   "nbconvert_exporter": "python",
   "pygments_lexer": "ipython3",
   "version": "3.13.2"
  }
 },
 "nbformat": 4,
 "nbformat_minor": 5
}
