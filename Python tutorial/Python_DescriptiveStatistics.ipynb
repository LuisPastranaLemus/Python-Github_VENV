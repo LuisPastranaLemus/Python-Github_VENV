{
 "cells": [
  {
   "cell_type": "markdown",
   "id": "a32ac1cb",
   "metadata": {},
   "source": [
    "### Python Descriptive Statistics"
   ]
  },
  {
   "cell_type": "markdown",
   "id": "38b0a550",
   "metadata": {},
   "source": [
    "##### Continuous and discrete variables\n",
    "\n",
    "In the data manipulation sprint, you learned about categorical and quantitative variables.\n",
    "\n",
    "Recall that a `quantitative variable` _(sometimes called a \"numeric variable\")_ takes numerical values ​​from a range (e.g., 1, 2, 3.78, and -100.5), while a `categorical variable` _(sometimes called a \"qualitative variable\")_ takes values ​​from a limited set of non-numeric values.\n",
    "\n",
    "For example, education level is a categorical variable that can only take exact and limited values, such as PhD, Master's, etc. Although the number of options may be large, especially when considering secondary and high school education, the total number of these options is still a limited set of options to choose from.\n",
    "\n",
    "Let's now look at quantitative variables in more detail. They can be `discrete` or `continuous`.\n",
    "\n",
    "__Continuous variables__ can take on numerical values ​​at any level of precision. This means that something like wait time (which can be measured in hours, minutes, seconds, for example, 2.5 minutes) or weight (kilograms, grams, for example, 4.275 kg) are examples of continuous variables, as they can be measured continuously.\n",
    "\n",
    "In contrast, when measuring __discrete variables__, only whole numbers can be used without the possibility of fractionalizing them. For example, you can't have 4.25 pythons or a cat with 2.4 eyes. Both would have to be _discrete variables_.\n",
    "\n",
    "However, _discrete variables can have values ​​other than whole numbers_. Let's say there's an online store that sells stuffing for beanbag chairs. Since customers might not need a whole bag of stuffing to fill one chair, the store can offer half-size shipments. In that case, the number of bags sold in a month could be any non-negative number divisible by half: 0, 1/2, 1, 1 1/2, 2…\n",
    "\n",
    "This variable accepts values ​​other than whole numbers (such as 1/2, 1 1/2) but is still discrete. In other words, it is not possible to use values ​​like 3/4 or 5.62.\n",
    "\n",
    "In conclusion, a _discrete variable_ accepts numbers that have an exact interval between values.\n",
    "\n"
   ]
  },
  {
   "cell_type": "markdown",
   "id": "cdd3d0eb",
   "metadata": {},
   "source": [
    "##### Frequency Histograms\n",
    "\n",
    "Remember the histograms we built in the Data Manipulation sprint? Here's the histogram obtained by rolling two dice 1,000 times. We have the possible values ​​on the horizontal axis and the frequency on the vertical axis:\n",
    "\n",
    "Can you guess why it looks like this? Why will we get the sum of 7 more often than the sum of 12?\n",
    "\n",
    "<img src=\"Pics/Hist_discrt.png\" alt=\"Graphs\" width=\"900\" height=\"300\">\n",
    "\n",
    "When rolling a pair of dice, we expect a sum of 2 to come up, on average, once in 36 rolls. Similarly, we expect a sum of 3 to come up twice (as 1 + 2 and as 2 + 1), a sum of 4 to come up three times (as 1 + 3, 2 + 2, and 3 + 1), and so on. The histogram above shows what actually happens when the dice are rolled. As a result, we expect the average (mean) of the numbers rolled to be 7, which is exactly what our histogram shows.\n",
    "\n",
    "_Histograms work for discrete variables_ because they have a predetermined set of values, and each value can be easily used to measure frequency.\n",
    "\n",
    "But how do you create a histogram for a continuous variable? Remember that the values ​​of continuous variables can have any degree of precision and can be very close to each other without being equal (e.g., 5 and 5.00001). Therefore, each individual value would have a frequency of 1, and the histogram would convey no useful information:\n",
    "\n",
    "<img src=\"Pics/Hist_discrt2.png\" alt=\"Graphs\" width=\"900\" height=\"300\">"
   ]
  },
  {
   "cell_type": "markdown",
   "id": "cdabbcc6",
   "metadata": {},
   "source": [
    "So how do we create a histogram for continuous variables? The idea of ​​dividing the range of possible values ​​into intervals and then counting the number of times the values ​​fall into each interval seems reasonable.\n",
    "\n",
    "When constructing a histogram, we can adjust the number of intervals used by specifying the bins= parameter. For example, if we set bins=4, we will create 4 intervals, which works perfectly for discrete variables. However, for continuous variables, we need to pass a list containing the interval boundaries, rather than a single integer such as 4.\n",
    "\n",
    "Compare the two histograms below. The blue one was created with the bins= parameter set to 4, while the orange one was plotted from a list containing the interval boundaries:"
   ]
  },
  {
   "cell_type": "code",
   "execution_count": 1,
   "id": "7101517a",
   "metadata": {},
   "outputs": [
    {
     "data": {
      "text/plain": [
       "<Axes: >"
      ]
     },
     "execution_count": 1,
     "metadata": {},
     "output_type": "execute_result"
    },
    {
     "data": {
      "image/png": "[encoded data removed]",
      "text/plain": [
       "<Figure size 640x480 with 1 Axes>"
      ]
     },
     "metadata": {},
     "output_type": "display_data"
    }
   ],
   "source": [
    "import pandas as pd\n",
    "\n",
    "data = pd.Series([11, 20, 22, 31, 32, 33, 41, 42, 43, 44, 51, 52, 53, 54, 55, 61, 62, 63, 64, 65, 66, 71, 72, 73, 74, 75, 76, 77, 81, 82, 83, 84, 85, 86, 87, 88, 91, 92, 93, 94, 95, 96, 97, 98, 99])\n",
    "\n",
    "data.hist(bins=4, alpha=0.5) # create a histogram with four bins\n",
    "\n",
    "data.hist(bins=[11, 20, 30, 40, 50, 60, 70, 80, 90, 99], alpha=0.7) # Constructs a histogram with nine bins whose boundaries are enumerated, where the alpha argument gives us an opaque graph"
   ]
  },
  {
   "cell_type": "markdown",
   "id": "50268772",
   "metadata": {},
   "source": [
    "By passing a list as the value for bins=, we create 9 bins: 11 to 20, then 20 to 30, and so on. The alpha= parameter is used to adjust the transparency, allowing both charts to be displayed in a single graph."
   ]
  },
  {
   "cell_type": "markdown",
   "id": "9f621304",
   "metadata": {},
   "source": [
    "##### __Exercise 01__\n",
    "\n",
    "Let's say the company you work for has updated the interface of the shopping cart page on its website. Your team wants to know how complicated it seems to users, so you decide to study the time it takes customers to place their orders—that is, the number of seconds it takes from when a customer starts the checkout process until they complete it.\n",
    "\n",
    "Only one day after the new interface was launched, you received enough readings to build a histogram.\n",
    "\n",
    "You have been provided with a dataset containing order times measured in seconds and stored in the variable pur_time. Your goal is to create a histogram with bin boundaries at the points [15, 30, 45, 60, 75, 90] and set the transparency to 0.7."
   ]
  },
  {
   "cell_type": "code",
   "execution_count": 3,
   "id": "829dcc10",
   "metadata": {},
   "outputs": [
    {
     "data": {
      "text/plain": [
       "<Axes: >"
      ]
     },
     "execution_count": 3,
     "metadata": {},
     "output_type": "execute_result"
    },
    {
     "data": {
      "image/png": "[encoded data removed]",
      "text/plain": [
       "<Figure size 640x480 with 1 Axes>"
      ]
     },
     "metadata": {},
     "output_type": "display_data"
    }
   ],
   "source": [
    "import pandas as pd\n",
    "\n",
    "# the pur_time dataset (from the English purchase_time)\n",
    "pur_time = pd.Series([36, 44, 73, 32, 44, 29, 63, 60, 55, 74, 61, 26, 76, 40, 39, 28, 69, 61, 54, 58, 47, 41, 70, 51, 58, 36, 71, 47, 74, 59, 50, 78, 59, 48, 67, 53, 67, 52, 38, 55, 53, 53, 43, 77, 44, 63, 63, 54])\n",
    "\n",
    "pur_time.hist(bins=[15, 30, 45, 60, 75, 90], alpha=0.7)"
   ]
  },
  {
   "cell_type": "markdown",
   "id": "f60af2d8",
   "metadata": {},
   "source": [
    "##### __Exercise 02__\n",
    "\n",
    "Use the order time data from Exercise 1 again and construct two histograms with the following interval limits:\n",
    "\n",
    "- [15, 35, 55, 75, 90]\n",
    "- [15, 45, 55, 90]\n",
    "\n",
    "Set the transparency to 0.5 for both.\n",
    "\n"
   ]
  },
  {
   "cell_type": "code",
   "execution_count": 4,
   "id": "beaa114c",
   "metadata": {},
   "outputs": [
    {
     "data": {
      "text/plain": [
       "<Axes: >"
      ]
     },
     "execution_count": 4,
     "metadata": {},
     "output_type": "execute_result"
    },
    {
     "data": {
      "image/png": "[encoded data removed]",
      "text/plain": [
       "<Figure size 640x480 with 1 Axes>"
      ]
     },
     "metadata": {},
     "output_type": "display_data"
    }
   ],
   "source": [
    "import pandas as pd\n",
    "\n",
    "# the pur_time dataset (from the English purchase_time)\n",
    "pur_time = pd.Series([36, 44, 73, 32, 44, 29, 63, 60, 55, 74, 61, 26, 76, 40, 39, 28, 69, 61, 54, 58, 47, 41, 70, 51, 58, 36, 71, 47, 74, 59, 50, 78, 59, 48, 67, 53, 67, 52, 38, 55, 53, 53, 43, 77, 44, 63, 63, 54])\n",
    "\n",
    "pur_time.hist(bins=[15, 35, 55, 75, 90], alpha=0.5)\n",
    "pur_time.hist(bins=[15, 45, 55, 90], alpha=0.5)"
   ]
  },
  {
   "cell_type": "markdown",
   "id": "aef20c5a",
   "metadata": {},
   "source": [
    "Keep in mind that two histograms representing the same data can look completely different, depending on the intervals used. The first histogram would have you believe that users typically spend 55 to 90 seconds shopping, while the second histogram indicates it's actually 35 to 55 seconds. Which one is correct? Or could both be incorrect?"
   ]
  },
  {
   "cell_type": "markdown",
   "id": "999ab5cb",
   "metadata": {},
   "source": [
    "##### Density Histograms\n",
    "\n",
    "As we saw in the last exercise of the previous lesson, histograms have several drawbacks when working with continuous variables. The frequency of values ​​falling within certain intervals depends largely on the boundaries of those intervals, also known as bins. In real life, it may be necessary to set intervals of different widths. Increasing the size of the intervals should cause changes in the frequency they capture. In general, the larger the interval, the higher the frequency.\n",
    "\n",
    "Let's look at the following example of a histogram with three intervals of different widths:\n",
    "\n",
    "<img src=\"Pics/Hist_binswidth.png\" alt=\"Graphs\" width=\"900\" height=\"450\">"
   ]
  },
  {
   "cell_type": "markdown",
   "id": "6d231cda",
   "metadata": {},
   "source": [
    "Let's take a quick look at the bars and take some notes:\n",
    "\n",
    "- The first bar has a width of 2 (from 2 to 4) and a frequency of 3.\n",
    "- The second bar has a width of 4 (from 4 to 8) and a frequency of 6.\n",
    "- The last bar has a width of 2 (from 8 to 10) and a frequency of 4.\n",
    "\n",
    "Let's calculate the actual areas of the bars and compare them. Remember that the area of ​​a rectangle is equal to its width multiplied by its height:\n",
    "\n",
    "- The area of ​​the first bar is 2 x 3 = 6.\n",
    "- The area of ​​the second bar is 4 x 6 = 24.\n",
    "- The area of ​​the third bar is 2 x 4 = 8.\n",
    "\n",
    "<img src=\"Pics/Hist_binswidth_area.png\" alt=\"Graphs\" width=\"900\" height=\"450\">"
   ]
  }
 ],
 "metadata": {
  "kernelspec": {
   "display_name": "Win11_Python-PipVenv-Github-Hmb7GD39",
   "language": "python",
   "name": "python3"
  },
  "language_info": {
   "codemirror_mode": {
    "name": "ipython",
    "version": 3
   },
   "file_extension": ".py",
   "mimetype": "text/x-python",
   "name": "python",
   "nbconvert_exporter": "python",
   "pygments_lexer": "ipython3",
   "version": "3.13.2"
  }
 },
 "nbformat": 4,
 "nbformat_minor": 5
}
