{
 "cells": [
  {
   "cell_type": "markdown",
   "id": "a32ac1cb",
   "metadata": {},
   "source": [
    "### Python Descriptive Statistics"
   ]
  },
  {
   "cell_type": "markdown",
   "id": "38b0a550",
   "metadata": {},
   "source": [
    "##### Continuous and discrete variables\n",
    "\n",
    "In the data manipulation sprint, you learned about categorical and quantitative variables.\n",
    "\n",
    "Recall that a `quantitative variable` _(sometimes called a \"numeric variable\")_ takes numerical values ​​from a range (e.g., 1, 2, 3.78, and -100.5), while a `categorical variable` _(sometimes called a \"qualitative variable\")_ takes values ​​from a limited set of non-numeric values.\n",
    "\n",
    "For example, education level is a categorical variable that can only take exact and limited values, such as PhD, Master's, etc. Although the number of options may be large, especially when considering secondary and high school education, the total number of these options is still a limited set of options to choose from.\n",
    "\n",
    "Let's now look at quantitative variables in more detail. They can be `discrete` or `continuous`.\n",
    "\n",
    "__Continuous variables__ can take on numerical values ​​at any level of precision. This means that something like wait time (which can be measured in hours, minutes, seconds, for example, 2.5 minutes) or weight (kilograms, grams, for example, 4.275 kg) are examples of continuous variables, as they can be measured continuously.\n",
    "\n",
    "In contrast, when measuring __discrete variables__, only whole numbers can be used without the possibility of fractionalizing them. For example, you can't have 4.25 pythons or a cat with 2.4 eyes. Both would have to be _discrete variables_.\n",
    "\n",
    "However, _discrete variables can have values ​​other than whole numbers_. Let's say there's an online store that sells stuffing for beanbag chairs. Since customers might not need a whole bag of stuffing to fill one chair, the store can offer half-size shipments. In that case, the number of bags sold in a month could be any non-negative number divisible by half: 0, 1/2, 1, 1 1/2, 2…\n",
    "\n",
    "This variable accepts values ​​other than whole numbers (such as 1/2, 1 1/2) but is still discrete. In other words, it is not possible to use values ​​like 3/4 or 5.62.\n",
    "\n",
    "In conclusion, a _discrete variable_ accepts numbers that have an exact interval between values.\n",
    "\n"
   ]
  },
  {
   "cell_type": "markdown",
   "id": "cdd3d0eb",
   "metadata": {},
   "source": [
    "##### Frequency Histograms\n",
    "\n",
    "Remember the histograms we built in the Data Manipulation sprint? Here's the histogram obtained by rolling two dice 1,000 times. We have the possible values ​​on the horizontal axis and the frequency on the vertical axis:\n",
    "\n",
    "Can you guess why it looks like this? Why will we get the sum of 7 more often than the sum of 12?\n",
    "\n",
    "<img src=\"Pics/Hist_discrt.png\" alt=\"Graphs\" width=\"900\" height=\"300\">\n",
    "\n",
    "When rolling a pair of dice, we expect a sum of 2 to come up, on average, once in 36 rolls. Similarly, we expect a sum of 3 to come up twice (as 1 + 2 and as 2 + 1), a sum of 4 to come up three times (as 1 + 3, 2 + 2, and 3 + 1), and so on. The histogram above shows what actually happens when the dice are rolled. As a result, we expect the average (mean) of the numbers rolled to be 7, which is exactly what our histogram shows.\n",
    "\n",
    "_Histograms work for discrete variables_ because they have a predetermined set of values, and each value can be easily used to measure frequency.\n",
    "\n",
    "But how do you create a histogram for a continuous variable? Remember that the values ​​of continuous variables can have any degree of precision and can be very close to each other without being equal (e.g., 5 and 5.00001). Therefore, each individual value would have a frequency of 1, and the histogram would convey no useful information:\n",
    "\n",
    "<img src=\"Pics/Hist_discrt2.png\" alt=\"Graphs\" width=\"900\" height=\"300\">"
   ]
  },
  {
   "cell_type": "markdown",
   "id": "cdabbcc6",
   "metadata": {},
   "source": [
    "So how do we create a histogram for continuous variables? The idea of ​​dividing the range of possible values ​​into intervals and then counting the number of times the values ​​fall into each interval seems reasonable.\n",
    "\n",
    "When constructing a histogram, we can adjust the number of intervals used by specifying the bins= parameter. For example, if we set bins=4, we will create 4 intervals, which works perfectly for discrete variables. However, for continuous variables, we need to pass a list containing the interval boundaries, rather than a single integer such as 4.\n",
    "\n",
    "Compare the two histograms below. The blue one was created with the bins= parameter set to 4, while the orange one was plotted from a list containing the interval boundaries:"
   ]
  },
  {
   "cell_type": "code",
   "execution_count": 1,
   "id": "7101517a",
   "metadata": {},
   "outputs": [
    {
     "data": {
      "text/plain": [
       "<Axes: >"
      ]
     },
     "execution_count": 1,
     "metadata": {},
     "output_type": "execute_result"
    },
    {
     "data": {
      "image/png": "[encoded data removed]",
      "text/plain": [
       "<Figure size 640x480 with 1 Axes>"
      ]
     },
     "metadata": {},
     "output_type": "display_data"
    }
   ],
   "source": [
    "import pandas as pd\n",
    "\n",
    "data = pd.Series([11, 20, 22, 31, 32, 33, 41, 42, 43, 44, 51, 52, 53, 54, 55, 61, 62, 63, 64, 65, 66, 71, 72, 73, 74, 75, 76, 77, 81, 82, 83, 84, 85, 86, 87, 88, 91, 92, 93, 94, 95, 96, 97, 98, 99])\n",
    "\n",
    "data.hist(bins=4, alpha=0.5) # create a histogram with four bins\n",
    "\n",
    "data.hist(bins=[11, 20, 30, 40, 50, 60, 70, 80, 90, 99], alpha=0.7) # Constructs a histogram with nine bins whose boundaries are enumerated, where the alpha argument gives us an opaque graph"
   ]
  },
  {
   "cell_type": "markdown",
   "id": "50268772",
   "metadata": {},
   "source": [
    "By passing a list as the value for bins=, we create 9 bins: 11 to 20, then 20 to 30, and so on. The alpha= parameter is used to adjust the transparency, allowing both charts to be displayed in a single graph."
   ]
  },
  {
   "cell_type": "markdown",
   "id": "9f621304",
   "metadata": {},
   "source": [
    "##### __Exercise 01__\n",
    "\n",
    "Let's say the company you work for has updated the interface of the shopping cart page on its website. Your team wants to know how complicated it seems to users, so you decide to study the time it takes customers to place their orders—that is, the number of seconds it takes from when a customer starts the checkout process until they complete it.\n",
    "\n",
    "Only one day after the new interface was launched, you received enough readings to build a histogram.\n",
    "\n",
    "You have been provided with a dataset containing order times measured in seconds and stored in the variable pur_time. Your goal is to create a histogram with bin boundaries at the points [15, 30, 45, 60, 75, 90] and set the transparency to 0.7."
   ]
  },
  {
   "cell_type": "code",
   "execution_count": 3,
   "id": "829dcc10",
   "metadata": {},
   "outputs": [
    {
     "data": {
      "text/plain": [
       "<Axes: >"
      ]
     },
     "execution_count": 3,
     "metadata": {},
     "output_type": "execute_result"
    },
    {
     "data": {
      "image/png": "[encoded data removed]",
      "text/plain": [
       "<Figure size 640x480 with 1 Axes>"
      ]
     },
     "metadata": {},
     "output_type": "display_data"
    }
   ],
   "source": [
    "import pandas as pd\n",
    "\n",
    "# the pur_time dataset (from the English purchase_time)\n",
    "pur_time = pd.Series([36, 44, 73, 32, 44, 29, 63, 60, 55, 74, 61, 26, 76, 40, 39, 28, 69, 61, 54, 58, 47, 41, 70, 51, 58, 36, 71, 47, 74, 59, 50, 78, 59, 48, 67, 53, 67, 52, 38, 55, 53, 53, 43, 77, 44, 63, 63, 54])\n",
    "\n",
    "pur_time.hist(bins=[15, 30, 45, 60, 75, 90], alpha=0.7)"
   ]
  },
  {
   "cell_type": "markdown",
   "id": "f60af2d8",
   "metadata": {},
   "source": [
    "##### __Exercise 02__\n",
    "\n",
    "Use the order time data from Exercise 1 again and construct two histograms with the following interval limits:\n",
    "\n",
    "- [15, 35, 55, 75, 90]\n",
    "- [15, 45, 55, 90]\n",
    "\n",
    "Set the transparency to 0.5 for both.\n",
    "\n"
   ]
  },
  {
   "cell_type": "code",
   "execution_count": 4,
   "id": "beaa114c",
   "metadata": {},
   "outputs": [
    {
     "data": {
      "text/plain": [
       "<Axes: >"
      ]
     },
     "execution_count": 4,
     "metadata": {},
     "output_type": "execute_result"
    },
    {
     "data": {
      "image/png": "[encoded data removed]",
      "text/plain": [
       "<Figure size 640x480 with 1 Axes>"
      ]
     },
     "metadata": {},
     "output_type": "display_data"
    }
   ],
   "source": [
    "import pandas as pd\n",
    "\n",
    "# the pur_time dataset (from the English purchase_time)\n",
    "pur_time = pd.Series([36, 44, 73, 32, 44, 29, 63, 60, 55, 74, 61, 26, 76, 40, 39, 28, 69, 61, 54, 58, 47, 41, 70, 51, 58, 36, 71, 47, 74, 59, 50, 78, 59, 48, 67, 53, 67, 52, 38, 55, 53, 53, 43, 77, 44, 63, 63, 54])\n",
    "\n",
    "pur_time.hist(bins=[15, 35, 55, 75, 90], alpha=0.5)\n",
    "pur_time.hist(bins=[15, 45, 55, 90], alpha=0.5)"
   ]
  },
  {
   "cell_type": "markdown",
   "id": "aef20c5a",
   "metadata": {},
   "source": [
    "Keep in mind that two histograms representing the same data can look completely different, depending on the intervals used. The first histogram would have you believe that users typically spend 55 to 90 seconds shopping, while the second histogram indicates it's actually 35 to 55 seconds. Which one is correct? Or could both be incorrect?"
   ]
  },
  {
   "cell_type": "markdown",
   "id": "999ab5cb",
   "metadata": {},
   "source": [
    "##### Density Histograms\n",
    "\n",
    "As we saw in the last exercise of the previous lesson, histograms have several drawbacks when working with continuous variables. The frequency of values ​​falling within certain intervals depends largely on the boundaries of those intervals, also known as bins. In real life, it may be necessary to set intervals of different widths. Increasing the size of the intervals should cause changes in the frequency they capture. In general, the larger the interval, the higher the frequency.\n",
    "\n",
    "Let's look at the following example of a histogram with three intervals of different widths:\n",
    "\n",
    "<img src=\"Pics/Hist_binswidth.png\" alt=\"Graphs\" width=\"900\" height=\"450\">"
   ]
  },
  {
   "cell_type": "markdown",
   "id": "6d231cda",
   "metadata": {},
   "source": [
    "Let's take a quick look at the bars and take some notes:\n",
    "\n",
    "- The first bar has a width of 2 (from 2 to 4) and a frequency of 3.\n",
    "- The second bar has a width of 4 (from 4 to 8) and a frequency of 6.\n",
    "- The last bar has a width of 2 (from 8 to 10) and a frequency of 4.\n",
    "\n",
    "Let's calculate the actual areas of the bars and compare them. Remember that the area of ​​a rectangle is equal to its width multiplied by its height:\n",
    "\n",
    "- The area of ​​the first bar is 2 x 3 = 6.\n",
    "- The area of ​​the second bar is 4 x 6 = 24.\n",
    "- The area of ​​the third bar is 2 x 4 = 8.\n",
    "\n",
    "\n",
    "\n",
    "<img src=\"Pics/Hist_binswidth_area.png\" alt=\"Graphs\" width=\"900\" height=\"450\">"
   ]
  },
  {
   "cell_type": "markdown",
   "id": "63054c98",
   "metadata": {},
   "source": [
    "Although the frequency of the second bar is twice that of the first (6 versus 3), its area is, in comparison, four times larger (24 versus 6). How can we account for differences in area size when comparing frequencies that fall into different intervals?\n",
    "\n",
    "One alternative would be to display the frequency density instead of the frequency itself. But what is frequency density, and how can we go from normal frequency to frequency density? Now let's explore this concept!\n",
    "\n",
    "`To calculate the frequency density, we divide the frequency by the interval width.`\n",
    "\n",
    "To calculate frequency density, divide the frequency (the height of a bar) by the width of the bin:\n",
    "\n",
    "- The frequency density of the first bar will be 1.5 (3 divided by 2).\n",
    "- The frequency density of the second bar will be 1.5 (6 divided by 4).\n",
    "- The density of the third bar will be 2 (4 divided by 2).\n",
    "\n",
    "Let's rebuild our graph, but this time the Y-axis will show the frequency density instead of the normal frequency:\n",
    "\n",
    "<img src=\"Pics/frequence_density.png\" alt=\"Graphs\" width=\"900\" height=\"450\">"
   ]
  },
  {
   "cell_type": "markdown",
   "id": "2b5fa8c7",
   "metadata": {},
   "source": [
    "A histogram that shows frequency density rather than the frequency itself, as we just explained, is called a density histogram.\n",
    "\n",
    "Now, let's calculate the areas of the bars in the density histogram we just constructed:\n",
    "\n",
    "- The area of ​​the first bar is 2 x 1.5 = 3.\n",
    "- The area of ​​the second bar is 4 x 1.5 = 6.\n",
    "- The area of ​​the third bar is 2 x 2 = 4.\n",
    "\n",
    "Density histograms, similar to regular histograms, are also used to display frequency distributions. These areas represent the actual differences between frequencies. To put it simply, each area represents a frequency. The larger the area of ​​a bar, the higher its frequency. This is an alternative way we can visualize frequencies.\n",
    "\n",
    "Typically, when we switch to frequency density graphs, we can change the way we display the distribution, using curves instead of bars. Let's look at another example that clearly illustrates this:\n",
    "\n",
    "<img src=\"Pics/Densitygraph_hist.png\" alt=\"Graphs\" width=\"900\" height=\"450\">"
   ]
  },
  {
   "cell_type": "markdown",
   "id": "fd808f1b",
   "metadata": {},
   "source": [
    "The density curve shown above connects the peaks of the bars and illustrates the distribution of arrival delay times in minutes. We've kept the bars next to the curve to show how the density curve and the density histogram relate, but the bars are no longer necessary.\n",
    "\n",
    "Everything works the same as with density histograms: the area under the curve between two values ​​corresponds to the frequency of the values ​​falling within that interval. However, there is a difference on the Y-axis. Did you notice? Now the values ​​are in a different interval, and the axis title is Density. What happened? This isn't magic, but another convention commonly used to visualize frequency density.\n",
    "\n",
    "The numbers on the Y-axis are now percentages. For example, 0.01 is 1% of the total area under the curve, 0.02 is 2% of the total area under the curve, etc. The total area is the total number of cases in our dataset.\n",
    "\n",
    "In conclusion, both density histograms and density curves convey the same information as normal frequency histograms, i.e., frequencies. However, the difference is that the actual frequency values ​​now correspond to areas."
   ]
  },
  {
   "cell_type": "markdown",
   "id": "08e37c66",
   "metadata": {},
   "source": [
    "##### Measures of Position and Variability\n",
    "\n",
    "_Measures of Position_\n",
    "\n",
    "In the previous sprint, you became familiar with medians and means, which are values ​​used to describe numerical data. These values ​​are also called measures of position. Medians and means allow you to find an approximate value that characterizes or represents a given dataset.\n",
    "\n",
    "Both medians and means have their own advantages. To calculate a mean, you need all the values ​​in the dataset. This is because when we calculate a mean, we add up all the values ​​and divide the resulting sum by the total number of values. The mean is sometimes also called an algebraic measure of position.\n",
    "\n",
    "The median represents the values ​​located in the center of a distribution. Let's briefly review what a median is:\n",
    "\n",
    "Observe the distribution of a numerical data set:\n",
    "\n",
    "[0, 1, 2, 3, 4, 5, 6, 7, 8, 9, 10]\n",
    "\n",
    "which corresponds to the median of this distribution?, 5 is the median, the value right in the middle of a distribution.\n",
    "\n",
    "The median is a measure of structural position. You could change almost every value in the dataset, and the median would still remain the same. As an example, let's continue working with the questionnaire dataset above and calculate the mean and median using Python.\n"
   ]
  },
  {
   "cell_type": "code",
   "execution_count": 1,
   "id": "8a8fe939",
   "metadata": {},
   "outputs": [
    {
     "name": "stdout",
     "output_type": "stream",
     "text": [
      "The mean is equal to 5.0\n",
      "The median is equal to 5.0\n"
     ]
    }
   ],
   "source": [
    "import pandas as pd\n",
    "\n",
    "data = pd.Series([0, 1, 2, 3, 4, 5, 6, 7, 8, 9, 10])\n",
    "print('The mean is equal to', data.mean())\n",
    "print('The median is equal to', data.median())\n"
   ]
  },
  {
   "cell_type": "markdown",
   "id": "68f2d72a",
   "metadata": {},
   "source": [
    "Now let's see how the mean and median are affected when we modify the data. First, divide all values ​​strictly less than 5 by 10, and then multiply all values ​​strictly greater than 5 by 10 (the number 5 itself should remain unchanged). Find the new median and mean of the updated dataset."
   ]
  },
  {
   "cell_type": "code",
   "execution_count": 2,
   "id": "3f58eed6",
   "metadata": {},
   "outputs": [
    {
     "name": "stdout",
     "output_type": "stream",
     "text": [
      "La media es igual a 36.90909090909091\n",
      "La mediana es igual a 5.0\n"
     ]
    }
   ],
   "source": [
    "data_new = pd.Series([0, 0.1, 0.2, 0.3, 0.4, 5, 60, 70, 80, 90, 100])\n",
    "print('La media es igual a', data_new.mean())\n",
    "print('La mediana es igual a', data_new.median())"
   ]
  },
  {
   "cell_type": "markdown",
   "id": "731b8318",
   "metadata": {},
   "source": [
    "The mean has changed, but the median remains the same. It's not easy to keep the mean the same, since any change in a number greater than the mean requires a compensating change in a number smaller than the mean.\n",
    "\n",
    "But if your dataset contains outliers, you'll need the median, as you learned in the Data Manipulation sprint. Just keep in mind that the mean of a dataset containing outliers can be misleading. So, when Bill Gates walks into a bar, everyone there becomes a millionaire, on average.\n",
    "\n",
    "Let's imagine you have a startup: a crowdfunding website. Bloggers use it to raise donations for their work. Most people who donate don't donate more than a couple of dollars, but there are several fans who send their idols a couple of hundred dollars.\n",
    "\n",
    "Which measure would work best for promotional purposes if we wanted to convince bloggers to use the service? Which measure reveals the most about how much most people pay?\n",
    "\n",
    "The average donation (the mean) is best for promoting a blogger, while the median tells us how much people generally pay.\n",
    "The average donation will be significantly higher than the median, and this is good for promotional purposes. The median, on the other hand, is better for showing how much most people pay."
   ]
  },
  {
   "cell_type": "markdown",
   "id": "4dead077",
   "metadata": {},
   "source": [
    "_Measures of Variability_\n",
    "\n",
    "Measures of position alone are not enough to understand the data. You'll also want to know how dispersed (or distributed) the values ​​are around the mean or median.\n",
    "\n",
    "For our structural measure of position, the median, we also have a structural measure of dispersion. This measure is called the quartile.\n",
    "\n",
    "If the median represents the value in the middle of a distribution, quartiles represent other important positions. What are they?\n",
    "\n",
    "- The first quartile (also known as Q1) represents the value at the 25th percentile of the data distribution. The 25th percentile is the value below which 25% of the data fall.\n",
    "- The second quartile (Q2) represents the value at the 50th percentile of the data distribution, which is exactly the median. Like the 25th percentile, \n",
    "the 50th percentile is the value below which 50% of the data fall.\n",
    "- The third quartile (Q3) represents the value at the 75th percentile of the data distribution.\n",
    "\n",
    "Here's what a simple example of an age distribution looks like:\n",
    "\n",
    "<img src=\"Pics/dist_age_ie.png\" alt=\"Graphs\" width=\"900\" height=\"450\">"
   ]
  },
  {
   "cell_type": "markdown",
   "id": "c28c120d",
   "metadata": {},
   "source": [
    "We often visualize quartiles as a box-and-whisker plot. The example above would look like this:\n",
    "\n",
    "<img src=\"Pics/boxplot.png\" alt=\"Graphs\" width=\"900\" height=\"450\">\n",
    "\n",
    "This is what the box plot tells us:\n",
    "\n",
    "- The minimum value is equal to 1 year. It is located at the end of the left whisker.\n",
    "- First quartile: 2 years.\n",
    "- Second quartile: 3 years.\n",
    "- Third quartile: 5 years.\n",
    "- The maximum is equal to 6 years. It is located at the end of the right whisker.\n",
    "\n",
    "_The distance between Q1 and Q3 is called_ the `interquartile range (or IQR)`. It measures the dispersion of the data located in the middle half. In other words, it is the interval of the middle 50% of the sample."
   ]
  },
  {
   "cell_type": "markdown",
   "id": "abdc6241",
   "metadata": {},
   "source": [
    "To build a _box plot_ in Python, we often turn to the `Seaborn` library, which provides similar visualization capabilities to the Matplotlib library used above, but has slightly different functionality. To start, we need to import Seaborn,"
   ]
  },
  {
   "cell_type": "code",
   "execution_count": 3,
   "id": "5e10f21d",
   "metadata": {},
   "outputs": [
    {
     "data": {
      "text/plain": [
       "<Axes: >"
      ]
     },
     "execution_count": 3,
     "metadata": {},
     "output_type": "execute_result"
    },
    {
     "data": {
      "image/png": "[encoded data removed]",
      "text/plain": [
       "<Figure size 640x480 with 1 Axes>"
      ]
     },
     "metadata": {},
     "output_type": "display_data"
    }
   ],
   "source": [
    "import seaborn as sns\n",
    "import pandas as pd\n",
    "\n",
    "dataset = pd.Series([1, 1, 2, 2, 2, 3, 3, 3, 3, 4, 5, 5, 6, 6])\n",
    "sns.boxplot(dataset)"
   ]
  },
  {
   "cell_type": "markdown",
   "id": "5ab9de6b",
   "metadata": {},
   "source": [
    "Note that to construct this box plot, we used the same data as when we first viewed the diagram. As expected, the resulting graph is identical to the one we showed you previously; the only difference is that our graph is oriented vertically.\n",
    "\n",
    "But how do we measure the dispersion around the algebraic measure of position, that is, around the mean?\n",
    "\n",
    "The first and simplest approach is to find the average distance between the mean and all other values. Let's calculate it now!\n",
    "\n",
    "##### __Exercise 3__\n",
    "\n",
    "Your current objectives are:\n",
    "\n",
    "1. Find the mean of the dataset and store it in the variable mean_value, using an appropriate method.\n",
    "2. Calculate the distance between each value and the mean, and store the resulting value in the variable spacing_all. To perform this step, you can use simple arithmetic operations with Pandas Series. This will result in element-by-element operations, meaning an operation will be performed on each element of a Series, generating another Series.\n",
    "3. Next, calculate the mean distance and store it in the variable spacing_all_mean.\n",
    "4. Print the variable spacing_all_mean."
   ]
  },
  {
   "cell_type": "code",
   "execution_count": 6,
   "id": "b82f37d0",
   "metadata": {},
   "outputs": [
    {
     "name": "stdout",
     "output_type": "stream",
     "text": [
      "Media:  5.0\n",
      "\n",
      "Spacing:  0    -5.0\n",
      "1    -4.0\n",
      "2    -3.0\n",
      "3    -2.0\n",
      "4    -1.0\n",
      "5     0.0\n",
      "6     1.0\n",
      "7     2.0\n",
      "8     3.0\n",
      "9     4.0\n",
      "10    5.0\n",
      "dtype: float64\n",
      "\n",
      "0.0\n"
     ]
    }
   ],
   "source": [
    "import pandas as pd\n",
    "\n",
    "data = pd.Series([0, 1, 2, 3, 4, 5, 6, 7, 8, 9, 10])\n",
    "mean_value = data.mean()\n",
    "print(\"Media: \", mean_value)\n",
    "print()\n",
    "spacing_all = data - mean_value # for each element in the dataset, find its distance from the mean\n",
    "print(\"Spacing: \", spacing_all)\n",
    "print()\n",
    "spacing_all_mean = spacing_all.mean() # calculate the mean distance\n",
    "\n",
    "print(spacing_all_mean)"
   ]
  },
  {
   "cell_type": "markdown",
   "id": "3f707344",
   "metadata": {},
   "source": [
    "It seems as if the average distance is zero, which seems to make zero sense! Especially since we know the values ​​in the dataset are all different. We'll have to approach this differently…\n",
    "\n",
    "##### Variance\n",
    "\n",
    "In the previous lesson, we calculated the average distance between each value and the mean, and we got 0. How can that be if all the values ​​in the dataset are different? Here's the dataset as a reminder: [0, 1, 2, 3, 4, 5, 6, 7, 8, 9, 10]. The mean of this dataset was equal to 5.\n",
    "\n",
    "This happened because we calculated the distance for each element in the dataset from the mean. We do this by subtracting the mean from each value in the dataset. Here's how:\n",
    "\n",
    "0 - 5 = -5\n",
    "\n",
    "1 - 5 = -4\n",
    "\n",
    "2 - 5 = -3\n",
    "\n",
    "…\n",
    "\n",
    "8 - 5 = 3\n",
    "\n",
    "9 - 5 = 4\n",
    "\n",
    "10 - 5 = 5\n",
    "\n",
    "When calculating the average distance, we add up all the differences. Some of these distances were positive and others negative, so they canceled each other out, resulting in a sum of 0.\n",
    "\n",
    "Now let's get rid of the signs and make all the values ​​positive by squaring them:\n",
    "\n",
    "(0 - 5)² = -5² = 25\n",
    "\n",
    "(1 - 5)² = -4² = 16\n",
    "\n",
    "(2 - 5)² = -3² = 9\n",
    "\n",
    "…\n",
    "\n",
    "(8 - 5)² = 3² = 9\n",
    "\n",
    "9 - 5 = 4² = 16\n",
    "\n",
    "10 - 5 = 5² = 25\n",
    "\n",
    "The new values ​​no longer represent the average distance between the dataset values ​​and the mean. Instead, they represent the average of the squared distances. If we add these values ​​together and divide them by their total number, we get a metric called variance. It is calculated using the following formula:\n",
    "\n",
    "<img src=\"Pics/Variance_formula.jpg\" alt=\"Graphs\" width=\"130\" height=\"125\">\n",
    "\n",
    "In the formula above:\n",
    "\n",
    "- σ² is the variance.\n",
    "- Σ is the symbol for sum.\n",
    "- Xᵢ represents a value in the dataset.\n",
    "- µ is the mean.\n",
    "- n is the number of values ​​in the dataset.\n",
    "\n",
    "The symbol sigma (σ²) was chosen for variance because it conveys the \"s\" sound, as in the word \"standard.\" In the next lesson, you will learn that the square root of the variance is the standard deviation.\n",
    "\n",
    "So, what does the variance tell us? _It shows the degree of dispersion in the data set_. The more dispersed the data are, the greater the variance relative to the mean.\n",
    "\n",
    "Look at the following graph. There are three distributions with different variances.\n",
    "\n",
    "<img src=\"Pics/variance.png\" alt=\"Graphs\" width=\"900\" height=\"450\">\n",
    "\n",
    "As you can see, the greater the dispersion in the dataset, the greater the variance.\n",
    "\n",
    "In what case is the variance equal to zero?\n",
    "Only when all values ​​are equal will all the distances between the mean and the values ​​be equal to zero, and so will the sum of their squares. In all other cases, there will be a non-zero variance, even if it is small."
   ]
  },
  {
   "cell_type": "markdown",
   "id": "a52f89b7",
   "metadata": {},
   "source": [
    "##### Covariance\n",
    "\n",
    "On many occasions, we may be interested in knowing how one variable depends on another. For example, how the price of a house depends on its size.\n",
    "\n",
    "To check if this relationship exists, we can calculate the covariance between two variables by multiplying their differences by the mean. Covariance is a measure of their linear relationship.\n",
    "\n",
    "​<img src=\"Pics/covariance.jpg\" alt=\"Graphs\" width=\"260\" height=\"125\">\n",
    "\n",
    "- xᵢ represents the size of a house in square meters, while yᵢ represents its price in USD. \n",
    "- n is the number of values ​​in the dataset (the number of houses and their prices).\n",
    "- Σ is the summation symbol.\n",
    "- x̄ is the mean house size in the dataset.\n",
    "- ȳ is the mean house price in the dataset.\n",
    "\n",
    "If the covariance is zero, it indicates that there is no clear directional relationship between the variables. The covariance value can take any value between negative infinity and positive infinity. A negative value indicates an inverse relationship, while a positive value indicates a direct relationship.\n",
    "\n",
    "<img src=\"Pics/covariance.png\" alt=\"Graphs\" width=\"900\" height=\"450\">"
   ]
  },
  {
   "cell_type": "markdown",
   "id": "e07bdb03",
   "metadata": {},
   "source": [
    "Python Implementation\n",
    "\n",
    "To calculate variance in Python, we'll need the NumPy library, the older brother of pandas you already know and love. While the pandas library is good for structures, NumPy is used for complex mathematical functions. It can be imported as follows:"
   ]
  },
  {
   "cell_type": "code",
   "execution_count": 7,
   "id": "6132f004",
   "metadata": {},
   "outputs": [],
   "source": [
    "import numpy as np"
   ]
  },
  {
   "cell_type": "markdown",
   "id": "8abfe9d4",
   "metadata": {},
   "source": [
    "The variance of a data set can be found using the var() method:"
   ]
  },
  {
   "cell_type": "code",
   "execution_count": 8,
   "id": "24aa7c76",
   "metadata": {},
   "outputs": [
    {
     "name": "stdout",
     "output_type": "stream",
     "text": [
      "2.9166666666666665\n"
     ]
    }
   ],
   "source": [
    "x = [1, 2, 3, 4, 5, 6] # dataset\n",
    "\n",
    "variance = np.var(x)\n",
    "print(variance)"
   ]
  },
  {
   "cell_type": "markdown",
   "id": "8dce8fa5",
   "metadata": {},
   "source": [
    "And this is how to calculate the covariance:"
   ]
  },
  {
   "cell_type": "code",
   "execution_count": 9,
   "id": "bb85d99c",
   "metadata": {},
   "outputs": [
    {
     "name": "stdout",
     "output_type": "stream",
     "text": [
      "51.5\n"
     ]
    }
   ],
   "source": [
    "import numpy as np\n",
    "\n",
    "x = [1, 2, 3, 4, 5, 6] # dataset 1\n",
    "y = [41, 62, 89, 96, 108, 115] # dataset 2\n",
    "\n",
    "covariance_matrix = np. cov(x,y) # calculate the covariance matrix\n",
    "covariance = covariance_matrix[0][1] # extract the covariance as a value\n",
    "print(covariance)"
   ]
  },
  {
   "cell_type": "markdown",
   "id": "27e88c92",
   "metadata": {},
   "source": [
    "The NumPy cov() function returns a 2D array where the index value [0][1] is the covariance between x and y.\n",
    "\n",
    "\n",
    "##### __Exercise 4__\n",
    "\n",
    "Calculate the variance of the dataset data = pd.Series([0, 1, 2, 3, 4, 5, 6, 7, 8, 9, 10]). Display the results."
   ]
  },
  {
   "cell_type": "code",
   "execution_count": 10,
   "id": "25a56c47",
   "metadata": {},
   "outputs": [
    {
     "name": "stdout",
     "output_type": "stream",
     "text": [
      "10.0\n"
     ]
    }
   ],
   "source": [
    "import pandas as pd\n",
    "import numpy as np\n",
    "\n",
    "data = pd.Series([0, 1, 2, 3, 4, 5, 6, 7, 8, 9, 10])\n",
    "\n",
    "variance = np.var(data)\n",
    "print(variance)"
   ]
  }
 ],
 "metadata": {
  "kernelspec": {
   "display_name": "Win11_Python-PipVenv-Github-Hmb7GD39",
   "language": "python",
   "name": "python3"
  },
  "language_info": {
   "codemirror_mode": {
    "name": "ipython",
    "version": 3
   },
   "file_extension": ".py",
   "mimetype": "text/x-python",
   "name": "python",
   "nbconvert_exporter": "python",
   "pygments_lexer": "ipython3",
   "version": "3.13.2"
  }
 },
 "nbformat": 4,
 "nbformat_minor": 5
}
