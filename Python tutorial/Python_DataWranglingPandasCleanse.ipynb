{
 "cells": [
  {
   "cell_type": "markdown",
   "id": "9938dcf8",
   "metadata": {},
   "source": [
    "### __Panda Data Wrangling Cleanse__"
   ]
  },
  {
   "cell_type": "markdown",
   "id": "3f054a2a",
   "metadata": {},
   "source": [
    "_Find structure and value errors_"
   ]
  },
  {
   "cell_type": "code",
   "execution_count": 11,
   "id": "609a587a",
   "metadata": {},
   "outputs": [
    {
     "name": "stdout",
     "output_type": "stream",
     "text": [
      "  Celestial bodies      MIN      MAX\n",
      "0              Sun   146.00   152.00\n",
      "1             Moon     0.36     0.41\n",
      "2          Mercury    82.00   217.00\n",
      "3            Venus    38.00   261.00\n",
      "4             Mars    56.00   401.00\n",
      "5          Jupiter   588.00   968.00\n",
      "6           Saturn  1195.00  1660.00\n",
      "7           Uranus  2750.00  3150.00\n",
      "8          Neptune  4300.00  4700.00\n",
      "9   Haley 's comet     6.00  5400.00\n"
     ]
    }
   ],
   "source": [
    "import pandas as pd\n",
    "\n",
    "measurments = [['Sun', 146, 152],\n",
    "               ['Moon', 0.36, 0.41],\n",
    "               ['Mercury', 82, 217],\n",
    "               ['Venus', 38, 261],\n",
    "               ['Mars', 56, 401],\n",
    "               ['Jupiter', 588, 968],\n",
    "               ['Saturn', 1195, 1660],\n",
    "               ['Uranus', 2750, 3150],\n",
    "               ['Neptune', 4300, 4700],\n",
    "               ['Haley \\'s comet', 6, 5400]]\n",
    "\n",
    "header = ['Celestial bodies', 'MIN', 'MAX']\n",
    "\n",
    "df = pd.DataFrame(measurments, columns=header)\n",
    "\n",
    "print(df)"
   ]
  },
  {
   "cell_type": "markdown",
   "id": "db29c677",
   "metadata": {},
   "source": [
    "Header names must be cleansed, no spaces and lower cases, reassigning names, otherwise column names wont change."
   ]
  },
  {
   "cell_type": "code",
   "execution_count": 12,
   "id": "27b4fd5a",
   "metadata": {},
   "outputs": [
    {
     "name": "stdout",
     "output_type": "stream",
     "text": [
      "Index(['celestial_bodies', 'min_distance', 'max_distance'], dtype='object')\n"
     ]
    }
   ],
   "source": [
    "columns_new = {\"Celestial bodies\": \"celestial_bodies\",\n",
    "               \"MIN\": \"min_distance\",\n",
    "               \"MAX\": \"max_distance\"}\n",
    "\n",
    "df = df.rename(columns=columns_new)\n",
    "print(df.columns)"
   ]
  },
  {
   "cell_type": "markdown",
   "id": "4ed8cd24",
   "metadata": {},
   "source": [
    "method without reasignment __inplace=True__"
   ]
  },
  {
   "cell_type": "code",
   "execution_count": 13,
   "id": "547b4c2c",
   "metadata": {},
   "outputs": [
    {
     "name": "stdout",
     "output_type": "stream",
     "text": [
      "Index(['celestial_bodies', 'min_distance', 'max_distance'], dtype='object')\n"
     ]
    }
   ],
   "source": [
    "measurments = [['Sun', 146, 152],\n",
    "               ['Moon', 0.36, 0.41],\n",
    "               ['Mercury', 82, 217],\n",
    "               ['Venus', 38, 261],\n",
    "               ['Mars', 56, 401],\n",
    "               ['Jupiter', 588, 968],\n",
    "               ['Saturn', 1195, 1660],\n",
    "               ['Uranus', 2750, 3150],\n",
    "               ['Neptune', 4300, 4700],\n",
    "               ['Haley \\'s comet', 6, 5400]]\n",
    "\n",
    "header = ['Celestial bodies', 'MIN', 'MAX']\n",
    "\n",
    "df = pd.DataFrame(measurments, columns=header)\n",
    "\n",
    "df.rename(columns = columns_new, inplace=True)\n",
    "print(df.columns)"
   ]
  },
  {
   "cell_type": "markdown",
   "id": "61662c4b",
   "metadata": {},
   "source": [
    "Loops for cleansing"
   ]
  },
  {
   "cell_type": "code",
   "execution_count": 15,
   "id": "a7a290a7",
   "metadata": {},
   "outputs": [
    {
     "name": "stdout",
     "output_type": "stream",
     "text": [
      "Index(['celestial_bodies', 'min', 'max'], dtype='object')\n"
     ]
    }
   ],
   "source": [
    "measurments = [['Sun', 146, 152],\n",
    "               ['Moon', 0.36, 0.41],\n",
    "               ['Mercury', 82, 217],\n",
    "               ['Venus', 38, 261],\n",
    "               ['Mars', 56, 401],\n",
    "               ['Jupiter', 588, 968],\n",
    "               ['Saturn', 1195, 1660],\n",
    "               ['Uranus', 2750, 3150],\n",
    "               ['Neptune', 4300, 4700],\n",
    "               ['Haley \\'s comet', 6, 5400]]\n",
    "\n",
    "header = ['Celestial bodies', 'MIN', 'MAX']\n",
    "\n",
    "df = pd.DataFrame(measurments, columns=header)\n",
    "\n",
    "new_col_names = []\n",
    "\n",
    "for old_name in df.columns:\n",
    "    new_col_names.append(old_name.replace(\" \", \"_\").lower().strip())\n",
    "\n",
    "df.columns = new_col_names\n",
    "print(df.columns)"
   ]
  },
  {
   "cell_type": "markdown",
   "id": "61174f19",
   "metadata": {},
   "source": [
    "_Finding null values (None or NaN)_\n",
    "\n",
    "None - NoneType\n",
    "\n",
    "Nan - Not a Number\n",
    "\n",
    "Unspected null values: 0 ? NN n/a or any special char"
   ]
  },
  {
   "cell_type": "code",
   "execution_count": 2,
   "id": "431e0c10",
   "metadata": {},
   "outputs": [
    {
     "name": "stdout",
     "output_type": "stream",
     "text": [
      "     region                   country  total_cases  imported_cases  deaths  \\\n",
      "0      Азия                Афганистан         33.0             0.0     1.0   \n",
      "1      Азия                     Индия        385.0             NaN     3.0   \n",
      "2      Азия                      Иран        634.0           625.0     4.0   \n",
      "3      Азия                     Йемен    1032481.0             0.0  2261.0   \n",
      "4      Азия                     Китай         14.0             NaN     0.0   \n",
      "5      Азия                     Катар          5.0             5.0     0.0   \n",
      "6      Азия                  Малайзия          2.0             0.0     0.0   \n",
      "7      Азия                     Непал          7.0             NaN     0.0   \n",
      "8      Азия                       ОАЭ         12.0            12.0     0.0   \n",
      "9      Азия         Саудовская Аравия          5.0             5.0     0.0   \n",
      "10     Азия                  Сингапур          3.0             3.0     0.0   \n",
      "11     Азия                   Таиланд          8.0             0.0     0.0   \n",
      "12     Азия                 Филиппины        134.0             NaN     2.0   \n",
      "13     Азия               Южная Корея          5.0             5.0     0.0   \n",
      "14     Азия                    Япония          7.0             5.0     0.0   \n",
      "15  Америка                     Гаити      13681.0             0.0   159.0   \n",
      "16  Америка  Доминиканская Республика        122.0             0.0     4.0   \n",
      "17  Америка                    Канада          4.0             3.0     0.0   \n",
      "18  Америка                       США         11.0             9.0     0.0   \n",
      "19   Африка                Все страны     179835.0             NaN  3220.0   \n",
      "20   Европа                Все страны          NaN             NaN     NaN   \n",
      "21  Океания                 Австралия          3.0             3.0     0.0   \n",
      "22      Мир                Все страны    1227391.0           675.0  5654.0   \n",
      "\n",
      "    case_fatality_rate                              notes  \n",
      "0                  3.0                                NaN  \n",
      "1                  0.7                                NaN  \n",
      "2                  0.6                                NaN  \n",
      "3                  0.2                                NaN  \n",
      "4                  0.0                                NaN  \n",
      "5                  0.0                                NaN  \n",
      "6                  0.0                                NaN  \n",
      "7                  0.0                                NaN  \n",
      "8                  0.0                                NaN  \n",
      "9                  0.0                                NaN  \n",
      "10                 0.0                                NaN  \n",
      "11                 0.0                                NaN  \n",
      "12                 1.5                                NaN  \n",
      "13                 0.0                                NaN  \n",
      "14                 0.0                                NaN  \n",
      "15                 1.2                                NaN  \n",
      "16                 3.3                                NaN  \n",
      "17                 0.0                                NaN  \n",
      "18                 0.0                                NaN  \n",
      "19                 1.8  нет информации о завозных случаях  \n",
      "20                 NaN              нет сообщений за 2017  \n",
      "21                 0.0                                NaN  \n",
      "22                 0.5                                NaN  \n"
     ]
    }
   ],
   "source": [
    "import pandas as pd\n",
    "\n",
    "df_cholera = pd.read_csv('DataSets/cholera.csv')\n",
    "print(df_cholera)\n"
   ]
  },
  {
   "cell_type": "code",
   "execution_count": 4,
   "id": "56775831",
   "metadata": {},
   "outputs": [
    {
     "name": "stdout",
     "output_type": "stream",
     "text": [
      "    region  country  total_cases  imported_cases  deaths  case_fatality_rate  \\\n",
      "0    False    False        False           False   False               False   \n",
      "1    False    False        False            True   False               False   \n",
      "2    False    False        False           False   False               False   \n",
      "3    False    False        False           False   False               False   \n",
      "4    False    False        False            True   False               False   \n",
      "5    False    False        False           False   False               False   \n",
      "6    False    False        False           False   False               False   \n",
      "7    False    False        False            True   False               False   \n",
      "8    False    False        False           False   False               False   \n",
      "9    False    False        False           False   False               False   \n",
      "10   False    False        False           False   False               False   \n",
      "11   False    False        False           False   False               False   \n",
      "12   False    False        False            True   False               False   \n",
      "13   False    False        False           False   False               False   \n",
      "14   False    False        False           False   False               False   \n",
      "15   False    False        False           False   False               False   \n",
      "16   False    False        False           False   False               False   \n",
      "17   False    False        False           False   False               False   \n",
      "18   False    False        False           False   False               False   \n",
      "19   False    False        False            True   False               False   \n",
      "20   False    False         True            True    True                True   \n",
      "21   False    False        False           False   False               False   \n",
      "22   False    False        False           False   False               False   \n",
      "\n",
      "    notes  \n",
      "0    True  \n",
      "1    True  \n",
      "2    True  \n",
      "3    True  \n",
      "4    True  \n",
      "5    True  \n",
      "6    True  \n",
      "7    True  \n",
      "8    True  \n",
      "9    True  \n",
      "10   True  \n",
      "11   True  \n",
      "12   True  \n",
      "13   True  \n",
      "14   True  \n",
      "15   True  \n",
      "16   True  \n",
      "17   True  \n",
      "18   True  \n",
      "19  False  \n",
      "20  False  \n",
      "21   True  \n",
      "22   True  \n"
     ]
    }
   ],
   "source": [
    "print(df_cholera.isna())"
   ]
  },
  {
   "cell_type": "code",
   "execution_count": 6,
   "id": "cb673a30",
   "metadata": {},
   "outputs": [
    {
     "name": "stdout",
     "output_type": "stream",
     "text": [
      "region                 0\n",
      "country                0\n",
      "total_cases            1\n",
      "imported_cases         6\n",
      "deaths                 1\n",
      "case_fatality_rate     1\n",
      "notes                 21\n",
      "dtype: int64\n"
     ]
    }
   ],
   "source": [
    "print(df_cholera.isna().sum())"
   ]
  },
  {
   "cell_type": "markdown",
   "id": "73af90ce",
   "metadata": {},
   "source": [
    "_Substitute NaN values_"
   ]
  },
  {
   "cell_type": "code",
   "execution_count": 8,
   "id": "026f4018",
   "metadata": {},
   "outputs": [
    {
     "name": "stdout",
     "output_type": "stream",
     "text": [
      "     region                   country  total_cases  imported_cases  deaths  \\\n",
      "0      Азия                Афганистан         33.0             0.0     1.0   \n",
      "1      Азия                     Индия        385.0             0.0     3.0   \n",
      "2      Азия                      Иран        634.0           625.0     4.0   \n",
      "3      Азия                     Йемен    1032481.0             0.0  2261.0   \n",
      "4      Азия                     Китай         14.0             0.0     0.0   \n",
      "5      Азия                     Катар          5.0             5.0     0.0   \n",
      "6      Азия                  Малайзия          2.0             0.0     0.0   \n",
      "7      Азия                     Непал          7.0             0.0     0.0   \n",
      "8      Азия                       ОАЭ         12.0            12.0     0.0   \n",
      "9      Азия         Саудовская Аравия          5.0             5.0     0.0   \n",
      "10     Азия                  Сингапур          3.0             3.0     0.0   \n",
      "11     Азия                   Таиланд          8.0             0.0     0.0   \n",
      "12     Азия                 Филиппины        134.0             0.0     2.0   \n",
      "13     Азия               Южная Корея          5.0             5.0     0.0   \n",
      "14     Азия                    Япония          7.0             5.0     0.0   \n",
      "15  Америка                     Гаити      13681.0             0.0   159.0   \n",
      "16  Америка  Доминиканская Республика        122.0             0.0     4.0   \n",
      "17  Америка                    Канада          4.0             3.0     0.0   \n",
      "18  Америка                       США         11.0             9.0     0.0   \n",
      "19   Африка                Все страны     179835.0             0.0  3220.0   \n",
      "20   Европа                Все страны          NaN             0.0     NaN   \n",
      "21  Океания                 Австралия          3.0             3.0     0.0   \n",
      "22      Мир                Все страны    1227391.0           675.0  5654.0   \n",
      "\n",
      "    case_fatality_rate                              notes  \n",
      "0                  3.0                                NaN  \n",
      "1                  0.7                                NaN  \n",
      "2                  0.6                                NaN  \n",
      "3                  0.2                                NaN  \n",
      "4                  0.0                                NaN  \n",
      "5                  0.0                                NaN  \n",
      "6                  0.0                                NaN  \n",
      "7                  0.0                                NaN  \n",
      "8                  0.0                                NaN  \n",
      "9                  0.0                                NaN  \n",
      "10                 0.0                                NaN  \n",
      "11                 0.0                                NaN  \n",
      "12                 1.5                                NaN  \n",
      "13                 0.0                                NaN  \n",
      "14                 0.0                                NaN  \n",
      "15                 1.2                                NaN  \n",
      "16                 3.3                                NaN  \n",
      "17                 0.0                                NaN  \n",
      "18                 0.0                                NaN  \n",
      "19                 1.8  нет информации о завозных случаях  \n",
      "20                 NaN              нет сообщений за 2017  \n",
      "21                 0.0                                NaN  \n",
      "22                 0.5                                NaN  \n"
     ]
    }
   ],
   "source": [
    "import pandas as pd\n",
    "\n",
    "df_cholera = pd.read_csv('DataSets/cholera.csv')\n",
    "\n",
    "df_cholera['imported_cases'] = df_cholera['imported_cases'].fillna(0) # fillna(0) replaces NaN with 0\n",
    "print(df_cholera)\n"
   ]
  }
 ],
 "metadata": {
  "kernelspec": {
   "display_name": "Python-Github_VENV-XjlEX2HA",
   "language": "python",
   "name": "python3"
  },
  "language_info": {
   "codemirror_mode": {
    "name": "ipython",
    "version": 3
   },
   "file_extension": ".py",
   "mimetype": "text/x-python",
   "name": "python",
   "nbconvert_exporter": "python",
   "pygments_lexer": "ipython3",
   "version": "3.13.2"
  }
 },
 "nbformat": 4,
 "nbformat_minor": 5
}
