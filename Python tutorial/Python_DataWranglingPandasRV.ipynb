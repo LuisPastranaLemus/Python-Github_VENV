{
 "cells": [
  {
   "cell_type": "markdown",
   "id": "da9d0e45",
   "metadata": {},
   "source": [
    "### __Python Data Wrangling Read and Visualize__"
   ]
  },
  {
   "cell_type": "markdown",
   "id": "00f4b4a2",
   "metadata": {},
   "source": [
    "##### __Read CSV files with different delimeters rather than comma__"
   ]
  },
  {
   "cell_type": "code",
   "execution_count": 4,
   "id": "f3297b13",
   "metadata": {},
   "outputs": [
    {
     "name": "stdout",
     "output_type": "stream",
     "text": [
      "  Afghanistan|Kajaki Hydroelectric Power Plant Afghanistan|33   0|32   322|65  \\\n",
      "0                        Afghanistan|Kandahar DOG|10            0|31    67|65   \n",
      "1                        Afghanistan|Kandahar JOL|10            0|31   623|65   \n",
      "2  Afghanistan|Mahipar Hydroelectric Power Plant ...            0|34   556|69   \n",
      "3  Afghanistan|Naghlu Dam Hydroelectric Power Pla...            0|34   641|69   \n",
      "4  Afghanistan|Nangarhar (Darunta) Hydroelectric ...           55|34  4847|70   \n",
      "\n",
      "    119|Hydro|  \n",
      "0   795|Solar|  \n",
      "1   792|Solar|  \n",
      "2  4787|Hydro|  \n",
      "3   717|Hydro|  \n",
      "4  3633|Hydro|  \n",
      "\n",
      "   Afghanistan       Kajaki Hydroelectric Power Plant Afghanistan   33,0  \\\n",
      "0  Afghanistan                                       Kandahar DOG   10,0   \n",
      "1  Afghanistan                                       Kandahar JOL   10,0   \n",
      "2  Afghanistan      Mahipar Hydroelectric Power Plant Afghanistan   66,0   \n",
      "3  Afghanistan   Naghlu Dam Hydroelectric Power Plant Afghanistan  100,0   \n",
      "4  Afghanistan  Nangarhar (Darunta) Hydroelectric Power Plant ...  11,55   \n",
      "\n",
      "    32,322   65,119  Hydro Unnamed: 6  \n",
      "0    31,67   65,795  Solar        NaN  \n",
      "1   31,623   65,792  Solar        NaN  \n",
      "2   34,556  69,4787  Hydro        NaN  \n",
      "3   34,641   69,717  Hydro        NaN  \n",
      "4  34,4847  70,3633  Hydro        NaN  \n"
     ]
    }
   ],
   "source": [
    "import pandas as pd\n",
    "\n",
    "df = pd.read_csv('DataSets/gpp_modified.csv')\n",
    "print(df.head())\n",
    "\n",
    "print()\n",
    "\n",
    "df = pd.read_csv('DataSets/gpp_modified.csv', sep='|')\n",
    "print(df.head())\n",
    "\n",
    "# pd.read_csv('clients.csv', sep='\\\\t')\n",
    "# pd.read_csv('clients.tsv', sep='\\t')\n",
    "# La extensión del archivo, .tsv, sugiere que se trata de un archivo separado por tabuladores, por lo que se puede utilizar el parámetro sep para especificar el delimitador como tab."
   ]
  },
  {
   "cell_type": "markdown",
   "id": "1bfa79c9",
   "metadata": {},
   "source": [
    "Still the column names are not shown correctly in the DataFrame"
   ]
  },
  {
   "cell_type": "code",
   "execution_count": 2,
   "id": "b17449ef",
   "metadata": {},
   "outputs": [
    {
     "name": "stdout",
     "output_type": "stream",
     "text": [
      "   Afghanistan       Kajaki Hydroelectric Power Plant Afghanistan   33,0  \\\n",
      "0  Afghanistan                                       Kandahar DOG   10,0   \n",
      "1  Afghanistan                                       Kandahar JOL   10,0   \n",
      "2  Afghanistan      Mahipar Hydroelectric Power Plant Afghanistan   66,0   \n",
      "3  Afghanistan   Naghlu Dam Hydroelectric Power Plant Afghanistan  100,0   \n",
      "4  Afghanistan  Nangarhar (Darunta) Hydroelectric Power Plant ...  11,55   \n",
      "\n",
      "    32,322   65,119  Hydro Unnamed: 6  \n",
      "0    31,67   65,795  Solar        NaN  \n",
      "1   31,623   65,792  Solar        NaN  \n",
      "2   34,556  69,4787  Hydro        NaN  \n",
      "3   34,641   69,717  Hydro        NaN  \n",
      "4  34,4847  70,3633  Hydro        NaN  \n",
      "\n",
      "             0                                                 1      2  \\\n",
      "0  Afghanistan      Kajaki Hydroelectric Power Plant Afghanistan   33,0   \n",
      "1  Afghanistan                                      Kandahar DOG   10,0   \n",
      "2  Afghanistan                                      Kandahar JOL   10,0   \n",
      "3  Afghanistan     Mahipar Hydroelectric Power Plant Afghanistan   66,0   \n",
      "4  Afghanistan  Naghlu Dam Hydroelectric Power Plant Afghanistan  100,0   \n",
      "\n",
      "        3        4      5    6  \n",
      "0  32,322   65,119  Hydro  NaN  \n",
      "1   31,67   65,795  Solar  NaN  \n",
      "2  31,623   65,792  Solar  NaN  \n",
      "3  34,556  69,4787  Hydro  NaN  \n",
      "4  34,641   69,717  Hydro  NaN  \n"
     ]
    }
   ],
   "source": [
    "import pandas as pd\n",
    "\n",
    "df = pd.read_csv('DataSets/gpp_modified.csv')\n",
    "\n",
    "df = pd.read_csv('DataSets/gpp_modified.csv', sep='|', header='infer')\n",
    "print(df.head())\n",
    "\n",
    "print()\n",
    "\n",
    "df = pd.read_csv('DataSets/gpp_modified.csv', sep='|', header=None)\n",
    "print(df.head())"
   ]
  },
  {
   "cell_type": "markdown",
   "id": "7f1c88e0",
   "metadata": {},
   "source": [
    "Assign names to columns"
   ]
  },
  {
   "cell_type": "code",
   "execution_count": 3,
   "id": "f1583a09",
   "metadata": {},
   "outputs": [
    {
     "name": "stdout",
     "output_type": "stream",
     "text": [
      "       country                                              name capacity_mw  \\\n",
      "0  Afghanistan      Kajaki Hydroelectric Power Plant Afghanistan        33,0   \n",
      "1  Afghanistan                                      Kandahar DOG        10,0   \n",
      "2  Afghanistan                                      Kandahar JOL        10,0   \n",
      "3  Afghanistan     Mahipar Hydroelectric Power Plant Afghanistan        66,0   \n",
      "4  Afghanistan  Naghlu Dam Hydroelectric Power Plant Afghanistan       100,0   \n",
      "\n",
      "  latitude longitude primary_fuel owner  \n",
      "0   32,322    65,119        Hydro   NaN  \n",
      "1    31,67    65,795        Solar   NaN  \n",
      "2   31,623    65,792        Solar   NaN  \n",
      "3   34,556   69,4787        Hydro   NaN  \n",
      "4   34,641    69,717        Hydro   NaN  \n"
     ]
    }
   ],
   "source": [
    "import pandas as pd\n",
    "\n",
    "column_names = [\"country\", \"name\", \"capacity_mw\", \"latitude\", \"longitude\",\"primary_fuel\", \"owner\"]\n",
    "\n",
    "df = pd.read_csv('DataSets/gpp_modified.csv', sep='|', header=None, names=column_names)\n",
    "print(df.head())"
   ]
  },
  {
   "cell_type": "markdown",
   "id": "e898ba4a",
   "metadata": {},
   "source": [
    "Change decimal format from coma to dot"
   ]
  },
  {
   "cell_type": "code",
   "execution_count": 4,
   "id": "10161be0",
   "metadata": {},
   "outputs": [
    {
     "name": "stdout",
     "output_type": "stream",
     "text": [
      "       country                                              name  capacity_mw  \\\n",
      "0  Afghanistan      Kajaki Hydroelectric Power Plant Afghanistan         33.0   \n",
      "1  Afghanistan                                      Kandahar DOG         10.0   \n",
      "2  Afghanistan                                      Kandahar JOL         10.0   \n",
      "3  Afghanistan     Mahipar Hydroelectric Power Plant Afghanistan         66.0   \n",
      "4  Afghanistan  Naghlu Dam Hydroelectric Power Plant Afghanistan        100.0   \n",
      "\n",
      "   latitude  longitude primary_fuel owner  \n",
      "0    32.322    65.1190        Hydro   NaN  \n",
      "1    31.670    65.7950        Solar   NaN  \n",
      "2    31.623    65.7920        Solar   NaN  \n",
      "3    34.556    69.4787        Hydro   NaN  \n",
      "4    34.641    69.7170        Hydro   NaN  \n"
     ]
    }
   ],
   "source": [
    "import pandas as pd\n",
    "\n",
    "column_names = [\"country\", \"name\", \"capacity_mw\", \"latitude\", \"longitude\",\"primary_fuel\", \"owner\"]\n",
    "\n",
    "df = pd.read_csv('DataSets/gpp_modified.csv', sep='|', header=None, names=column_names, decimal=',',)\n",
    "print(df.head())"
   ]
  },
  {
   "cell_type": "code",
   "execution_count": 1,
   "id": "2e8e6fce",
   "metadata": {},
   "outputs": [
    {
     "name": "stdout",
     "output_type": "stream",
     "text": [
      "  letters  colors  decimals\n",
      "0       a  yellow       1.2\n",
      "1       b     red       1.3\n",
      "2       c    cyan       1.4\n"
     ]
    }
   ],
   "source": [
    "import pandas as pd\n",
    "\n",
    "df = pd.read_csv(\"DataSets/letters_colors_decimals.csv\",sep=\"$\", header=0, decimal=\"a\")\n",
    "\n",
    "print(df)"
   ]
  },
  {
   "cell_type": "markdown",
   "id": "edbee6ff",
   "metadata": {},
   "source": [
    "### __Python Accessing to Excel files__"
   ]
  },
  {
   "cell_type": "markdown",
   "id": "72903a18",
   "metadata": {},
   "source": [
    "##### _Open the first work sheet_"
   ]
  },
  {
   "cell_type": "code",
   "execution_count": 3,
   "id": "8f645d10",
   "metadata": {},
   "outputs": [
    {
     "name": "stdout",
     "output_type": "stream",
     "text": [
      "           id reviewer_id  product_id  review\n",
      "0  2546305677    cG441617  5003186430       3\n",
      "1  2603422798    cH443811  7130698135       1\n",
      "2  2598103631    bF100137  4023404310       4\n",
      "3  2632674394    cF786880  7130698135       4\n",
      "4  2594782880    aF649317  5003186430       5\n"
     ]
    }
   ],
   "source": [
    "import pandas as pd\n",
    "\n",
    "df = pd.read_excel('DataSets/product_reviews.xlsx')\n",
    "\n",
    "print(df.head())"
   ]
  },
  {
   "cell_type": "markdown",
   "id": "9da0e67b",
   "metadata": {},
   "source": [
    "##### _Open the second work sheet_"
   ]
  },
  {
   "cell_type": "code",
   "execution_count": 2,
   "id": "94d15877",
   "metadata": {},
   "outputs": [
    {
     "name": "stdout",
     "output_type": "stream",
     "text": [
      "         id date_joined  zipcode\n",
      "0  aF195825  2012-06-21    91914\n",
      "1  aF249047  2019-03-26    91915\n",
      "2  aF362092  2012-01-05    91941\n",
      "3  aF484180  2019-06-11    91941\n",
      "4  aF539111  2011-03-04    92003\n"
     ]
    }
   ],
   "source": [
    "import pandas as pd\n",
    "\n",
    "df = pd.read_excel('DataSets/product_reviews.xlsx', sheet_name='reviewers')\n",
    "\n",
    "print(df.head())"
   ]
  }
 ],
 "metadata": {
  "kernelspec": {
   "display_name": "Python-Github_VENV-XjlEX2HA",
   "language": "python",
   "name": "python3"
  },
  "language_info": {
   "codemirror_mode": {
    "name": "ipython",
    "version": 3
   },
   "file_extension": ".py",
   "mimetype": "text/x-python",
   "name": "python",
   "nbconvert_exporter": "python",
   "pygments_lexer": "ipython3",
   "version": "3.13.2"
  }
 },
 "nbformat": 4,
 "nbformat_minor": 5
}
