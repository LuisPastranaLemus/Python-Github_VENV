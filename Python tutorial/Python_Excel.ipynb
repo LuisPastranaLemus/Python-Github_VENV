{
 "cells": [
  {
   "cell_type": "markdown",
   "id": "42a8ab39",
   "metadata": {},
   "source": [
    "### __Python Excel files__"
   ]
  },
  {
   "cell_type": "markdown",
   "id": "6cdc7c54",
   "metadata": {},
   "source": [
    "##### _Open the first work sheet_"
   ]
  },
  {
   "cell_type": "code",
   "execution_count": 3,
   "id": "1938b4c6",
   "metadata": {},
   "outputs": [
    {
     "name": "stdout",
     "output_type": "stream",
     "text": [
      "           id reviewer_id  product_id  review\n",
      "0  2546305677    cG441617  5003186430       3\n",
      "1  2603422798    cH443811  7130698135       1\n",
      "2  2598103631    bF100137  4023404310       4\n",
      "3  2632674394    cF786880  7130698135       4\n",
      "4  2594782880    aF649317  5003186430       5\n"
     ]
    }
   ],
   "source": [
    "import pandas as pd\n",
    "\n",
    "df = pd.read_excel('DataSets/product_reviews.xlsx')\n",
    "\n",
    "print(df.head())"
   ]
  },
  {
   "cell_type": "markdown",
   "id": "6e57ee5f",
   "metadata": {},
   "source": [
    "##### _Open the second work sheet_"
   ]
  },
  {
   "cell_type": "code",
   "execution_count": 6,
   "id": "c4211241",
   "metadata": {},
   "outputs": [
    {
     "name": "stdout",
     "output_type": "stream",
     "text": [
      "         id date_joined  zipcode\n",
      "0  aF195825  2012-06-21    91914\n",
      "1  aF249047  2019-03-26    91915\n",
      "2  aF362092  2012-01-05    91941\n",
      "3  aF484180  2019-06-11    91941\n",
      "4  aF539111  2011-03-04    92003\n"
     ]
    }
   ],
   "source": [
    "import pandas as pd\n",
    "\n",
    "df = pd.read_excel('DataSets/product_reviews.xlsx', sheet_name='reviewers')\n",
    "\n",
    "print(df.head())"
   ]
  }
 ],
 "metadata": {
  "kernelspec": {
   "display_name": "Python-Github_VENV-XjlEX2HA",
   "language": "python",
   "name": "python3"
  },
  "language_info": {
   "codemirror_mode": {
    "name": "ipython",
    "version": 3
   },
   "file_extension": ".py",
   "mimetype": "text/x-python",
   "name": "python",
   "nbconvert_exporter": "python",
   "pygments_lexer": "ipython3",
   "version": "3.13.2"
  }
 },
 "nbformat": 4,
 "nbformat_minor": 5
}
