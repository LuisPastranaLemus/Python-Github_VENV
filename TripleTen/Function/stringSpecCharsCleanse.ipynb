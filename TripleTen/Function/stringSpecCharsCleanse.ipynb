{
 "cells": [
  {
   "cell_type": "code",
   "execution_count": 1,
   "metadata": {},
   "outputs": [],
   "source": [
    "def stringSpecCharsCleanse(strng, rplcChr):\n",
    "\n",
    "    # Define the special characters\n",
    "    specialChars = ['!', '@', '#', '$', '%', '^', '&', '*', '(', ')', '-', '_', '+', '=', '{', '}', '[', ']', '|', '\\\\', ':', ';', '\"', \n",
    "                    \"'\", '<', '>', ',', '.', '?', '/', '~', '`','°', '¬', '¦', '¢', '£', '¤', '¥', '§', '©', 'ª', '«', '®', '¯', '°', '±', \n",
    "                    '²', '³', '´', 'µ', '¶', '·', '¸', '¹', 'º', '»', '¼', '½', '¾', '¿', '×', '÷', '¡', '¿'] \n",
    "    \n",
    "    # Remove the special characters from the string\n",
    "    for char in specialChars:\n",
    "        strng = strng.replace(char, rplcChr)\n",
    "\n",
    "    # Return the cleansed string\n",
    "    return strng"
   ]
  }
 ],
 "metadata": {
  "kernelspec": {
   "display_name": "Python-Github_VENV-XjlEX2HA",
   "language": "python",
   "name": "python3"
  },
  "language_info": {
   "codemirror_mode": {
    "name": "ipython",
    "version": 3
   },
   "file_extension": ".py",
   "mimetype": "text/x-python",
   "name": "python",
   "nbconvert_exporter": "python",
   "pygments_lexer": "ipython3",
   "version": "3.13.2"
  }
 },
 "nbformat": 4,
 "nbformat_minor": 2
}
