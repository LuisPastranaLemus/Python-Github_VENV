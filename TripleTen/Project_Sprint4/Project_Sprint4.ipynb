{
 "cells": [
  {
   "cell_type": "markdown",
   "id": "3Xg_RQfnafXz",
   "metadata": {
    "id": "3Xg_RQfnafXz"
   },
   "source": [
    "# ¡Llena ese carrito!"
   ]
  },
  {
   "cell_type": "markdown",
   "id": "mhIvmmkW414q",
   "metadata": {
    "id": "mhIvmmkW414q"
   },
   "source": [
    "# Introducción\n",
    "\n",
    "Instacart es una plataforma de entregas de comestibles donde la clientela puede registrar un pedido y hacer que se lo entreguen, similar a Uber Eats y Door Dash.\n",
    "El conjunto de datos que te hemos proporcionado tiene modificaciones del original. Redujimos el tamaño del conjunto para que tus cálculos se hicieran más rápido e introdujimos valores ausentes y duplicados. Tuvimos cuidado de conservar las distribuciones de los datos originales cuando hicimos los cambios.\n",
    "\n",
    "Debes completar tres pasos. Para cada uno de ellos, escribe una breve introducción que refleje con claridad cómo pretendes resolver cada paso, y escribe párrafos explicatorios que justifiquen tus decisiones al tiempo que avanzas en tu solución.  También escribe una conclusión que resuma tus hallazgos y elecciones.\n"
   ]
  },
  {
   "cell_type": "markdown",
   "id": "3MbyzpOQZ5Or",
   "metadata": {
    "id": "3MbyzpOQZ5Or"
   },
   "source": [
    "## Diccionario de datos\n",
    "\n",
    "Hay cinco tablas en el conjunto de datos, y tendrás que usarlas todas para hacer el preprocesamiento de datos y el análisis exploratorio de datos. A continuación se muestra un diccionario de datos que enumera las columnas de cada tabla y describe los datos que contienen.\n",
    "\n",
    "- `instacart_orders.csv`: cada fila corresponde a un pedido en la aplicación Instacart.\n",
    "    - `'order_id'`: número de ID que identifica de manera única cada pedido.\n",
    "    - `'user_id'`: número de ID que identifica de manera única la cuenta de cada cliente.\n",
    "    - `'order_number'`: el número de veces que este cliente ha hecho un pedido.\n",
    "    - `'order_dow'`: día de la semana en que se hizo el pedido (0 si es domingo).\n",
    "    - `'order_hour_of_day'`: hora del día en que se hizo el pedido.\n",
    "    - `'days_since_prior_order'`: número de días transcurridos desde que este cliente hizo su pedido anterior.\n",
    "- `products.csv`: cada fila corresponde a un producto único que pueden comprar los clientes.\n",
    "    - `'product_id'`: número ID que identifica de manera única cada producto.\n",
    "    - `'product_name'`: nombre del producto.\n",
    "    - `'aisle_id'`: número ID que identifica de manera única cada categoría de pasillo de víveres.\n",
    "    - `'department_id'`: número ID que identifica de manera única cada departamento de víveres.\n",
    "- `order_products.csv`: cada fila corresponde a un artículo pedido en un pedido.\n",
    "    - `'order_id'`: número de ID que identifica de manera única cada pedido.\n",
    "    - `'product_id'`: número ID que identifica de manera única cada producto.\n",
    "    - `'add_to_cart_order'`: el orden secuencial en el que se añadió cada artículo en el carrito.\n",
    "    - `'reordered'`: 0 si el cliente nunca ha pedido este producto antes, 1 si lo ha pedido.\n",
    "- `aisles.csv`\n",
    "    - `'aisle_id'`: número ID que identifica de manera única cada categoría de pasillo de víveres.\n",
    "    - `'aisle'`: nombre del pasillo.\n",
    "- `departments.csv`\n",
    "    - `'department_id'`: número ID que identifica de manera única cada departamento de víveres.\n",
    "    - `'department'`: nombre del departamento."
   ]
  },
  {
   "cell_type": "markdown",
   "id": "n3Ha_cNSZ8lK",
   "metadata": {
    "id": "n3Ha_cNSZ8lK"
   },
   "source": [
    "# Paso 1. Descripción de los datos\n",
    "\n",
    "Lee los archivos de datos (`/datasets/instacart_orders.csv`, `/datasets/products.csv`, `/datasets/aisles.csv`, `/datasets/departments.csv` y `/datasets/order_products.csv`) con `pd.read_csv()` usando los parámetros adecuados para leer los datos correctamente. Verifica la información para cada DataFrame creado.\n"
   ]
  },
  {
   "cell_type": "markdown",
   "id": "342bace0",
   "metadata": {},
   "source": [
    "## Plan de solución\n",
    "\n",
    "1. Apertura e inspeccion visual para darse una idea general, si los archivos csv cuentan con que tipo de separador csv, nombres de columnas, formato de nombres de columnas, son consistentes en el numero de columnas y sus titulos, asi como reconocimiento de valores vacios, caracteres raros, valores numericos como strings, con caracteres especiales, etc. \n",
    "2. Revision general del dataset, verificar el tamaño, columnas y tipos de datos (int, float, string, datetime, etc.). Comprobar que el numero de filas tenga sentido respecto a lo esperado. \n",
    "3. Creacion de DataFrames a partir de la lectura de los archivos CSV.\n",
    "4. Revision de la informacion de los Dataframes, composicion (tamaño), cantidad de valores nulos, dtypes.\n",
    "5. Documentacion de cada paso, registro de transformaciones realizadas, esto ayuda a mantener la trazabilidad y reproducibilidad."
   ]
  },
  {
   "cell_type": "code",
   "execution_count": null,
   "id": "fbf1adab",
   "metadata": {
    "id": "fbf1adab"
   },
   "outputs": [],
   "source": [
    "# Importar librerías\n",
    "\n",
    "import pandas as pd\n",
    "import numpy as np\n",
    "import matplotlib.pyplot as plt\n",
    "\n",
    "aisles_path = 'datasets/aisles.csv'\n",
    "departments_path = 'datasets/departments.csv'\n",
    "instacart_orders_path = 'datasets/instacart_orders.csv'\n",
    "order_products_path = 'datasets/order_products.csv'\n",
    "products_path = 'datasets/products.csv'\n",
    "\n",
    "# Funcion que da estilo de formato para visualizacion de los DataFrames en Jupyter Notebook \n",
    "def zebra_rows(row):\n",
    "    \n",
    "    if row.name % 2 == 0:\n",
    "        return ['background-color: #808080'] * len(row)  # 50% grey\n",
    "    else:\n",
    "        return ['background-color: #595959'] * len(row)  # 35% grey\n",
    "\n",
    "# Funcion para mostrar valores unicos de las columnas de un DataFrame\n",
    "def columns_unique_values(df):\n",
    "    \n",
    "    for col in df.columns:\n",
    "        print(f\"Columna: {col}\")\n",
    "        print(f\"Valores únicos: {df[col].unique()} {df[col].nunique()}\")\n",
    "        print(\"-\" * 50)\n",
    "\n",
    "# Funcion para asignacion de valor <NA> a los valores nulos de un DataFrame\n",
    "def null_value_apply(df):\n",
    "    \n",
    "    null_values = ['', ' ', '-', 'N/A', 'NA', 'NaN', 'nan', 'NULL', 'null', 'None', None]\n",
    "    \n",
    "    for col in df.columns:\n",
    "        \n",
    "        df[col] = df[col].replace(null_values, pd.NA)\n",
    "                \n",
    "    return df\n",
    "\n",
    "# Funcion para convertir valores \n",
    "\n",
    "# Funcion para la estandarizacion de valores String (snake_case, lower, strip, eliminacion de guiones medios)\n",
    "def string_std(df):\n",
    "        \n",
    "    for col in df.columns:\n",
    "            \n",
    "        if df[col].dtype == 'object':\n",
    "                \n",
    "            df[col] = df[col].str.replace('-', '_').str.lower().str.strip()\n",
    "                \n",
    "    return df\n",
    "\n",
    "pd.set_option('display.max_rows', 20) # Mostrar 10 filas como máximo\n",
    "pd.set_option('display.max_columns', 10) # Mostrar 10 columnas como máximo\n",
    "pd.set_option('display.width', 150) # Mostrar 1000 caracteres como máximo"
   ]
  },
  {
   "cell_type": "markdown",
   "id": "4e073215",
   "metadata": {},
   "source": [
    "##### __Nota__\n",
    "Se agregaron en esta seccion las funciones a usar mas adelante, para seguir el formato estandard segun las buenas practicas de programacion."
   ]
  },
  {
   "cell_type": "code",
   "execution_count": null,
   "id": "ad36396d",
   "metadata": {
    "id": "ad36396d"
   },
   "outputs": [],
   "source": [
    "# Leer conjuntos de datos en los DataFrames\n",
    "\n",
    "df_aisles = pd.read_csv(aisles_path, sep=';', header='infer', keep_default_na=False)\n",
    "df_departments = pd.read_csv(departments_path, sep=';', header='infer', keep_default_na=False)\n",
    "df_instacart_orders = pd.read_csv(instacart_orders_path, sep=';', header='infer', keep_default_na=False)\n",
    "df_order_products = pd.read_csv(order_products_path, sep=';', header='infer', keep_default_na=False)\n",
    "df_products = pd.read_csv(products_path, sep=';', header='infer', keep_default_na=False)\n",
    "\n",
    "df_aisles.head(20).style.apply(zebra_rows, axis=1)\n",
    "df_departments.head(20).style.apply(zebra_rows, axis=1)\n",
    "df_instacart_orders.head(20).style.apply(zebra_rows, axis=1)\n",
    "df_order_products.head(20).style.apply(zebra_rows, axis=1)\n",
    "df_products.head(20).style.apply(zebra_rows, axis=1)"
   ]
  },
  {
   "cell_type": "markdown",
   "id": "0bf24e3c",
   "metadata": {},
   "source": [
    "##### __Nota__\n",
    "\n",
    "Se utilizo _header='infer'_, ya que con la inspeccion visual de los archivos csv se identifico que los archivos contaban con el nombre de las columnas en la primera posicion de las filas.\n",
    "Se utilizo _keep_default_na=False_, ya que posteriormente se piensa identificar,  modificar los valores nulos y reemplazarlo con el valor nulo pd.NA ya que este maneja tipos de datos mixtos, y operaciones comunes para la identificacion y eliminacion de valores nulos, adicionalmente que trabaja con strings, enteros y booleanos."
   ]
  },
  {
   "cell_type": "markdown",
   "id": "a5a29e22",
   "metadata": {},
   "source": [
    "##### __Infromacion de los DataFrames__"
   ]
  },
  {
   "cell_type": "code",
   "execution_count": null,
   "id": "ad6a1efa",
   "metadata": {
    "id": "ad6a1efa"
   },
   "outputs": [],
   "source": [
    "# Mostrar información del DataFrame\n",
    "\n",
    "print(\"*** Aisles DataFrame: \\n\")\n",
    "df_aisles.info()\n",
    "print('*' * 50)\n",
    "print(\"*** Departments DataFrame:\\n\")\n",
    "df_departments.info()\n",
    "print('*' * 50)\n",
    "print(\"*** Instacart Orders DataFrame:\\n\")\n",
    "df_instacart_orders.info()\n",
    "print('*' * 50)\n",
    "print(\"*** Order Products DataFrame:\\n\")\n",
    "df_order_products.info()\n",
    "print('*' * 50)\n",
    "print(\"*** Products DataFrame:\\n\")\n",
    "df_products.info()\n",
    "print('*' * 50)\n"
   ]
  },
  {
   "cell_type": "markdown",
   "id": "389c61a7",
   "metadata": {},
   "source": [
    "##### __Nota__\n",
    "\n",
    "No sera necesario realizar ningun tipo de porcesamiento para el nombre de las columnas ya que estan estandarizadas, con minusculas, usando guion bajo para la separacion de los nombres compuestos, no cuentan con espacios ni al inicio ni al final de cada nombre de columna. "
   ]
  },
  {
   "cell_type": "markdown",
   "id": "474270dd",
   "metadata": {},
   "source": [
    "##### __Valores Nulos__"
   ]
  },
  {
   "cell_type": "code",
   "execution_count": null,
   "id": "5130e05e",
   "metadata": {
    "id": "5130e05e"
   },
   "outputs": [],
   "source": [
    "# Mostrar información del DataFrame para valores nulos\n",
    "\n",
    "print(\"*** DataFrame Aisles: \\n\")\n",
    "columns_unique_values(df_aisles)\n",
    "print()\n",
    "print(\"*** DataFrame Departments: \\n\")\n",
    "columns_unique_values(df_departments)\n",
    "print()\n",
    "print(\"*** DataFrame Instacart Orders: \\n\")\n",
    "columns_unique_values(df_instacart_orders)\n",
    "print()\n",
    "print(\"*** DataFrame Order Products: \\n\")\n",
    "columns_unique_values(df_order_products)\n",
    "print()\n",
    "print(\"*** DataFrame Products: \\n\")\n",
    "columns_unique_values(df_products)\n"
   ]
  },
  {
   "cell_type": "code",
   "execution_count": null,
   "id": "d8370c05",
   "metadata": {
    "id": "d8370c05"
   },
   "outputs": [],
   "source": [
    "# Identificacion y correcion de valores Null a pd.NA\n",
    "\n",
    "null_value_apply( df_aisles)\n",
    "null_value_apply( df_departments)\n",
    "null_value_apply( df_instacart_orders)\n",
    "null_value_apply( df_order_products)\n",
    "null_value_apply( df_products)\n",
    "\n",
    "print(\"Data Frame aisle valores nulos: \\n\", df_aisles.isna().sum())\n",
    "print('*' * 50)\n",
    "print(\"Data Frame department valores nulos: \\n\", df_departments.isna().sum())\n",
    "print('*' * 50)\n",
    "print(\"Data Frame instacart_orders valores nulos: \\n\", df_instacart_orders.isna().sum())\n",
    "print('*' * 50)\n",
    "print(\"Data Frame order_products valores nulos: \\n\", df_order_products.isna().sum())\n",
    "print('*' * 50)\n",
    "print(\"Data Frame products valores nulos: \\n\", df_products.isna().sum())\n",
    "print('*' * 50)\n",
    "print('*' * 50)\n",
    "print()\n",
    "print(\"*** Valores Nulos debidamene identificados y corregidos como <NA>: \\n\")\n",
    "print(\"*** DataFrame Instacart Orders: \\n\")\n",
    "columns_unique_values(df_instacart_orders)\n",
    "print()\n",
    "print(\"*** DataFrame Order Products: \\n\")\n",
    "columns_unique_values(df_order_products)\n",
    "print()\n",
    "print(\"*** DataFrame Products: \\n\")\n",
    "columns_unique_values(df_products)\n"
   ]
  },
  {
   "cell_type": "markdown",
   "id": "da46c71d",
   "metadata": {},
   "source": [
    "##### __Estandarizacion de valores String__"
   ]
  },
  {
   "cell_type": "code",
   "execution_count": null,
   "id": "59e2090f",
   "metadata": {
    "id": "59e2090f"
   },
   "outputs": [],
   "source": [
    "# mostrar información del DataFrame"
   ]
  },
  {
   "cell_type": "markdown",
   "id": "t75BD19oaR5f",
   "metadata": {
    "id": "t75BD19oaR5f"
   },
   "source": [
    "## Conclusiones\n",
    "\n",
    "El formato y valores del nombre de las columnas no requieren de modificacion.\n",
    "Para la limpieza o preprocesamiento de valores de los DataFrames requeriran:\n",
    "\n",
    "- Estandarizacion de formato a snake_case considerando espacion y guiones medios entre strings compuestos.\n",
    "- Procesamiento de valores NULL\n",
    "- Eliminacion de valores duplicados\n",
    "- Procesamiento de valores string a numericos\n",
    "\n",
    "La mayor parte de los valores de los Dataframe se puede considerar moderadamente correcta, sin mucha dificultad para preprocesarlos.\n"
   ]
  },
  {
   "cell_type": "markdown",
   "id": "8RJHqxVmaVsF",
   "metadata": {
    "id": "8RJHqxVmaVsF"
   },
   "source": [
    "# Paso 2. Preprocesamiento de los datos\n",
    "\n",
    "Preprocesa los datos de la siguiente manera:\n",
    "\n",
    "- Verifica y corrige los tipos de datos (por ejemplo, asegúrate de que las columnas de ID sean números enteros).\n",
    "- Identifica y completa los valores ausentes.\n",
    "- Identifica y elimina los valores duplicados.\n",
    "\n",
    "Asegúrate de explicar qué tipos de valores ausentes y duplicados encontraste, cómo los completaste o eliminaste y por qué usaste esos métodos. ¿Por qué crees que estos valores ausentes y duplicados pueden haber estado presentes en el conjunto de datos?"
   ]
  },
  {
   "cell_type": "markdown",
   "id": "p6poABZQaZYb",
   "metadata": {
    "id": "p6poABZQaZYb"
   },
   "source": [
    "## Plan de solución\n",
    "\n",
    "1. Manejo de valores faltantes: Identificar valores nulos (NaN, None, celdas vacías).\n",
    "\n",
    "2. Analisis y decision para: Eliminacion filas o columnas con muchos valores faltantes. Reemplazo (con media, mediana, 0's, etc.). Mantener si tienen algún significado.\n",
    "\n",
    "3. Deteccion de duplicados: Eliminacion filas duplicadas con duplicado explicitos. Revision y correccion para duplicados implicitos (errores tipograficos).\n",
    "\n",
    "4. Consistencia en los formatos: Asegurar valores de fechas esten en el mismo formato. Estandarizacion de categorias que esten escritas diferente (ej. \"Femenino\", \"femenina\", \"Mujer\" → \"F\"). Conversion datos a los tipos correctos (str, datetime, int, etc.).\n",
    "\n",
    "5. Verificacion de codificación y caracteres especiales: Revison de existencia de caracteres raros, espacios ocultos.\n",
    "\n",
    "6. Documentacion de cada paso: Registro de transformaciones realizadas. Esto ayuda a mantener la trazabilidad y reproducibilidad."
   ]
  },
  {
   "cell_type": "markdown",
   "id": "07357848-dc64-4156-9cc3-01ff4365226d",
   "metadata": {
    "id": "07357848-dc64-4156-9cc3-01ff4365226d"
   },
   "source": [
    "## Encuentra y elimina los valores duplicados (y describe cómo tomaste tus decisiones)."
   ]
  },
  {
   "cell_type": "markdown",
   "id": "cec3e7b2",
   "metadata": {},
   "source": [
    "### `instacart orders` data frame"
   ]
  },
  {
   "cell_type": "code",
   "execution_count": null,
   "id": "97d765f0",
   "metadata": {},
   "outputs": [],
   "source": [
    "# Revisa si hay pedidos duplicados\n",
    "print(\"*** Instacart Orders DataFrame valores duplicados explicitos:\\n\")\n",
    "print(f\"Duplicados: {df_instacart_orders.duplicated().sum()}\")\n",
    "print('-' * 50)\n"
   ]
  },
  {
   "cell_type": "markdown",
   "id": "956f1204",
   "metadata": {},
   "source": [
    "¿Tienes líneas duplicadas? Si sí, ¿qué tienen en común?"
   ]
  },
  {
   "cell_type": "code",
   "execution_count": null,
   "id": "3307b0ef",
   "metadata": {},
   "outputs": [],
   "source": [
    "# Basándote en tus hallazgos,\n",
    "# Verifica todos los pedidos que se hicieron el miércoles a las 2:00 a.m.\n",
    "\n",
    "print(df_instacart_orders.loc[(df_instacart_orders['order_hour_of_day'] == 2)  & (df_instacart_orders['order_dow'] == 3), :] )"
   ]
  },
  {
   "cell_type": "markdown",
   "id": "249ea5c6",
   "metadata": {},
   "source": [
    "¿Qué sugiere este resultado?"
   ]
  },
  {
   "cell_type": "code",
   "execution_count": null,
   "id": "55f006c9",
   "metadata": {},
   "outputs": [],
   "source": [
    "# Elimina los pedidos duplicados"
   ]
  },
  {
   "cell_type": "code",
   "execution_count": null,
   "id": "6b1832c9",
   "metadata": {},
   "outputs": [],
   "source": [
    "# Vuelve a verificar si hay filas duplicadas"
   ]
  },
  {
   "cell_type": "code",
   "execution_count": null,
   "id": "55665e7e",
   "metadata": {},
   "outputs": [],
   "source": [
    "# Vuelve a verificar únicamente si hay IDs duplicados de pedidos"
   ]
  },
  {
   "cell_type": "code",
   "execution_count": null,
   "id": "b99297a5-405a-463d-8535-9adc3da4ad74",
   "metadata": {
    "id": "b99297a5-405a-463d-8535-9adc3da4ad74"
   },
   "outputs": [],
   "source": [
    "# Mostrar valores duplicados explicitos en los DataFrames\n",
    "print(\"*** Aisles DataFrame: \\n\")\n",
    "print(f\"Duplicados: {df_aisles.duplicated().sum()}\")\n",
    "print('-' * 50)\n",
    "print(\"*** Departments DataFrame:\\n\")\n",
    "print(f\"Duplicados: {df_departments.duplicated().sum()}\")\n",
    "print('-' * 50)\n",
    "print(\"*** Instacart Orders DataFrame:\\n\")\n",
    "print(f\"Duplicados: {df_instacart_orders.duplicated().sum()}\")\n",
    "print('-' * 50)\n",
    "print(\"*** Order Products DataFrame:\\n\")\n",
    "print(f\"Duplicados: {df_order_products.duplicated().sum()}\")\n",
    "print('-' * 50)\n",
    "print(\"*** Products DataFrame:\\n\")\n",
    "print(f\"Duplicados: {df_products.duplicated().sum()}\")\n",
    "print('-' * 50)"
   ]
  },
  {
   "cell_type": "markdown",
   "id": "33638996",
   "metadata": {},
   "source": [
    "##### __Nota__\n"
   ]
  },
  {
   "cell_type": "code",
   "execution_count": null,
   "id": "f02bea85",
   "metadata": {},
   "outputs": [],
   "source": [
    "# Eliminacion de duplicados explicitos en DF instacart_orders\n",
    "df_instacart_orders = df_instacart_orders.drop_duplicates().reset_index(drop=True)\n",
    "\n",
    "# Validacion de duplicados explicitos\n",
    "\n",
    "print(\"*** Aisles DataFrame: \\n\")\n",
    "print(f\"Duplicados: {df_aisles.duplicated().sum()}\")\n",
    "print('-' * 50)\n",
    "print(\"*** Departments DataFrame:\\n\")\n",
    "print(f\"Duplicados: {df_departments.duplicated().sum()}\")\n",
    "print('-' * 50)\n",
    "print(\"*** Instacart Orders DataFrame:\\n\")\n",
    "print(f\"Duplicados: {df_instacart_orders.duplicated().sum()}\")\n",
    "print('-' * 50)\n",
    "print(\"*** Order Products DataFrame:\\n\")\n",
    "print(f\"Duplicados: {df_order_products.duplicated().sum()}\")\n",
    "print('-' * 50)\n",
    "print(\"*** Products DataFrame:\\n\")\n",
    "print(f\"Duplicados: {df_products.duplicated().sum()}\")\n",
    "print('-' * 50)"
   ]
  },
  {
   "cell_type": "markdown",
   "id": "5e8905ae",
   "metadata": {
    "id": "5e8905ae"
   },
   "source": [
    "Describe brevemente tus hallazgos y lo que hiciste con ellos"
   ]
  },
  {
   "cell_type": "markdown",
   "id": "45e6bc46",
   "metadata": {
    "id": "45e6bc46"
   },
   "source": [
    "### `products` data frame"
   ]
  },
  {
   "cell_type": "code",
   "execution_count": null,
   "id": "5f526b5b-8175-46fa-a0fd-441767d50e64",
   "metadata": {
    "id": "5f526b5b-8175-46fa-a0fd-441767d50e64"
   },
   "outputs": [],
   "source": [
    "# Verifica si hay filas totalmente duplicadas\n"
   ]
  },
  {
   "cell_type": "code",
   "execution_count": null,
   "id": "88daa4f4",
   "metadata": {
    "id": "88daa4f4"
   },
   "outputs": [],
   "source": [
    "# Revisa únicamente si hay ID de departamentos duplicados\n"
   ]
  },
  {
   "cell_type": "code",
   "execution_count": null,
   "id": "c773f0bf",
   "metadata": {
    "id": "c773f0bf"
   },
   "outputs": [],
   "source": [
    "# Revisa únicamente si hay nombres duplicados de productos (convierte los nombres a letras mayúsculas para compararlos mejor)\n"
   ]
  },
  {
   "cell_type": "code",
   "execution_count": null,
   "id": "01efd02e",
   "metadata": {
    "id": "01efd02e"
   },
   "outputs": [],
   "source": [
    "# Revisa si hay nombres duplicados de productos no faltantes\n"
   ]
  },
  {
   "cell_type": "markdown",
   "id": "9da8d293",
   "metadata": {
    "id": "9da8d293"
   },
   "source": [
    "Describe brevemente tus hallazgos y lo que hiciste con ellos."
   ]
  },
  {
   "cell_type": "markdown",
   "id": "60f30db1",
   "metadata": {
    "id": "60f30db1"
   },
   "source": [
    "### `departments` data frame"
   ]
  },
  {
   "cell_type": "code",
   "execution_count": null,
   "id": "fb410ad4-0fbf-4b80-bb09-23fdea79afe3",
   "metadata": {
    "id": "fb410ad4-0fbf-4b80-bb09-23fdea79afe3"
   },
   "outputs": [],
   "source": [
    "# Revisa si hay filas totalmente duplicadas"
   ]
  },
  {
   "cell_type": "code",
   "execution_count": null,
   "id": "332b12bb",
   "metadata": {
    "id": "332b12bb"
   },
   "outputs": [],
   "source": [
    "# Revisa únicamente si hay IDs duplicadas de productos"
   ]
  },
  {
   "cell_type": "markdown",
   "id": "bd30d78e",
   "metadata": {
    "id": "bd30d78e"
   },
   "source": [
    "Describe brevemente tus hallazgos y lo que hiciste con ellos."
   ]
  },
  {
   "cell_type": "markdown",
   "id": "889349c1",
   "metadata": {
    "id": "889349c1"
   },
   "source": [
    "### `aisles` data frame"
   ]
  },
  {
   "cell_type": "code",
   "execution_count": null,
   "id": "9da89fb9-4679-40f5-ad0d-c34df753a3f8",
   "metadata": {
    "id": "9da89fb9-4679-40f5-ad0d-c34df753a3f8"
   },
   "outputs": [],
   "source": [
    "# Revisa si hay filas totalmente duplicadas"
   ]
  },
  {
   "cell_type": "code",
   "execution_count": null,
   "id": "da7c2822",
   "metadata": {
    "id": "da7c2822"
   },
   "outputs": [],
   "source": [
    "# Revisa únicamente si hay IDs duplicadas de pasillos"
   ]
  },
  {
   "cell_type": "markdown",
   "id": "ac63826f",
   "metadata": {
    "id": "ac63826f"
   },
   "source": [
    "Describe brevemente tus hallazgos y lo que hiciste con ellos."
   ]
  },
  {
   "cell_type": "markdown",
   "id": "274cd06a",
   "metadata": {
    "id": "274cd06a"
   },
   "source": [
    "### `order_products` data frame"
   ]
  },
  {
   "cell_type": "code",
   "execution_count": null,
   "id": "52326689-84a8-4b8f-a881-7c68780f62c9",
   "metadata": {
    "id": "52326689-84a8-4b8f-a881-7c68780f62c9"
   },
   "outputs": [],
   "source": [
    "# Revisa si hay filas totalmente duplicadas\n"
   ]
  },
  {
   "cell_type": "code",
   "execution_count": null,
   "id": "7b861391",
   "metadata": {
    "id": "7b861391"
   },
   "outputs": [],
   "source": [
    "# Vuelve a verificar si hay cualquier otro duplicado engañoso\n"
   ]
  },
  {
   "cell_type": "markdown",
   "id": "0b890492",
   "metadata": {
    "id": "0b890492"
   },
   "source": [
    "Describe brevemente tus hallazgos y lo que hiciste con ellos."
   ]
  },
  {
   "cell_type": "markdown",
   "id": "1e46de76",
   "metadata": {
    "id": "1e46de76"
   },
   "source": [
    "## Encuentra y elimina los valores ausentes\n",
    "\n",
    "Al trabajar con valores duplicados, pudimos observar que también nos falta investigar valores ausentes:\n",
    "\n",
    "* La columna `'product_name'` de la tabla products.\n",
    "* La columna `'days_since_prior_order'` de la tabla orders.\n",
    "* La columna `'add_to_cart_order'` de la tabla order_productos."
   ]
  },
  {
   "cell_type": "markdown",
   "id": "c0aebd78",
   "metadata": {
    "id": "c0aebd78"
   },
   "source": [
    "### `products` data frame"
   ]
  },
  {
   "cell_type": "code",
   "execution_count": null,
   "id": "fe4a8b0f",
   "metadata": {
    "id": "fe4a8b0f"
   },
   "outputs": [],
   "source": [
    "# Encuentra los valores ausentes en la columna 'product_name'"
   ]
  },
  {
   "cell_type": "markdown",
   "id": "-A6x1AbJhjkp",
   "metadata": {
    "id": "-A6x1AbJhjkp"
   },
   "source": [
    "Describe brevemente cuáles son tus hallazgos."
   ]
  },
  {
   "cell_type": "code",
   "execution_count": null,
   "id": "e96167bc",
   "metadata": {
    "id": "e96167bc"
   },
   "outputs": [],
   "source": [
    "#  ¿Todos los nombres de productos ausentes están relacionados con el pasillo con ID 100?\n"
   ]
  },
  {
   "cell_type": "markdown",
   "id": "WRpIfXRphpSL",
   "metadata": {
    "id": "WRpIfXRphpSL"
   },
   "source": [
    "Describe brevemente cuáles son tus hallazgos."
   ]
  },
  {
   "cell_type": "code",
   "execution_count": null,
   "id": "8fd0a541",
   "metadata": {
    "id": "8fd0a541"
   },
   "outputs": [],
   "source": [
    "# ¿Todos los nombres de productos ausentes están relacionados con el departamento con ID 21?\n"
   ]
  },
  {
   "cell_type": "markdown",
   "id": "qDpdYn1Fht_I",
   "metadata": {
    "id": "qDpdYn1Fht_I"
   },
   "source": [
    "Describe brevemente cuáles son tus hallazgos."
   ]
  },
  {
   "cell_type": "code",
   "execution_count": null,
   "id": "325c3464",
   "metadata": {
    "id": "325c3464"
   },
   "outputs": [],
   "source": [
    "# Usa las tablas department y aisle para revisar los datos del pasillo con ID 100 y el departamento con ID 21.\n"
   ]
  },
  {
   "cell_type": "markdown",
   "id": "nqhSTUPhhvEJ",
   "metadata": {
    "id": "nqhSTUPhhvEJ"
   },
   "source": [
    "Describe brevemente cuáles son tus hallazgos."
   ]
  },
  {
   "cell_type": "code",
   "execution_count": null,
   "id": "6b295120",
   "metadata": {
    "id": "6b295120"
   },
   "outputs": [],
   "source": [
    "# Completa los nombres de productos ausentes con 'Unknown'\n"
   ]
  },
  {
   "cell_type": "markdown",
   "id": "fc70e5ad",
   "metadata": {
    "id": "fc70e5ad"
   },
   "source": [
    "Describe brevemente tus hallazgos y lo que hiciste con ellos."
   ]
  },
  {
   "cell_type": "markdown",
   "id": "7eb45c86",
   "metadata": {
    "id": "7eb45c86"
   },
   "source": [
    "### `orders` data frame"
   ]
  },
  {
   "cell_type": "code",
   "execution_count": null,
   "id": "93e41d96",
   "metadata": {
    "id": "93e41d96"
   },
   "outputs": [],
   "source": [
    "# Encuentra los valores ausentes"
   ]
  },
  {
   "cell_type": "code",
   "execution_count": null,
   "id": "166e5a86",
   "metadata": {
    "id": "166e5a86"
   },
   "outputs": [],
   "source": [
    "# ¿Hay algún valor ausente que no sea el primer pedido del cliente?\n"
   ]
  },
  {
   "cell_type": "markdown",
   "id": "4e23d089",
   "metadata": {
    "id": "4e23d089"
   },
   "source": [
    "Describe brevemente tus hallazgos y lo que hiciste con ellos."
   ]
  },
  {
   "cell_type": "markdown",
   "id": "69dc9ca4",
   "metadata": {
    "id": "69dc9ca4"
   },
   "source": [
    "### `order_products` data frame"
   ]
  },
  {
   "cell_type": "code",
   "execution_count": null,
   "id": "b8240253",
   "metadata": {
    "id": "b8240253"
   },
   "outputs": [],
   "source": [
    "# Encuentra los valores ausentes"
   ]
  },
  {
   "cell_type": "code",
   "execution_count": null,
   "id": "9a78e5ee",
   "metadata": {
    "id": "9a78e5ee"
   },
   "outputs": [],
   "source": [
    "# ¿Cuáles son los valores mínimos y máximos en esta columna?\n"
   ]
  },
  {
   "cell_type": "markdown",
   "id": "-Z2Ja215jW78",
   "metadata": {
    "id": "-Z2Ja215jW78"
   },
   "source": [
    "Describe brevemente cuáles son tus hallazgos."
   ]
  },
  {
   "cell_type": "code",
   "execution_count": null,
   "id": "ab9d0c2b",
   "metadata": {
    "id": "ab9d0c2b"
   },
   "outputs": [],
   "source": [
    "# Guarda todas las IDs de pedidos que tengan un valor ausente en 'add_to_cart_order'\n"
   ]
  },
  {
   "cell_type": "code",
   "execution_count": null,
   "id": "54c31695",
   "metadata": {
    "id": "54c31695"
   },
   "outputs": [],
   "source": [
    "# ¿Todos los pedidos con valores ausentes tienen más de 64 productos?\n",
    "# Agrupa todos los pedidos con datos ausentes por su ID de pedido.\n",
    "# Cuenta el número de 'product_id' en cada pedido y revisa el valor mínimo del conteo.\n"
   ]
  },
  {
   "cell_type": "markdown",
   "id": "p9V6pddtjglj",
   "metadata": {
    "id": "p9V6pddtjglj"
   },
   "source": [
    "Describe brevemente cuáles son tus hallazgos."
   ]
  },
  {
   "cell_type": "code",
   "execution_count": null,
   "id": "7a987d08",
   "metadata": {
    "id": "7a987d08"
   },
   "outputs": [],
   "source": [
    "# Remplaza los valores ausentes en la columna 'add_to_cart? con 999 y convierte la columna al tipo entero.\n"
   ]
  },
  {
   "cell_type": "markdown",
   "id": "fea4bcc7",
   "metadata": {
    "id": "fea4bcc7"
   },
   "source": [
    "Describe brevemente tus hallazgos y lo que hiciste con ellos."
   ]
  },
  {
   "cell_type": "markdown",
   "id": "RnplPFY1gSrb",
   "metadata": {
    "id": "RnplPFY1gSrb"
   },
   "source": [
    "## Conclusiones\n",
    "\n",
    "Escribe aquí tus conclusiones intermedias sobre el Paso 2. Preprocesamiento de los datos\n"
   ]
  },
  {
   "cell_type": "markdown",
   "id": "UjrOIwTcz3ri",
   "metadata": {
    "id": "UjrOIwTcz3ri"
   },
   "source": [
    "# Paso 3. Análisis de los datos\n",
    "\n",
    "Una vez los datos estén procesados y listos, haz el siguiente análisis:"
   ]
  },
  {
   "cell_type": "markdown",
   "id": "turkish-kidney",
   "metadata": {
    "id": "turkish-kidney"
   },
   "source": [
    "# [A] Fácil (deben completarse todos para aprobar)\n",
    "\n",
    "1. Verifica que los valores en las columnas `'order_hour_of_day'` y `'order_dow'` en la tabla orders sean razonables (es decir, `'order_hour_of_day'` oscile entre 0 y 23 y `'order_dow'` oscile entre 0 y 6).\n",
    "2. Crea un gráfico que muestre el número de personas que hacen pedidos dependiendo de la hora del día.\n",
    "3. Crea un gráfico que muestre qué día de la semana la gente hace sus compras.\n",
    "4. Crea un gráfico que muestre el tiempo que la gente espera hasta hacer su siguiente pedido, y comenta sobre los valores mínimos y máximos."
   ]
  },
  {
   "cell_type": "markdown",
   "id": "short-capability",
   "metadata": {
    "id": "short-capability"
   },
   "source": [
    "### [A1] Verifica que los valores sean sensibles"
   ]
  },
  {
   "cell_type": "code",
   "execution_count": null,
   "id": "growing-fruit",
   "metadata": {
    "id": "growing-fruit"
   },
   "outputs": [],
   "source": []
  },
  {
   "cell_type": "code",
   "execution_count": null,
   "id": "accessory-malaysia",
   "metadata": {
    "id": "accessory-malaysia"
   },
   "outputs": [],
   "source": []
  },
  {
   "cell_type": "markdown",
   "id": "hmR2GNQ6lCsX",
   "metadata": {
    "id": "hmR2GNQ6lCsX"
   },
   "source": [
    "Escribe aquí tus conclusiones"
   ]
  },
  {
   "cell_type": "markdown",
   "id": "a6743a70",
   "metadata": {
    "id": "a6743a70"
   },
   "source": [
    "### [A2] Para cada hora del día, ¿cuántas personas hacen órdenes?"
   ]
  },
  {
   "cell_type": "code",
   "execution_count": null,
   "id": "a36cca27",
   "metadata": {
    "id": "a36cca27"
   },
   "outputs": [],
   "source": []
  },
  {
   "cell_type": "markdown",
   "id": "11270eed",
   "metadata": {
    "id": "11270eed"
   },
   "source": [
    "Escribe aquí tus conclusiones"
   ]
  },
  {
   "cell_type": "markdown",
   "id": "documented-command",
   "metadata": {
    "id": "documented-command"
   },
   "source": [
    "### [A3] ¿Qué día de la semana compran víveres las personas?"
   ]
  },
  {
   "cell_type": "code",
   "execution_count": null,
   "id": "chief-digit",
   "metadata": {
    "id": "chief-digit"
   },
   "outputs": [],
   "source": []
  },
  {
   "cell_type": "markdown",
   "id": "dominant-lightning",
   "metadata": {
    "id": "dominant-lightning"
   },
   "source": [
    "Escribe aquí tus conclusiones"
   ]
  },
  {
   "cell_type": "markdown",
   "id": "cutting-concert",
   "metadata": {
    "id": "cutting-concert"
   },
   "source": [
    "### [A4] ¿Cuánto tiempo esperan las personas hasta hacer otro pedido? Comenta sobre los valores mínimos y máximos."
   ]
  },
  {
   "cell_type": "code",
   "execution_count": null,
   "id": "c231f523",
   "metadata": {
    "id": "c231f523"
   },
   "outputs": [],
   "source": []
  },
  {
   "cell_type": "markdown",
   "id": "discrete-vertex",
   "metadata": {
    "id": "discrete-vertex"
   },
   "source": [
    "Escribe aquí tus conclusiones"
   ]
  },
  {
   "cell_type": "markdown",
   "id": "tight-staff",
   "metadata": {
    "id": "tight-staff"
   },
   "source": [
    "# [B] Intermedio (deben completarse todos para aprobar)\n",
    "\n",
    "1. ¿Existe alguna diferencia entre las distribuciones `'order_hour_of_day'` de los miércoles y los sábados? Traza gráficos de barra de `'order_hour_of_day'` para ambos días en la misma figura y describe las diferencias que observes.\n",
    "2. Grafica la distribución para el número de órdenes que hacen los clientes (es decir, cuántos clientes hicieron solo 1 pedido, cuántos hicieron 2, cuántos 3, y así sucesivamente...).\n",
    "3. ¿Cuáles son los 20 principales productos que se piden con más frecuencia (muestra su identificación y nombre)?"
   ]
  },
  {
   "cell_type": "markdown",
   "id": "packed-classic",
   "metadata": {
    "id": "packed-classic"
   },
   "source": [
    "### [B1] Diferencia entre miércoles y sábados para  `'order_hour_of_day'`. Traza gráficos de barra para los dos días y describe las diferencias que veas."
   ]
  },
  {
   "cell_type": "code",
   "execution_count": null,
   "id": "d89b8403",
   "metadata": {
    "id": "d89b8403"
   },
   "outputs": [],
   "source": []
  },
  {
   "cell_type": "code",
   "execution_count": null,
   "id": "94e54e8a",
   "metadata": {
    "id": "94e54e8a"
   },
   "outputs": [],
   "source": []
  },
  {
   "cell_type": "code",
   "execution_count": null,
   "id": "797c90a8",
   "metadata": {
    "id": "797c90a8"
   },
   "outputs": [],
   "source": []
  },
  {
   "cell_type": "code",
   "execution_count": null,
   "id": "35bcea30",
   "metadata": {
    "id": "35bcea30"
   },
   "outputs": [],
   "source": []
  },
  {
   "cell_type": "markdown",
   "id": "charitable-congo",
   "metadata": {
    "id": "charitable-congo"
   },
   "source": [
    "Escribe aquí tus conclusiones"
   ]
  },
  {
   "cell_type": "markdown",
   "id": "e3891143",
   "metadata": {
    "id": "e3891143"
   },
   "source": [
    "### [B2] ¿Cuál es la distribución para el número de pedidos por cliente?"
   ]
  },
  {
   "cell_type": "code",
   "execution_count": null,
   "id": "d8c26c23",
   "metadata": {
    "id": "d8c26c23"
   },
   "outputs": [],
   "source": []
  },
  {
   "cell_type": "code",
   "execution_count": null,
   "id": "00e69a66",
   "metadata": {
    "id": "00e69a66"
   },
   "outputs": [],
   "source": []
  },
  {
   "cell_type": "markdown",
   "id": "d2eff7d5",
   "metadata": {
    "id": "d2eff7d5"
   },
   "source": [
    "Escribe aquí tus conclusiones"
   ]
  },
  {
   "cell_type": "markdown",
   "id": "54a0319c",
   "metadata": {
    "id": "54a0319c"
   },
   "source": [
    "### [B3] ¿Cuáles son los 20 productos más populares (muestra su ID y nombre)?"
   ]
  },
  {
   "cell_type": "code",
   "execution_count": null,
   "id": "exterior-arizona",
   "metadata": {
    "id": "exterior-arizona",
    "scrolled": true
   },
   "outputs": [],
   "source": []
  },
  {
   "cell_type": "code",
   "execution_count": null,
   "id": "universal-facial",
   "metadata": {
    "id": "universal-facial"
   },
   "outputs": [],
   "source": []
  },
  {
   "cell_type": "code",
   "execution_count": null,
   "id": "bbcdd20b",
   "metadata": {
    "id": "bbcdd20b"
   },
   "outputs": [],
   "source": []
  },
  {
   "cell_type": "markdown",
   "id": "7df00f47",
   "metadata": {
    "id": "7df00f47"
   },
   "source": [
    "Escribe aquí tus conclusiones"
   ]
  },
  {
   "cell_type": "markdown",
   "id": "gross-theme",
   "metadata": {
    "id": "gross-theme"
   },
   "source": [
    "# [C] Difícil (deben completarse todos para aprobar)\n",
    "\n",
    "1. ¿Cuántos artículos suelen comprar las personas en un pedido? ¿Cómo es la distribución?\n",
    "2. ¿Cuáles son los 20 principales artículos que vuelven a pedirse con mayor frecuencia (muestra sus nombres e IDs de los productos)?\n",
    "3. Para cada producto, ¿cuál es la tasa de repetición del pedido (número de repeticiones de pedido/total de pedidos?\n",
    "4. Para cada cliente, ¿qué proporción de los productos que pidió ya los había pedido? Calcula la tasa de repetición de pedido para cada usuario en lugar de para cada producto.\n",
    "5. ¿Cuáles son los 20 principales artículos que la gente pone primero en sus carritos (muestra las IDs de los productos, sus nombres, y el número de veces en que fueron el primer artículo en añadirse al carrito)?"
   ]
  },
  {
   "cell_type": "markdown",
   "id": "romantic-deposit",
   "metadata": {
    "id": "romantic-deposit"
   },
   "source": [
    "### [C1] ¿Cuántos artículos compran normalmente las personas en un pedido? ¿Cómo es la distribución?"
   ]
  },
  {
   "cell_type": "code",
   "execution_count": null,
   "id": "virtual-punch",
   "metadata": {
    "id": "virtual-punch"
   },
   "outputs": [],
   "source": []
  },
  {
   "cell_type": "code",
   "execution_count": null,
   "id": "sensitive-breathing",
   "metadata": {
    "id": "sensitive-breathing"
   },
   "outputs": [],
   "source": []
  },
  {
   "cell_type": "code",
   "execution_count": null,
   "id": "completed-frank",
   "metadata": {
    "id": "completed-frank"
   },
   "outputs": [],
   "source": []
  },
  {
   "cell_type": "markdown",
   "id": "designed-mortality",
   "metadata": {
    "id": "designed-mortality"
   },
   "source": [
    "Escribe aquí tus conclusiones"
   ]
  },
  {
   "cell_type": "markdown",
   "id": "5e6b5537",
   "metadata": {
    "id": "5e6b5537"
   },
   "source": [
    "### [C2] ¿Cuáles son los 20 principales artículos que vuelven a pedirse con mayor frecuencia (muestra sus nombres e IDs de los productos)?"
   ]
  },
  {
   "cell_type": "code",
   "execution_count": null,
   "id": "9374e55a",
   "metadata": {
    "id": "9374e55a"
   },
   "outputs": [],
   "source": []
  },
  {
   "cell_type": "code",
   "execution_count": null,
   "id": "possible-change",
   "metadata": {
    "id": "possible-change",
    "scrolled": true
   },
   "outputs": [],
   "source": []
  },
  {
   "cell_type": "code",
   "execution_count": null,
   "id": "professional-surfing",
   "metadata": {
    "id": "professional-surfing",
    "scrolled": true
   },
   "outputs": [],
   "source": []
  },
  {
   "cell_type": "code",
   "execution_count": null,
   "id": "48dd3658",
   "metadata": {
    "id": "48dd3658"
   },
   "outputs": [],
   "source": []
  },
  {
   "cell_type": "markdown",
   "id": "80e70c74",
   "metadata": {
    "id": "80e70c74"
   },
   "source": [
    "Escribe aquí tus conclusiones"
   ]
  },
  {
   "cell_type": "markdown",
   "id": "9d312b14",
   "metadata": {
    "id": "9d312b14"
   },
   "source": [
    "### [C3] Para cada producto, ¿cuál es la proporción de las veces que se pide y que se vuelve a pedir?"
   ]
  },
  {
   "cell_type": "code",
   "execution_count": null,
   "id": "8ae9f4b1",
   "metadata": {
    "id": "8ae9f4b1"
   },
   "outputs": [],
   "source": []
  },
  {
   "cell_type": "code",
   "execution_count": null,
   "id": "103e7fe1",
   "metadata": {
    "id": "103e7fe1"
   },
   "outputs": [],
   "source": []
  },
  {
   "cell_type": "code",
   "execution_count": null,
   "id": "social-individual",
   "metadata": {
    "id": "social-individual"
   },
   "outputs": [],
   "source": []
  },
  {
   "cell_type": "markdown",
   "id": "I10dEIAyldcO",
   "metadata": {
    "id": "I10dEIAyldcO"
   },
   "source": [
    "Escribe aquí tus conclusiones"
   ]
  },
  {
   "cell_type": "markdown",
   "id": "subject-boxing",
   "metadata": {
    "id": "subject-boxing"
   },
   "source": [
    "### [C4] Para cada cliente, ¿qué proporción de sus productos ya los había pedido?"
   ]
  },
  {
   "cell_type": "code",
   "execution_count": null,
   "id": "medical-couple",
   "metadata": {
    "id": "medical-couple",
    "scrolled": true
   },
   "outputs": [],
   "source": []
  },
  {
   "cell_type": "code",
   "execution_count": null,
   "id": "8892e4b4",
   "metadata": {
    "id": "8892e4b4"
   },
   "outputs": [],
   "source": []
  },
  {
   "cell_type": "markdown",
   "id": "BgJSvXDsleXz",
   "metadata": {
    "id": "BgJSvXDsleXz"
   },
   "source": [
    "Escribe aquí tus conclusiones"
   ]
  },
  {
   "cell_type": "markdown",
   "id": "92d35137",
   "metadata": {
    "id": "92d35137"
   },
   "source": [
    "### [C5] ¿Cuáles son los 20 principales artículos que las personas ponen primero en sus carritos?"
   ]
  },
  {
   "cell_type": "code",
   "execution_count": null,
   "id": "0ae57274",
   "metadata": {
    "id": "0ae57274",
    "scrolled": true
   },
   "outputs": [],
   "source": []
  },
  {
   "cell_type": "code",
   "execution_count": null,
   "id": "forty-netherlands",
   "metadata": {
    "id": "forty-netherlands",
    "scrolled": true
   },
   "outputs": [],
   "source": []
  },
  {
   "cell_type": "code",
   "execution_count": null,
   "id": "08e41ec2",
   "metadata": {
    "id": "08e41ec2"
   },
   "outputs": [],
   "source": []
  },
  {
   "cell_type": "markdown",
   "id": "28ce9872",
   "metadata": {
    "id": "28ce9872"
   },
   "source": [
    "Escribe aquí tus conclusiones"
   ]
  },
  {
   "cell_type": "markdown",
   "id": "uITbFCEoDosC",
   "metadata": {
    "id": "uITbFCEoDosC"
   },
   "source": [
    "### Conclusion general del proyecto:"
   ]
  },
  {
   "cell_type": "code",
   "execution_count": null,
   "id": "Nk-4GS7mDwqY",
   "metadata": {
    "id": "Nk-4GS7mDwqY"
   },
   "outputs": [],
   "source": []
  }
 ],
 "metadata": {
  "colab": {
   "provenance": []
  },
  "kernelspec": {
   "display_name": "Win11_Python-PipVenv-Github-Hmb7GD39",
   "language": "python",
   "name": "python3"
  },
  "language_info": {
   "codemirror_mode": {
    "name": "ipython",
    "version": 3
   },
   "file_extension": ".py",
   "mimetype": "text/x-python",
   "name": "python",
   "nbconvert_exporter": "python",
   "pygments_lexer": "ipython3",
   "version": "3.13.2"
  },
  "toc": {
   "base_numbering": 1,
   "nav_menu": {},
   "number_sections": true,
   "sideBar": true,
   "skip_h1_title": true,
   "title_cell": "Table of Contents",
   "title_sidebar": "Contents",
   "toc_cell": false,
   "toc_position": {},
   "toc_section_display": true,
   "toc_window_display": false
  }
 },
 "nbformat": 4,
 "nbformat_minor": 5
}
