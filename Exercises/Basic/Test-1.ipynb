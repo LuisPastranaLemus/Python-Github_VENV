{
 "cells": [
  {
   "cell_type": "code",
   "execution_count": 22,
   "id": "be5c4ab2",
   "metadata": {},
   "outputs": [
    {
     "name": "stdout",
     "output_type": "stream",
     "text": [
      "\n",
      "Column: 'user_id'\n"
     ]
    },
    {
     "name": "stderr",
     "output_type": "stream",
     "text": [
      "Searching implicit values for column: 'user_id':  13%|█▎        | 5461/43018 [02:10<15:00, 41.69it/s]"
     ]
    },
    {
     "name": "stdout",
     "output_type": "stream",
     "text": [
      "  '45D3846' → ['45D38469', '45D38469', '45D38469']\n"
     ]
    },
    {
     "name": "stderr",
     "output_type": "stream",
     "text": [
      "Searching implicit values for column: 'user_id':  28%|██▊       | 12108/43018 [04:54<12:31, 41.15it/s]\n"
     ]
    },
    {
     "ename": "KeyboardInterrupt",
     "evalue": "",
     "output_type": "error",
     "traceback": [
      "\u001b[31m---------------------------------------------------------------------------\u001b[39m",
      "\u001b[31mKeyboardInterrupt\u001b[39m                         Traceback (most recent call last)",
      "\u001b[36mCell\u001b[39m\u001b[36m \u001b[39m\u001b[32mIn[22]\u001b[39m\u001b[32m, line 34\u001b[39m\n\u001b[32m     29\u001b[39m                 \u001b[38;5;28mprint\u001b[39m(\u001b[33mf\u001b[39m\u001b[33m\"\u001b[39m\u001b[33m  \u001b[39m\u001b[33m'\u001b[39m\u001b[38;5;132;01m{\u001b[39;00mbase\u001b[38;5;132;01m}\u001b[39;00m\u001b[33m'\u001b[39m\u001b[33m → \u001b[39m\u001b[38;5;132;01m{\u001b[39;00mmatches\u001b[38;5;132;01m}\u001b[39;00m\u001b[33m\"\u001b[39m)\n\u001b[32m     32\u001b[39m df = pd.read_csv(\u001b[33m\"\u001b[39m\u001b[33mDataSets/music_log_chpt_11.csv\u001b[39m\u001b[33m\"\u001b[39m, sep=\u001b[33m\"\u001b[39m\u001b[33m,\u001b[39m\u001b[33m\"\u001b[39m, encoding=\u001b[33m\"\u001b[39m\u001b[33mutf-8\u001b[39m\u001b[33m\"\u001b[39m, header=\u001b[33m\"\u001b[39m\u001b[33minfer\u001b[39m\u001b[33m\"\u001b[39m, keep_default_na=\u001b[38;5;28;01mFalse\u001b[39;00m)\n\u001b[32m---> \u001b[39m\u001b[32m34\u001b[39m \u001b[43mdetect_implicit_duplicates\u001b[49m\u001b[43m(\u001b[49m\u001b[43mdf\u001b[49m\u001b[43m)\u001b[49m\n",
      "\u001b[36mCell\u001b[39m\u001b[36m \u001b[39m\u001b[32mIn[22]\u001b[39m\u001b[32m, line 26\u001b[39m, in \u001b[36mdetect_implicit_duplicates\u001b[39m\u001b[34m(df)\u001b[39m\n\u001b[32m     23\u001b[39m \u001b[38;5;28;01mfor\u001b[39;00m base \u001b[38;5;129;01min\u001b[39;00m tqdm(base_unique_values, desc=\u001b[33mf\u001b[39m\u001b[33m\"\u001b[39m\u001b[33mSearching implicit values for column: \u001b[39m\u001b[33m'\u001b[39m\u001b[38;5;132;01m{\u001b[39;00mcolumn\u001b[38;5;132;01m}\u001b[39;00m\u001b[33m'\u001b[39m\u001b[33m\"\u001b[39m):\n\u001b[32m     24\u001b[39m     pattern = re.compile(re.escape(base), re.IGNORECASE)\n\u001b[32m---> \u001b[39m\u001b[32m26\u001b[39m     matches = [val \u001b[38;5;28;01mfor\u001b[39;00m val \u001b[38;5;129;01min\u001b[39;00m column_values \u001b[38;5;28;01mif\u001b[39;00m val != base \u001b[38;5;129;01mand\u001b[39;00m pattern.search(val)]\n\u001b[32m     28\u001b[39m     \u001b[38;5;28;01mif\u001b[39;00m matches:\n\u001b[32m     29\u001b[39m         \u001b[38;5;28mprint\u001b[39m(\u001b[33mf\u001b[39m\u001b[33m\"\u001b[39m\u001b[33m  \u001b[39m\u001b[33m'\u001b[39m\u001b[38;5;132;01m{\u001b[39;00mbase\u001b[38;5;132;01m}\u001b[39;00m\u001b[33m'\u001b[39m\u001b[33m → \u001b[39m\u001b[38;5;132;01m{\u001b[39;00mmatches\u001b[38;5;132;01m}\u001b[39;00m\u001b[33m\"\u001b[39m)\n",
      "\u001b[31mKeyboardInterrupt\u001b[39m: "
     ]
    }
   ],
   "source": [
    "import pandas as pd\n",
    "import re\n",
    "from tqdm import tqdm\n",
    "\n",
    "def detect_implicit_duplicates(df):\n",
    "    \n",
    "    for column in df.columns:\n",
    "        if df[column].dtype != 'object':\n",
    "            continue\n",
    "        \n",
    "        column_values = df[column]\n",
    "        column_values = column_values[column_values != '']\n",
    "        column_values = column_values[column_values.apply(lambda x: len(re.split(r\"[ \\-\\_']\", x)) == 1)]\n",
    "\n",
    "        # 2. Get base unique values\n",
    "        base_unique_values = column_values.unique().tolist()\n",
    "        if not base_unique_values:\n",
    "            continue\n",
    "\n",
    "        print(f\"\\nColumn: '{column}'\")\n",
    "\n",
    "        # 3. Compare base unique values against all Column's values\n",
    "        for base in tqdm(base_unique_values, desc=f\"Searching implicit values for: '{column}'\"):\n",
    "            pattern = re.compile(re.escape(base), re.IGNORECASE)\n",
    "\n",
    "            matches = [val for val in column_values if val != base and pattern.search(val)]\n",
    "\n",
    "            if matches:\n",
    "                print(f\"  '{base}' → {matches}\")\n",
    "\n",
    "\n",
    "df = pd.read_csv(\"DataSets/music_log_chpt_11.csv\", sep=\",\", encoding=\"utf-8\", header=\"infer\", keep_default_na=False)\n",
    "\n",
    "detect_implicit_duplicates(df)"
   ]
  }
 ],
 "metadata": {
  "kernelspec": {
   "display_name": "Win11_Python-PipVenv-Github-Hmb7GD39",
   "language": "python",
   "name": "python3"
  },
  "language_info": {
   "codemirror_mode": {
    "name": "ipython",
    "version": 3
   },
   "file_extension": ".py",
   "mimetype": "text/x-python",
   "name": "python",
   "nbconvert_exporter": "python",
   "pygments_lexer": "ipython3",
   "version": "3.13.2"
  }
 },
 "nbformat": 4,
 "nbformat_minor": 5
}
