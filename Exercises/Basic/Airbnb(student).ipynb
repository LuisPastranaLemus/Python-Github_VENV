{
  "cells": [
    {
      "cell_type": "markdown",
      "metadata": {
        "id": "3zV2v_YRBvIJ"
      },
      "source": [
        "# Air Bnb Open Dataset\n",
        "\n",
        "Airbnb es una empresa estadounidense que facilita un mercado en línea para alquileres de alojamientos, principalmente casas de particulares para vacaciones, y también ofrece actividades turísticas. Su plataforma, disponible tanto en su sitio web como en su aplicación móvil, conecta a viajeros con anfitriones que ofrecen sus propiedades. Airbnb no es dueño de las propiedades que se ofrecen; su ganancia proviene de las comisiones que recibe por cada reserva realizada. Fundada en 2008, Airbnb es una abreviatura de su nombre original, AirBedandBreakfast.com.\n",
        "\n",
        "## El Dataset\n",
        "El conjunto de datos con el que trabajaras forma parte de la iniciativa Airbnb Inside y proporciona información sobre los anuncios de alojamientos en casas particulares en la ciudad de Nueva York. Este conjunto de datos incluye detalles sobre los anuncios, como descripciones completas y puntuaciones de reseñas promedio, reseñas de usuarios con identificación única y comentarios detallados, y calendarios con información de precios y disponibilidad para cada anuncio y día."
      ]
    },
    {
      "cell_type": "markdown",
      "metadata": {
        "id": "LF1HoNiLJkCB"
      },
      "source": [
        "## Tarea 1: Iniciacion en EDA\n",
        "\n",
        "### Paso 1\n",
        " Comencemos famializandonos con el dataset. Cargue y familiaricece con la informacion que se encuentra almacenada. Con esto, nos referimos a conocer los tipos de datos con los cual cuenta este datset, así como los nombres de cada columnas. Al mismo tiempo, hagase una idea de lo que contiene cada columna, obteniendo un vista de algunas filas del dataset.\n",
        "\n",
        " [Descarga el dataset aqui](https://drive.google.com/file/d/16Z1rpnVm_NQ5ljiIZfSGzHAiNlUXL0x4/view)\n",
        "\n",
        " [Pandas Cheat Sheet](https://pandas.pydata.org/Pandas_Cheat_Sheet.pdf)"
      ]
    },
    {
      "cell_type": "code",
      "execution_count": 1,
      "metadata": {
        "id": "PH55q6L89vfm"
      },
      "outputs": [
        {
          "name": "stderr",
          "output_type": "stream",
          "text": [
            "C:\\Users\\luisp\\AppData\\Local\\Temp\\ipykernel_21644\\203302269.py:6: DtypeWarning: Columns (25) have mixed types. Specify dtype option on import or set low_memory=False.\n",
            "  df = pd.read_csv('DataSets/Airbnb_Open_Data.csv', sep = ',', header='infer')\n"
          ]
        }
      ],
      "source": [
        "# Cargar el dataset\n",
        "# librerias necesarias\n",
        "\n",
        "import pandas as pd \n",
        "\n",
        "df = pd.read_csv('DataSets/Airbnb_Open_Data.csv', sep = ',', header='infer')"
      ]
    },
    {
      "cell_type": "code",
      "execution_count": 2,
      "metadata": {
        "id": "YWmzkpxd-7NT"
      },
      "outputs": [
        {
          "name": "stdout",
          "output_type": "stream",
          "text": [
            "              id                                             NAME  \\\n",
            "1097     1607209       Beautiful Lower East Side Apt! Women only.   \n",
            "101360  56982464         one-bedroom available in Murray Hill NYC   \n",
            "18347   11134384         Lots of light Upper East Side Apartment.   \n",
            "97825   55030084                                   FORDHAM DELUXE   \n",
            "80838   45648163                Arverne by The Sea ~ Surf Ave Apt   \n",
            "96759   54441332                                     Dreamer Room   \n",
            "68592   38884698       Our Astoria Apartment - (Long Term Rental)   \n",
            "50332   28799700  Jfk5minutes entire apt self check in,no sharing   \n",
            "16300   10003826                 Cozy Park Slope Apt, Next to BBG   \n",
            "30653   17930988  Spacious Sunny Studio- heart of Lower East Side   \n",
            "\n",
            "            host id host_identity_verified   host name neighbourhood group  \\\n",
            "1097    80554047680            unconfirmed    Sunserae           Manhattan   \n",
            "101360  53535433644            unconfirmed     Dmitriy           Manhattan   \n",
            "18347   24305290976               verified   Valentina           Manhattan   \n",
            "97825   74233220098               verified       Oscar               Bronx   \n",
            "80838   71985087926            unconfirmed    Samantha              Queens   \n",
            "96759   27640017394            unconfirmed  Fransheska            Brooklyn   \n",
            "68592   66686071057            unconfirmed     Michael              Queens   \n",
            "50332   86918904736            unconfirmed         Raj              Queens   \n",
            "16300   44898521853            unconfirmed        Jack            Brooklyn   \n",
            "30653   88432267598            unconfirmed      Brooke           Manhattan   \n",
            "\n",
            "             neighbourhood       lat      long        country  ...  \\\n",
            "1097       Lower East Side  40.71746 -73.98782  United States  ...   \n",
            "101360            Kips Bay  40.73948 -73.97643  United States  ...   \n",
            "18347      Upper East Side  40.77315 -73.95848  United States  ...   \n",
            "97825          Kingsbridge  40.86300 -73.90661  United States  ...   \n",
            "80838              Arverne  40.58845 -73.79514  United States  ...   \n",
            "96759   Bedford-Stuyvesant  40.68862 -73.95572  United States  ...   \n",
            "68592              Astoria  40.76304 -73.90785  United States  ...   \n",
            "50332              Jamaica  40.67875 -73.79146  United States  ...   \n",
            "16300     Prospect Heights  40.67329 -73.96291  United States  ...   \n",
            "30653      Lower East Side  40.71908 -73.98379  United States  ...   \n",
            "\n",
            "       service fee minimum nights number of reviews last review  \\\n",
            "1097          $84             5.0               4.0   3/24/2018   \n",
            "101360        $26             1.0               0.0         NaN   \n",
            "18347        $160             3.0               0.0         NaN   \n",
            "97825        $217             3.0              24.0   6/23/2019   \n",
            "80838         $77             2.0              23.0    6/4/2019   \n",
            "96759        $218            30.0              35.0   6/19/2019   \n",
            "68592         $15            21.0               9.0   6/30/2019   \n",
            "50332         $71             1.0              13.0   2/28/2022   \n",
            "16300        $133            30.0              66.0   6/16/2019   \n",
            "30653        $188             2.0              40.0   5/13/2019   \n",
            "\n",
            "        reviews per month review rate number calculated host listings count  \\\n",
            "1097                 0.06                4.0                            1.0   \n",
            "101360                NaN                5.0                            1.0   \n",
            "18347                 NaN                1.0                            1.0   \n",
            "97825                2.91                2.0                            2.0   \n",
            "80838                2.06                5.0                            1.0   \n",
            "96759                3.06                5.0                            3.0   \n",
            "68592                0.56                5.0                            1.0   \n",
            "50332                0.42                3.0                            2.0   \n",
            "16300                1.78                2.0                            2.0   \n",
            "30653                2.51                3.0                            1.0   \n",
            "\n",
            "        availability 365                                        house_rules  \\\n",
            "1097                72.0                                                NaN   \n",
            "101360               0.0                                                NaN   \n",
            "18347                0.0  1. No additional guests not part of the reserv...   \n",
            "97825               72.0                                                NaN   \n",
            "80838               20.0                                                NaN   \n",
            "96759              365.0  Check in: 3pm; Check out: 12pm unless otherwis...   \n",
            "68592               58.0                                                NaN   \n",
            "50332               88.0                                                NaN   \n",
            "16300              310.0                               NO Smoking. No Pets.   \n",
            "30653                1.0                                                NaN   \n",
            "\n",
            "       license  \n",
            "1097       NaN  \n",
            "101360     NaN  \n",
            "18347      NaN  \n",
            "97825      NaN  \n",
            "80838      NaN  \n",
            "96759      NaN  \n",
            "68592      NaN  \n",
            "50332      NaN  \n",
            "16300      NaN  \n",
            "30653      NaN  \n",
            "\n",
            "[10 rows x 26 columns]\n",
            "\n",
            "Index(['id', 'NAME', 'host id', 'host_identity_verified', 'host name',\n",
            "       'neighbourhood group', 'neighbourhood', 'lat', 'long', 'country',\n",
            "       'country code', 'instant_bookable', 'cancellation_policy', 'room type',\n",
            "       'Construction year', 'price', 'service fee', 'minimum nights',\n",
            "       'number of reviews', 'last review', 'reviews per month',\n",
            "       'review rate number', 'calculated host listings count',\n",
            "       'availability 365', 'house_rules', 'license'],\n",
            "      dtype='object')\n",
            "\n",
            "house_rules\n",
            "#NAME?                                                                                                                                                                                                                                                                                                                                                                                                                                                                                                                                                                                                                                                                                                                                                                                                                                                                                                                                                                                                                                      2712\n",
            "House Rules 1. Check-in is 4 pm local time. If the unit is ready earlier, we’ll let you know. Check-out is normally 11 am local time, but we’d be happy to extend it as long as we don’t have a cleaning scheduled. Just let us know.  2. All bookings require a security deposit of at least $300, which will be refunded within 7 days of your check-out. 3. For security measures we require all guests to provide proof of identification through ID verification on our own website. In order to check in we'll need a photo of your ID.  4. Our cancellation policy is as shown on our ad and defined by the site you are booking through.  5. Don’t let $300 go up in smoke. There's no smoking allowed in any Flatbook and a $300 fine for breaking this rule.  6. Unfortunately we don’t allow pets in any of our apartments. 7. Unless you’re staying in one of our specialty apartments, we don’t allow parties or excessive noise. 8. If we find the place very messy, we have to charge an extra $40 for every extra hour o     904\n",
            "Please remember that this is a residential building. The building rules, apartment occupancy restrictions and the year-round tenants must be respected.                                                                                                                                                                                                                                                                                                                                                                                                                                                                                                                                                                                                                                                                                                                                                                                                                                                                                      881\n",
            "No Smoking No Pets                                                                                                                                                                                                                                                                                                                                                                                                                                                                                                                                                                                                                                                                                                                                                                                                                                                                                                                                                                                                                           814\n",
            "Please remember that this is a residential building. The building rules, apartment occupancy restrictions and the year-round tenants must be respected.  Parties, pets and smoking are not allowed under any circumstances and incur significant fees.                                                                                                                                                                                                                                                                                                                                                                                                                                                                                                                                                                                                                                                                                                                                                                                       552\n",
            "                                                                                                                                                                                                                                                                                                                                                                                                                                                                                                                                                                                                                                                                                                                                                                                                                                                                                                                                                                                                                                            ... \n",
            "- The price is based on double occupancy. $50. per person per night. - Check prices with host before booking - The price is based on double occupancy $300 per person per week. And $1000 monthly per person. - Single room $64 per night. Weekly, $350. Monthly $1213                                                                                                                                                                                                                                                                                                                                                                                                                                                                                                                                                                                                                                                                                                                                                                         1\n",
            "- Quiet time after 24                                                                                                                                                                                                                                                                                                                                                                                                                                                                                                                                                                                                                                                                                                                                                                                                                                                                                                                                                                                                                          1\n",
            "15 guest maximum.  Smoking isn't permitted and unfortunately neither are pets. Sorry.   Quiet hours 9p-8a.                                                                                                                                                                                                                                                                                                                                                                                                                                                                                                                                                                                                                                                                                                                                                                                                                                                                                                                                     1\n",
            "15 nights minimum stay No pets at any time No smoking Please be mindful of the furniture and personal belongings, it was all furnished with designer pieces and hard to replace things.                                                                                                                                                                                                                                                                                                                                                                                                                                                                                                                                                                                                                                                                                                                                                                                                                                                        1\n",
            "16 nights minimum stay, no smoking or pets.                                                                                                                                                                                                                                                                                                                                                                                                                                                                                                                                                                                                                                                                                                                                                                                                                                                                                                                                                                                                    1\n",
            "Name: count, Length: 1976, dtype: int64\n"
          ]
        }
      ],
      "source": [
        "# Veamos algunas filas\n",
        "\n",
        "print(df.sample(10, random_state=333))\n",
        "print()\n",
        "print(df.columns)\n",
        "print()\n",
        "\n",
        "# DTypeWarning\n",
        "\n",
        "print(df['house_rules'].value_counts())"
      ]
    },
    {
      "cell_type": "code",
      "execution_count": 3,
      "metadata": {
        "id": "Cg2icP-T_Fvh"
      },
      "outputs": [
        {
          "name": "stdout",
          "output_type": "stream",
          "text": [
            "<class 'pandas.core.frame.DataFrame'>\n",
            "RangeIndex: 102599 entries, 0 to 102598\n",
            "Data columns (total 26 columns):\n",
            " #   Column                          Non-Null Count   Dtype  \n",
            "---  ------                          --------------   -----  \n",
            " 0   id                              102599 non-null  int64  \n",
            " 1   NAME                            102349 non-null  object \n",
            " 2   host id                         102599 non-null  int64  \n",
            " 3   host_identity_verified          102310 non-null  object \n",
            " 4   host name                       102193 non-null  object \n",
            " 5   neighbourhood group             102570 non-null  object \n",
            " 6   neighbourhood                   102583 non-null  object \n",
            " 7   lat                             102591 non-null  float64\n",
            " 8   long                            102591 non-null  float64\n",
            " 9   country                         102067 non-null  object \n",
            " 10  country code                    102468 non-null  object \n",
            " 11  instant_bookable                102494 non-null  object \n",
            " 12  cancellation_policy             102523 non-null  object \n",
            " 13  room type                       102599 non-null  object \n",
            " 14  Construction year               102385 non-null  float64\n",
            " 15  price                           102352 non-null  object \n",
            " 16  service fee                     102326 non-null  object \n",
            " 17  minimum nights                  102190 non-null  float64\n",
            " 18  number of reviews               102416 non-null  float64\n",
            " 19  last review                     86706 non-null   object \n",
            " 20  reviews per month               86720 non-null   float64\n",
            " 21  review rate number              102273 non-null  float64\n",
            " 22  calculated host listings count  102280 non-null  float64\n",
            " 23  availability 365                102151 non-null  float64\n",
            " 24  house_rules                     50468 non-null   object \n",
            " 25  license                         2 non-null       object \n",
            "dtypes: float64(9), int64(2), object(15)\n",
            "memory usage: 20.4+ MB\n"
          ]
        }
      ],
      "source": [
        "# Informacion sobre las columnas y el tipo de dato asociado a ellas\n",
        "\n",
        "df.info()"
      ]
    },
    {
      "cell_type": "markdown",
      "metadata": {
        "id": "PoatLnvFNS1w"
      },
      "source": [
        "### Paso 2\n",
        "Siguiendo con un análisis preliminar de nuestro dataset, genere un vista estadìstica descriptiva, tanto para variables numéricas como para las categóricas."
      ]
    },
    {
      "cell_type": "code",
      "execution_count": 4,
      "metadata": {
        "id": "9MvzbMtMNS9j"
      },
      "outputs": [
        {
          "name": "stdout",
          "output_type": "stream",
          "text": [
            "                 id       host id            lat           long  \\\n",
            "count  1.025990e+05  1.025990e+05  102591.000000  102591.000000   \n",
            "mean   2.914623e+07  4.925411e+10      40.728094     -73.949644   \n",
            "std    1.625751e+07  2.853900e+10       0.055857       0.049521   \n",
            "min    1.001254e+06  1.236005e+08      40.499790     -74.249840   \n",
            "25%    1.508581e+07  2.458333e+10      40.688740     -73.982580   \n",
            "50%    2.913660e+07  4.911774e+10      40.722290     -73.954440   \n",
            "75%    4.320120e+07  7.399650e+10      40.762760     -73.932350   \n",
            "max    5.736742e+07  9.876313e+10      40.916970     -73.705220   \n",
            "\n",
            "       Construction year  minimum nights  number of reviews  \\\n",
            "count      102385.000000   102190.000000      102416.000000   \n",
            "mean         2012.487464        8.135845          27.483743   \n",
            "std             5.765556       30.553781          49.508954   \n",
            "min          2003.000000    -1223.000000           0.000000   \n",
            "25%          2007.000000        2.000000           1.000000   \n",
            "50%          2012.000000        3.000000           7.000000   \n",
            "75%          2017.000000        5.000000          30.000000   \n",
            "max          2022.000000     5645.000000        1024.000000   \n",
            "\n",
            "       reviews per month  review rate number  calculated host listings count  \\\n",
            "count       86720.000000       102273.000000                   102280.000000   \n",
            "mean            1.374022            3.279106                        7.936605   \n",
            "std             1.746621            1.284657                       32.218780   \n",
            "min             0.010000            1.000000                        1.000000   \n",
            "25%             0.220000            2.000000                        1.000000   \n",
            "50%             0.740000            3.000000                        1.000000   \n",
            "75%             2.000000            4.000000                        2.000000   \n",
            "max            90.000000            5.000000                      332.000000   \n",
            "\n",
            "       availability 365  \n",
            "count     102151.000000  \n",
            "mean         141.133254  \n",
            "std          135.435024  \n",
            "min          -10.000000  \n",
            "25%            3.000000  \n",
            "50%           96.000000  \n",
            "75%          269.000000  \n",
            "max         3677.000000  \n"
          ]
        }
      ],
      "source": [
        "# Estadisticas de las Variables Numericas del dataset\n",
        "\n",
        "print(df.describe())"
      ]
    },
    {
      "cell_type": "code",
      "execution_count": 5,
      "metadata": {
        "id": "UYy9namSfw32"
      },
      "outputs": [
        {
          "data": {
            "text/html": [
              "<div>\n",
              "<style scoped>\n",
              "    .dataframe tbody tr th:only-of-type {\n",
              "        vertical-align: middle;\n",
              "    }\n",
              "\n",
              "    .dataframe tbody tr th {\n",
              "        vertical-align: top;\n",
              "    }\n",
              "\n",
              "    .dataframe thead th {\n",
              "        text-align: right;\n",
              "    }\n",
              "</style>\n",
              "<table border=\"1\" class=\"dataframe\">\n",
              "  <thead>\n",
              "    <tr style=\"text-align: right;\">\n",
              "      <th></th>\n",
              "      <th>NAME</th>\n",
              "      <th>host_identity_verified</th>\n",
              "      <th>host name</th>\n",
              "      <th>neighbourhood group</th>\n",
              "      <th>neighbourhood</th>\n",
              "      <th>country</th>\n",
              "      <th>country code</th>\n",
              "      <th>instant_bookable</th>\n",
              "      <th>cancellation_policy</th>\n",
              "      <th>room type</th>\n",
              "      <th>price</th>\n",
              "      <th>service fee</th>\n",
              "      <th>last review</th>\n",
              "      <th>house_rules</th>\n",
              "      <th>license</th>\n",
              "    </tr>\n",
              "  </thead>\n",
              "  <tbody>\n",
              "    <tr>\n",
              "      <th>count</th>\n",
              "      <td>102349</td>\n",
              "      <td>102310</td>\n",
              "      <td>102193</td>\n",
              "      <td>102570</td>\n",
              "      <td>102583</td>\n",
              "      <td>102067</td>\n",
              "      <td>102468</td>\n",
              "      <td>102494</td>\n",
              "      <td>102523</td>\n",
              "      <td>102599</td>\n",
              "      <td>102352</td>\n",
              "      <td>102326</td>\n",
              "      <td>86706</td>\n",
              "      <td>50468</td>\n",
              "      <td>2</td>\n",
              "    </tr>\n",
              "    <tr>\n",
              "      <th>unique</th>\n",
              "      <td>61281</td>\n",
              "      <td>2</td>\n",
              "      <td>13190</td>\n",
              "      <td>7</td>\n",
              "      <td>224</td>\n",
              "      <td>1</td>\n",
              "      <td>1</td>\n",
              "      <td>2</td>\n",
              "      <td>3</td>\n",
              "      <td>4</td>\n",
              "      <td>1151</td>\n",
              "      <td>231</td>\n",
              "      <td>2477</td>\n",
              "      <td>1976</td>\n",
              "      <td>1</td>\n",
              "    </tr>\n",
              "    <tr>\n",
              "      <th>top</th>\n",
              "      <td>Home away from home</td>\n",
              "      <td>unconfirmed</td>\n",
              "      <td>Michael</td>\n",
              "      <td>Manhattan</td>\n",
              "      <td>Bedford-Stuyvesant</td>\n",
              "      <td>United States</td>\n",
              "      <td>US</td>\n",
              "      <td>False</td>\n",
              "      <td>moderate</td>\n",
              "      <td>Entire home/apt</td>\n",
              "      <td>$206</td>\n",
              "      <td>$41</td>\n",
              "      <td>6/23/2019</td>\n",
              "      <td>#NAME?</td>\n",
              "      <td>41662/AL</td>\n",
              "    </tr>\n",
              "    <tr>\n",
              "      <th>freq</th>\n",
              "      <td>33</td>\n",
              "      <td>51200</td>\n",
              "      <td>881</td>\n",
              "      <td>43792</td>\n",
              "      <td>7937</td>\n",
              "      <td>102067</td>\n",
              "      <td>102468</td>\n",
              "      <td>51474</td>\n",
              "      <td>34343</td>\n",
              "      <td>53701</td>\n",
              "      <td>137</td>\n",
              "      <td>526</td>\n",
              "      <td>2443</td>\n",
              "      <td>2712</td>\n",
              "      <td>2</td>\n",
              "    </tr>\n",
              "  </tbody>\n",
              "</table>\n",
              "</div>"
            ],
            "text/plain": [
              "                       NAME host_identity_verified host name  \\\n",
              "count                102349                 102310    102193   \n",
              "unique                61281                      2     13190   \n",
              "top     Home away from home            unconfirmed   Michael   \n",
              "freq                     33                  51200       881   \n",
              "\n",
              "       neighbourhood group       neighbourhood        country country code  \\\n",
              "count               102570              102583         102067       102468   \n",
              "unique                   7                 224              1            1   \n",
              "top              Manhattan  Bedford-Stuyvesant  United States           US   \n",
              "freq                 43792                7937         102067       102468   \n",
              "\n",
              "       instant_bookable cancellation_policy        room type   price  \\\n",
              "count            102494              102523           102599  102352   \n",
              "unique                2                   3                4    1151   \n",
              "top               False            moderate  Entire home/apt   $206    \n",
              "freq              51474               34343            53701     137   \n",
              "\n",
              "       service fee last review house_rules   license  \n",
              "count       102326       86706       50468         2  \n",
              "unique         231        2477        1976         1  \n",
              "top           $41    6/23/2019      #NAME?  41662/AL  \n",
              "freq           526        2443        2712         2  "
            ]
          },
          "execution_count": 5,
          "metadata": {},
          "output_type": "execute_result"
        }
      ],
      "source": [
        "# Estadisticas de las Variables categoricas del dataset\n",
        "\n",
        "df.describe(include='object')"
      ]
    },
    {
      "cell_type": "markdown",
      "metadata": {
        "id": "gvs9gY3EfrG7"
      },
      "source": [
        "## Paso 3\n",
        "\n",
        "Reemplace todas aquelas columnas con espacio entre las palabras con \"_\". Adicionalmente, deje todos los nombre en minúsculas."
      ]
    },
    {
      "cell_type": "code",
      "execution_count": 6,
      "metadata": {
        "id": "wBbbjUgjfrN8"
      },
      "outputs": [
        {
          "name": "stdout",
          "output_type": "stream",
          "text": [
            "Index(['id', 'NAME', 'host id', 'host_identity_verified', 'host name',\n",
            "       'neighbourhood group', 'neighbourhood', 'lat', 'long', 'country',\n",
            "       'country code', 'instant_bookable', 'cancellation_policy', 'room type',\n",
            "       'Construction year', 'price', 'service fee', 'minimum nights',\n",
            "       'number of reviews', 'last review', 'reviews per month',\n",
            "       'review rate number', 'calculated host listings count',\n",
            "       'availability 365', 'house_rules', 'license'],\n",
            "      dtype='object')\n",
            "\n",
            "Index(['id', 'name', 'host_id', 'host_identity_verified', 'host_name',\n",
            "       'neighbourhood_group', 'neighbourhood', 'lat', 'long', 'country',\n",
            "       'country_code', 'instant_bookable', 'cancellation_policy', 'room_type',\n",
            "       'construction_year', 'price', 'service_fee', 'minimum_nights',\n",
            "       'number_of_reviews', 'last_review', 'reviews_per_month',\n",
            "       'review_rate_number', 'calculated_host_listings_count',\n",
            "       'availability_365', 'house_rules', 'license'],\n",
            "      dtype='object')\n"
          ]
        }
      ],
      "source": [
        "print(df.columns)\n",
        "print()\n",
        "\n",
        "# Estandarizar nombres de columnas (minusculas, snake format)\n",
        "\n",
        "df_airbnb = df.copy()\n",
        "\n",
        "df_airbnb.columns = [clmn.lower().replace(' ', '_').strip() for clmn in df_airbnb.columns]\n",
        "\n",
        "print(df_airbnb.columns)\n"
      ]
    },
    {
      "cell_type": "markdown",
      "metadata": {
        "id": "9kNh_FfnK0el"
      },
      "source": [
        "## Tarea 2: Limpieza de Datos - Manejo de Valores Faltantes\n",
        "\n",
        "\n",
        "Ahora que tienes una idea general de lo que hay en el dataset, deberás corregir los problemas que este tiene.\n",
        "\n",
        "1. Identifica las columnas con valores faltantes.\n",
        "2. Decide una estrategia para manejarlos (por ejemplo, imputación con la media/mediana, eliminar la columna, eliminar filas con valores faltantes en columnas críticas). Justifica tus elecciones.\n",
        "\n",
        "He aqui una sugerencia de estrategia a seguir:\n",
        "\n",
        "- Eliminar la columna: Si una columna tiene un porcentaje muy alto de valores faltantes (por ejemplo, más del 50%) y/o no es crucial para el análisis, eliminarla puede ser la mejor opción.\n",
        "- Imputación: Si una columna tiene un porcentaje moderado de valores faltantes y es importante, puedes imputar los valores faltantes. Considera diferentes estrategias de imputación:\n",
        "  - Media/Mediana: Para columnas numéricas, imputar con la media o la mediana puede ser apropiado. La mediana es más robusta a los valores atípicos.\n",
        "  - Moda: Para columnas categóricas, imputar con la moda (el valor más frecuente) es una opción.\n",
        "  - Valor específico: En algunos casos, puede tener sentido imputar con un valor específico que tenga significado en el contexto del problema.\n",
        "- Eliminar las filas: Si una columna tiene pocos valores faltantes y es muy importante, puedes optar por eliminar las filas que tengan valores faltantes en esa columna. Sin embargo, ten cuidado de no eliminar demasiadas filas, ya que esto podría sesgar los resultados.\n",
        "- Dejar como está (con justificación): En algunos casos, puede que no sea necesario hacer nada y se pueda trabajar con los valores faltantes. Esto debe justificarse.\n"
      ]
    },
    {
      "cell_type": "code",
      "execution_count": 7,
      "metadata": {
        "colab": {
          "base_uri": "https://localhost:8080/"
        },
        "id": "_oe3DdzQToQi",
        "outputId": "b17b4251-1f63-49ed-c08d-601ffa1b5fd6"
      },
      "outputs": [
        {
          "name": "stdout",
          "output_type": "stream",
          "text": [
            "id                                     0\n",
            "name                                 250\n",
            "host_id                                0\n",
            "host_identity_verified               289\n",
            "host_name                            406\n",
            "neighbourhood_group                   29\n",
            "neighbourhood                         16\n",
            "lat                                    8\n",
            "long                                   8\n",
            "country                              532\n",
            "country_code                         131\n",
            "instant_bookable                     105\n",
            "cancellation_policy                   76\n",
            "room_type                              0\n",
            "construction_year                    214\n",
            "price                                247\n",
            "service_fee                          273\n",
            "minimum_nights                       409\n",
            "number_of_reviews                    183\n",
            "last_review                        15893\n",
            "reviews_per_month                  15879\n",
            "review_rate_number                   326\n",
            "calculated_host_listings_count       319\n",
            "availability_365                     448\n",
            "house_rules                        52131\n",
            "license                           102597\n",
            "dtype: int64\n",
            "\n"
          ]
        }
      ],
      "source": [
        "# Verificar valores faltantes\n",
        "print(df_airbnb.isna().sum())\n",
        "print()"
      ]
    },
    {
      "cell_type": "code",
      "execution_count": 8,
      "metadata": {
        "id": "c8WDjedZTyTF"
      },
      "outputs": [
        {
          "name": "stdout",
          "output_type": "stream",
          "text": [
            "id                                0\n",
            "name                              0\n",
            "host_id                           0\n",
            "host_identity_verified            0\n",
            "host_name                         0\n",
            "neighbourhood_group               0\n",
            "neighbourhood                     0\n",
            "lat                               0\n",
            "long                              0\n",
            "country                           0\n",
            "country_code                      0\n",
            "instant_bookable                  0\n",
            "cancellation_policy               0\n",
            "room_type                         0\n",
            "construction_year                 0\n",
            "price                             0\n",
            "service_fee                       0\n",
            "minimum_nights                    0\n",
            "number_of_reviews                 0\n",
            "last_review                       0\n",
            "reviews_per_month                 0\n",
            "review_rate_number                0\n",
            "calculated_host_listings_count    0\n",
            "availability_365                  0\n",
            "house_rules                       0\n",
            "license                           0\n",
            "dtype: int64\n"
          ]
        }
      ],
      "source": [
        "# a. Eliminar columnas con muchos valores faltantes\n",
        "\n",
        "df_airbnb.loc[:, :] = df_airbnb.dropna(axis='columns', thresh=len(df_airbnb)*.75)\n",
        "\n",
        "# b. Imputar con la mediana (ej: 'minimum nights')\n",
        "\n",
        "df_airbnb.loc[:, 'minimum_nights'] = df_airbnb['minimum_nights'].fillna(df_airbnb['minimum_nights'].median())\n",
        "\n",
        "# c. Imputar con la moda (ej: 'neighbourhood group')\n",
        "\n",
        "df_airbnb.loc[:, 'neighbourhood_group'] = df_airbnb['neighbourhood_group'].fillna(df_airbnb['neighbourhood_group'].mode())\n",
        "\n",
        "# d. Eliminar filas con valores faltantes en columnas importantes (ej: 'price')\n",
        "\n",
        "df_airbnb = df_airbnb.dropna(subset=['price'])\n",
        "\n",
        "#e. Llenar valores nulos de 'review rate number' con 0. Asumimos que si no tiene review rate number es porque no tiene reviews.\n",
        "\n",
        "df_airbnb.loc[:, 'review_rate_number'] = df_airbnb['review_rate_number'].fillna(0)\n",
        "\n",
        "#f. Llenar valores nulos de 'reviews per month' con 0. Asumimos que si no tiene reviews per month es porque no tiene reviews.\n",
        "\n",
        "df_airbnb.loc[:, 'reviews_per_month'] = df_airbnb['reviews_per_month'].fillna(0)\n",
        "\n",
        "#g. Para 'last review', 'host name', 'country', 'country code', 'NAME', 'host_identity_verified', 'neighbourhood', 'Construction year', 'service fee', 'number of reviews', 'availability 365' y 'house_rules' se podría hacer un analisis mas profundo de que valores ponerles.\n",
        "#Por ahora se imputaran por 'unknown' las columnas de tipo object y por 0 las de tipo numérico.\n",
        "for col in df_airbnb.columns:\n",
        "    \n",
        "    if df_airbnb[col].dtype == 'object':\n",
        "        df_airbnb.loc[:, col] = df_airbnb[col].fillna('unknown')\n",
        "    \n",
        "    elif df_airbnb[col].dtype in ['int64', 'float64']:\n",
        "        df_airbnb.loc[:, col] = df_airbnb[col].fillna(0)\n",
        "\n",
        "# 3. Verificar que no queden valores faltantes (o al menos en las columnas críticas)\n",
        "print(df_airbnb.isnull().sum())\n",
        "\n"
      ]
    },
    {
      "cell_type": "markdown",
      "metadata": {
        "id": "5l5NNv3pCPs-"
      },
      "source": [
        "## Tarea 3: Agrupaciond de datos\n",
        "\n",
        "### Paso 1\n",
        "\n",
        "Para los datos categoricos, conozcamos como estos se distribuyen. Para ello:\n",
        "\n",
        "1. Identifica las columnas de tu conjunto de datos que contienen la información relevante para tu análisis. ¿Qué quieres investigar o comprender mejor?\n",
        "2. Utiliza la función `groupby()` para crear grupos basados en los valores de una o varias columnas. Esta agrupación te permitirá comparar y analizar subconjuntos de datos de manera individual.\n",
        "3. Aplica una función de agregación como `count()`, `mean()`, `sum()`, `median()` o similar para obtener un resultado numérico para cada grupo.\n",
        "\n",
        "Realiza los sigueintes análisis"
      ]
    },
    {
      "cell_type": "code",
      "execution_count": 9,
      "metadata": {
        "id": "GNDQlkG6CcUP"
      },
      "outputs": [
        {
          "name": "stdout",
          "output_type": "stream",
          "text": [
            "construction_year\n",
            "0.0        210\n",
            "2003.0    5109\n",
            "2004.0    5023\n",
            "2005.0    5123\n",
            "2006.0    5207\n",
            "2007.0    5096\n",
            "2008.0    5216\n",
            "2009.0    5158\n",
            "2010.0    5146\n",
            "2011.0    5049\n",
            "2012.0    5119\n",
            "2013.0    5003\n",
            "2014.0    5230\n",
            "2015.0    5082\n",
            "2016.0    5000\n",
            "2017.0    5055\n",
            "2018.0    5048\n",
            "2019.0    5187\n",
            "2020.0    5145\n",
            "2021.0    5027\n",
            "2022.0    5119\n",
            "Name: id, dtype: int64\n"
          ]
        }
      ],
      "source": [
        "# Distribucion de viviendas segun año de contruccion. Para ello, debe contar el numero de registros según el año de construcción.\n",
        "\n",
        "print(df_airbnb.groupby(\"construction_year\")[\"id\"].count())"
      ]
    },
    {
      "cell_type": "code",
      "execution_count": 10,
      "metadata": {
        "id": "rPgbHjY2Dqxa"
      },
      "outputs": [
        {
          "name": "stdout",
          "output_type": "stream",
          "text": [
            "neighbourhood\n",
            "Bedford-Stuyvesant        7921\n",
            "Williamsburg              7756\n",
            "Harlem                    5456\n",
            "Bushwick                  4966\n",
            "Hell's Kitchen            3961\n",
            "                          ... \n",
            "Gerritsen Beach              3\n",
            "Woodrow                      3\n",
            "Glen Oaks                    2\n",
            "Fort Wadsworth               2\n",
            "Chelsea, Staten Island       1\n",
            "Name: id, Length: 225, dtype: int64\n"
          ]
        }
      ],
      "source": [
        "# Barrios con mayor numero de viviendas para arriendo. Cuente el número de registros y agrupelos por barrio de forma descendente.\n",
        "\n",
        "print(df_airbnb.groupby(\"neighbourhood\")[\"id\"].count().sort_values(ascending=False))"
      ]
    },
    {
      "cell_type": "code",
      "execution_count": 11,
      "metadata": {
        "id": "0PoxMmH1ELFw"
      },
      "outputs": [
        {
          "name": "stdout",
          "output_type": "stream",
          "text": [
            "room_type\n",
            "Entire home/apt    53568\n",
            "Hotel room           116\n",
            "Private room       46450\n",
            "Shared room         2218\n",
            "Name: id, dtype: int64\n"
          ]
        }
      ],
      "source": [
        "# Tipo de alojamiento predominante. Cuente el número de registros y agrupelos por el tipo de alojamiento (room_type).\n",
        "\n",
        "print(df_airbnb.groupby('room_type')['id'].aggregate('count'))"
      ]
    },
    {
      "cell_type": "markdown",
      "metadata": {
        "id": "UK0blupjYixh"
      },
      "source": [
        "### Paso 2. Agrupación a dos variables\n",
        "\n",
        "En el siguiente ejercicio, obtendremos estadísticas combiando dos varaibles al mismo tiempo.\n",
        "\n",
        "A modo de ejemplo, utilizaremos las columnas `neighbourhood` y `review rate number` para determinar el top 5 de vecindarios con el mejor review promedio.  Cada lugar debe tener al menos un review en total.\n"
      ]
    },
    {
      "cell_type": "code",
      "execution_count": 12,
      "metadata": {
        "colab": {
          "base_uri": "https://localhost:8080/",
          "height": 490
        },
        "id": "r-aBw4WxeHDw",
        "outputId": "0f2c809b-a4d8-4532-e8c4-655b9e208269"
      },
      "outputs": [
        {
          "data": {
            "text/plain": [
              "neighbourhood\n",
              "Glen Oaks                 4.500000\n",
              "Co-op City                4.400000\n",
              "Gerritsen Beach           4.333333\n",
              "Emerson Hill              4.142857\n",
              "Huguenot                  4.111111\n",
              "                            ...   \n",
              "Lighthouse Hill           2.666667\n",
              "Jamaica Hills             2.666667\n",
              "Chelsea, Staten Island    2.000000\n",
              "Fort Wadsworth            2.000000\n",
              "Willowbrook               2.000000\n",
              "Name: review_rate_number, Length: 225, dtype: float64"
            ]
          },
          "execution_count": 12,
          "metadata": {},
          "output_type": "execute_result"
        }
      ],
      "source": [
        "# df_nr = df_airbnb.loc[df_airbnb['review_rate_number'] > 1]\n",
        "# df_nr[['neighbourhood','review_rate_number']].groupby('neighbourhood')['review_rate_number'].mean().sort_values(ascending=False)\n",
        "\n",
        "\n",
        "df_airbnb.loc[df_airbnb['review_rate_number'] > 1].groupby('neighbourhood')['review_rate_number'].mean().sort_values(ascending=False)"
      ]
    },
    {
      "cell_type": "markdown",
      "metadata": {
        "id": "ZHmmo5CV_Gmo"
      },
      "source": [
        "## Tus Propios analisis.\n",
        "\n",
        "Siguiendo el ejemplo anterior, aplica las siguiente agrupaciones."
      ]
    },
    {
      "cell_type": "code",
      "execution_count": 13,
      "metadata": {
        "id": "_T-pK0ZtKqDF"
      },
      "outputs": [
        {
          "name": "stdout",
          "output_type": "stream",
          "text": [
            "Column price (Raw): \n",
            " ['$966 ' '$142 ' '$620 ' ... '$1,184 ' '$905 ' '$309 '] 1151\n",
            "\n",
            "Column service_fee (Raw): \n",
            " ['$193 ' '$28 ' '$124 ' '$74 ' '$41 ' '$115 ' '$14 ' '$212 ' '$204 '\n",
            " '$58 ' '$64 ' '$121 ' '$143 ' '$116 ' '$30 ' 'unknown' '$56 ' '$95 '\n",
            " '$27 ' '$210 ' '$163 ' '$235 ' '$106 ' '$55 ' '$42 ' '$86 ' '$133 '\n",
            " '$154 ' '$102 ' '$172 ' '$109 ' '$38 ' '$222 ' '$219 ' '$202 ' '$113 '\n",
            " '$137 ' '$171 ' '$12 ' '$87 ' '$183 ' '$92 ' '$73 ' '$146 ' '$180 '\n",
            " '$67 ' '$51 ' '$181 ' '$88 ' '$205 ' '$132 ' '$59 ' '$156 ' '$131 '\n",
            " '$61 ' '$165 ' '$129 ' '$207 ' '$17 ' '$63 ' '$147 ' '$105 ' '$48 '\n",
            " '$114 ' '$80 ' '$23 ' '$11 ' '$149 ' '$213 ' '$211 ' '$182 ' '$117 '\n",
            " '$39 ' '$25 ' '$216 ' '$53 ' '$10 ' '$118 ' '$72 ' '$76 ' '$69 ' '$32 '\n",
            " '$148 ' '$101 ' '$177 ' '$49 ' '$100 ' '$168 ' '$13 ' '$152 ' '$126 '\n",
            " '$135 ' '$46 ' '$231 ' '$91 ' '$199 ' '$158 ' '$221 ' '$189 ' '$90 '\n",
            " '$186 ' '$66 ' '$225 ' '$220 ' '$19 ' '$238 ' '$119 ' '$98 ' '$34 '\n",
            " '$227 ' '$162 ' '$203 ' '$93 ' '$153 ' '$71 ' '$77 ' '$190 ' '$75 '\n",
            " '$185 ' '$97 ' '$35 ' '$37 ' '$82 ' '$120 ' '$21 ' '$145 ' '$65 ' '$144 '\n",
            " '$108 ' '$194 ' '$16 ' '$217 ' '$188 ' '$81 ' '$139 ' '$22 ' '$187 '\n",
            " '$150 ' '$50 ' '$26 ' '$89 ' '$218 ' '$104 ' '$44 ' '$79 ' '$240 '\n",
            " '$175 ' '$192 ' '$215 ' '$191 ' '$94 ' '$206 ' '$157 ' '$159 ' '$233 '\n",
            " '$15 ' '$229 ' '$179 ' '$85 ' '$136 ' '$170 ' '$201 ' '$141 ' '$123 '\n",
            " '$36 ' '$130 ' '$198 ' '$54 ' '$122 ' '$184 ' '$208 ' '$140 ' '$68 '\n",
            " '$196 ' '$70 ' '$228 ' '$209 ' '$230 ' '$134 ' '$20 ' '$110 ' '$234 '\n",
            " '$151 ' '$107 ' '$138 ' '$45 ' '$24 ' '$31 ' '$232 ' '$47 ' '$239 '\n",
            " '$161 ' '$200 ' '$33 ' '$103 ' '$83 ' '$29 ' '$128 ' '$166 ' '$125 '\n",
            " '$43 ' '$18 ' '$167 ' '$174 ' '$236 ' '$111 ' '$142 ' '$223 ' '$169 '\n",
            " '$178 ' '$195 ' '$40 ' '$52 ' '$96 ' '$224 ' '$197 ' '$164 ' '$127 '\n",
            " '$176 ' '$62 ' '$99 ' '$84 ' '$237 ' '$155 ' '$57 ' '$226 ' '$160 '\n",
            " '$173 ' '$60 ' '$214 ' '$78 ' '$112 '] 232\n",
            "\n",
            "Column price (Columns as String): \n",
            " ['966' '142' '620' ... '1184' '905' '309'] 1151\n",
            "\n",
            "Column service_fee (Columns as String): \n",
            " ['193' '28' '124' '74' '41' '115' '14' '212' '204' '58' '64' '121' '143'\n",
            " '116' '30' '0' '56' '95' '27' '210' '163' '235' '106' '55' '42' '86'\n",
            " '133' '154' '102' '172' '109' '38' '222' '219' '202' '113' '137' '171'\n",
            " '12' '87' '183' '92' '73' '146' '180' '67' '51' '181' '88' '205' '132'\n",
            " '59' '156' '131' '61' '165' '129' '207' '17' '63' '147' '105' '48' '114'\n",
            " '80' '23' '11' '149' '213' '211' '182' '117' '39' '25' '216' '53' '10'\n",
            " '118' '72' '76' '69' '32' '148' '101' '177' '49' '100' '168' '13' '152'\n",
            " '126' '135' '46' '231' '91' '199' '158' '221' '189' '90' '186' '66' '225'\n",
            " '220' '19' '238' '119' '98' '34' '227' '162' '203' '93' '153' '71' '77'\n",
            " '190' '75' '185' '97' '35' '37' '82' '120' '21' '145' '65' '144' '108'\n",
            " '194' '16' '217' '188' '81' '139' '22' '187' '150' '50' '26' '89' '218'\n",
            " '104' '44' '79' '240' '175' '192' '215' '191' '94' '206' '157' '159'\n",
            " '233' '15' '229' '179' '85' '136' '170' '201' '141' '123' '36' '130'\n",
            " '198' '54' '122' '184' '208' '140' '68' '196' '70' '228' '209' '230'\n",
            " '134' '20' '110' '234' '151' '107' '138' '45' '24' '31' '232' '47' '239'\n",
            " '161' '200' '33' '103' '83' '29' '128' '166' '125' '43' '18' '167' '174'\n",
            " '236' '111' '142' '223' '169' '178' '195' '40' '52' '96' '224' '197'\n",
            " '164' '127' '176' '62' '99' '84' '237' '155' '57' '226' '160' '173' '60'\n",
            " '214' '78' '112'] 232\n",
            "\n",
            "Data type price (Columns as String):  object\n",
            "Data type servicefee (Columns as String):  object\n",
            "\n",
            "String to numeric conversion ...\n",
            "\n",
            "Data type price (Columns as float):  float64\n",
            "Data type servicefee (Columns as float):  float64\n"
          ]
        }
      ],
      "source": [
        "# Convertir 'price' y 'service fee' a data numerico. Hint: Utilice el método replace().\n",
        "\n",
        "print(\"Column price (Raw): \\n\", df_airbnb['price'].unique(), df_airbnb['price'].nunique())\n",
        "print()\n",
        "print(\"Column service_fee (Raw): \\n\", df_airbnb['service_fee'].unique(), df_airbnb['service_fee'].nunique())\n",
        "print()\n",
        "\n",
        "columns = ['price', 'service_fee']\n",
        "\n",
        "for clmn in columns:\n",
        "    \n",
        "    df_airbnb.loc[:, clmn] = df_airbnb.loc[:, clmn].astype(str)\n",
        "\n",
        "    df_airbnb.loc[:, clmn] = df_airbnb.loc[:, clmn].str.strip()\n",
        "    df_airbnb.loc[:, clmn] = df_airbnb.loc[:, clmn].str.replace('$', '', regex=False)\n",
        "    df_airbnb.loc[:, clmn] = df_airbnb.loc[:, clmn].str.replace(',', '', regex=False)\n",
        "    df_airbnb.loc[:, clmn] = df_airbnb.loc[:, clmn].str.replace('unknown', '0', case=False)\n",
        "    \n",
        "\n",
        "\n",
        "print(\"Column price (Columns as String): \\n\", df_airbnb['price'].unique(), df_airbnb['price'].nunique())\n",
        "print()\n",
        "print(\"Column service_fee (Columns as String): \\n\", df_airbnb['service_fee'].unique(), df_airbnb['service_fee'].nunique())\n",
        "print()\n",
        "\n",
        "print(\"Data type price (Columns as String): \", df_airbnb['price'].dtypes)\n",
        "print(\"Data type servicefee (Columns as String): \",df_airbnb['service_fee'].dtypes)\n",
        "print()\n",
        "\n",
        "\n",
        "print(\"String to numeric conversion ...\\n\")\n",
        "#df_airbnb.loc[:, 'price'] = pd.to_numeric(df_airbnb.loc[:, 'price'], errors='coerce')\n",
        "#df_airbnb.loc[:, 'price'] = df_airbnb.loc[:, 'price'].fillna(0)\n",
        "df_airbnb['price'] = df_airbnb['price'].astype('float64')\n",
        "\n",
        "#df_airbnb.loc[:, 'service_fee'] = pd.to_numeric(df_airbnb.loc[:, 'service_fee'], errors='coerce')\n",
        "#df_airbnb.loc[:, 'service_fee'] = df_airbnb.loc[:, 'service_fee'].fillna(0)\n",
        "df_airbnb['service_fee'] = df_airbnb['service_fee'].astype('float64')\n",
        "\n",
        "print(\"Data type price (Columns as float): \", df_airbnb['price'].dtypes)\n",
        "print(\"Data type servicefee (Columns as float): \",df_airbnb['service_fee'].dtypes)"
      ]
    },
    {
      "cell_type": "code",
      "execution_count": 18,
      "metadata": {},
      "outputs": [
        {
          "name": "stdout",
          "output_type": "stream",
          "text": [
            "['Kensington' 'Midtown' 'Harlem' 'Clinton Hill' 'East Harlem'\n",
            " 'Murray Hill' 'Bedford-Stuyvesant' \"Hell's Kitchen\" 'Upper West Side'\n",
            " 'Chinatown' 'South Slope' 'West Village' 'Williamsburg' 'Fort Greene'\n",
            " 'Chelsea' 'Crown Heights' 'Park Slope' 'Windsor Terrace' 'Inwood'\n",
            " 'East Village' 'Greenpoint' 'Bushwick' 'Flatbush' 'Lower East Side'\n",
            " 'Prospect-Lefferts Gardens' 'Long Island City' 'Kips Bay' 'SoHo'\n",
            " 'Upper East Side' 'Prospect Heights' 'Washington Heights' 'Woodside'\n",
            " 'Brooklyn Heights' 'Carroll Gardens' 'Gowanus' 'Flatlands' 'Cobble Hill'\n",
            " 'Flushing' 'Boerum Hill' 'Sunnyside' 'DUMBO' 'St. George' 'Highbridge'\n",
            " 'Financial District' 'Ridgewood' 'Morningside Heights' 'Jamaica'\n",
            " 'Middle Village' 'Ditmars Steinway' 'Flatiron District'\n",
            " 'Roosevelt Island' 'Greenwich Village' 'Little Italy' 'East Flatbush'\n",
            " 'Tompkinsville' 'Astoria' 'Clason Point' 'Eastchester' 'Kingsbridge'\n",
            " 'Two Bridges' 'Queens Village' 'Rockaway Beach' 'Nolita' 'Woodlawn'\n",
            " 'University Heights' 'Gravesend' 'Gramercy' 'Allerton' 'East New York'\n",
            " 'unknown' 'Theater District' 'Concourse Village' 'Sheepshead Bay'\n",
            " 'Emerson Hill' 'Fort Hamilton' 'Bensonhurst' 'NoHo' 'Tribeca'\n",
            " 'Shore Acres' 'Sunset Park' 'Concourse' 'Elmhurst' 'Brighton Beach'\n",
            " 'Jackson Heights' 'Cypress Hills' 'St. Albans' 'Arrochar' 'Rego Park'\n",
            " 'Wakefield' 'Clifton' 'Bay Ridge' 'Graniteville' 'Spuyten Duyvil'\n",
            " 'Stapleton' 'Briarwood' 'Ozone Park' 'Columbia St' 'Vinegar Hill'\n",
            " 'Mott Haven' 'Longwood' 'Canarsie' 'Battery Park City' 'Civic Center'\n",
            " 'East Elmhurst' 'New Springville' 'Morris Heights' 'Arverne'\n",
            " 'Cambria Heights' 'Tottenville' 'Mariners Harbor' 'Concord'\n",
            " 'Borough Park' 'Bayside' 'Downtown Brooklyn' 'Port Morris' 'Fieldston'\n",
            " 'Kew Gardens' 'Midwood' 'College Point' 'Mount Eden' 'City Island'\n",
            " 'Glendale' 'Port Richmond' 'Red Hook' 'Richmond Hill' 'Bellerose'\n",
            " 'Maspeth' 'Williamsbridge' 'Soundview' 'Woodhaven' 'Forest Hills'\n",
            " 'Woodrow' 'Co-op City' 'Stuyvesant Town' 'Parkchester' 'North Riverdale'\n",
            " 'Dyker Heights' 'Bronxdale' 'Sea Gate' 'Riverdale' 'Kew Gardens Hills'\n",
            " 'Bay Terrace' 'Norwood' 'Claremont Village' 'Whitestone' 'Fordham'\n",
            " 'Bayswater' 'Navy Yard' 'Brownsville' 'Eltingville' 'Fresh Meadows'\n",
            " 'Mount Hope' 'Lighthouse Hill' 'Springfield Gardens' 'Howard Beach'\n",
            " 'Belle Harbor' 'Van Nest' 'Morris Park' 'West Brighton' 'Far Rockaway'\n",
            " 'South Ozone Park' 'Tremont' 'Corona' 'Great Kills' 'Jamaica Estates'\n",
            " 'Manhattan Beach' 'Marble Hill' 'Dongan Hills' 'Castleton Corners'\n",
            " 'East Morrisania' 'Hunts Point' 'Neponsit' 'Pelham Bay' 'Randall Manor'\n",
            " 'Throgs Neck' 'Todt Hill' 'West Farms' 'Silver Lake' 'Morrisania'\n",
            " 'Laurelton' 'Grymes Hill' 'Holliswood' 'Pelham Gardens' 'Belmont'\n",
            " 'Rosedale' 'Edgemere' 'New Brighton' 'Midland Beach' 'Baychester'\n",
            " 'Melrose' 'Bergen Beach' 'Richmondtown' 'Howland Hook' 'Schuylerville'\n",
            " 'Coney Island' 'New Dorp Beach' \"Prince's Bay\" 'South Beach' 'Bath Beach'\n",
            " 'Jamaica Hills' 'Oakwood' 'Castle Hill' 'Hollis' 'Douglaston' 'Huguenot'\n",
            " 'Olinville' 'Edenwald' 'Grant City' 'Westerleigh'\n",
            " 'Bay Terrace, Staten Island' 'Westchester Square' 'Little Neck'\n",
            " 'Fort Wadsworth' 'Rosebank' 'Unionport' 'Mill Basin' 'Arden Heights'\n",
            " \"Bull's Head\" 'New Dorp' 'Rossville' 'Breezy Point' 'Willowbrook'\n",
            " 'Glen Oaks' 'Gerritsen Beach' 'Chelsea, Staten Island'] 225\n"
          ]
        }
      ],
      "source": [
        "print(df_airbnb['neighbourhood'].unique(), df_airbnb['neighbourhood'].nunique())"
      ]
    },
    {
      "cell_type": "code",
      "execution_count": 15,
      "metadata": {
        "id": "3JrHRrfHKqJ1"
      },
      "outputs": [
        {
          "data": {
            "text/plain": [
              "neighbourhood\n",
              "New Dorp                  1045.000000\n",
              "Chelsea, Staten Island    1042.000000\n",
              "Fort Wadsworth            1024.000000\n",
              "Little Neck                817.750000\n",
              "Jamaica Hills              812.904762\n",
              "                             ...     \n",
              "Richmondtown               373.400000\n",
              "Breezy Point               309.888889\n",
              "Rossville                  300.666667\n",
              "Spuyten Duyvil             293.444444\n",
              "Lighthouse Hill            107.666667\n",
              "Name: price, Length: 225, dtype: float64"
            ]
          },
          "execution_count": 15,
          "metadata": {},
          "output_type": "execute_result"
        }
      ],
      "source": [
        "### Barrio más costoso\n",
        "# Obtenga el costo promedio de alojamiento según el barrio de la ciudad.\n",
        "\n",
        "df_airbnb.groupby('neighbourhood')['price'].agg('mean').sort_values(ascending=False)"
      ]
    },
    {
      "cell_type": "code",
      "execution_count": 16,
      "metadata": {
        "id": "s2agqacxKqL6"
      },
      "outputs": [
        {
          "data": {
            "text/plain": [
              "neighbourhood\n",
              "Astoria               240.0\n",
              "Carroll Gardens       240.0\n",
              "Bay Ridge             240.0\n",
              "Bedford-Stuyvesant    240.0\n",
              "Belmont               240.0\n",
              "                      ...  \n",
              "Glen Oaks             136.0\n",
              "Richmondtown          133.0\n",
              "Westerleigh           111.0\n",
              "Rossville              82.0\n",
              "Lighthouse Hill        25.0\n",
              "Name: service_fee, Length: 225, dtype: float64"
            ]
          },
          "execution_count": 16,
          "metadata": {},
          "output_type": "execute_result"
        }
      ],
      "source": [
        "### Barrio con el service fee más alto\n",
        "# Obtenga el costo promedio de fee según el barrio de la ciudad.\n",
        "\n",
        "df_airbnb.groupby('neighbourhood')['service_fee'].max().sort_values(ascending=False)"
      ]
    },
    {
      "cell_type": "code",
      "execution_count": 23,
      "metadata": {
        "id": "mfnN2p7lKqOA"
      },
      "outputs": [
        {
          "data": {
            "text/plain": [
              "neighbourhood\n",
              "Bedford-Stuyvesant            272195.0\n",
              "Williamsburg                  190874.0\n",
              "Harlem                        179625.0\n",
              "Bushwick                      123431.0\n",
              "Hell's Kitchen                111575.0\n",
              "                                ...   \n",
              "Chelsea, Staten Island            31.0\n",
              "Breezy Point                      28.0\n",
              "Woodrow                           21.0\n",
              "Bay Terrace, Staten Island         6.0\n",
              "Fort Wadsworth                     0.0\n",
              "Name: number_of_reviews, Length: 225, dtype: float64"
            ]
          },
          "execution_count": 23,
          "metadata": {},
          "output_type": "execute_result"
        }
      ],
      "source": [
        "### Barrio con mayor reviews\n",
        "# Determine el barrio con el mayor número de reviews en la ciudad. Para ello, y para cada barrio, debe suma todo los review de las propiedades dentro de ese barrio.\n",
        "\n",
        "df_airbnb.groupby('neighbourhood')['number_of_reviews'].sum().sort_values(ascending=False)"
      ]
    },
    {
      "cell_type": "code",
      "execution_count": 29,
      "metadata": {
        "id": "Ccqpqu6EKqQX"
      },
      "outputs": [
        {
          "name": "stdout",
          "output_type": "stream",
          "text": [
            "60712    Woodside\n",
            "Name: neighbourhood, dtype: object\n"
          ]
        },
        {
          "data": {
            "text/plain": [
              "cancellation_policy\n",
              "flexible    1881\n",
              "strict      1808\n",
              "moderate    1765\n",
              "unknown        2\n",
              "Name: id, dtype: int64"
            ]
          },
          "execution_count": 29,
          "metadata": {},
          "output_type": "execute_result"
        }
      ],
      "source": [
        "### Politicas de Cancelacion\n",
        "# Escoja un bario, el de su preferencia, y conozca las políticas de cancelacion predominante entre las propiedades del barrio escogido\n",
        "\n",
        "print(df_airbnb['neighbourhood'].sample(1, random_state=333))\n",
        "\n",
        "df_airbnb[df_airbnb['neighbourhood'].isin(['Harlem'])].groupby('cancellation_policy')['id'].count().sort_values(ascending=False)"
      ]
    }
  ],
  "metadata": {
    "colab": {
      "provenance": []
    },
    "kernelspec": {
      "display_name": "Win11_Python-PipVenv-Github-Hmb7GD39",
      "language": "python",
      "name": "python3"
    },
    "language_info": {
      "codemirror_mode": {
        "name": "ipython",
        "version": 3
      },
      "file_extension": ".py",
      "mimetype": "text/x-python",
      "name": "python",
      "nbconvert_exporter": "python",
      "pygments_lexer": "ipython3",
      "version": "3.13.2"
    }
  },
  "nbformat": 4,
  "nbformat_minor": 0
}
