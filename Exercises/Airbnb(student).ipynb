{
  "cells": [
    {
      "cell_type": "markdown",
      "metadata": {
        "id": "3zV2v_YRBvIJ"
      },
      "source": [
        "# Air Bnb Open Dataset\n",
        "\n",
        "Airbnb es una empresa estadounidense que facilita un mercado en línea para alquileres de alojamientos, principalmente casas de particulares para vacaciones, y también ofrece actividades turísticas. Su plataforma, disponible tanto en su sitio web como en su aplicación móvil, conecta a viajeros con anfitriones que ofrecen sus propiedades. Airbnb no es dueño de las propiedades que se ofrecen; su ganancia proviene de las comisiones que recibe por cada reserva realizada. Fundada en 2008, Airbnb es una abreviatura de su nombre original, AirBedandBreakfast.com.\n",
        "\n",
        "## El Dataset\n",
        "El conjunto de datos con el que trabajaras forma parte de la iniciativa Airbnb Inside y proporciona información sobre los anuncios de alojamientos en casas particulares en la ciudad de Nueva York. Este conjunto de datos incluye detalles sobre los anuncios, como descripciones completas y puntuaciones de reseñas promedio, reseñas de usuarios con identificación única y comentarios detallados, y calendarios con información de precios y disponibilidad para cada anuncio y día."
      ]
    },
    {
      "cell_type": "markdown",
      "metadata": {
        "id": "LF1HoNiLJkCB"
      },
      "source": [
        "## Tarea 1: Iniciacion en EDA\n",
        "\n",
        "### Paso 1\n",
        " Comencemos famializandonos con el dataset. Cargue y familiaricece con la informacion que se encuentra almacenada. Con esto, nos referimos a conocer los tipos de datos con los cual cuenta este datset, así como los nombres de cada columnas. Al mismo tiempo, hagase una idea de lo que contiene cada columna, obteniendo un vista de algunas filas del dataset.\n",
        "\n",
        " [Descarga el dataset aqui](https://drive.google.com/file/d/16Z1rpnVm_NQ5ljiIZfSGzHAiNlUXL0x4/view)\n",
        "\n",
        " [Pandas Cheat Sheet](https://pandas.pydata.org/Pandas_Cheat_Sheet.pdf)"
      ]
    },
    {
      "cell_type": "code",
      "execution_count": 3,
      "metadata": {
        "id": "PH55q6L89vfm"
      },
      "outputs": [
        {
          "name": "stderr",
          "output_type": "stream",
          "text": [
            "C:\\Users\\luisp\\AppData\\Local\\Temp\\ipykernel_33356\\2723829032.py:5: DtypeWarning: Columns (25) have mixed types. Specify dtype option on import or set low_memory=False.\n",
            "  airbnb = pd.read_csv('DataSets/Airbnb_Open_Data.csv', sep = ',', header='infer')\n"
          ]
        }
      ],
      "source": [
        "# Cargar el dataset\n",
        "# librerias necesarias\n",
        "import pandas as pd \n",
        "\n",
        "airbnb = pd.read_csv('DataSets/Airbnb_Open_Data.csv', sep = ',', header='infer')"
      ]
    },
    {
      "cell_type": "code",
      "execution_count": 30,
      "metadata": {
        "id": "YWmzkpxd-7NT"
      },
      "outputs": [
        {
          "name": "stdout",
          "output_type": "stream",
          "text": [
            "              id                                             NAME  \\\n",
            "1097     1607209       beautiful_lower_east_side_apt!_women_only.   \n",
            "101360  56982464         one-bedroom_available_in_murray_hill_nyc   \n",
            "18347   11134384         lots_of_light_upper_east_side_apartment.   \n",
            "97825   55030084                                   fordham_deluxe   \n",
            "80838   45648163                arverne_by_the_sea_~_surf_ave_apt   \n",
            "96759   54441332                                     dreamer_room   \n",
            "68592   38884698       our_astoria_apartment_-_(long_term_rental)   \n",
            "50332   28799700  jfk5minutes_entire_apt_self_check_in,no_sharing   \n",
            "16300   10003826                 cozy_park_slope_apt,_next_to_bbg   \n",
            "30653   17930988  spacious_sunny_studio-_heart_of_lower_east_side   \n",
            "\n",
            "            host id host_identity_verified   host name neighbourhood group  \\\n",
            "1097    80554047680            unconfirmed    Sunserae           Manhattan   \n",
            "101360  53535433644            unconfirmed     Dmitriy           Manhattan   \n",
            "18347   24305290976               verified   Valentina           Manhattan   \n",
            "97825   74233220098               verified       Oscar               Bronx   \n",
            "80838   71985087926            unconfirmed    Samantha              Queens   \n",
            "96759   27640017394            unconfirmed  Fransheska            Brooklyn   \n",
            "68592   66686071057            unconfirmed     Michael              Queens   \n",
            "50332   86918904736            unconfirmed         Raj              Queens   \n",
            "16300   44898521853            unconfirmed        Jack            Brooklyn   \n",
            "30653   88432267598            unconfirmed      Brooke           Manhattan   \n",
            "\n",
            "             neighbourhood       lat      long        country  ...  \\\n",
            "1097       Lower East Side  40.71746 -73.98782  United States  ...   \n",
            "101360            Kips Bay  40.73948 -73.97643  United States  ...   \n",
            "18347      Upper East Side  40.77315 -73.95848  United States  ...   \n",
            "97825          Kingsbridge  40.86300 -73.90661  United States  ...   \n",
            "80838              Arverne  40.58845 -73.79514  United States  ...   \n",
            "96759   Bedford-Stuyvesant  40.68862 -73.95572  United States  ...   \n",
            "68592              Astoria  40.76304 -73.90785  United States  ...   \n",
            "50332              Jamaica  40.67875 -73.79146  United States  ...   \n",
            "16300     Prospect Heights  40.67329 -73.96291  United States  ...   \n",
            "30653      Lower East Side  40.71908 -73.98379  United States  ...   \n",
            "\n",
            "       service fee minimum nights number of reviews last review  \\\n",
            "1097          $84             5.0               4.0   3/24/2018   \n",
            "101360        $26             1.0               0.0         NaN   \n",
            "18347        $160             3.0               0.0         NaN   \n",
            "97825        $217             3.0              24.0   6/23/2019   \n",
            "80838         $77             2.0              23.0    6/4/2019   \n",
            "96759        $218            30.0              35.0   6/19/2019   \n",
            "68592         $15            21.0               9.0   6/30/2019   \n",
            "50332         $71             1.0              13.0   2/28/2022   \n",
            "16300        $133            30.0              66.0   6/16/2019   \n",
            "30653        $188             2.0              40.0   5/13/2019   \n",
            "\n",
            "        reviews per month review rate number calculated host listings count  \\\n",
            "1097                 0.06                4.0                            1.0   \n",
            "101360                NaN                5.0                            1.0   \n",
            "18347                 NaN                1.0                            1.0   \n",
            "97825                2.91                2.0                            2.0   \n",
            "80838                2.06                5.0                            1.0   \n",
            "96759                3.06                5.0                            3.0   \n",
            "68592                0.56                5.0                            1.0   \n",
            "50332                0.42                3.0                            2.0   \n",
            "16300                1.78                2.0                            2.0   \n",
            "30653                2.51                3.0                            1.0   \n",
            "\n",
            "        availability 365                                        house_rules  \\\n",
            "1097                72.0                                                NaN   \n",
            "101360               0.0                                                NaN   \n",
            "18347                0.0  1. No additional guests not part of the reserv...   \n",
            "97825               72.0                                                NaN   \n",
            "80838               20.0                                                NaN   \n",
            "96759              365.0  Check in: 3pm; Check out: 12pm unless otherwis...   \n",
            "68592               58.0                                                NaN   \n",
            "50332               88.0                                                NaN   \n",
            "16300              310.0                               NO Smoking. No Pets.   \n",
            "30653                1.0                                                NaN   \n",
            "\n",
            "       license  \n",
            "1097       NaN  \n",
            "101360     NaN  \n",
            "18347      NaN  \n",
            "97825      NaN  \n",
            "80838      NaN  \n",
            "96759      NaN  \n",
            "68592      NaN  \n",
            "50332      NaN  \n",
            "16300      NaN  \n",
            "30653      NaN  \n",
            "\n",
            "[10 rows x 26 columns]\n"
          ]
        }
      ],
      "source": [
        "# Veamos algunas filas\n",
        "print(airbnb.sample(10, random_state=333))"
      ]
    },
    {
      "cell_type": "code",
      "execution_count": 5,
      "metadata": {
        "id": "Cg2icP-T_Fvh"
      },
      "outputs": [
        {
          "name": "stdout",
          "output_type": "stream",
          "text": [
            "<class 'pandas.core.frame.DataFrame'>\n",
            "RangeIndex: 102599 entries, 0 to 102598\n",
            "Data columns (total 26 columns):\n",
            " #   Column                          Non-Null Count   Dtype  \n",
            "---  ------                          --------------   -----  \n",
            " 0   id                              102599 non-null  int64  \n",
            " 1   NAME                            102349 non-null  object \n",
            " 2   host id                         102599 non-null  int64  \n",
            " 3   host_identity_verified          102310 non-null  object \n",
            " 4   host name                       102193 non-null  object \n",
            " 5   neighbourhood group             102570 non-null  object \n",
            " 6   neighbourhood                   102583 non-null  object \n",
            " 7   lat                             102591 non-null  float64\n",
            " 8   long                            102591 non-null  float64\n",
            " 9   country                         102067 non-null  object \n",
            " 10  country code                    102468 non-null  object \n",
            " 11  instant_bookable                102494 non-null  object \n",
            " 12  cancellation_policy             102523 non-null  object \n",
            " 13  room type                       102599 non-null  object \n",
            " 14  Construction year               102385 non-null  float64\n",
            " 15  price                           102352 non-null  object \n",
            " 16  service fee                     102326 non-null  object \n",
            " 17  minimum nights                  102190 non-null  float64\n",
            " 18  number of reviews               102416 non-null  float64\n",
            " 19  last review                     86706 non-null   object \n",
            " 20  reviews per month               86720 non-null   float64\n",
            " 21  review rate number              102273 non-null  float64\n",
            " 22  calculated host listings count  102280 non-null  float64\n",
            " 23  availability 365                102151 non-null  float64\n",
            " 24  house_rules                     50468 non-null   object \n",
            " 25  license                         2 non-null       object \n",
            "dtypes: float64(9), int64(2), object(15)\n",
            "memory usage: 20.4+ MB\n"
          ]
        }
      ],
      "source": [
        "# Informacion sobre las columnas y el tipo de dato asociado a ellas\n",
        "\n",
        "airbnb.info()"
      ]
    },
    {
      "cell_type": "markdown",
      "metadata": {
        "id": "PoatLnvFNS1w"
      },
      "source": [
        "### Paso 2\n",
        "Siguiendo con un análisis preliminar de nuestro dataset, genere un vista estadìstica descriptiva, tanto para variables numéricas como para las categóricas."
      ]
    },
    {
      "cell_type": "code",
      "execution_count": 7,
      "metadata": {
        "id": "9MvzbMtMNS9j"
      },
      "outputs": [
        {
          "name": "stdout",
          "output_type": "stream",
          "text": [
            "                 id       host id            lat           long  \\\n",
            "count  1.025990e+05  1.025990e+05  102591.000000  102591.000000   \n",
            "mean   2.914623e+07  4.925411e+10      40.728094     -73.949644   \n",
            "std    1.625751e+07  2.853900e+10       0.055857       0.049521   \n",
            "min    1.001254e+06  1.236005e+08      40.499790     -74.249840   \n",
            "25%    1.508581e+07  2.458333e+10      40.688740     -73.982580   \n",
            "50%    2.913660e+07  4.911774e+10      40.722290     -73.954440   \n",
            "75%    4.320120e+07  7.399650e+10      40.762760     -73.932350   \n",
            "max    5.736742e+07  9.876313e+10      40.916970     -73.705220   \n",
            "\n",
            "       Construction year  minimum nights  number of reviews  \\\n",
            "count      102385.000000   102190.000000      102416.000000   \n",
            "mean         2012.487464        8.135845          27.483743   \n",
            "std             5.765556       30.553781          49.508954   \n",
            "min          2003.000000    -1223.000000           0.000000   \n",
            "25%          2007.000000        2.000000           1.000000   \n",
            "50%          2012.000000        3.000000           7.000000   \n",
            "75%          2017.000000        5.000000          30.000000   \n",
            "max          2022.000000     5645.000000        1024.000000   \n",
            "\n",
            "       reviews per month  review rate number  calculated host listings count  \\\n",
            "count       86720.000000       102273.000000                   102280.000000   \n",
            "mean            1.374022            3.279106                        7.936605   \n",
            "std             1.746621            1.284657                       32.218780   \n",
            "min             0.010000            1.000000                        1.000000   \n",
            "25%             0.220000            2.000000                        1.000000   \n",
            "50%             0.740000            3.000000                        1.000000   \n",
            "75%             2.000000            4.000000                        2.000000   \n",
            "max            90.000000            5.000000                      332.000000   \n",
            "\n",
            "       availability 365  \n",
            "count     102151.000000  \n",
            "mean         141.133254  \n",
            "std          135.435024  \n",
            "min          -10.000000  \n",
            "25%            3.000000  \n",
            "50%           96.000000  \n",
            "75%          269.000000  \n",
            "max         3677.000000  \n"
          ]
        }
      ],
      "source": [
        "# Estadisticas de las Variables Numericas del dataset\n",
        "print(airbnb.describe())"
      ]
    },
    {
      "cell_type": "code",
      "execution_count": 8,
      "metadata": {
        "id": "UYy9namSfw32"
      },
      "outputs": [
        {
          "data": {
            "text/html": [
              "<div>\n",
              "<style scoped>\n",
              "    .dataframe tbody tr th:only-of-type {\n",
              "        vertical-align: middle;\n",
              "    }\n",
              "\n",
              "    .dataframe tbody tr th {\n",
              "        vertical-align: top;\n",
              "    }\n",
              "\n",
              "    .dataframe thead th {\n",
              "        text-align: right;\n",
              "    }\n",
              "</style>\n",
              "<table border=\"1\" class=\"dataframe\">\n",
              "  <thead>\n",
              "    <tr style=\"text-align: right;\">\n",
              "      <th></th>\n",
              "      <th>NAME</th>\n",
              "      <th>host_identity_verified</th>\n",
              "      <th>host name</th>\n",
              "      <th>neighbourhood group</th>\n",
              "      <th>neighbourhood</th>\n",
              "      <th>country</th>\n",
              "      <th>country code</th>\n",
              "      <th>instant_bookable</th>\n",
              "      <th>cancellation_policy</th>\n",
              "      <th>room type</th>\n",
              "      <th>price</th>\n",
              "      <th>service fee</th>\n",
              "      <th>last review</th>\n",
              "      <th>house_rules</th>\n",
              "      <th>license</th>\n",
              "    </tr>\n",
              "  </thead>\n",
              "  <tbody>\n",
              "    <tr>\n",
              "      <th>count</th>\n",
              "      <td>102349</td>\n",
              "      <td>102310</td>\n",
              "      <td>102193</td>\n",
              "      <td>102570</td>\n",
              "      <td>102583</td>\n",
              "      <td>102067</td>\n",
              "      <td>102468</td>\n",
              "      <td>102494</td>\n",
              "      <td>102523</td>\n",
              "      <td>102599</td>\n",
              "      <td>102352</td>\n",
              "      <td>102326</td>\n",
              "      <td>86706</td>\n",
              "      <td>50468</td>\n",
              "      <td>2</td>\n",
              "    </tr>\n",
              "    <tr>\n",
              "      <th>unique</th>\n",
              "      <td>61281</td>\n",
              "      <td>2</td>\n",
              "      <td>13190</td>\n",
              "      <td>7</td>\n",
              "      <td>224</td>\n",
              "      <td>1</td>\n",
              "      <td>1</td>\n",
              "      <td>2</td>\n",
              "      <td>3</td>\n",
              "      <td>4</td>\n",
              "      <td>1151</td>\n",
              "      <td>231</td>\n",
              "      <td>2477</td>\n",
              "      <td>1976</td>\n",
              "      <td>1</td>\n",
              "    </tr>\n",
              "    <tr>\n",
              "      <th>top</th>\n",
              "      <td>Home away from home</td>\n",
              "      <td>unconfirmed</td>\n",
              "      <td>Michael</td>\n",
              "      <td>Manhattan</td>\n",
              "      <td>Bedford-Stuyvesant</td>\n",
              "      <td>United States</td>\n",
              "      <td>US</td>\n",
              "      <td>False</td>\n",
              "      <td>moderate</td>\n",
              "      <td>Entire home/apt</td>\n",
              "      <td>$206</td>\n",
              "      <td>$41</td>\n",
              "      <td>6/23/2019</td>\n",
              "      <td>#NAME?</td>\n",
              "      <td>41662/AL</td>\n",
              "    </tr>\n",
              "    <tr>\n",
              "      <th>freq</th>\n",
              "      <td>33</td>\n",
              "      <td>51200</td>\n",
              "      <td>881</td>\n",
              "      <td>43792</td>\n",
              "      <td>7937</td>\n",
              "      <td>102067</td>\n",
              "      <td>102468</td>\n",
              "      <td>51474</td>\n",
              "      <td>34343</td>\n",
              "      <td>53701</td>\n",
              "      <td>137</td>\n",
              "      <td>526</td>\n",
              "      <td>2443</td>\n",
              "      <td>2712</td>\n",
              "      <td>2</td>\n",
              "    </tr>\n",
              "  </tbody>\n",
              "</table>\n",
              "</div>"
            ],
            "text/plain": [
              "                       NAME host_identity_verified host name  \\\n",
              "count                102349                 102310    102193   \n",
              "unique                61281                      2     13190   \n",
              "top     Home away from home            unconfirmed   Michael   \n",
              "freq                     33                  51200       881   \n",
              "\n",
              "       neighbourhood group       neighbourhood        country country code  \\\n",
              "count               102570              102583         102067       102468   \n",
              "unique                   7                 224              1            1   \n",
              "top              Manhattan  Bedford-Stuyvesant  United States           US   \n",
              "freq                 43792                7937         102067       102468   \n",
              "\n",
              "       instant_bookable cancellation_policy        room type   price  \\\n",
              "count            102494              102523           102599  102352   \n",
              "unique                2                   3                4    1151   \n",
              "top               False            moderate  Entire home/apt   $206    \n",
              "freq              51474               34343            53701     137   \n",
              "\n",
              "       service fee last review house_rules   license  \n",
              "count       102326       86706       50468         2  \n",
              "unique         231        2477        1976         1  \n",
              "top           $41    6/23/2019      #NAME?  41662/AL  \n",
              "freq           526        2443        2712         2  "
            ]
          },
          "execution_count": 8,
          "metadata": {},
          "output_type": "execute_result"
        }
      ],
      "source": [
        "# Estadisticas de las Variables categoricas del dataset\n",
        "airbnb.describe(include='object')"
      ]
    },
    {
      "cell_type": "markdown",
      "metadata": {
        "id": "gvs9gY3EfrG7"
      },
      "source": [
        "## Paso 3\n",
        "\n",
        "Reemplace todas aquelas columnas con espacio entre las palabras con \"_\". Adicionalmente, deje todos los nombre en minúsculas."
      ]
    },
    {
      "cell_type": "code",
      "execution_count": null,
      "metadata": {
        "id": "wBbbjUgjfrN8"
      },
      "outputs": [
        {
          "name": "stdout",
          "output_type": "stream",
          "text": [
            "['clean_&_quiet_apt_home_by_the_park' 'skylit_midtown_castle'\n",
            " 'the_village_of_harlem....new_york_!' ...\n",
            " 'elmhurst_1st_fl_rightl_bedroom'\n",
            " 'elmhurst_1st_floor_br_w/_pvt._bath&balcony'\n",
            " 'parisian_style_apartment_in_heart_of_brooklyn']\n",
            "['private_room' 'entire_home/apt' 'shared_room' 'hotel_room']\n"
          ]
        }
      ],
      "source": [
        "airbnb['NAME'] = airbnb['NAME'].str.lower()\n",
        "airbnb['room type'] = airbnb['room type'].str.lower()\n",
        "\n",
        "airbnb['NAME'] = airbnb['NAME'].str.replace(' ', '_')\n",
        "airbnb['room type'] = airbnb['room type'].str.replace(' ', '_')\n",
        "\n",
        "print(airbnb['NAME'].unique())\n",
        "print(airbnb['room type'].unique())\n"
      ]
    },
    {
      "cell_type": "markdown",
      "metadata": {
        "id": "9kNh_FfnK0el"
      },
      "source": [
        "## Tarea 2: Limpieza de Datos - Manejo de Valores Faltantes\n",
        "\n",
        "\n",
        "Ahora que tienes una idea general de lo que hay en el dataset, deberás corregir los problemas que este tiene.\n",
        "\n",
        "1. Identifica las columnas con valores faltantes.\n",
        "2. Decide una estrategia para manejarlos (por ejemplo, imputación con la media/mediana, eliminar la columna, eliminar filas con valores faltantes en columnas críticas). Justifica tus elecciones.\n",
        "\n",
        "He aqui una sugerencia de estrategia a seguir:\n",
        "\n",
        "- Eliminar la columna: Si una columna tiene un porcentaje muy alto de valores faltantes (por ejemplo, más del 50%) y/o no es crucial para el análisis, eliminarla puede ser la mejor opción.\n",
        "- Imputación: Si una columna tiene un porcentaje moderado de valores faltantes y es importante, puedes imputar los valores faltantes. Considera diferentes estrategias de imputación:\n",
        "  - Media/Mediana: Para columnas numéricas, imputar con la media o la mediana puede ser apropiado. La mediana es más robusta a los valores atípicos.\n",
        "  - Moda: Para columnas categóricas, imputar con la moda (el valor más frecuente) es una opción.\n",
        "  - Valor específico: En algunos casos, puede tener sentido imputar con un valor específico que tenga significado en el contexto del problema.\n",
        "- Eliminar las filas: Si una columna tiene pocos valores faltantes y es muy importante, puedes optar por eliminar las filas que tengan valores faltantes en esa columna. Sin embargo, ten cuidado de no eliminar demasiadas filas, ya que esto podría sesgar los resultados.\n",
        "- Dejar como está (con justificación): En algunos casos, puede que no sea necesario hacer nada y se pueda trabajar con los valores faltantes. Esto debe justificarse.\n"
      ]
    },
    {
      "cell_type": "code",
      "execution_count": 32,
      "metadata": {
        "colab": {
          "base_uri": "https://localhost:8080/"
        },
        "id": "_oe3DdzQToQi",
        "outputId": "b17b4251-1f63-49ed-c08d-601ffa1b5fd6"
      },
      "outputs": [
        {
          "name": "stdout",
          "output_type": "stream",
          "text": [
            "id                                     0\n",
            "NAME                                 250\n",
            "host id                                0\n",
            "host_identity_verified               289\n",
            "host name                            406\n",
            "neighbourhood group                   29\n",
            "neighbourhood                         16\n",
            "lat                                    8\n",
            "long                                   8\n",
            "country                              532\n",
            "country code                         131\n",
            "instant_bookable                     105\n",
            "cancellation_policy                   76\n",
            "room type                              0\n",
            "Construction year                    214\n",
            "price                                247\n",
            "service fee                          273\n",
            "minimum nights                       409\n",
            "number of reviews                    183\n",
            "last review                        15893\n",
            "reviews per month                  15879\n",
            "review rate number                   326\n",
            "calculated host listings count       319\n",
            "availability 365                     448\n",
            "house_rules                        52131\n",
            "license                           102597\n",
            "dtype: int64\n",
            "\n",
            "id        NAME                                               host id      host_identity_verified  host name      neighbourhood group  neighbourhood    lat       long       country        country code  instant_bookable  cancellation_policy  room type        Construction year  price    service fee  minimum nights  number of reviews  last review  reviews per month  review rate number  calculated host listings count  availability 365  house_rules                                                                                                                                                                                                                                                                                         license\n",
            "20305326  studio_apartment_in_historic_sugar_hill_townhouse  76800663749  unconfirmed             Paula          Manhattan            Harlem           40.82862  -73.93832  United States  US            True              strict               entire_home/apt  2009.0             $1,000   $200         2.0             23.0               7/1/2019     2.24               3.0                 2.0                             16.0              -We do not allow pets because we already have a small dog in the house but he is very friendly! -Please make sure to close the back door when you are coming in and out.                                                                                                                            NaN        2\n",
            "20305878  beautiful_room_in_a_newly_renovated_apartment!     10458506259  unconfirmed             Olga           Manhattan            Upper West Side  40.79560  -73.97219  United States  US            False             moderate             private_room     2014.0             $644     $129         1.0             31.0               6/24/2019    3.00               4.0                 3.0                             112.0             Please be aware, check in is NO earlier than 6pm on weekdays. We can make no exceptions. Weekends are more flexible.                                                                                                                                                                                NaN        2\n",
            "20306430  williamsburg_studio-_steps_away_from_lorimer_l     18055428564  verified                Emily          Brooklyn             Williamsburg     40.71094  -73.95026  United States  US            False             moderate             entire_home/apt  2005.0             $631     $126         2.0             20.0               6/6/2019     2.00               4.0                 1.0                             0.0               NaN                                                                                                                                                                                                                                                                                                 NaN        2\n",
            "20306983  room_with_a_view                                   31070626058  verified                Anny           Bronx                Kingsbridge      40.88354  -73.89061  United States  US            False             moderate             private_room     2006.0             $459     $92          3.0             0.0                NaN          NaN                3.0                 1.0                             89.0              Please no loud noise after 10pm as others do live here Check in after 3pm Check out at 11am Would appreciate it if you removed linens from bed post stay (not a requirement, just as a courtesy) NO SMOKING in room We do have an indoor porch if you're a smoker outside apartment                 NaN        2\n",
            "20307535  comfy,_beautiful_apt_with_breakfast_included       83382332065  verified                Deborah/Aston  Brooklyn             East New York    40.67661  -73.87488  United States  US            False             strict               entire_home/apt  2010.0             $887     $177         2.0             43.0               7/5/2019     4.13               2.0                 1.0                             95.0              This apartment is located on a third floor, no elevator. Guest must be considered and respectful with the noise level. No stumping or running please.                                                                                                                                               NaN        2\n",
            "                                                                                                                                                                                                                                                                                                                                                                                                                                                                                                                                                                                                                                                                                                                                                                 ..\n",
            "57356371  bx_apartment                                       11038605149  unconfirmed             Vii            Bronx                Olinville        40.88438  -73.86397  United States  US            True              strict               private_room     2008.0             $531     NaN          1.0             0.0                NaN          NaN                3.0                 1.0                             0.0               #NAME?                                                                                                                                                                                                                                                                                              NaN        1\n",
            "57356923  huge_bedroom_lorimer_l_train!!!                    29320426760  unconfirmed             Jose           Brooklyn             Williamsburg     40.71355  -73.95003  United States  US            True              flexible             private_room     2016.0             $570     NaN          28.0            17.0               4/30/2019    0.61               1.0                 6.0                             229.0             No smoking                                                                                                                                                                                                                                                                                          NaN        1\n",
            "57357476  spacious_two_bedrooms_condo_in_upper_manhattan     14430571516  verified                Max            Manhattan            Inwood           40.86461  -73.92363  United States  US            True              moderate             entire_home/apt  2003.0             $665     NaN          2.0             49.0               5/23/2019    1.81               1.0                 3.0                             147.0             NaN                                                                                                                                                                                                                                                                                                 NaN        1\n",
            "57358028  room_in_queens,_ny,_near_lga.                      56457739998  verified                Sonia          Queens               East Elmhurst    40.76245  -73.87938  United States  US            True              strict               private_room     2022.0             $982     $196         1.0             239.0              6/29/2019    8.58               2.0                 2.0                             361.0             1. Please clean-up after yourself in the kitchen and keep the living room tidy. 2. Since we go to work/school, please avoid loud noises after 11pm during weekdays.  3. Important: To ensure everyone's safety, guest will be charged the full fee of changing the door knob if key is lost/stolen  NaN        1\n",
            "57367417  rosalee_stewart                                    93578954226  verified                Stanley        Manhattan            Harlem           40.81315  -73.94747  United States  US            False             flexible             entire_home/apt  2011.0             $1,128   NaN          4.0             22.0               6/15/2019    0.85               4.0                 1.0                             238.0             Please remember that this is a residential building.  All building rules, Hotel occupancy restrictions, and year-round tenants must be respected.                                                                                                                                                   NaN        1\n",
            "Name: count, Length: 102058, dtype: int64\n"
          ]
        }
      ],
      "source": [
        "# Verificar valores faltantes\n",
        "print(airbnb.isna().sum())\n",
        "print()\n",
        "print(airbnb.value_counts(dropna=False))"
      ]
    },
    {
      "cell_type": "code",
      "execution_count": null,
      "metadata": {
        "id": "c8WDjedZTyTF"
      },
      "outputs": [],
      "source": [
        "# a. Eliminar columnas con muchos valores faltantes\n",
        "\n",
        "\n",
        "# b. Imputar con la mediana (ej: 'minimum nights')\n",
        "\n",
        "\n",
        "# c. Imputar con la moda (ej: 'neighbourhood group')\n",
        "\n",
        "\n",
        "# d. Eliminar filas con valores faltantes en columnas importantes (ej: 'price')\n",
        "\n",
        "\n",
        "#e. Llenar valores nulos de 'review rate number' con 0. Asumimos que si no tiene review rate number es porque no tiene reviews.\n",
        "\n",
        "\n",
        "#f. Llenar valores nulos de 'reviews per month' con 0. Asumimos que si no tiene reviews per month es porque no tiene reviews.\n",
        "\n",
        "\n",
        "#g. Para 'last review', 'host name', 'country', 'country code', 'NAME', 'host_identity_verified', 'neighbourhood', 'Construction year', 'service fee', 'number of reviews', 'availability 365' y 'house_rules' se podría hacer un analisis mas profundo de que valores ponerles.\n",
        "#Por ahora se imputaran por 'unknown' las columnas de tipo object y por 0 las de tipo numérico.\n",
        "for col in airbnb.columns:\n",
        "    if airbnb[col].dtype == 'object':\n",
        "        airbnb[col] = airbnb[col].fillna('unknown')\n",
        "    elif airbnb[col].dtype in ['int64', 'float64']:\n",
        "        airbnb[col] = airbnb[col].fillna(0)\n",
        "\n",
        "# 3. Verificar que no queden valores faltantes (o al menos en las columnas críticas)\n",
        "print(airbnb.isnull().sum())\n",
        "\n"
      ]
    },
    {
      "cell_type": "markdown",
      "metadata": {
        "id": "5l5NNv3pCPs-"
      },
      "source": [
        "## Tarea 3: Agrupaciond de datos\n",
        "\n",
        "### Paso 1\n",
        "\n",
        "Para los datos categoricos, conozcamos como estos se distribuyen. Para ello:\n",
        "\n",
        "1. Identifica las columnas de tu conjunto de datos que contienen la información relevante para tu análisis. ¿Qué quieres investigar o comprender mejor?\n",
        "2. Utiliza la función `groupby()` para crear grupos basados en los valores de una o varias columnas. Esta agrupación te permitirá comparar y analizar subconjuntos de datos de manera individual.\n",
        "3. Aplica una función de agregación como `count()`, `mean()`, `sum()`, `median()` o similar para obtener un resultado numérico para cada grupo.\n",
        "\n",
        "Realiza los sigueintes análisis"
      ]
    },
    {
      "cell_type": "code",
      "execution_count": 22,
      "metadata": {
        "id": "GNDQlkG6CcUP"
      },
      "outputs": [
        {
          "name": "stdout",
          "output_type": "stream",
          "text": [
            "['Kensington' 'Midtown' 'Harlem' 'Clinton Hill' 'East Harlem'\n",
            " 'Murray Hill' 'Bedford-Stuyvesant' \"Hell's Kitchen\" 'Upper West Side'\n",
            " 'Chinatown' 'South Slope' 'West Village' 'Williamsburg' 'Fort Greene'\n",
            " 'Chelsea' 'Crown Heights' 'Park Slope' 'Windsor Terrace' 'Inwood'\n",
            " 'East Village' 'Greenpoint' 'Bushwick' 'Flatbush' 'Lower East Side'\n",
            " 'Prospect-Lefferts Gardens' 'Long Island City' 'Kips Bay' 'SoHo'\n",
            " 'Upper East Side' 'Prospect Heights' 'Washington Heights' 'Woodside'\n",
            " 'Brooklyn Heights' 'Carroll Gardens' 'Gowanus' 'Flatlands' 'Cobble Hill'\n",
            " 'Flushing' 'Boerum Hill' 'Sunnyside' 'DUMBO' 'St. George' 'Highbridge'\n",
            " 'Financial District' 'Ridgewood' 'Morningside Heights' 'Jamaica'\n",
            " 'Middle Village' 'NoHo' 'Ditmars Steinway' 'Flatiron District'\n",
            " 'Roosevelt Island' 'Greenwich Village' 'Little Italy' 'East Flatbush'\n",
            " 'Tompkinsville' 'Astoria' 'Clason Point' 'Eastchester' 'Kingsbridge'\n",
            " 'Two Bridges' 'Queens Village' 'Rockaway Beach' 'Forest Hills' 'Nolita'\n",
            " 'Woodlawn' 'University Heights' 'Gravesend' 'Gramercy' 'Allerton' nan\n",
            " 'East New York' 'Theater District' 'Concourse Village' 'Sheepshead Bay'\n",
            " 'Emerson Hill' 'Fort Hamilton' 'Bensonhurst' 'Tribeca' 'Shore Acres'\n",
            " 'Sunset Park' 'Concourse' 'Elmhurst' 'Brighton Beach' 'Jackson Heights'\n",
            " 'Cypress Hills' 'St. Albans' 'Arrochar' 'Rego Park' 'Wakefield' 'Clifton'\n",
            " 'Bay Ridge' 'Graniteville' 'Spuyten Duyvil' 'Stapleton' 'Briarwood'\n",
            " 'Ozone Park' 'Columbia St' 'Vinegar Hill' 'Mott Haven' 'Longwood'\n",
            " 'Canarsie' 'Battery Park City' 'Civic Center' 'East Elmhurst'\n",
            " 'New Springville' 'Morris Heights' 'Arverne' 'Cambria Heights'\n",
            " 'Tottenville' 'Mariners Harbor' 'Concord' 'Borough Park' 'Bayside'\n",
            " 'Downtown Brooklyn' 'Port Morris' 'Fieldston' 'Kew Gardens' 'Midwood'\n",
            " 'College Point' 'Mount Eden' 'City Island' 'Glendale' 'Port Richmond'\n",
            " 'Red Hook' 'Richmond Hill' 'Bellerose' 'Maspeth' 'Williamsbridge'\n",
            " 'Soundview' 'Woodhaven' 'Woodrow' 'Co-op City' 'Stuyvesant Town'\n",
            " 'Parkchester' 'North Riverdale' 'Dyker Heights' 'Bronxdale' 'Sea Gate'\n",
            " 'Riverdale' 'Kew Gardens Hills' 'Bay Terrace' 'Norwood'\n",
            " 'Claremont Village' 'Whitestone' 'Fordham' 'Bayswater' 'Navy Yard'\n",
            " 'Brownsville' 'Eltingville' 'Fresh Meadows' 'Mount Hope'\n",
            " 'Lighthouse Hill' 'Springfield Gardens' 'Howard Beach' 'Belle Harbor'\n",
            " 'Jamaica Estates' 'Van Nest' 'Morris Park' 'West Brighton' 'Far Rockaway'\n",
            " 'South Ozone Park' 'Tremont' 'Corona' 'Great Kills' 'Manhattan Beach'\n",
            " 'Marble Hill' 'Dongan Hills' 'Castleton Corners' 'East Morrisania'\n",
            " 'Hunts Point' 'Neponsit' 'Pelham Bay' 'Randall Manor' 'Throgs Neck'\n",
            " 'Todt Hill' 'West Farms' 'Silver Lake' 'Morrisania' 'Laurelton'\n",
            " 'Grymes Hill' 'Holliswood' 'Pelham Gardens' 'Belmont' 'Rosedale'\n",
            " 'Edgemere' 'New Brighton' 'Midland Beach' 'Baychester' 'Melrose'\n",
            " 'Bergen Beach' 'Richmondtown' 'Howland Hook' 'Schuylerville'\n",
            " 'Coney Island' 'New Dorp Beach' \"Prince's Bay\" 'South Beach' 'Bath Beach'\n",
            " 'Jamaica Hills' 'Oakwood' 'Castle Hill' 'Hollis' 'Douglaston' 'Huguenot'\n",
            " 'Olinville' 'Edenwald' 'Grant City' 'Westerleigh'\n",
            " 'Bay Terrace, Staten Island' 'Westchester Square' 'Little Neck'\n",
            " 'Fort Wadsworth' 'Rosebank' 'Unionport' 'Mill Basin' 'Arden Heights'\n",
            " \"Bull's Head\" 'New Dorp' 'Rossville' 'Breezy Point' 'Willowbrook'\n",
            " 'Glen Oaks' 'Gerritsen Beach' 'Chelsea, Staten Island']\n",
            "\n",
            "neighbourhood\n",
            "Allerton             97\n",
            "Arden Heights         9\n",
            "Arrochar             52\n",
            "Arverne             223\n",
            "Astoria            1876\n",
            "                   ... \n",
            "Windsor Terrace     331\n",
            "Woodhaven           192\n",
            "Woodlawn             29\n",
            "Woodrow               3\n",
            "Woodside            588\n",
            "Name: host id, Length: 224, dtype: int64\n"
          ]
        }
      ],
      "source": [
        "# Distribucion de viviendas segun año de contruccion. Para ello, debe contar el numero de registros según el año de construcción.\n",
        "print(airbnb['neighbourhood'].unique())\n",
        "print()\n",
        "print(airbnb.groupby('neighbourhood')['host id'].aggregate('count'))"
      ]
    },
    {
      "cell_type": "code",
      "execution_count": null,
      "metadata": {
        "id": "rPgbHjY2Dqxa"
      },
      "outputs": [],
      "source": [
        "# Barrios con mayor numero de viviendas para arriendo. Cuente el número de registros y agrupelos por barrio de forma descendente.\n"
      ]
    },
    {
      "cell_type": "code",
      "execution_count": 24,
      "metadata": {
        "id": "0PoxMmH1ELFw"
      },
      "outputs": [
        {
          "name": "stdout",
          "output_type": "stream",
          "text": [
            "room type\n",
            "entire_home/apt    53701\n",
            "hotel_room           116\n",
            "private_room       46556\n",
            "shared_room         2226\n",
            "Name: id, dtype: int64\n"
          ]
        }
      ],
      "source": [
        "# Tipo de alojamiento predominante. Cuente el número de registros y agrupelos por el tipo de alojamiento (room_type).\n",
        "\n",
        "print(airbnb.groupby('room type')['id'].aggregate('count'))"
      ]
    },
    {
      "cell_type": "markdown",
      "metadata": {
        "id": "UK0blupjYixh"
      },
      "source": [
        "### Paso 2. Agrupación a dos variables\n",
        "\n",
        "En el siguiente ejercicio, obtendremos estadísticas combiando dos varaibles al mismo tiempo.\n",
        "\n",
        "A modo de ejemplo, utilizaremos las columnas `neighbourhood` y `review rate number` para determinar el top 5 de vecindarios con el mejor review promedio.  Cada lugar debe tener al menos un review en total.\n"
      ]
    },
    {
      "cell_type": "code",
      "execution_count": null,
      "metadata": {
        "colab": {
          "base_uri": "https://localhost:8080/",
          "height": 490
        },
        "id": "r-aBw4WxeHDw",
        "outputId": "0f2c809b-a4d8-4532-e8c4-655b9e208269"
      },
      "outputs": [
        {
          "data": {
            "text/html": [
              "<div>\n",
              "<style scoped>\n",
              "    .dataframe tbody tr th:only-of-type {\n",
              "        vertical-align: middle;\n",
              "    }\n",
              "\n",
              "    .dataframe tbody tr th {\n",
              "        vertical-align: top;\n",
              "    }\n",
              "\n",
              "    .dataframe thead th {\n",
              "        text-align: right;\n",
              "    }\n",
              "</style>\n",
              "<table border=\"1\" class=\"dataframe\">\n",
              "  <thead>\n",
              "    <tr style=\"text-align: right;\">\n",
              "      <th></th>\n",
              "      <th>review_rate_number</th>\n",
              "    </tr>\n",
              "    <tr>\n",
              "      <th>neighbourhood</th>\n",
              "      <th></th>\n",
              "    </tr>\n",
              "  </thead>\n",
              "  <tbody>\n",
              "    <tr>\n",
              "      <th>Glen Oaks</th>\n",
              "      <td>4.500000</td>\n",
              "    </tr>\n",
              "    <tr>\n",
              "      <th>Co-op City</th>\n",
              "      <td>4.400000</td>\n",
              "    </tr>\n",
              "    <tr>\n",
              "      <th>Gerritsen Beach</th>\n",
              "      <td>4.333333</td>\n",
              "    </tr>\n",
              "    <tr>\n",
              "      <th>Emerson Hill</th>\n",
              "      <td>4.142857</td>\n",
              "    </tr>\n",
              "    <tr>\n",
              "      <th>Huguenot</th>\n",
              "      <td>4.111111</td>\n",
              "    </tr>\n",
              "    <tr>\n",
              "      <th>...</th>\n",
              "      <td>...</td>\n",
              "    </tr>\n",
              "    <tr>\n",
              "      <th>Lighthouse Hill</th>\n",
              "      <td>2.666667</td>\n",
              "    </tr>\n",
              "    <tr>\n",
              "      <th>Jamaica Hills</th>\n",
              "      <td>2.666667</td>\n",
              "    </tr>\n",
              "    <tr>\n",
              "      <th>Fort Wadsworth</th>\n",
              "      <td>2.000000</td>\n",
              "    </tr>\n",
              "    <tr>\n",
              "      <th>Willowbrook</th>\n",
              "      <td>2.000000</td>\n",
              "    </tr>\n",
              "    <tr>\n",
              "      <th>Chelsea, Staten Island</th>\n",
              "      <td>2.000000</td>\n",
              "    </tr>\n",
              "  </tbody>\n",
              "</table>\n",
              "<p>225 rows × 1 columns</p>\n",
              "</div><br><label><b>dtype:</b> float64</label>"
            ],
            "text/plain": [
              "neighbourhood\n",
              "Glen Oaks                 4.500000\n",
              "Co-op City                4.400000\n",
              "Gerritsen Beach           4.333333\n",
              "Emerson Hill              4.142857\n",
              "Huguenot                  4.111111\n",
              "                            ...   \n",
              "Lighthouse Hill           2.666667\n",
              "Jamaica Hills             2.666667\n",
              "Fort Wadsworth            2.000000\n",
              "Willowbrook               2.000000\n",
              "Chelsea, Staten Island    2.000000\n",
              "Name: review_rate_number, Length: 225, dtype: float64"
            ]
          },
          "execution_count": 17,
          "metadata": {},
          "output_type": "execute_result"
        }
      ],
      "source": [
        "df = airbnb.loc[airbnb['review_rate_number'] > 1]\n",
        "df[['neighbourhood','review_rate_number']].groupby('neighbourhood')['review_rate_number'].mean().sort_values(ascending=False)"
      ]
    },
    {
      "cell_type": "markdown",
      "metadata": {
        "id": "ZHmmo5CV_Gmo"
      },
      "source": [
        "## Tus Propios analisis.\n",
        "\n",
        "Siguiendo el ejemplo anterior, aplica las siguiente agrupaciones."
      ]
    },
    {
      "cell_type": "code",
      "execution_count": null,
      "metadata": {
        "id": "_T-pK0ZtKqDF"
      },
      "outputs": [],
      "source": [
        "# Convertir 'price' y 'service fee' a data numerico. Hint: Utilice el método replace()."
      ]
    },
    {
      "cell_type": "code",
      "execution_count": null,
      "metadata": {
        "id": "3JrHRrfHKqJ1"
      },
      "outputs": [],
      "source": [
        "### Barrio más costoso\n",
        "# Obtenga el costo promedio de alojamiento según el barrio de la ciudad."
      ]
    },
    {
      "cell_type": "code",
      "execution_count": null,
      "metadata": {
        "id": "s2agqacxKqL6"
      },
      "outputs": [],
      "source": [
        "### Barrio con el service fee más alto\n",
        "# Obtenga el costo promedio de fee según el barrio de la ciudad."
      ]
    },
    {
      "cell_type": "code",
      "execution_count": null,
      "metadata": {
        "id": "mfnN2p7lKqOA"
      },
      "outputs": [],
      "source": [
        "### Barrio con mayor reviews\n",
        "# Determine el barrio con el mayor número de reviews en la ciudad. Para ello, y para cada barrio, debe suma todo los review de las propiedades dentro de ese barrio."
      ]
    },
    {
      "cell_type": "code",
      "execution_count": null,
      "metadata": {
        "id": "Ccqpqu6EKqQX"
      },
      "outputs": [],
      "source": [
        "### Politicas de Cancelacion\n",
        "# Escoja un bario, el de su preferencia, y conozca las políticas de cancelacion predominante entre las propiedades del barrio escogido"
      ]
    },
    {
      "cell_type": "code",
      "execution_count": null,
      "metadata": {
        "id": "muopaqwjKqSc"
      },
      "outputs": [],
      "source": []
    },
    {
      "cell_type": "code",
      "execution_count": null,
      "metadata": {
        "id": "AO_pD-KlKqUx"
      },
      "outputs": [],
      "source": []
    },
    {
      "cell_type": "code",
      "execution_count": null,
      "metadata": {
        "id": "8dfBYEzjKqbT"
      },
      "outputs": [],
      "source": []
    }
  ],
  "metadata": {
    "colab": {
      "provenance": []
    },
    "kernelspec": {
      "display_name": "Python-Github_VENV-XjlEX2HA",
      "language": "python",
      "name": "python3"
    },
    "language_info": {
      "codemirror_mode": {
        "name": "ipython",
        "version": 3
      },
      "file_extension": ".py",
      "mimetype": "text/x-python",
      "name": "python",
      "nbconvert_exporter": "python",
      "pygments_lexer": "ipython3",
      "version": "3.13.2"
    }
  },
  "nbformat": 4,
  "nbformat_minor": 0
}
