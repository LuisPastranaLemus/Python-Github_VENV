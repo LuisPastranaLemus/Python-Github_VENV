{
  "nbformat": 4,
  "nbformat_minor": 0,
  "metadata": {
    "colab": {
      "provenance": []
    },
    "kernelspec": {
      "name": "python3",
      "display_name": "Python 3"
    },
    "language_info": {
      "name": "python"
    }
  },
  "cells": [
    {
      "cell_type": "markdown",
      "source": [
        "# Air Bnb Open Dataset\n",
        "\n",
        "Airbnb es una empresa estadounidense que facilita un mercado en línea para alquileres de alojamientos, principalmente casas de particulares para vacaciones, y también ofrece actividades turísticas. Su plataforma, disponible tanto en su sitio web como en su aplicación móvil, conecta a viajeros con anfitriones que ofrecen sus propiedades. Airbnb no es dueño de las propiedades que se ofrecen; su ganancia proviene de las comisiones que recibe por cada reserva realizada. Fundada en 2008, Airbnb es una abreviatura de su nombre original, AirBedandBreakfast.com.\n",
        "\n",
        "## El Dataset\n",
        "El conjunto de datos con el que trabajaras forma parte de la iniciativa Airbnb Inside y proporciona información sobre los anuncios de alojamientos en casas particulares en la ciudad de Nueva York. Este conjunto de datos incluye detalles sobre los anuncios, como descripciones completas y puntuaciones de reseñas promedio, reseñas de usuarios con identificación única y comentarios detallados, y calendarios con información de precios y disponibilidad para cada anuncio y día."
      ],
      "metadata": {
        "id": "3zV2v_YRBvIJ"
      }
    },
    {
      "cell_type": "markdown",
      "source": [
        "## Tarea 1: Iniciacion en EDA\n",
        "\n",
        "### Paso 1\n",
        " Comencemos famializandonos con el dataset. Cargue y familiaricece con la informacion que se encuentra almacenada. Con esto, nos referimos a conocer los tipos de datos con los cual cuenta este datset, así como los nombres de cada columnas. Al mismo tiempo, hagase una idea de lo que contiene cada columna, obteniendo un vista de algunas filas del dataset.\n",
        "\n",
        " [Descarga el dataset aqui](https://drive.google.com/file/d/16Z1rpnVm_NQ5ljiIZfSGzHAiNlUXL0x4/view)\n",
        "\n",
        " [Pandas Cheat Sheet](https://pandas.pydata.org/Pandas_Cheat_Sheet.pdf)"
      ],
      "metadata": {
        "id": "LF1HoNiLJkCB"
      }
    },
    {
      "cell_type": "code",
      "execution_count": null,
      "metadata": {
        "id": "PH55q6L89vfm"
      },
      "outputs": [],
      "source": [
        "# Cargar el dataset\n",
        "# librerias necesarias\n",
        "\n",
        "airbnb = # cargar dataset"
      ]
    },
    {
      "cell_type": "code",
      "source": [
        "# Veamos algunas filas\n"
      ],
      "metadata": {
        "id": "YWmzkpxd-7NT"
      },
      "execution_count": null,
      "outputs": []
    },
    {
      "cell_type": "code",
      "source": [
        "# Informacion sobre las columnas y el tipo de dato asociado a ellas\n",
        "\n"
      ],
      "metadata": {
        "id": "Cg2icP-T_Fvh"
      },
      "execution_count": null,
      "outputs": []
    },
    {
      "cell_type": "markdown",
      "source": [
        "### Paso 2\n",
        "Siguiendo con un análisis preliminar de nuestro dataset, genere un vista estadìstica descriptiva, tanto para variables numéricas como para las categóricas."
      ],
      "metadata": {
        "id": "PoatLnvFNS1w"
      }
    },
    {
      "cell_type": "code",
      "source": [
        "# Estadisticas de las Variables Numericas del dataset\n"
      ],
      "metadata": {
        "id": "9MvzbMtMNS9j"
      },
      "execution_count": null,
      "outputs": []
    },
    {
      "cell_type": "code",
      "source": [
        "# Estadisticas de las Variables categoricas del dataset\n"
      ],
      "metadata": {
        "id": "UYy9namSfw32"
      },
      "execution_count": null,
      "outputs": []
    },
    {
      "cell_type": "markdown",
      "source": [
        "## Paso 3\n",
        "\n",
        "Reemplace todas aquelas columnas con espacio entre las palabras con \"_\". Adicionalmente, deje todos los nombre en minúsculas."
      ],
      "metadata": {
        "id": "gvs9gY3EfrG7"
      }
    },
    {
      "cell_type": "code",
      "source": [],
      "metadata": {
        "id": "wBbbjUgjfrN8"
      },
      "execution_count": null,
      "outputs": []
    },
    {
      "cell_type": "markdown",
      "source": [
        "## Tarea 2: Limpieza de Datos - Manejo de Valores Faltantes\n",
        "\n",
        "\n",
        "Ahora que tienes una idea general de lo que hay en el dataset, deberás corregir los problemas que este tiene.\n",
        "\n",
        "1. Identifica las columnas con valores faltantes.\n",
        "2. Decide una estrategia para manejarlos (por ejemplo, imputación con la media/mediana, eliminar la columna, eliminar filas con valores faltantes en columnas críticas). Justifica tus elecciones.\n",
        "\n",
        "He aqui una sugerencia de estrategia a seguir:\n",
        "\n",
        "- Eliminar la columna: Si una columna tiene un porcentaje muy alto de valores faltantes (por ejemplo, más del 50%) y/o no es crucial para el análisis, eliminarla puede ser la mejor opción.\n",
        "- Imputación: Si una columna tiene un porcentaje moderado de valores faltantes y es importante, puedes imputar los valores faltantes. Considera diferentes estrategias de imputación:\n",
        "  - Media/Mediana: Para columnas numéricas, imputar con la media o la mediana puede ser apropiado. La mediana es más robusta a los valores atípicos.\n",
        "  - Moda: Para columnas categóricas, imputar con la moda (el valor más frecuente) es una opción.\n",
        "  - Valor específico: En algunos casos, puede tener sentido imputar con un valor específico que tenga significado en el contexto del problema.\n",
        "- Eliminar las filas: Si una columna tiene pocos valores faltantes y es muy importante, puedes optar por eliminar las filas que tengan valores faltantes en esa columna. Sin embargo, ten cuidado de no eliminar demasiadas filas, ya que esto podría sesgar los resultados.\n",
        "- Dejar como está (con justificación): En algunos casos, puede que no sea necesario hacer nada y se pueda trabajar con los valores faltantes. Esto debe justificarse.\n"
      ],
      "metadata": {
        "id": "9kNh_FfnK0el"
      }
    },
    {
      "cell_type": "code",
      "source": [
        "# Verificar valores faltantes\n"
      ],
      "metadata": {
        "colab": {
          "base_uri": "https://localhost:8080/"
        },
        "id": "_oe3DdzQToQi",
        "outputId": "b17b4251-1f63-49ed-c08d-601ffa1b5fd6"
      },
      "execution_count": null,
      "outputs": [
        {
          "output_type": "stream",
          "name": "stdout",
          "text": [
            "id                                     0\n",
            "name                                 250\n",
            "host_id                                0\n",
            "host_identity_verified               289\n",
            "host_name                            406\n",
            "neighbourhood_group                   29\n",
            "neighbourhood                         16\n",
            "lat                                    8\n",
            "long                                   8\n",
            "country                              532\n",
            "country_code                         131\n",
            "instant_bookable                     105\n",
            "cancellation_policy                   76\n",
            "room_type                              0\n",
            "construction_year                    214\n",
            "price                                247\n",
            "service_fee                          273\n",
            "minimum_nights                       409\n",
            "number_of_reviews                    183\n",
            "last_review                        15893\n",
            "reviews_per_month                  15879\n",
            "review_rate_number                   326\n",
            "calculated_host_listings_count       319\n",
            "availability_365                     448\n",
            "house_rules                        52131\n",
            "license                           102597\n",
            "dtype: int64\n"
          ]
        }
      ]
    },
    {
      "cell_type": "code",
      "source": [
        "# a. Eliminar columnas con muchos valores faltantes\n",
        "\n",
        "\n",
        "# b. Imputar con la mediana (ej: 'minimum nights')\n",
        "\n",
        "\n",
        "# c. Imputar con la moda (ej: 'neighbourhood group')\n",
        "\n",
        "\n",
        "# d. Eliminar filas con valores faltantes en columnas importantes (ej: 'price')\n",
        "\n",
        "\n",
        "#e. Llenar valores nulos de 'review rate number' con 0. Asumimos que si no tiene review rate number es porque no tiene reviews.\n",
        "\n",
        "\n",
        "#f. Llenar valores nulos de 'reviews per month' con 0. Asumimos que si no tiene reviews per month es porque no tiene reviews.\n",
        "\n",
        "\n",
        "#g. Para 'last review', 'host name', 'country', 'country code', 'NAME', 'host_identity_verified', 'neighbourhood', 'Construction year', 'service fee', 'number of reviews', 'availability 365' y 'house_rules' se podría hacer un analisis mas profundo de que valores ponerles.\n",
        "#Por ahora se imputaran por 'unknown' las columnas de tipo object y por 0 las de tipo numérico.\n",
        "for col in airbnb.columns:\n",
        "    if airbnb[col].dtype == 'object':\n",
        "        airbnb[col] = airbnb[col].fillna('unknown')\n",
        "    elif airbnb[col].dtype in ['int64', 'float64']:\n",
        "        airbnb[col] = airbnb[col].fillna(0)\n",
        "\n",
        "# 3. Verificar que no queden valores faltantes (o al menos en las columnas críticas)\n",
        "print(airbnb.isnull().sum())\n",
        "\n"
      ],
      "metadata": {
        "id": "c8WDjedZTyTF"
      },
      "execution_count": null,
      "outputs": []
    },
    {
      "cell_type": "markdown",
      "source": [
        "## Tarea 3: Agrupaciond de datos\n",
        "\n",
        "### Paso 1\n",
        "\n",
        "Para los datos categoricos, conozcamos como estos se distribuyen. Para ello:\n",
        "\n",
        "1. Identifica las columnas de tu conjunto de datos que contienen la información relevante para tu análisis. ¿Qué quieres investigar o comprender mejor?\n",
        "2. Utiliza la función `groupby()` para crear grupos basados en los valores de una o varias columnas. Esta agrupación te permitirá comparar y analizar subconjuntos de datos de manera individual.\n",
        "3. Aplica una función de agregación como `count()`, `mean()`, `sum()`, `median()` o similar para obtener un resultado numérico para cada grupo.\n",
        "\n",
        "Realiza los sigueintes análisis"
      ],
      "metadata": {
        "id": "5l5NNv3pCPs-"
      }
    },
    {
      "cell_type": "code",
      "source": [
        "# Distribucion de viviendas segun año de contruccion. Para ello, debe contar el numero de registros según el año de construcción.\n"
      ],
      "metadata": {
        "id": "GNDQlkG6CcUP"
      },
      "execution_count": null,
      "outputs": []
    },
    {
      "cell_type": "code",
      "source": [
        "# Barrios con mayor numero de viviendas para arriendo. Cuente el número de registros y agrupelos por barrio de forma descendente.\n"
      ],
      "metadata": {
        "id": "rPgbHjY2Dqxa"
      },
      "execution_count": null,
      "outputs": []
    },
    {
      "cell_type": "code",
      "source": [
        "# Tipo de alojamiento predominante. Cuente el número de registros y agrupelos por el tipo de alojamiento (room_type).\n",
        "\n"
      ],
      "metadata": {
        "id": "0PoxMmH1ELFw"
      },
      "execution_count": null,
      "outputs": []
    },
    {
      "cell_type": "markdown",
      "source": [
        "### Paso 2. Agrupación a dos variables\n",
        "\n",
        "En el siguiente ejercicio, obtendremos estadísticas combiando dos varaibles al mismo tiempo.\n",
        "\n",
        "A modo de ejemplo, utilizaremos las columnas `neighbourhood` y `review rate number` para determinar el top 5 de vecindarios con el mejor review promedio.  Cada lugar debe tener al menos un review en total.\n"
      ],
      "metadata": {
        "id": "UK0blupjYixh"
      }
    },
    {
      "cell_type": "code",
      "source": [
        "df = airbnb.loc[airbnb['review_rate_number'] > 1]\n",
        "df[['neighbourhood','review_rate_number']].groupby('neighbourhood')['review_rate_number'].mean().sort_values(ascending=False)"
      ],
      "metadata": {
        "colab": {
          "base_uri": "https://localhost:8080/",
          "height": 490
        },
        "id": "r-aBw4WxeHDw",
        "outputId": "0f2c809b-a4d8-4532-e8c4-655b9e208269"
      },
      "execution_count": null,
      "outputs": [
        {
          "output_type": "execute_result",
          "data": {
            "text/plain": [
              "neighbourhood\n",
              "Glen Oaks                 4.500000\n",
              "Co-op City                4.400000\n",
              "Gerritsen Beach           4.333333\n",
              "Emerson Hill              4.142857\n",
              "Huguenot                  4.111111\n",
              "                            ...   \n",
              "Lighthouse Hill           2.666667\n",
              "Jamaica Hills             2.666667\n",
              "Fort Wadsworth            2.000000\n",
              "Willowbrook               2.000000\n",
              "Chelsea, Staten Island    2.000000\n",
              "Name: review_rate_number, Length: 225, dtype: float64"
            ],
            "text/html": [
              "<div>\n",
              "<style scoped>\n",
              "    .dataframe tbody tr th:only-of-type {\n",
              "        vertical-align: middle;\n",
              "    }\n",
              "\n",
              "    .dataframe tbody tr th {\n",
              "        vertical-align: top;\n",
              "    }\n",
              "\n",
              "    .dataframe thead th {\n",
              "        text-align: right;\n",
              "    }\n",
              "</style>\n",
              "<table border=\"1\" class=\"dataframe\">\n",
              "  <thead>\n",
              "    <tr style=\"text-align: right;\">\n",
              "      <th></th>\n",
              "      <th>review_rate_number</th>\n",
              "    </tr>\n",
              "    <tr>\n",
              "      <th>neighbourhood</th>\n",
              "      <th></th>\n",
              "    </tr>\n",
              "  </thead>\n",
              "  <tbody>\n",
              "    <tr>\n",
              "      <th>Glen Oaks</th>\n",
              "      <td>4.500000</td>\n",
              "    </tr>\n",
              "    <tr>\n",
              "      <th>Co-op City</th>\n",
              "      <td>4.400000</td>\n",
              "    </tr>\n",
              "    <tr>\n",
              "      <th>Gerritsen Beach</th>\n",
              "      <td>4.333333</td>\n",
              "    </tr>\n",
              "    <tr>\n",
              "      <th>Emerson Hill</th>\n",
              "      <td>4.142857</td>\n",
              "    </tr>\n",
              "    <tr>\n",
              "      <th>Huguenot</th>\n",
              "      <td>4.111111</td>\n",
              "    </tr>\n",
              "    <tr>\n",
              "      <th>...</th>\n",
              "      <td>...</td>\n",
              "    </tr>\n",
              "    <tr>\n",
              "      <th>Lighthouse Hill</th>\n",
              "      <td>2.666667</td>\n",
              "    </tr>\n",
              "    <tr>\n",
              "      <th>Jamaica Hills</th>\n",
              "      <td>2.666667</td>\n",
              "    </tr>\n",
              "    <tr>\n",
              "      <th>Fort Wadsworth</th>\n",
              "      <td>2.000000</td>\n",
              "    </tr>\n",
              "    <tr>\n",
              "      <th>Willowbrook</th>\n",
              "      <td>2.000000</td>\n",
              "    </tr>\n",
              "    <tr>\n",
              "      <th>Chelsea, Staten Island</th>\n",
              "      <td>2.000000</td>\n",
              "    </tr>\n",
              "  </tbody>\n",
              "</table>\n",
              "<p>225 rows × 1 columns</p>\n",
              "</div><br><label><b>dtype:</b> float64</label>"
            ]
          },
          "metadata": {},
          "execution_count": 17
        }
      ]
    },
    {
      "cell_type": "markdown",
      "source": [
        "## Tus Propios analisis.\n",
        "\n",
        "Siguiendo el ejemplo anterior, aplica las siguiente agrupaciones."
      ],
      "metadata": {
        "id": "ZHmmo5CV_Gmo"
      }
    },
    {
      "cell_type": "code",
      "source": [
        "# Convertir 'price' y 'service fee' a data numerico. Hint: Utilice el método replace()."
      ],
      "metadata": {
        "id": "_T-pK0ZtKqDF"
      },
      "execution_count": null,
      "outputs": []
    },
    {
      "cell_type": "code",
      "source": [
        "### Barrio más costoso\n",
        "# Obtenga el costo promedio de alojamiento según el barrio de la ciudad."
      ],
      "metadata": {
        "id": "3JrHRrfHKqJ1"
      },
      "execution_count": null,
      "outputs": []
    },
    {
      "cell_type": "code",
      "source": [
        "### Barrio con el service fee más alto\n",
        "# Obtenga el costo promedio de fee según el barrio de la ciudad."
      ],
      "metadata": {
        "id": "s2agqacxKqL6"
      },
      "execution_count": null,
      "outputs": []
    },
    {
      "cell_type": "code",
      "source": [
        "### Barrio con mayor reviews\n",
        "# Determine el barrio con el mayor número de reviews en la ciudad. Para ello, y para cada barrio, debe suma todo los review de las propiedades dentro de ese barrio."
      ],
      "metadata": {
        "id": "mfnN2p7lKqOA"
      },
      "execution_count": null,
      "outputs": []
    },
    {
      "cell_type": "code",
      "source": [
        "### Politicas de Cancelacion\n",
        "# Escoja un bario, el de su preferencia, y conozca las políticas de cancelacion predominante entre las propiedades del barrio escogido"
      ],
      "metadata": {
        "id": "Ccqpqu6EKqQX"
      },
      "execution_count": null,
      "outputs": []
    },
    {
      "cell_type": "code",
      "source": [],
      "metadata": {
        "id": "muopaqwjKqSc"
      },
      "execution_count": null,
      "outputs": []
    },
    {
      "cell_type": "code",
      "source": [],
      "metadata": {
        "id": "AO_pD-KlKqUx"
      },
      "execution_count": null,
      "outputs": []
    },
    {
      "cell_type": "code",
      "source": [],
      "metadata": {
        "id": "8dfBYEzjKqbT"
      },
      "execution_count": null,
      "outputs": []
    }
  ]
}