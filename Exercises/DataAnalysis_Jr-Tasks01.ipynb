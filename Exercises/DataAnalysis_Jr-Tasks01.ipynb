{
 "cells": [
  {
   "cell_type": "markdown",
   "id": "e4fd5602",
   "metadata": {},
   "source": [
    "### __Jr Data Analysis Tasks 01__\n",
    "\n",
    "#### 📁 _Data Ingestion & Preprocessing_"
   ]
  },
  {
   "cell_type": "markdown",
   "id": "a0ec6c66",
   "metadata": {},
   "source": [
    "##### CSV Import with Custom Header and Separator\n",
    "        \n",
    "- Load CSV\n",
    "\n",
    "- Prepare it for a DataFrame"
   ]
  },
  {
   "cell_type": "code",
   "execution_count": null,
   "id": "895ed63f",
   "metadata": {},
   "outputs": [],
   "source": []
  },
  {
   "cell_type": "markdown",
   "id": "f41f6464",
   "metadata": {},
   "source": [
    "##### Handling Missing Values\n",
    "\n",
    "- Read an Excel file where missing values are represented as \"N/A\" or \"-\".\n",
    "\n",
    "- Use keep_default_na=False to interpret these manually, then use isna() to count nulls per column."
   ]
  },
  {
   "cell_type": "code",
   "execution_count": null,
   "id": "60287267",
   "metadata": {},
   "outputs": [],
   "source": []
  },
  {
   "cell_type": "markdown",
   "id": "8dc2e067",
   "metadata": {},
   "source": [
    "##### Fill Missing Sales Values\n",
    "\n",
    "- Replace all missing values in the Sales column with the median of existing sales."
   ]
  },
  {
   "cell_type": "code",
   "execution_count": null,
   "id": "2a70a44b",
   "metadata": {},
   "outputs": [],
   "source": []
  },
  {
   "cell_type": "markdown",
   "id": "94233a92",
   "metadata": {},
   "source": [
    "##### Remove Empty Rows\n",
    "\n",
    "- Drop rows where all values are missing."
   ]
  },
  {
   "cell_type": "code",
   "execution_count": null,
   "id": "ae461d24",
   "metadata": {},
   "outputs": [],
   "source": []
  },
  {
   "cell_type": "markdown",
   "id": "3157f0bb",
   "metadata": {},
   "source": [
    "##### Drop Columns with Excessive Missing Data\n",
    "\n",
    "- Drop any column with more than 60% missing values."
   ]
  },
  {
   "cell_type": "code",
   "execution_count": null,
   "id": "c247d7fd",
   "metadata": {},
   "outputs": [],
   "source": []
  },
  {
   "cell_type": "markdown",
   "id": "495cef14",
   "metadata": {},
   "source": [
    "##### Check and Drop Duplicates\n",
    "\n",
    "- Identify and drop fully duplicated rows."
   ]
  },
  {
   "cell_type": "code",
   "execution_count": null,
   "id": "4294c527",
   "metadata": {},
   "outputs": [],
   "source": []
  },
  {
   "cell_type": "markdown",
   "id": "c5cbfece",
   "metadata": {},
   "source": [
    "##### Drop Partial Duplicates\n",
    "\n",
    "- Drop duplicates only considering the columns ['Customer_ID', 'Invoice_ID']."
   ]
  },
  {
   "cell_type": "code",
   "execution_count": null,
   "id": "c5ecc973",
   "metadata": {},
   "outputs": [],
   "source": []
  },
  {
   "cell_type": "markdown",
   "id": "1ec70e05",
   "metadata": {},
   "source": [
    "##### Import with Specific Decimal\n",
    "\n",
    "- Read a CSV where the decimal separator is a comma , instead of dot .."
   ]
  },
  {
   "cell_type": "code",
   "execution_count": null,
   "id": "c2c8e103",
   "metadata": {},
   "outputs": [],
   "source": []
  },
  {
   "cell_type": "markdown",
   "id": "547a358f",
   "metadata": {},
   "source": [
    "##### Custom Null Markers\n",
    "\n",
    "- Read a file where empty cells are marked as \"Unknown\", \"NA\", or \"Missing\"."
   ]
  },
  {
   "cell_type": "code",
   "execution_count": null,
   "id": "eece040b",
   "metadata": {},
   "outputs": [],
   "source": []
  },
  {
   "cell_type": "markdown",
   "id": "8b38790b",
   "metadata": {},
   "source": [
    "##### Validate Column Uniqueness\n",
    "\n",
    "- Use .nunique() and .duplicated() to validate if a supposed ID column is truly unique."
   ]
  },
  {
   "cell_type": "code",
   "execution_count": null,
   "id": "7cfd05aa",
   "metadata": {},
   "outputs": [],
   "source": []
  },
  {
   "cell_type": "markdown",
   "id": "4a3d34c8",
   "metadata": {},
   "source": [
    "#### 📊 _Analysis and Aggregation_\n",
    "\n",
    "##### Frequency Analysis\n",
    "\n",
    "Use .value_counts() to find the most common product sold per region."
   ]
  },
  {
   "cell_type": "code",
   "execution_count": null,
   "id": "afa11d83",
   "metadata": {},
   "outputs": [],
   "source": []
  },
  {
   "cell_type": "markdown",
   "id": "2c7abc04",
   "metadata": {},
   "source": [
    "##### Group Aggregation by Region\n",
    "\n",
    "Group by \"Region\" and compute:\n",
    "\n",
    "- Total Sales\n",
    "\n",
    "- Mean Profit\n",
    "\n",
    "- Max Sales"
   ]
  },
  {
   "cell_type": "code",
   "execution_count": null,
   "id": "aeea9eea",
   "metadata": {},
   "outputs": [],
   "source": []
  },
  {
   "cell_type": "markdown",
   "id": "5a10445b",
   "metadata": {},
   "source": [
    "##### Multi-Level Aggregation\n",
    "\n",
    "- Group by both \"Region\" and \"Product\" to compute sum of \"Sales\" and count of \"Invoice_ID\"."
   ]
  },
  {
   "cell_type": "code",
   "execution_count": null,
   "id": "8c88f0d8",
   "metadata": {},
   "outputs": [],
   "source": []
  },
  {
   "cell_type": "markdown",
   "id": "c6e7e703",
   "metadata": {},
   "source": [
    "##### Sort Aggregated Data\n",
    "\n",
    "- After groupby-agg, sort the results by \"Total Sales\" descending."
   ]
  },
  {
   "cell_type": "code",
   "execution_count": null,
   "id": "8838c979",
   "metadata": {},
   "outputs": [],
   "source": []
  },
  {
   "cell_type": "markdown",
   "id": "e88f42e7",
   "metadata": {},
   "source": [
    "##### String Cleaning with .str accessor\n",
    "\n",
    "- Use .str.strip(), .str.lower(), .str.replace() to clean customer names."
   ]
  },
  {
   "cell_type": "code",
   "execution_count": null,
   "id": "ebe6fdb2",
   "metadata": {},
   "outputs": [],
   "source": []
  },
  {
   "cell_type": "markdown",
   "id": "e5fc5b00",
   "metadata": {},
   "source": [
    "##### Filtering with Sets\n",
    "\n",
    "- From a set of known loyal customers (set()), filter rows where the Customer_ID is part of that set."
   ]
  },
  {
   "cell_type": "code",
   "execution_count": null,
   "id": "22f0421d",
   "metadata": {},
   "outputs": [],
   "source": []
  },
  {
   "cell_type": "markdown",
   "id": "1463809b",
   "metadata": {},
   "source": [
    "##### Categorize with Dictionary Mapping\n",
    "\n",
    "- Map the \"Currency\" column using a dictionary like {'USD': 'Dollar', 'EUR': 'Euro'}."
   ]
  },
  {
   "cell_type": "code",
   "execution_count": null,
   "id": "ff9051ef",
   "metadata": {},
   "outputs": [],
   "source": []
  },
  {
   "cell_type": "markdown",
   "id": "6b0ccc88",
   "metadata": {},
   "source": [
    "##### Top N Products\n",
    "\n",
    "- Use .value_counts() and slicing to find the top 5 most frequent products."
   ]
  },
  {
   "cell_type": "code",
   "execution_count": null,
   "id": "54e424b1",
   "metadata": {},
   "outputs": [],
   "source": []
  },
  {
   "cell_type": "markdown",
   "id": "c48ac8de",
   "metadata": {},
   "source": [
    "##### Percentage of Nulls\n",
    "\n",
    "- Create a dictionary with column names as keys and percentage of missing values as values."
   ]
  },
  {
   "cell_type": "code",
   "execution_count": null,
   "id": "85a17e55",
   "metadata": {},
   "outputs": [],
   "source": []
  },
  {
   "cell_type": "markdown",
   "id": "1bd172f3",
   "metadata": {},
   "source": [
    "##### Filter and Aggregate in One Line\n",
    "\n",
    "- Use a one-liner (with comprehension if needed) to filter all rows where Sales > 1000 and group by \"Region\" to get the average profit."
   ]
  },
  {
   "cell_type": "code",
   "execution_count": null,
   "id": "25a49c97",
   "metadata": {},
   "outputs": [],
   "source": []
  },
  {
   "cell_type": "markdown",
   "id": "acafad53",
   "metadata": {},
   "source": [
    "#### 🧠 _Advanced Manipulations_\n",
    "\n",
    "##### List Comprehension for Filtered Rows\n",
    "\n",
    "- Use a comprehension to create a list of Invoice_ID for which \"Profit\" is negative and \"Sales\" is above average."
   ]
  },
  {
   "cell_type": "code",
   "execution_count": null,
   "id": "2143c397",
   "metadata": {},
   "outputs": [],
   "source": []
  },
  {
   "cell_type": "markdown",
   "id": "1fd9ecf1",
   "metadata": {},
   "source": [
    "##### Create a Dictionary of Unique Values per Column\n",
    "\n",
    "- Create a dictionary where each key is a column and the value is the list of its unique values."
   ]
  },
  {
   "cell_type": "code",
   "execution_count": null,
   "id": "432cf986",
   "metadata": {},
   "outputs": [],
   "source": []
  },
  {
   "cell_type": "markdown",
   "id": "c955bc41",
   "metadata": {},
   "source": [
    "##### Pivot Analysis\n",
    "\n",
    "- Pivot the data to show Product as rows and Region as columns with total sales."
   ]
  },
  {
   "cell_type": "code",
   "execution_count": null,
   "id": "3feb4607",
   "metadata": {},
   "outputs": [],
   "source": []
  },
  {
   "cell_type": "markdown",
   "id": "5e333820",
   "metadata": {},
   "source": [
    "##### Tuple of Column Summary\n",
    "\n",
    "- Create a tuple that stores (column_name, min_value, max_value) for numeric columns."
   ]
  },
  {
   "cell_type": "code",
   "execution_count": null,
   "id": "78cb314e",
   "metadata": {},
   "outputs": [],
   "source": []
  },
  {
   "cell_type": "markdown",
   "id": "c91d4ea2",
   "metadata": {},
   "source": [
    "##### String Extraction\n",
    "\n",
    "- Use .str.extract() to pull out numbers from product descriptions like \"Item 1234 - ABC\"."
   ]
  },
  {
   "cell_type": "code",
   "execution_count": null,
   "id": "b9b7d7a8",
   "metadata": {},
   "outputs": [],
   "source": []
  },
  {
   "cell_type": "markdown",
   "id": "69c92d7b",
   "metadata": {},
   "source": [
    "##### Customer Retention Insight\n",
    "\n",
    "- From a sorted DataFrame of dates, identify customers with more than one transaction in different months (use sets and groupby())."
   ]
  },
  {
   "cell_type": "code",
   "execution_count": null,
   "id": "469c78e6",
   "metadata": {},
   "outputs": [],
   "source": []
  },
  {
   "cell_type": "markdown",
   "id": "e1c0509f",
   "metadata": {},
   "source": [
    "##### Sorting with Multiple Criteria\n",
    "\n",
    "- Sort the data by Region ascending and Sales descending."
   ]
  },
  {
   "cell_type": "code",
   "execution_count": null,
   "id": "6dce7b0d",
   "metadata": {},
   "outputs": [],
   "source": []
  },
  {
   "cell_type": "markdown",
   "id": "b07d74b3",
   "metadata": {},
   "source": [
    "##### Nested Dictionary for Aggregation\n",
    "\n",
    "- Use groupby().agg() with a dictionary like: {'Sales': ['sum', 'mean'], 'Profit': ['min', 'max']}."
   ]
  },
  {
   "cell_type": "code",
   "execution_count": null,
   "id": "0cffc0e7",
   "metadata": {},
   "outputs": [],
   "source": []
  },
  {
   "cell_type": "markdown",
   "id": "686b9d4d",
   "metadata": {},
   "source": [
    "##### Create a Clean Subset\n",
    "\n",
    "Generate a clean subset of your dataset excluding rows with:\n",
    "\n",
    "- Missing values in any numeric columns\n",
    "\n",
    "- Duplicate Customer_ID"
   ]
  },
  {
   "cell_type": "markdown",
   "id": "e3eddafa",
   "metadata": {},
   "source": [
    "##### Export Clean Data\n",
    "\n",
    "- After applying all cleaning steps, export the clean DataFrame to Excel, one sheet for each Region."
   ]
  },
  {
   "cell_type": "code",
   "execution_count": null,
   "id": "92d23785",
   "metadata": {},
   "outputs": [],
   "source": []
  }
 ],
 "metadata": {
  "language_info": {
   "name": "python"
  }
 },
 "nbformat": 4,
 "nbformat_minor": 5
}
